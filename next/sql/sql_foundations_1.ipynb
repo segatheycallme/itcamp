{
    "metadata": {
        "kernelspec": {
            "name": "SQL",
            "display_name": "SQL",
            "language": "sql"
        },
        "language_info": {
            "name": "sql",
            "version": ""
        }
    },
    "nbformat_minor": 2,
    "nbformat": 4,
    "cells": [
        {
            "cell_type": "markdown",
            "source": [
                "### SQL Exercises for Northwind Database"
            ],
            "metadata": {
                "azdata_cell_guid": "06da6da8-f3b0-4ba6-87d2-215676beee76"
            }
        },
        {
            "cell_type": "markdown",
            "source": [
                "Each exercise is explained in a markdown cell. Use the provided SQL code cells to write and execute your solutions."
            ],
            "metadata": {
                "azdata_cell_guid": "43dc6c93-1eed-4707-80e0-9c080d9896b7"
            }
        },
        {
            "cell_type": "markdown",
            "source": [
                "### Exercise 1: SQL SELECT"
            ],
            "metadata": {
                "azdata_cell_guid": "a296b0fd-f6d2-4db1-b6b1-60a1bfe9d8db"
            }
        },
        {
            "cell_type": "markdown",
            "source": [
                "**Part A:** Display all columns from the `Products` table."
            ],
            "metadata": {
                "azdata_cell_guid": "07ecc5bc-4ef1-49cd-8b64-c68ff45c8cfd"
            }
        },
        {
            "cell_type": "code",
            "source": [
                "/*\n",
                "WRITE AND EXECUTE YOUR IN THIS CELL UNDER THIS COMMENT\n",
                "*/\n",
                "\n",
                "SELECT * FROM Northwind.dbo.Products;"
            ],
            "metadata": {
                "azdata_cell_guid": "bdbfceee-5f14-4002-90ba-60efa3c6f666",
                "language": "sql"
            },
            "outputs": [
                {
                    "output_type": "display_data",
                    "data": {
                        "text/html": "(77 rows affected)"
                    },
                    "metadata": {}
                },
                {
                    "output_type": "display_data",
                    "data": {
                        "text/html": "Total execution time: 00:00:00.001"
                    },
                    "metadata": {}
                },
                {
                    "output_type": "execute_result",
                    "metadata": {},
                    "execution_count": 432,
                    "data": {
                        "application/vnd.dataresource+json": {
                            "schema": {
                                "fields": [
                                    {
                                        "name": "ProductID"
                                    },
                                    {
                                        "name": "ProductName"
                                    },
                                    {
                                        "name": "SupplierID"
                                    },
                                    {
                                        "name": "CategoryID"
                                    },
                                    {
                                        "name": "Unit"
                                    },
                                    {
                                        "name": "Price"
                                    }
                                ]
                            },
                            "data": [
                                {
                                    "ProductID": "1",
                                    "ProductName": "Chais",
                                    "SupplierID": "1",
                                    "CategoryID": "1",
                                    "Unit": "10 boxes x 20 bags",
                                    "Price": "26"
                                },
                                {
                                    "ProductID": "2",
                                    "ProductName": "Chang",
                                    "SupplierID": "1",
                                    "CategoryID": "1",
                                    "Unit": "24 - 12 oz bottles",
                                    "Price": "25"
                                },
                                {
                                    "ProductID": "3",
                                    "ProductName": "Aniseed Syrup",
                                    "SupplierID": "1",
                                    "CategoryID": "2",
                                    "Unit": "12 - 550 ml bottles",
                                    "Price": "10"
                                },
                                {
                                    "ProductID": "4",
                                    "ProductName": "Chef Anton's Cajun Seasoning",
                                    "SupplierID": "2",
                                    "CategoryID": "2",
                                    "Unit": "48 - 6 oz jars",
                                    "Price": "22"
                                },
                                {
                                    "ProductID": "5",
                                    "ProductName": "Chef Anton's Gumbo Mix",
                                    "SupplierID": "2",
                                    "CategoryID": "2",
                                    "Unit": "36 boxes",
                                    "Price": "21"
                                },
                                {
                                    "ProductID": "6",
                                    "ProductName": "Grandma's Boysenberry Spread",
                                    "SupplierID": "3",
                                    "CategoryID": "2",
                                    "Unit": "12 - 8 oz jars",
                                    "Price": "25"
                                },
                                {
                                    "ProductID": "7",
                                    "ProductName": "Uncle Bob's Organic Dried Pears",
                                    "SupplierID": "3",
                                    "CategoryID": "7",
                                    "Unit": "12 - 1 lb pkgs.",
                                    "Price": "30"
                                },
                                {
                                    "ProductID": "8",
                                    "ProductName": "Northwoods Cranberry Sauce",
                                    "SupplierID": "3",
                                    "CategoryID": "2",
                                    "Unit": "12 - 12 oz jars",
                                    "Price": "40"
                                },
                                {
                                    "ProductID": "9",
                                    "ProductName": "Mishi Kobe Niku",
                                    "SupplierID": "4",
                                    "CategoryID": "6",
                                    "Unit": "18 - 500 g pkgs.",
                                    "Price": "97"
                                },
                                {
                                    "ProductID": "10",
                                    "ProductName": "Ikura",
                                    "SupplierID": "4",
                                    "CategoryID": "8",
                                    "Unit": "12 - 200 ml jars",
                                    "Price": "31"
                                },
                                {
                                    "ProductID": "11",
                                    "ProductName": "Queso Cabrales",
                                    "SupplierID": "5",
                                    "CategoryID": "4",
                                    "Unit": "1 kg pkg.",
                                    "Price": "21"
                                },
                                {
                                    "ProductID": "12",
                                    "ProductName": "Queso Manchego La Pastora",
                                    "SupplierID": "5",
                                    "CategoryID": "4",
                                    "Unit": "10 - 500 g pkgs.",
                                    "Price": "38"
                                },
                                {
                                    "ProductID": "13",
                                    "ProductName": "Konbu",
                                    "SupplierID": "6",
                                    "CategoryID": "8",
                                    "Unit": "2 kg box",
                                    "Price": "6"
                                },
                                {
                                    "ProductID": "14",
                                    "ProductName": "Tofu",
                                    "SupplierID": "6",
                                    "CategoryID": "7",
                                    "Unit": "40 - 100 g pkgs.",
                                    "Price": "23"
                                },
                                {
                                    "ProductID": "15",
                                    "ProductName": "Genen Shouyu",
                                    "SupplierID": "6",
                                    "CategoryID": "2",
                                    "Unit": "24 - 250 ml bottles",
                                    "Price": "16"
                                },
                                {
                                    "ProductID": "16",
                                    "ProductName": "Pavlova",
                                    "SupplierID": "7",
                                    "CategoryID": "3",
                                    "Unit": "32 - 500 g boxes",
                                    "Price": "17"
                                },
                                {
                                    "ProductID": "17",
                                    "ProductName": "Alice Mutton",
                                    "SupplierID": "7",
                                    "CategoryID": "6",
                                    "Unit": "20 - 1 kg tins",
                                    "Price": "39"
                                },
                                {
                                    "ProductID": "18",
                                    "ProductName": "Carnarvon Tigers",
                                    "SupplierID": "7",
                                    "CategoryID": "8",
                                    "Unit": "16 kg pkg.",
                                    "Price": "63"
                                },
                                {
                                    "ProductID": "19",
                                    "ProductName": "Teatime Chocolate Biscuits",
                                    "SupplierID": "8",
                                    "CategoryID": "3",
                                    "Unit": "10 boxes x 12 pieces",
                                    "Price": "9"
                                },
                                {
                                    "ProductID": "20",
                                    "ProductName": "Sir Rodney's Marmalade",
                                    "SupplierID": "8",
                                    "CategoryID": "3",
                                    "Unit": "30 gift boxes",
                                    "Price": "81"
                                },
                                {
                                    "ProductID": "21",
                                    "ProductName": "Sir Rodney's Scones",
                                    "SupplierID": "8",
                                    "CategoryID": "3",
                                    "Unit": "24 pkgs. x 4 pieces",
                                    "Price": "10"
                                },
                                {
                                    "ProductID": "22",
                                    "ProductName": "Gustaf's Knäckebröd",
                                    "SupplierID": "9",
                                    "CategoryID": "5",
                                    "Unit": "24 - 500 g pkgs.",
                                    "Price": "21"
                                },
                                {
                                    "ProductID": "23",
                                    "ProductName": "Tunnbröd",
                                    "SupplierID": "9",
                                    "CategoryID": "5",
                                    "Unit": "12 - 250 g pkgs.",
                                    "Price": "9"
                                },
                                {
                                    "ProductID": "24",
                                    "ProductName": "Guaraná Fantástica",
                                    "SupplierID": "10",
                                    "CategoryID": "1",
                                    "Unit": "12 - 355 ml cans",
                                    "Price": "5"
                                },
                                {
                                    "ProductID": "25",
                                    "ProductName": "NuNuCa Nuß-Nougat-Creme",
                                    "SupplierID": "11",
                                    "CategoryID": "3",
                                    "Unit": "20 - 450 g glasses",
                                    "Price": "14"
                                },
                                {
                                    "ProductID": "26",
                                    "ProductName": "Gumbär Gummibärchen",
                                    "SupplierID": "11",
                                    "CategoryID": "3",
                                    "Unit": "100 - 250 g bags",
                                    "Price": "31"
                                },
                                {
                                    "ProductID": "27",
                                    "ProductName": "Schoggi Schokolade",
                                    "SupplierID": "11",
                                    "CategoryID": "3",
                                    "Unit": "100 - 100 g pieces",
                                    "Price": "44"
                                },
                                {
                                    "ProductID": "28",
                                    "ProductName": "Rössle Sauerkraut",
                                    "SupplierID": "12",
                                    "CategoryID": "7",
                                    "Unit": "25 - 825 g cans",
                                    "Price": "46"
                                },
                                {
                                    "ProductID": "29",
                                    "ProductName": "Thüringer Rostbratwurst",
                                    "SupplierID": "12",
                                    "CategoryID": "6",
                                    "Unit": "50 bags x 30 sausgs.",
                                    "Price": "124"
                                },
                                {
                                    "ProductID": "30",
                                    "ProductName": "Nord-Ost Matjeshering",
                                    "SupplierID": "13",
                                    "CategoryID": "8",
                                    "Unit": "10 - 200 g glasses",
                                    "Price": "26"
                                },
                                {
                                    "ProductID": "31",
                                    "ProductName": "Gorgonzola Telino",
                                    "SupplierID": "14",
                                    "CategoryID": "4",
                                    "Unit": "12 - 100 g pkgs",
                                    "Price": "13"
                                },
                                {
                                    "ProductID": "32",
                                    "ProductName": "Mascarpone Fabioli",
                                    "SupplierID": "14",
                                    "CategoryID": "4",
                                    "Unit": "24 - 200 g pkgs.",
                                    "Price": "32"
                                },
                                {
                                    "ProductID": "33",
                                    "ProductName": "Geitost",
                                    "SupplierID": "15",
                                    "CategoryID": "4",
                                    "Unit": "500 g",
                                    "Price": "3"
                                },
                                {
                                    "ProductID": "34",
                                    "ProductName": "Sasquatch Ale",
                                    "SupplierID": "16",
                                    "CategoryID": "1",
                                    "Unit": "24 - 12 oz bottles",
                                    "Price": "20"
                                },
                                {
                                    "ProductID": "35",
                                    "ProductName": "Steeleye Stout",
                                    "SupplierID": "16",
                                    "CategoryID": "1",
                                    "Unit": "24 - 12 oz bottles",
                                    "Price": "24"
                                },
                                {
                                    "ProductID": "36",
                                    "ProductName": "Inlagd Sill",
                                    "SupplierID": "17",
                                    "CategoryID": "8",
                                    "Unit": "24 - 250 g jars",
                                    "Price": "19"
                                },
                                {
                                    "ProductID": "37",
                                    "ProductName": "Gravad lax",
                                    "SupplierID": "17",
                                    "CategoryID": "8",
                                    "Unit": "12 - 500 g pkgs.",
                                    "Price": "26"
                                },
                                {
                                    "ProductID": "38",
                                    "ProductName": "Côte de Blaye",
                                    "SupplierID": "18",
                                    "CategoryID": "1",
                                    "Unit": "12 - 75 cl bottles",
                                    "Price": "354"
                                },
                                {
                                    "ProductID": "39",
                                    "ProductName": "Chartreuse verte",
                                    "SupplierID": "18",
                                    "CategoryID": "1",
                                    "Unit": "750 cc per bottle",
                                    "Price": "24"
                                },
                                {
                                    "ProductID": "40",
                                    "ProductName": "Boston Crab Meat",
                                    "SupplierID": "19",
                                    "CategoryID": "8",
                                    "Unit": "24 - 4 oz tins",
                                    "Price": "18"
                                },
                                {
                                    "ProductID": "41",
                                    "ProductName": "Jack's New England Clam Chowder",
                                    "SupplierID": "19",
                                    "CategoryID": "8",
                                    "Unit": "12 - 12 oz cans",
                                    "Price": "10"
                                },
                                {
                                    "ProductID": "42",
                                    "ProductName": "Singaporean Hokkien Fried Mee",
                                    "SupplierID": "20",
                                    "CategoryID": "5",
                                    "Unit": "32 - 1 kg pkgs.",
                                    "Price": "14"
                                },
                                {
                                    "ProductID": "43",
                                    "ProductName": "Ipoh Coffee",
                                    "SupplierID": "20",
                                    "CategoryID": "1",
                                    "Unit": "16 - 500 g tins",
                                    "Price": "62"
                                },
                                {
                                    "ProductID": "44",
                                    "ProductName": "Gula Malacca",
                                    "SupplierID": "20",
                                    "CategoryID": "2",
                                    "Unit": "20 - 2 kg bags",
                                    "Price": "19"
                                },
                                {
                                    "ProductID": "45",
                                    "ProductName": "Røgede sild",
                                    "SupplierID": "21",
                                    "CategoryID": "8",
                                    "Unit": "1k pkg.",
                                    "Price": "10"
                                },
                                {
                                    "ProductID": "46",
                                    "ProductName": "Spegesild",
                                    "SupplierID": "21",
                                    "CategoryID": "8",
                                    "Unit": "4 - 450 g glasses",
                                    "Price": "12"
                                },
                                {
                                    "ProductID": "47",
                                    "ProductName": "Zaanse koeken",
                                    "SupplierID": "22",
                                    "CategoryID": "3",
                                    "Unit": "10 - 4 oz boxes",
                                    "Price": "10"
                                },
                                {
                                    "ProductID": "48",
                                    "ProductName": "Chocolade",
                                    "SupplierID": "22",
                                    "CategoryID": "3",
                                    "Unit": "10 pkgs.",
                                    "Price": "13"
                                },
                                {
                                    "ProductID": "49",
                                    "ProductName": "Maxilaku",
                                    "SupplierID": "23",
                                    "CategoryID": "3",
                                    "Unit": "24 - 50 g pkgs.",
                                    "Price": "20"
                                },
                                {
                                    "ProductID": "50",
                                    "ProductName": "Valkoinen suklaa",
                                    "SupplierID": "23",
                                    "CategoryID": "3",
                                    "Unit": "12 - 100 g bars",
                                    "Price": "16"
                                },
                                {
                                    "ProductID": "51",
                                    "ProductName": "Manjimup Dried Apples",
                                    "SupplierID": "24",
                                    "CategoryID": "7",
                                    "Unit": "50 - 300 g pkgs.",
                                    "Price": "53"
                                },
                                {
                                    "ProductID": "52",
                                    "ProductName": "Filo Mix",
                                    "SupplierID": "24",
                                    "CategoryID": "5",
                                    "Unit": "16 - 2 kg boxes",
                                    "Price": "7"
                                },
                                {
                                    "ProductID": "53",
                                    "ProductName": "Perth Pasties",
                                    "SupplierID": "24",
                                    "CategoryID": "6",
                                    "Unit": "48 pieces",
                                    "Price": "33"
                                },
                                {
                                    "ProductID": "54",
                                    "ProductName": "Tourtière",
                                    "SupplierID": "25",
                                    "CategoryID": "6",
                                    "Unit": "16 pies",
                                    "Price": "7"
                                },
                                {
                                    "ProductID": "55",
                                    "ProductName": "Pâté chinois",
                                    "SupplierID": "25",
                                    "CategoryID": "6",
                                    "Unit": "24 boxes x 2 pies",
                                    "Price": "24"
                                },
                                {
                                    "ProductID": "56",
                                    "ProductName": "Gnocchi di nonna Alice",
                                    "SupplierID": "26",
                                    "CategoryID": "5",
                                    "Unit": "24 - 250 g pkgs.",
                                    "Price": "38"
                                },
                                {
                                    "ProductID": "57",
                                    "ProductName": "Ravioli Angelo",
                                    "SupplierID": "26",
                                    "CategoryID": "5",
                                    "Unit": "24 - 250 g pkgs.",
                                    "Price": "20"
                                },
                                {
                                    "ProductID": "58",
                                    "ProductName": "Escargots de Bourgogne",
                                    "SupplierID": "27",
                                    "CategoryID": "8",
                                    "Unit": "24 pieces",
                                    "Price": "13"
                                },
                                {
                                    "ProductID": "59",
                                    "ProductName": "Raclette Courdavault",
                                    "SupplierID": "28",
                                    "CategoryID": "4",
                                    "Unit": "5 kg pkg.",
                                    "Price": "55"
                                },
                                {
                                    "ProductID": "60",
                                    "ProductName": "Camembert Pierrot",
                                    "SupplierID": "28",
                                    "CategoryID": "4",
                                    "Unit": "15 - 300 g rounds",
                                    "Price": "34"
                                },
                                {
                                    "ProductID": "61",
                                    "ProductName": "Sirop d'érable",
                                    "SupplierID": "29",
                                    "CategoryID": "2",
                                    "Unit": "24 - 500 ml bottles",
                                    "Price": "29"
                                },
                                {
                                    "ProductID": "62",
                                    "ProductName": "Tarte au sucre",
                                    "SupplierID": "29",
                                    "CategoryID": "3",
                                    "Unit": "48 pies",
                                    "Price": "49"
                                },
                                {
                                    "ProductID": "63",
                                    "ProductName": "Vegie-spread",
                                    "SupplierID": "7",
                                    "CategoryID": "2",
                                    "Unit": "15 - 625 g jars",
                                    "Price": "44"
                                },
                                {
                                    "ProductID": "64",
                                    "ProductName": "Wimmers gute Semmelknödel",
                                    "SupplierID": "12",
                                    "CategoryID": "5",
                                    "Unit": "20 bags x 4 pieces",
                                    "Price": "33"
                                },
                                {
                                    "ProductID": "65",
                                    "ProductName": "Louisiana Fiery Hot Pepper Sauce",
                                    "SupplierID": "2",
                                    "CategoryID": "2",
                                    "Unit": "32 - 8 oz bottles",
                                    "Price": "21"
                                },
                                {
                                    "ProductID": "66",
                                    "ProductName": "Louisiana Hot Spiced Okra",
                                    "SupplierID": "2",
                                    "CategoryID": "2",
                                    "Unit": "24 - 8 oz jars",
                                    "Price": "17"
                                },
                                {
                                    "ProductID": "67",
                                    "ProductName": "Laughing Lumberjack Lager",
                                    "SupplierID": "16",
                                    "CategoryID": "1",
                                    "Unit": "24 - 12 oz bottles",
                                    "Price": "20"
                                },
                                {
                                    "ProductID": "68",
                                    "ProductName": "Scottish Longbreads",
                                    "SupplierID": "8",
                                    "CategoryID": "3",
                                    "Unit": "10 boxes x 8 pieces",
                                    "Price": "13"
                                },
                                {
                                    "ProductID": "69",
                                    "ProductName": "Gudbrandsdalsost",
                                    "SupplierID": "15",
                                    "CategoryID": "4",
                                    "Unit": "10 kg pkg.",
                                    "Price": "36"
                                },
                                {
                                    "ProductID": "70",
                                    "ProductName": "Outback Lager",
                                    "SupplierID": "7",
                                    "CategoryID": "1",
                                    "Unit": "24 - 355 ml bottles",
                                    "Price": "21"
                                },
                                {
                                    "ProductID": "71",
                                    "ProductName": "Fløtemysost",
                                    "SupplierID": "15",
                                    "CategoryID": "4",
                                    "Unit": "10 - 500 g pkgs.",
                                    "Price": "22"
                                },
                                {
                                    "ProductID": "72",
                                    "ProductName": "Mozzarella di Giovanni",
                                    "SupplierID": "14",
                                    "CategoryID": "4",
                                    "Unit": "24 - 200 g pkgs.",
                                    "Price": "35"
                                },
                                {
                                    "ProductID": "73",
                                    "ProductName": "Röd Kaviar",
                                    "SupplierID": "17",
                                    "CategoryID": "8",
                                    "Unit": "24 - 150 g jars",
                                    "Price": "15"
                                },
                                {
                                    "ProductID": "74",
                                    "ProductName": "Longlife Tofu",
                                    "SupplierID": "4",
                                    "CategoryID": "7",
                                    "Unit": "5 kg pkg.",
                                    "Price": "10"
                                },
                                {
                                    "ProductID": "75",
                                    "ProductName": "Rhönbräu Klosterbier",
                                    "SupplierID": "12",
                                    "CategoryID": "1",
                                    "Unit": "24 - 0.5 l bottles",
                                    "Price": "8"
                                },
                                {
                                    "ProductID": "76",
                                    "ProductName": "Lakkalikööri",
                                    "SupplierID": "23",
                                    "CategoryID": "1",
                                    "Unit": "500 ml",
                                    "Price": "24"
                                },
                                {
                                    "ProductID": "77",
                                    "ProductName": "Original Frankfurter grüne Soße",
                                    "SupplierID": "12",
                                    "CategoryID": "2",
                                    "Unit": "12 boxes",
                                    "Price": "13"
                                }
                            ]
                        },
                        "text/html": [
                            "<table>",
                            "<tr><th>ProductID</th><th>ProductName</th><th>SupplierID</th><th>CategoryID</th><th>Unit</th><th>Price</th></tr>",
                            "<tr><td>1</td><td>Chais</td><td>1</td><td>1</td><td>10 boxes x 20 bags</td><td>26</td></tr>",
                            "<tr><td>2</td><td>Chang</td><td>1</td><td>1</td><td>24 - 12 oz bottles</td><td>25</td></tr>",
                            "<tr><td>3</td><td>Aniseed Syrup</td><td>1</td><td>2</td><td>12 - 550 ml bottles</td><td>10</td></tr>",
                            "<tr><td>4</td><td>Chef Anton&#39;s Cajun Seasoning</td><td>2</td><td>2</td><td>48 - 6 oz jars</td><td>22</td></tr>",
                            "<tr><td>5</td><td>Chef Anton&#39;s Gumbo Mix</td><td>2</td><td>2</td><td>36 boxes</td><td>21</td></tr>",
                            "<tr><td>6</td><td>Grandma&#39;s Boysenberry Spread</td><td>3</td><td>2</td><td>12 - 8 oz jars</td><td>25</td></tr>",
                            "<tr><td>7</td><td>Uncle Bob&#39;s Organic Dried Pears</td><td>3</td><td>7</td><td>12 - 1 lb pkgs.</td><td>30</td></tr>",
                            "<tr><td>8</td><td>Northwoods Cranberry Sauce</td><td>3</td><td>2</td><td>12 - 12 oz jars</td><td>40</td></tr>",
                            "<tr><td>9</td><td>Mishi Kobe Niku</td><td>4</td><td>6</td><td>18 - 500 g pkgs.</td><td>97</td></tr>",
                            "<tr><td>10</td><td>Ikura</td><td>4</td><td>8</td><td>12 - 200 ml jars</td><td>31</td></tr>",
                            "<tr><td>11</td><td>Queso Cabrales</td><td>5</td><td>4</td><td>1 kg pkg.</td><td>21</td></tr>",
                            "<tr><td>12</td><td>Queso Manchego La Pastora</td><td>5</td><td>4</td><td>10 - 500 g pkgs.</td><td>38</td></tr>",
                            "<tr><td>13</td><td>Konbu</td><td>6</td><td>8</td><td>2 kg box</td><td>6</td></tr>",
                            "<tr><td>14</td><td>Tofu</td><td>6</td><td>7</td><td>40 - 100 g pkgs.</td><td>23</td></tr>",
                            "<tr><td>15</td><td>Genen Shouyu</td><td>6</td><td>2</td><td>24 - 250 ml bottles</td><td>16</td></tr>",
                            "<tr><td>16</td><td>Pavlova</td><td>7</td><td>3</td><td>32 - 500 g boxes</td><td>17</td></tr>",
                            "<tr><td>17</td><td>Alice Mutton</td><td>7</td><td>6</td><td>20 - 1 kg tins</td><td>39</td></tr>",
                            "<tr><td>18</td><td>Carnarvon Tigers</td><td>7</td><td>8</td><td>16 kg pkg.</td><td>63</td></tr>",
                            "<tr><td>19</td><td>Teatime Chocolate Biscuits</td><td>8</td><td>3</td><td>10 boxes x 12 pieces</td><td>9</td></tr>",
                            "<tr><td>20</td><td>Sir Rodney&#39;s Marmalade</td><td>8</td><td>3</td><td>30 gift boxes</td><td>81</td></tr>",
                            "<tr><td>21</td><td>Sir Rodney&#39;s Scones</td><td>8</td><td>3</td><td>24 pkgs. x 4 pieces</td><td>10</td></tr>",
                            "<tr><td>22</td><td>Gustaf&#39;s Knäckebröd</td><td>9</td><td>5</td><td>24 - 500 g pkgs.</td><td>21</td></tr>",
                            "<tr><td>23</td><td>Tunnbröd</td><td>9</td><td>5</td><td>12 - 250 g pkgs.</td><td>9</td></tr>",
                            "<tr><td>24</td><td>Guaraná Fantástica</td><td>10</td><td>1</td><td>12 - 355 ml cans</td><td>5</td></tr>",
                            "<tr><td>25</td><td>NuNuCa Nuß-Nougat-Creme</td><td>11</td><td>3</td><td>20 - 450 g glasses</td><td>14</td></tr>",
                            "<tr><td>26</td><td>Gumbär Gummibärchen</td><td>11</td><td>3</td><td>100 - 250 g bags</td><td>31</td></tr>",
                            "<tr><td>27</td><td>Schoggi Schokolade</td><td>11</td><td>3</td><td>100 - 100 g pieces</td><td>44</td></tr>",
                            "<tr><td>28</td><td>Rössle Sauerkraut</td><td>12</td><td>7</td><td>25 - 825 g cans</td><td>46</td></tr>",
                            "<tr><td>29</td><td>Thüringer Rostbratwurst</td><td>12</td><td>6</td><td>50 bags x 30 sausgs.</td><td>124</td></tr>",
                            "<tr><td>30</td><td>Nord-Ost Matjeshering</td><td>13</td><td>8</td><td>10 - 200 g glasses</td><td>26</td></tr>",
                            "<tr><td>31</td><td>Gorgonzola Telino</td><td>14</td><td>4</td><td>12 - 100 g pkgs</td><td>13</td></tr>",
                            "<tr><td>32</td><td>Mascarpone Fabioli</td><td>14</td><td>4</td><td>24 - 200 g pkgs.</td><td>32</td></tr>",
                            "<tr><td>33</td><td>Geitost</td><td>15</td><td>4</td><td>500 g</td><td>3</td></tr>",
                            "<tr><td>34</td><td>Sasquatch Ale</td><td>16</td><td>1</td><td>24 - 12 oz bottles</td><td>20</td></tr>",
                            "<tr><td>35</td><td>Steeleye Stout</td><td>16</td><td>1</td><td>24 - 12 oz bottles</td><td>24</td></tr>",
                            "<tr><td>36</td><td>Inlagd Sill</td><td>17</td><td>8</td><td>24 - 250 g jars</td><td>19</td></tr>",
                            "<tr><td>37</td><td>Gravad lax</td><td>17</td><td>8</td><td>12 - 500 g pkgs.</td><td>26</td></tr>",
                            "<tr><td>38</td><td>Côte de Blaye</td><td>18</td><td>1</td><td>12 - 75 cl bottles</td><td>354</td></tr>",
                            "<tr><td>39</td><td>Chartreuse verte</td><td>18</td><td>1</td><td>750 cc per bottle</td><td>24</td></tr>",
                            "<tr><td>40</td><td>Boston Crab Meat</td><td>19</td><td>8</td><td>24 - 4 oz tins</td><td>18</td></tr>",
                            "<tr><td>41</td><td>Jack&#39;s New England Clam Chowder</td><td>19</td><td>8</td><td>12 - 12 oz cans</td><td>10</td></tr>",
                            "<tr><td>42</td><td>Singaporean Hokkien Fried Mee</td><td>20</td><td>5</td><td>32 - 1 kg pkgs.</td><td>14</td></tr>",
                            "<tr><td>43</td><td>Ipoh Coffee</td><td>20</td><td>1</td><td>16 - 500 g tins</td><td>62</td></tr>",
                            "<tr><td>44</td><td>Gula Malacca</td><td>20</td><td>2</td><td>20 - 2 kg bags</td><td>19</td></tr>",
                            "<tr><td>45</td><td>Røgede sild</td><td>21</td><td>8</td><td>1k pkg.</td><td>10</td></tr>",
                            "<tr><td>46</td><td>Spegesild</td><td>21</td><td>8</td><td>4 - 450 g glasses</td><td>12</td></tr>",
                            "<tr><td>47</td><td>Zaanse koeken</td><td>22</td><td>3</td><td>10 - 4 oz boxes</td><td>10</td></tr>",
                            "<tr><td>48</td><td>Chocolade</td><td>22</td><td>3</td><td>10 pkgs.</td><td>13</td></tr>",
                            "<tr><td>49</td><td>Maxilaku</td><td>23</td><td>3</td><td>24 - 50 g pkgs.</td><td>20</td></tr>",
                            "<tr><td>50</td><td>Valkoinen suklaa</td><td>23</td><td>3</td><td>12 - 100 g bars</td><td>16</td></tr>",
                            "<tr><td>51</td><td>Manjimup Dried Apples</td><td>24</td><td>7</td><td>50 - 300 g pkgs.</td><td>53</td></tr>",
                            "<tr><td>52</td><td>Filo Mix</td><td>24</td><td>5</td><td>16 - 2 kg boxes</td><td>7</td></tr>",
                            "<tr><td>53</td><td>Perth Pasties</td><td>24</td><td>6</td><td>48 pieces</td><td>33</td></tr>",
                            "<tr><td>54</td><td>Tourtière</td><td>25</td><td>6</td><td>16 pies</td><td>7</td></tr>",
                            "<tr><td>55</td><td>Pâté chinois</td><td>25</td><td>6</td><td>24 boxes x 2 pies</td><td>24</td></tr>",
                            "<tr><td>56</td><td>Gnocchi di nonna Alice</td><td>26</td><td>5</td><td>24 - 250 g pkgs.</td><td>38</td></tr>",
                            "<tr><td>57</td><td>Ravioli Angelo</td><td>26</td><td>5</td><td>24 - 250 g pkgs.</td><td>20</td></tr>",
                            "<tr><td>58</td><td>Escargots de Bourgogne</td><td>27</td><td>8</td><td>24 pieces</td><td>13</td></tr>",
                            "<tr><td>59</td><td>Raclette Courdavault</td><td>28</td><td>4</td><td>5 kg pkg.</td><td>55</td></tr>",
                            "<tr><td>60</td><td>Camembert Pierrot</td><td>28</td><td>4</td><td>15 - 300 g rounds</td><td>34</td></tr>",
                            "<tr><td>61</td><td>Sirop d&#39;érable</td><td>29</td><td>2</td><td>24 - 500 ml bottles</td><td>29</td></tr>",
                            "<tr><td>62</td><td>Tarte au sucre</td><td>29</td><td>3</td><td>48 pies</td><td>49</td></tr>",
                            "<tr><td>63</td><td>Vegie-spread</td><td>7</td><td>2</td><td>15 - 625 g jars</td><td>44</td></tr>",
                            "<tr><td>64</td><td>Wimmers gute Semmelknödel</td><td>12</td><td>5</td><td>20 bags x 4 pieces</td><td>33</td></tr>",
                            "<tr><td>65</td><td>Louisiana Fiery Hot Pepper Sauce</td><td>2</td><td>2</td><td>32 - 8 oz bottles</td><td>21</td></tr>",
                            "<tr><td>66</td><td>Louisiana Hot Spiced Okra</td><td>2</td><td>2</td><td>24 - 8 oz jars</td><td>17</td></tr>",
                            "<tr><td>67</td><td>Laughing Lumberjack Lager</td><td>16</td><td>1</td><td>24 - 12 oz bottles</td><td>20</td></tr>",
                            "<tr><td>68</td><td>Scottish Longbreads</td><td>8</td><td>3</td><td>10 boxes x 8 pieces</td><td>13</td></tr>",
                            "<tr><td>69</td><td>Gudbrandsdalsost</td><td>15</td><td>4</td><td>10 kg pkg.</td><td>36</td></tr>",
                            "<tr><td>70</td><td>Outback Lager</td><td>7</td><td>1</td><td>24 - 355 ml bottles</td><td>21</td></tr>",
                            "<tr><td>71</td><td>Fløtemysost</td><td>15</td><td>4</td><td>10 - 500 g pkgs.</td><td>22</td></tr>",
                            "<tr><td>72</td><td>Mozzarella di Giovanni</td><td>14</td><td>4</td><td>24 - 200 g pkgs.</td><td>35</td></tr>",
                            "<tr><td>73</td><td>Röd Kaviar</td><td>17</td><td>8</td><td>24 - 150 g jars</td><td>15</td></tr>",
                            "<tr><td>74</td><td>Longlife Tofu</td><td>4</td><td>7</td><td>5 kg pkg.</td><td>10</td></tr>",
                            "<tr><td>75</td><td>Rhönbräu Klosterbier</td><td>12</td><td>1</td><td>24 - 0.5 l bottles</td><td>8</td></tr>",
                            "<tr><td>76</td><td>Lakkalikööri</td><td>23</td><td>1</td><td>500 ml</td><td>24</td></tr>",
                            "<tr><td>77</td><td>Original Frankfurter grüne Soße</td><td>12</td><td>2</td><td>12 boxes</td><td>13</td></tr>",
                            "</table>"
                        ]
                    }
                }
            ],
            "execution_count": 432
        },
        {
            "cell_type": "markdown",
            "source": [
                "**Part B:** Retrieve only `ProductName`, `Unit`, and `Price`."
            ],
            "metadata": {
                "azdata_cell_guid": "6f872bcc-1826-4d47-ab3d-e26fdfdec629"
            }
        },
        {
            "cell_type": "code",
            "source": [
                "/*\n",
                "WRITE AND EXECUTE YOUR IN THIS CELL UNDER THIS COMMENT\n",
                "*/\n",
                "\n",
                "SELECT ProductName, Unit, Price FROM Northwind.dbo.Products;"
            ],
            "metadata": {
                "azdata_cell_guid": "a6257375-6072-4610-a71a-084e41f62439",
                "language": "sql"
            },
            "outputs": [
                {
                    "output_type": "display_data",
                    "data": {
                        "text/html": "(77 rows affected)"
                    },
                    "metadata": {}
                },
                {
                    "output_type": "display_data",
                    "data": {
                        "text/html": "Total execution time: 00:00:00.001"
                    },
                    "metadata": {}
                },
                {
                    "output_type": "execute_result",
                    "metadata": {},
                    "execution_count": 433,
                    "data": {
                        "application/vnd.dataresource+json": {
                            "schema": {
                                "fields": [
                                    {
                                        "name": "ProductName"
                                    },
                                    {
                                        "name": "Unit"
                                    },
                                    {
                                        "name": "Price"
                                    }
                                ]
                            },
                            "data": [
                                {
                                    "ProductName": "Chais",
                                    "Unit": "10 boxes x 20 bags",
                                    "Price": "26"
                                },
                                {
                                    "ProductName": "Chang",
                                    "Unit": "24 - 12 oz bottles",
                                    "Price": "25"
                                },
                                {
                                    "ProductName": "Aniseed Syrup",
                                    "Unit": "12 - 550 ml bottles",
                                    "Price": "10"
                                },
                                {
                                    "ProductName": "Chef Anton's Cajun Seasoning",
                                    "Unit": "48 - 6 oz jars",
                                    "Price": "22"
                                },
                                {
                                    "ProductName": "Chef Anton's Gumbo Mix",
                                    "Unit": "36 boxes",
                                    "Price": "21"
                                },
                                {
                                    "ProductName": "Grandma's Boysenberry Spread",
                                    "Unit": "12 - 8 oz jars",
                                    "Price": "25"
                                },
                                {
                                    "ProductName": "Uncle Bob's Organic Dried Pears",
                                    "Unit": "12 - 1 lb pkgs.",
                                    "Price": "30"
                                },
                                {
                                    "ProductName": "Northwoods Cranberry Sauce",
                                    "Unit": "12 - 12 oz jars",
                                    "Price": "40"
                                },
                                {
                                    "ProductName": "Mishi Kobe Niku",
                                    "Unit": "18 - 500 g pkgs.",
                                    "Price": "97"
                                },
                                {
                                    "ProductName": "Ikura",
                                    "Unit": "12 - 200 ml jars",
                                    "Price": "31"
                                },
                                {
                                    "ProductName": "Queso Cabrales",
                                    "Unit": "1 kg pkg.",
                                    "Price": "21"
                                },
                                {
                                    "ProductName": "Queso Manchego La Pastora",
                                    "Unit": "10 - 500 g pkgs.",
                                    "Price": "38"
                                },
                                {
                                    "ProductName": "Konbu",
                                    "Unit": "2 kg box",
                                    "Price": "6"
                                },
                                {
                                    "ProductName": "Tofu",
                                    "Unit": "40 - 100 g pkgs.",
                                    "Price": "23"
                                },
                                {
                                    "ProductName": "Genen Shouyu",
                                    "Unit": "24 - 250 ml bottles",
                                    "Price": "16"
                                },
                                {
                                    "ProductName": "Pavlova",
                                    "Unit": "32 - 500 g boxes",
                                    "Price": "17"
                                },
                                {
                                    "ProductName": "Alice Mutton",
                                    "Unit": "20 - 1 kg tins",
                                    "Price": "39"
                                },
                                {
                                    "ProductName": "Carnarvon Tigers",
                                    "Unit": "16 kg pkg.",
                                    "Price": "63"
                                },
                                {
                                    "ProductName": "Teatime Chocolate Biscuits",
                                    "Unit": "10 boxes x 12 pieces",
                                    "Price": "9"
                                },
                                {
                                    "ProductName": "Sir Rodney's Marmalade",
                                    "Unit": "30 gift boxes",
                                    "Price": "81"
                                },
                                {
                                    "ProductName": "Sir Rodney's Scones",
                                    "Unit": "24 pkgs. x 4 pieces",
                                    "Price": "10"
                                },
                                {
                                    "ProductName": "Gustaf's Knäckebröd",
                                    "Unit": "24 - 500 g pkgs.",
                                    "Price": "21"
                                },
                                {
                                    "ProductName": "Tunnbröd",
                                    "Unit": "12 - 250 g pkgs.",
                                    "Price": "9"
                                },
                                {
                                    "ProductName": "Guaraná Fantástica",
                                    "Unit": "12 - 355 ml cans",
                                    "Price": "5"
                                },
                                {
                                    "ProductName": "NuNuCa Nuß-Nougat-Creme",
                                    "Unit": "20 - 450 g glasses",
                                    "Price": "14"
                                },
                                {
                                    "ProductName": "Gumbär Gummibärchen",
                                    "Unit": "100 - 250 g bags",
                                    "Price": "31"
                                },
                                {
                                    "ProductName": "Schoggi Schokolade",
                                    "Unit": "100 - 100 g pieces",
                                    "Price": "44"
                                },
                                {
                                    "ProductName": "Rössle Sauerkraut",
                                    "Unit": "25 - 825 g cans",
                                    "Price": "46"
                                },
                                {
                                    "ProductName": "Thüringer Rostbratwurst",
                                    "Unit": "50 bags x 30 sausgs.",
                                    "Price": "124"
                                },
                                {
                                    "ProductName": "Nord-Ost Matjeshering",
                                    "Unit": "10 - 200 g glasses",
                                    "Price": "26"
                                },
                                {
                                    "ProductName": "Gorgonzola Telino",
                                    "Unit": "12 - 100 g pkgs",
                                    "Price": "13"
                                },
                                {
                                    "ProductName": "Mascarpone Fabioli",
                                    "Unit": "24 - 200 g pkgs.",
                                    "Price": "32"
                                },
                                {
                                    "ProductName": "Geitost",
                                    "Unit": "500 g",
                                    "Price": "3"
                                },
                                {
                                    "ProductName": "Sasquatch Ale",
                                    "Unit": "24 - 12 oz bottles",
                                    "Price": "20"
                                },
                                {
                                    "ProductName": "Steeleye Stout",
                                    "Unit": "24 - 12 oz bottles",
                                    "Price": "24"
                                },
                                {
                                    "ProductName": "Inlagd Sill",
                                    "Unit": "24 - 250 g jars",
                                    "Price": "19"
                                },
                                {
                                    "ProductName": "Gravad lax",
                                    "Unit": "12 - 500 g pkgs.",
                                    "Price": "26"
                                },
                                {
                                    "ProductName": "Côte de Blaye",
                                    "Unit": "12 - 75 cl bottles",
                                    "Price": "354"
                                },
                                {
                                    "ProductName": "Chartreuse verte",
                                    "Unit": "750 cc per bottle",
                                    "Price": "24"
                                },
                                {
                                    "ProductName": "Boston Crab Meat",
                                    "Unit": "24 - 4 oz tins",
                                    "Price": "18"
                                },
                                {
                                    "ProductName": "Jack's New England Clam Chowder",
                                    "Unit": "12 - 12 oz cans",
                                    "Price": "10"
                                },
                                {
                                    "ProductName": "Singaporean Hokkien Fried Mee",
                                    "Unit": "32 - 1 kg pkgs.",
                                    "Price": "14"
                                },
                                {
                                    "ProductName": "Ipoh Coffee",
                                    "Unit": "16 - 500 g tins",
                                    "Price": "62"
                                },
                                {
                                    "ProductName": "Gula Malacca",
                                    "Unit": "20 - 2 kg bags",
                                    "Price": "19"
                                },
                                {
                                    "ProductName": "Røgede sild",
                                    "Unit": "1k pkg.",
                                    "Price": "10"
                                },
                                {
                                    "ProductName": "Spegesild",
                                    "Unit": "4 - 450 g glasses",
                                    "Price": "12"
                                },
                                {
                                    "ProductName": "Zaanse koeken",
                                    "Unit": "10 - 4 oz boxes",
                                    "Price": "10"
                                },
                                {
                                    "ProductName": "Chocolade",
                                    "Unit": "10 pkgs.",
                                    "Price": "13"
                                },
                                {
                                    "ProductName": "Maxilaku",
                                    "Unit": "24 - 50 g pkgs.",
                                    "Price": "20"
                                },
                                {
                                    "ProductName": "Valkoinen suklaa",
                                    "Unit": "12 - 100 g bars",
                                    "Price": "16"
                                },
                                {
                                    "ProductName": "Manjimup Dried Apples",
                                    "Unit": "50 - 300 g pkgs.",
                                    "Price": "53"
                                },
                                {
                                    "ProductName": "Filo Mix",
                                    "Unit": "16 - 2 kg boxes",
                                    "Price": "7"
                                },
                                {
                                    "ProductName": "Perth Pasties",
                                    "Unit": "48 pieces",
                                    "Price": "33"
                                },
                                {
                                    "ProductName": "Tourtière",
                                    "Unit": "16 pies",
                                    "Price": "7"
                                },
                                {
                                    "ProductName": "Pâté chinois",
                                    "Unit": "24 boxes x 2 pies",
                                    "Price": "24"
                                },
                                {
                                    "ProductName": "Gnocchi di nonna Alice",
                                    "Unit": "24 - 250 g pkgs.",
                                    "Price": "38"
                                },
                                {
                                    "ProductName": "Ravioli Angelo",
                                    "Unit": "24 - 250 g pkgs.",
                                    "Price": "20"
                                },
                                {
                                    "ProductName": "Escargots de Bourgogne",
                                    "Unit": "24 pieces",
                                    "Price": "13"
                                },
                                {
                                    "ProductName": "Raclette Courdavault",
                                    "Unit": "5 kg pkg.",
                                    "Price": "55"
                                },
                                {
                                    "ProductName": "Camembert Pierrot",
                                    "Unit": "15 - 300 g rounds",
                                    "Price": "34"
                                },
                                {
                                    "ProductName": "Sirop d'érable",
                                    "Unit": "24 - 500 ml bottles",
                                    "Price": "29"
                                },
                                {
                                    "ProductName": "Tarte au sucre",
                                    "Unit": "48 pies",
                                    "Price": "49"
                                },
                                {
                                    "ProductName": "Vegie-spread",
                                    "Unit": "15 - 625 g jars",
                                    "Price": "44"
                                },
                                {
                                    "ProductName": "Wimmers gute Semmelknödel",
                                    "Unit": "20 bags x 4 pieces",
                                    "Price": "33"
                                },
                                {
                                    "ProductName": "Louisiana Fiery Hot Pepper Sauce",
                                    "Unit": "32 - 8 oz bottles",
                                    "Price": "21"
                                },
                                {
                                    "ProductName": "Louisiana Hot Spiced Okra",
                                    "Unit": "24 - 8 oz jars",
                                    "Price": "17"
                                },
                                {
                                    "ProductName": "Laughing Lumberjack Lager",
                                    "Unit": "24 - 12 oz bottles",
                                    "Price": "20"
                                },
                                {
                                    "ProductName": "Scottish Longbreads",
                                    "Unit": "10 boxes x 8 pieces",
                                    "Price": "13"
                                },
                                {
                                    "ProductName": "Gudbrandsdalsost",
                                    "Unit": "10 kg pkg.",
                                    "Price": "36"
                                },
                                {
                                    "ProductName": "Outback Lager",
                                    "Unit": "24 - 355 ml bottles",
                                    "Price": "21"
                                },
                                {
                                    "ProductName": "Fløtemysost",
                                    "Unit": "10 - 500 g pkgs.",
                                    "Price": "22"
                                },
                                {
                                    "ProductName": "Mozzarella di Giovanni",
                                    "Unit": "24 - 200 g pkgs.",
                                    "Price": "35"
                                },
                                {
                                    "ProductName": "Röd Kaviar",
                                    "Unit": "24 - 150 g jars",
                                    "Price": "15"
                                },
                                {
                                    "ProductName": "Longlife Tofu",
                                    "Unit": "5 kg pkg.",
                                    "Price": "10"
                                },
                                {
                                    "ProductName": "Rhönbräu Klosterbier",
                                    "Unit": "24 - 0.5 l bottles",
                                    "Price": "8"
                                },
                                {
                                    "ProductName": "Lakkalikööri",
                                    "Unit": "500 ml",
                                    "Price": "24"
                                },
                                {
                                    "ProductName": "Original Frankfurter grüne Soße",
                                    "Unit": "12 boxes",
                                    "Price": "13"
                                }
                            ]
                        },
                        "text/html": [
                            "<table>",
                            "<tr><th>ProductName</th><th>Unit</th><th>Price</th></tr>",
                            "<tr><td>Chais</td><td>10 boxes x 20 bags</td><td>26</td></tr>",
                            "<tr><td>Chang</td><td>24 - 12 oz bottles</td><td>25</td></tr>",
                            "<tr><td>Aniseed Syrup</td><td>12 - 550 ml bottles</td><td>10</td></tr>",
                            "<tr><td>Chef Anton&#39;s Cajun Seasoning</td><td>48 - 6 oz jars</td><td>22</td></tr>",
                            "<tr><td>Chef Anton&#39;s Gumbo Mix</td><td>36 boxes</td><td>21</td></tr>",
                            "<tr><td>Grandma&#39;s Boysenberry Spread</td><td>12 - 8 oz jars</td><td>25</td></tr>",
                            "<tr><td>Uncle Bob&#39;s Organic Dried Pears</td><td>12 - 1 lb pkgs.</td><td>30</td></tr>",
                            "<tr><td>Northwoods Cranberry Sauce</td><td>12 - 12 oz jars</td><td>40</td></tr>",
                            "<tr><td>Mishi Kobe Niku</td><td>18 - 500 g pkgs.</td><td>97</td></tr>",
                            "<tr><td>Ikura</td><td>12 - 200 ml jars</td><td>31</td></tr>",
                            "<tr><td>Queso Cabrales</td><td>1 kg pkg.</td><td>21</td></tr>",
                            "<tr><td>Queso Manchego La Pastora</td><td>10 - 500 g pkgs.</td><td>38</td></tr>",
                            "<tr><td>Konbu</td><td>2 kg box</td><td>6</td></tr>",
                            "<tr><td>Tofu</td><td>40 - 100 g pkgs.</td><td>23</td></tr>",
                            "<tr><td>Genen Shouyu</td><td>24 - 250 ml bottles</td><td>16</td></tr>",
                            "<tr><td>Pavlova</td><td>32 - 500 g boxes</td><td>17</td></tr>",
                            "<tr><td>Alice Mutton</td><td>20 - 1 kg tins</td><td>39</td></tr>",
                            "<tr><td>Carnarvon Tigers</td><td>16 kg pkg.</td><td>63</td></tr>",
                            "<tr><td>Teatime Chocolate Biscuits</td><td>10 boxes x 12 pieces</td><td>9</td></tr>",
                            "<tr><td>Sir Rodney&#39;s Marmalade</td><td>30 gift boxes</td><td>81</td></tr>",
                            "<tr><td>Sir Rodney&#39;s Scones</td><td>24 pkgs. x 4 pieces</td><td>10</td></tr>",
                            "<tr><td>Gustaf&#39;s Knäckebröd</td><td>24 - 500 g pkgs.</td><td>21</td></tr>",
                            "<tr><td>Tunnbröd</td><td>12 - 250 g pkgs.</td><td>9</td></tr>",
                            "<tr><td>Guaraná Fantástica</td><td>12 - 355 ml cans</td><td>5</td></tr>",
                            "<tr><td>NuNuCa Nuß-Nougat-Creme</td><td>20 - 450 g glasses</td><td>14</td></tr>",
                            "<tr><td>Gumbär Gummibärchen</td><td>100 - 250 g bags</td><td>31</td></tr>",
                            "<tr><td>Schoggi Schokolade</td><td>100 - 100 g pieces</td><td>44</td></tr>",
                            "<tr><td>Rössle Sauerkraut</td><td>25 - 825 g cans</td><td>46</td></tr>",
                            "<tr><td>Thüringer Rostbratwurst</td><td>50 bags x 30 sausgs.</td><td>124</td></tr>",
                            "<tr><td>Nord-Ost Matjeshering</td><td>10 - 200 g glasses</td><td>26</td></tr>",
                            "<tr><td>Gorgonzola Telino</td><td>12 - 100 g pkgs</td><td>13</td></tr>",
                            "<tr><td>Mascarpone Fabioli</td><td>24 - 200 g pkgs.</td><td>32</td></tr>",
                            "<tr><td>Geitost</td><td>500 g</td><td>3</td></tr>",
                            "<tr><td>Sasquatch Ale</td><td>24 - 12 oz bottles</td><td>20</td></tr>",
                            "<tr><td>Steeleye Stout</td><td>24 - 12 oz bottles</td><td>24</td></tr>",
                            "<tr><td>Inlagd Sill</td><td>24 - 250 g jars</td><td>19</td></tr>",
                            "<tr><td>Gravad lax</td><td>12 - 500 g pkgs.</td><td>26</td></tr>",
                            "<tr><td>Côte de Blaye</td><td>12 - 75 cl bottles</td><td>354</td></tr>",
                            "<tr><td>Chartreuse verte</td><td>750 cc per bottle</td><td>24</td></tr>",
                            "<tr><td>Boston Crab Meat</td><td>24 - 4 oz tins</td><td>18</td></tr>",
                            "<tr><td>Jack&#39;s New England Clam Chowder</td><td>12 - 12 oz cans</td><td>10</td></tr>",
                            "<tr><td>Singaporean Hokkien Fried Mee</td><td>32 - 1 kg pkgs.</td><td>14</td></tr>",
                            "<tr><td>Ipoh Coffee</td><td>16 - 500 g tins</td><td>62</td></tr>",
                            "<tr><td>Gula Malacca</td><td>20 - 2 kg bags</td><td>19</td></tr>",
                            "<tr><td>Røgede sild</td><td>1k pkg.</td><td>10</td></tr>",
                            "<tr><td>Spegesild</td><td>4 - 450 g glasses</td><td>12</td></tr>",
                            "<tr><td>Zaanse koeken</td><td>10 - 4 oz boxes</td><td>10</td></tr>",
                            "<tr><td>Chocolade</td><td>10 pkgs.</td><td>13</td></tr>",
                            "<tr><td>Maxilaku</td><td>24 - 50 g pkgs.</td><td>20</td></tr>",
                            "<tr><td>Valkoinen suklaa</td><td>12 - 100 g bars</td><td>16</td></tr>",
                            "<tr><td>Manjimup Dried Apples</td><td>50 - 300 g pkgs.</td><td>53</td></tr>",
                            "<tr><td>Filo Mix</td><td>16 - 2 kg boxes</td><td>7</td></tr>",
                            "<tr><td>Perth Pasties</td><td>48 pieces</td><td>33</td></tr>",
                            "<tr><td>Tourtière</td><td>16 pies</td><td>7</td></tr>",
                            "<tr><td>Pâté chinois</td><td>24 boxes x 2 pies</td><td>24</td></tr>",
                            "<tr><td>Gnocchi di nonna Alice</td><td>24 - 250 g pkgs.</td><td>38</td></tr>",
                            "<tr><td>Ravioli Angelo</td><td>24 - 250 g pkgs.</td><td>20</td></tr>",
                            "<tr><td>Escargots de Bourgogne</td><td>24 pieces</td><td>13</td></tr>",
                            "<tr><td>Raclette Courdavault</td><td>5 kg pkg.</td><td>55</td></tr>",
                            "<tr><td>Camembert Pierrot</td><td>15 - 300 g rounds</td><td>34</td></tr>",
                            "<tr><td>Sirop d&#39;érable</td><td>24 - 500 ml bottles</td><td>29</td></tr>",
                            "<tr><td>Tarte au sucre</td><td>48 pies</td><td>49</td></tr>",
                            "<tr><td>Vegie-spread</td><td>15 - 625 g jars</td><td>44</td></tr>",
                            "<tr><td>Wimmers gute Semmelknödel</td><td>20 bags x 4 pieces</td><td>33</td></tr>",
                            "<tr><td>Louisiana Fiery Hot Pepper Sauce</td><td>32 - 8 oz bottles</td><td>21</td></tr>",
                            "<tr><td>Louisiana Hot Spiced Okra</td><td>24 - 8 oz jars</td><td>17</td></tr>",
                            "<tr><td>Laughing Lumberjack Lager</td><td>24 - 12 oz bottles</td><td>20</td></tr>",
                            "<tr><td>Scottish Longbreads</td><td>10 boxes x 8 pieces</td><td>13</td></tr>",
                            "<tr><td>Gudbrandsdalsost</td><td>10 kg pkg.</td><td>36</td></tr>",
                            "<tr><td>Outback Lager</td><td>24 - 355 ml bottles</td><td>21</td></tr>",
                            "<tr><td>Fløtemysost</td><td>10 - 500 g pkgs.</td><td>22</td></tr>",
                            "<tr><td>Mozzarella di Giovanni</td><td>24 - 200 g pkgs.</td><td>35</td></tr>",
                            "<tr><td>Röd Kaviar</td><td>24 - 150 g jars</td><td>15</td></tr>",
                            "<tr><td>Longlife Tofu</td><td>5 kg pkg.</td><td>10</td></tr>",
                            "<tr><td>Rhönbräu Klosterbier</td><td>24 - 0.5 l bottles</td><td>8</td></tr>",
                            "<tr><td>Lakkalikööri</td><td>500 ml</td><td>24</td></tr>",
                            "<tr><td>Original Frankfurter grüne Soße</td><td>12 boxes</td><td>13</td></tr>",
                            "</table>"
                        ]
                    }
                }
            ],
            "execution_count": 433
        },
        {
            "cell_type": "markdown",
            "source": [
                "**Part C:** Retrieve the first 10 rows of the `Products` table."
            ],
            "metadata": {
                "azdata_cell_guid": "09e91e9e-22eb-433d-9c22-6d66d955f6bc"
            }
        },
        {
            "cell_type": "code",
            "source": [
                "/*\n",
                "WRITE AND EXECUTE YOUR IN THIS CELL UNDER THIS COMMENT\n",
                "*/\n",
                "SELECT TOP 10 * FROM Northwind.dbo.Products;"
            ],
            "metadata": {
                "azdata_cell_guid": "ce878ab8-93e7-42e5-8908-3151c90af597",
                "language": "sql"
            },
            "outputs": [
                {
                    "output_type": "display_data",
                    "data": {
                        "text/html": "(10 rows affected)"
                    },
                    "metadata": {}
                },
                {
                    "output_type": "display_data",
                    "data": {
                        "text/html": "Total execution time: 00:00:00.001"
                    },
                    "metadata": {}
                },
                {
                    "output_type": "execute_result",
                    "metadata": {},
                    "execution_count": 434,
                    "data": {
                        "application/vnd.dataresource+json": {
                            "schema": {
                                "fields": [
                                    {
                                        "name": "ProductID"
                                    },
                                    {
                                        "name": "ProductName"
                                    },
                                    {
                                        "name": "SupplierID"
                                    },
                                    {
                                        "name": "CategoryID"
                                    },
                                    {
                                        "name": "Unit"
                                    },
                                    {
                                        "name": "Price"
                                    }
                                ]
                            },
                            "data": [
                                {
                                    "ProductID": "1",
                                    "ProductName": "Chais",
                                    "SupplierID": "1",
                                    "CategoryID": "1",
                                    "Unit": "10 boxes x 20 bags",
                                    "Price": "26"
                                },
                                {
                                    "ProductID": "2",
                                    "ProductName": "Chang",
                                    "SupplierID": "1",
                                    "CategoryID": "1",
                                    "Unit": "24 - 12 oz bottles",
                                    "Price": "25"
                                },
                                {
                                    "ProductID": "3",
                                    "ProductName": "Aniseed Syrup",
                                    "SupplierID": "1",
                                    "CategoryID": "2",
                                    "Unit": "12 - 550 ml bottles",
                                    "Price": "10"
                                },
                                {
                                    "ProductID": "4",
                                    "ProductName": "Chef Anton's Cajun Seasoning",
                                    "SupplierID": "2",
                                    "CategoryID": "2",
                                    "Unit": "48 - 6 oz jars",
                                    "Price": "22"
                                },
                                {
                                    "ProductID": "5",
                                    "ProductName": "Chef Anton's Gumbo Mix",
                                    "SupplierID": "2",
                                    "CategoryID": "2",
                                    "Unit": "36 boxes",
                                    "Price": "21"
                                },
                                {
                                    "ProductID": "6",
                                    "ProductName": "Grandma's Boysenberry Spread",
                                    "SupplierID": "3",
                                    "CategoryID": "2",
                                    "Unit": "12 - 8 oz jars",
                                    "Price": "25"
                                },
                                {
                                    "ProductID": "7",
                                    "ProductName": "Uncle Bob's Organic Dried Pears",
                                    "SupplierID": "3",
                                    "CategoryID": "7",
                                    "Unit": "12 - 1 lb pkgs.",
                                    "Price": "30"
                                },
                                {
                                    "ProductID": "8",
                                    "ProductName": "Northwoods Cranberry Sauce",
                                    "SupplierID": "3",
                                    "CategoryID": "2",
                                    "Unit": "12 - 12 oz jars",
                                    "Price": "40"
                                },
                                {
                                    "ProductID": "9",
                                    "ProductName": "Mishi Kobe Niku",
                                    "SupplierID": "4",
                                    "CategoryID": "6",
                                    "Unit": "18 - 500 g pkgs.",
                                    "Price": "97"
                                },
                                {
                                    "ProductID": "10",
                                    "ProductName": "Ikura",
                                    "SupplierID": "4",
                                    "CategoryID": "8",
                                    "Unit": "12 - 200 ml jars",
                                    "Price": "31"
                                }
                            ]
                        },
                        "text/html": [
                            "<table>",
                            "<tr><th>ProductID</th><th>ProductName</th><th>SupplierID</th><th>CategoryID</th><th>Unit</th><th>Price</th></tr>",
                            "<tr><td>1</td><td>Chais</td><td>1</td><td>1</td><td>10 boxes x 20 bags</td><td>26</td></tr>",
                            "<tr><td>2</td><td>Chang</td><td>1</td><td>1</td><td>24 - 12 oz bottles</td><td>25</td></tr>",
                            "<tr><td>3</td><td>Aniseed Syrup</td><td>1</td><td>2</td><td>12 - 550 ml bottles</td><td>10</td></tr>",
                            "<tr><td>4</td><td>Chef Anton&#39;s Cajun Seasoning</td><td>2</td><td>2</td><td>48 - 6 oz jars</td><td>22</td></tr>",
                            "<tr><td>5</td><td>Chef Anton&#39;s Gumbo Mix</td><td>2</td><td>2</td><td>36 boxes</td><td>21</td></tr>",
                            "<tr><td>6</td><td>Grandma&#39;s Boysenberry Spread</td><td>3</td><td>2</td><td>12 - 8 oz jars</td><td>25</td></tr>",
                            "<tr><td>7</td><td>Uncle Bob&#39;s Organic Dried Pears</td><td>3</td><td>7</td><td>12 - 1 lb pkgs.</td><td>30</td></tr>",
                            "<tr><td>8</td><td>Northwoods Cranberry Sauce</td><td>3</td><td>2</td><td>12 - 12 oz jars</td><td>40</td></tr>",
                            "<tr><td>9</td><td>Mishi Kobe Niku</td><td>4</td><td>6</td><td>18 - 500 g pkgs.</td><td>97</td></tr>",
                            "<tr><td>10</td><td>Ikura</td><td>4</td><td>8</td><td>12 - 200 ml jars</td><td>31</td></tr>",
                            "</table>"
                        ]
                    }
                }
            ],
            "execution_count": 434
        },
        {
            "cell_type": "markdown",
            "source": [
                "### Exercise 2: SQL SELECT DISTINCT"
            ],
            "metadata": {
                "azdata_cell_guid": "645a0c45-afb7-42bf-8890-12a991c690a2"
            }
        },
        {
            "cell_type": "markdown",
            "source": [
                "**Part A:** List all distinct `Country` values from the `Suppliers` table."
            ],
            "metadata": {
                "azdata_cell_guid": "4af6f5ed-c781-48eb-a3a2-1da7611ffff1"
            }
        },
        {
            "cell_type": "code",
            "source": [
                "/*\n",
                "WRITE AND EXECUTE YOUR IN THIS CELL UNDER THIS COMMENT\n",
                "*/\n",
                "SELECT DISTINCT Country FROM Northwind.dbo.Suppliers;"
            ],
            "metadata": {
                "azdata_cell_guid": "427e8a8c-f830-4699-96f8-d8ea5c469861",
                "language": "sql"
            },
            "outputs": [
                {
                    "output_type": "display_data",
                    "data": {
                        "text/html": "(16 rows affected)"
                    },
                    "metadata": {}
                },
                {
                    "output_type": "display_data",
                    "data": {
                        "text/html": "Total execution time: 00:00:00.001"
                    },
                    "metadata": {}
                },
                {
                    "output_type": "execute_result",
                    "metadata": {},
                    "execution_count": 435,
                    "data": {
                        "application/vnd.dataresource+json": {
                            "schema": {
                                "fields": [
                                    {
                                        "name": "Country"
                                    }
                                ]
                            },
                            "data": [
                                {
                                    "Country": "Australia"
                                },
                                {
                                    "Country": "Brazil"
                                },
                                {
                                    "Country": "Canada"
                                },
                                {
                                    "Country": "Denmark"
                                },
                                {
                                    "Country": "Finland"
                                },
                                {
                                    "Country": "France"
                                },
                                {
                                    "Country": "Germany"
                                },
                                {
                                    "Country": "Italy"
                                },
                                {
                                    "Country": "Japan"
                                },
                                {
                                    "Country": "Netherlands"
                                },
                                {
                                    "Country": "Norway"
                                },
                                {
                                    "Country": "Singapore"
                                },
                                {
                                    "Country": "Spain"
                                },
                                {
                                    "Country": "Sweden"
                                },
                                {
                                    "Country": "UK"
                                },
                                {
                                    "Country": "USA"
                                }
                            ]
                        },
                        "text/html": [
                            "<table>",
                            "<tr><th>Country</th></tr>",
                            "<tr><td>Australia</td></tr>",
                            "<tr><td>Brazil</td></tr>",
                            "<tr><td>Canada</td></tr>",
                            "<tr><td>Denmark</td></tr>",
                            "<tr><td>Finland</td></tr>",
                            "<tr><td>France</td></tr>",
                            "<tr><td>Germany</td></tr>",
                            "<tr><td>Italy</td></tr>",
                            "<tr><td>Japan</td></tr>",
                            "<tr><td>Netherlands</td></tr>",
                            "<tr><td>Norway</td></tr>",
                            "<tr><td>Singapore</td></tr>",
                            "<tr><td>Spain</td></tr>",
                            "<tr><td>Sweden</td></tr>",
                            "<tr><td>UK</td></tr>",
                            "<tr><td>USA</td></tr>",
                            "</table>"
                        ]
                    }
                }
            ],
            "execution_count": 435
        },
        {
            "cell_type": "markdown",
            "source": [
                "**Part B:** Count the number of distinct `Country` values in the `Suppliers` table."
            ],
            "metadata": {
                "azdata_cell_guid": "30aa88ee-81bc-4b60-8e14-a8f525f34658"
            }
        },
        {
            "cell_type": "code",
            "source": [
                "/*\n",
                "WRITE AND EXECUTE YOUR IN THIS CELL UNDER THIS COMMENT\n",
                "*/\n",
                "SELECT COUNT(DISTINCT Country) FROM Northwind.dbo.Suppliers;"
            ],
            "metadata": {
                "azdata_cell_guid": "3585dd58-59b5-44bb-b56e-786b6fbd377c",
                "language": "sql"
            },
            "outputs": [
                {
                    "output_type": "display_data",
                    "data": {
                        "text/html": "(1 row affected)"
                    },
                    "metadata": {}
                },
                {
                    "output_type": "display_data",
                    "data": {
                        "text/html": "Total execution time: 00:00:00"
                    },
                    "metadata": {}
                },
                {
                    "output_type": "execute_result",
                    "metadata": {},
                    "execution_count": 436,
                    "data": {
                        "application/vnd.dataresource+json": {
                            "schema": {
                                "fields": [
                                    {
                                        "name": "(No column name)"
                                    }
                                ]
                            },
                            "data": [
                                {
                                    "(No column name)": "16"
                                }
                            ]
                        },
                        "text/html": [
                            "<table>",
                            "<tr><th>(No column name)</th></tr>",
                            "<tr><td>16</td></tr>",
                            "</table>"
                        ]
                    }
                }
            ],
            "execution_count": 436
        },
        {
            "cell_type": "markdown",
            "source": [
                "### Exercise 3: SQL WHERE"
            ],
            "metadata": {
                "azdata_cell_guid": "2dc17ed6-4157-43cc-92d0-fc3bd74d900d"
            }
        },
        {
            "cell_type": "markdown",
            "source": [
                "**Part A:** Find all products with a price greater than 20."
            ],
            "metadata": {
                "azdata_cell_guid": "984944e4-53be-476a-967c-d26827f5bd75"
            }
        },
        {
            "cell_type": "code",
            "source": [
                "/*\n",
                "WRITE AND EXECUTE YOUR IN THIS CELL UNDER THIS COMMENT\n",
                "*/\n",
                "SELECT * FROM Northwind.dbo.Products WHERE Price > 20;"
            ],
            "metadata": {
                "azdata_cell_guid": "089a9d05-8e79-42a4-98d8-f9c5c0663b34",
                "language": "sql"
            },
            "outputs": [
                {
                    "output_type": "display_data",
                    "data": {
                        "text/html": "(43 rows affected)"
                    },
                    "metadata": {}
                },
                {
                    "output_type": "display_data",
                    "data": {
                        "text/html": "Total execution time: 00:00:00.001"
                    },
                    "metadata": {}
                },
                {
                    "output_type": "execute_result",
                    "metadata": {},
                    "execution_count": 437,
                    "data": {
                        "application/vnd.dataresource+json": {
                            "schema": {
                                "fields": [
                                    {
                                        "name": "ProductID"
                                    },
                                    {
                                        "name": "ProductName"
                                    },
                                    {
                                        "name": "SupplierID"
                                    },
                                    {
                                        "name": "CategoryID"
                                    },
                                    {
                                        "name": "Unit"
                                    },
                                    {
                                        "name": "Price"
                                    }
                                ]
                            },
                            "data": [
                                {
                                    "ProductID": "1",
                                    "ProductName": "Chais",
                                    "SupplierID": "1",
                                    "CategoryID": "1",
                                    "Unit": "10 boxes x 20 bags",
                                    "Price": "26"
                                },
                                {
                                    "ProductID": "2",
                                    "ProductName": "Chang",
                                    "SupplierID": "1",
                                    "CategoryID": "1",
                                    "Unit": "24 - 12 oz bottles",
                                    "Price": "25"
                                },
                                {
                                    "ProductID": "4",
                                    "ProductName": "Chef Anton's Cajun Seasoning",
                                    "SupplierID": "2",
                                    "CategoryID": "2",
                                    "Unit": "48 - 6 oz jars",
                                    "Price": "22"
                                },
                                {
                                    "ProductID": "5",
                                    "ProductName": "Chef Anton's Gumbo Mix",
                                    "SupplierID": "2",
                                    "CategoryID": "2",
                                    "Unit": "36 boxes",
                                    "Price": "21"
                                },
                                {
                                    "ProductID": "6",
                                    "ProductName": "Grandma's Boysenberry Spread",
                                    "SupplierID": "3",
                                    "CategoryID": "2",
                                    "Unit": "12 - 8 oz jars",
                                    "Price": "25"
                                },
                                {
                                    "ProductID": "7",
                                    "ProductName": "Uncle Bob's Organic Dried Pears",
                                    "SupplierID": "3",
                                    "CategoryID": "7",
                                    "Unit": "12 - 1 lb pkgs.",
                                    "Price": "30"
                                },
                                {
                                    "ProductID": "8",
                                    "ProductName": "Northwoods Cranberry Sauce",
                                    "SupplierID": "3",
                                    "CategoryID": "2",
                                    "Unit": "12 - 12 oz jars",
                                    "Price": "40"
                                },
                                {
                                    "ProductID": "9",
                                    "ProductName": "Mishi Kobe Niku",
                                    "SupplierID": "4",
                                    "CategoryID": "6",
                                    "Unit": "18 - 500 g pkgs.",
                                    "Price": "97"
                                },
                                {
                                    "ProductID": "10",
                                    "ProductName": "Ikura",
                                    "SupplierID": "4",
                                    "CategoryID": "8",
                                    "Unit": "12 - 200 ml jars",
                                    "Price": "31"
                                },
                                {
                                    "ProductID": "11",
                                    "ProductName": "Queso Cabrales",
                                    "SupplierID": "5",
                                    "CategoryID": "4",
                                    "Unit": "1 kg pkg.",
                                    "Price": "21"
                                },
                                {
                                    "ProductID": "12",
                                    "ProductName": "Queso Manchego La Pastora",
                                    "SupplierID": "5",
                                    "CategoryID": "4",
                                    "Unit": "10 - 500 g pkgs.",
                                    "Price": "38"
                                },
                                {
                                    "ProductID": "14",
                                    "ProductName": "Tofu",
                                    "SupplierID": "6",
                                    "CategoryID": "7",
                                    "Unit": "40 - 100 g pkgs.",
                                    "Price": "23"
                                },
                                {
                                    "ProductID": "17",
                                    "ProductName": "Alice Mutton",
                                    "SupplierID": "7",
                                    "CategoryID": "6",
                                    "Unit": "20 - 1 kg tins",
                                    "Price": "39"
                                },
                                {
                                    "ProductID": "18",
                                    "ProductName": "Carnarvon Tigers",
                                    "SupplierID": "7",
                                    "CategoryID": "8",
                                    "Unit": "16 kg pkg.",
                                    "Price": "63"
                                },
                                {
                                    "ProductID": "20",
                                    "ProductName": "Sir Rodney's Marmalade",
                                    "SupplierID": "8",
                                    "CategoryID": "3",
                                    "Unit": "30 gift boxes",
                                    "Price": "81"
                                },
                                {
                                    "ProductID": "22",
                                    "ProductName": "Gustaf's Knäckebröd",
                                    "SupplierID": "9",
                                    "CategoryID": "5",
                                    "Unit": "24 - 500 g pkgs.",
                                    "Price": "21"
                                },
                                {
                                    "ProductID": "26",
                                    "ProductName": "Gumbär Gummibärchen",
                                    "SupplierID": "11",
                                    "CategoryID": "3",
                                    "Unit": "100 - 250 g bags",
                                    "Price": "31"
                                },
                                {
                                    "ProductID": "27",
                                    "ProductName": "Schoggi Schokolade",
                                    "SupplierID": "11",
                                    "CategoryID": "3",
                                    "Unit": "100 - 100 g pieces",
                                    "Price": "44"
                                },
                                {
                                    "ProductID": "28",
                                    "ProductName": "Rössle Sauerkraut",
                                    "SupplierID": "12",
                                    "CategoryID": "7",
                                    "Unit": "25 - 825 g cans",
                                    "Price": "46"
                                },
                                {
                                    "ProductID": "29",
                                    "ProductName": "Thüringer Rostbratwurst",
                                    "SupplierID": "12",
                                    "CategoryID": "6",
                                    "Unit": "50 bags x 30 sausgs.",
                                    "Price": "124"
                                },
                                {
                                    "ProductID": "30",
                                    "ProductName": "Nord-Ost Matjeshering",
                                    "SupplierID": "13",
                                    "CategoryID": "8",
                                    "Unit": "10 - 200 g glasses",
                                    "Price": "26"
                                },
                                {
                                    "ProductID": "32",
                                    "ProductName": "Mascarpone Fabioli",
                                    "SupplierID": "14",
                                    "CategoryID": "4",
                                    "Unit": "24 - 200 g pkgs.",
                                    "Price": "32"
                                },
                                {
                                    "ProductID": "35",
                                    "ProductName": "Steeleye Stout",
                                    "SupplierID": "16",
                                    "CategoryID": "1",
                                    "Unit": "24 - 12 oz bottles",
                                    "Price": "24"
                                },
                                {
                                    "ProductID": "37",
                                    "ProductName": "Gravad lax",
                                    "SupplierID": "17",
                                    "CategoryID": "8",
                                    "Unit": "12 - 500 g pkgs.",
                                    "Price": "26"
                                },
                                {
                                    "ProductID": "38",
                                    "ProductName": "Côte de Blaye",
                                    "SupplierID": "18",
                                    "CategoryID": "1",
                                    "Unit": "12 - 75 cl bottles",
                                    "Price": "354"
                                },
                                {
                                    "ProductID": "39",
                                    "ProductName": "Chartreuse verte",
                                    "SupplierID": "18",
                                    "CategoryID": "1",
                                    "Unit": "750 cc per bottle",
                                    "Price": "24"
                                },
                                {
                                    "ProductID": "43",
                                    "ProductName": "Ipoh Coffee",
                                    "SupplierID": "20",
                                    "CategoryID": "1",
                                    "Unit": "16 - 500 g tins",
                                    "Price": "62"
                                },
                                {
                                    "ProductID": "51",
                                    "ProductName": "Manjimup Dried Apples",
                                    "SupplierID": "24",
                                    "CategoryID": "7",
                                    "Unit": "50 - 300 g pkgs.",
                                    "Price": "53"
                                },
                                {
                                    "ProductID": "53",
                                    "ProductName": "Perth Pasties",
                                    "SupplierID": "24",
                                    "CategoryID": "6",
                                    "Unit": "48 pieces",
                                    "Price": "33"
                                },
                                {
                                    "ProductID": "55",
                                    "ProductName": "Pâté chinois",
                                    "SupplierID": "25",
                                    "CategoryID": "6",
                                    "Unit": "24 boxes x 2 pies",
                                    "Price": "24"
                                },
                                {
                                    "ProductID": "56",
                                    "ProductName": "Gnocchi di nonna Alice",
                                    "SupplierID": "26",
                                    "CategoryID": "5",
                                    "Unit": "24 - 250 g pkgs.",
                                    "Price": "38"
                                },
                                {
                                    "ProductID": "59",
                                    "ProductName": "Raclette Courdavault",
                                    "SupplierID": "28",
                                    "CategoryID": "4",
                                    "Unit": "5 kg pkg.",
                                    "Price": "55"
                                },
                                {
                                    "ProductID": "60",
                                    "ProductName": "Camembert Pierrot",
                                    "SupplierID": "28",
                                    "CategoryID": "4",
                                    "Unit": "15 - 300 g rounds",
                                    "Price": "34"
                                },
                                {
                                    "ProductID": "61",
                                    "ProductName": "Sirop d'érable",
                                    "SupplierID": "29",
                                    "CategoryID": "2",
                                    "Unit": "24 - 500 ml bottles",
                                    "Price": "29"
                                },
                                {
                                    "ProductID": "62",
                                    "ProductName": "Tarte au sucre",
                                    "SupplierID": "29",
                                    "CategoryID": "3",
                                    "Unit": "48 pies",
                                    "Price": "49"
                                },
                                {
                                    "ProductID": "63",
                                    "ProductName": "Vegie-spread",
                                    "SupplierID": "7",
                                    "CategoryID": "2",
                                    "Unit": "15 - 625 g jars",
                                    "Price": "44"
                                },
                                {
                                    "ProductID": "64",
                                    "ProductName": "Wimmers gute Semmelknödel",
                                    "SupplierID": "12",
                                    "CategoryID": "5",
                                    "Unit": "20 bags x 4 pieces",
                                    "Price": "33"
                                },
                                {
                                    "ProductID": "65",
                                    "ProductName": "Louisiana Fiery Hot Pepper Sauce",
                                    "SupplierID": "2",
                                    "CategoryID": "2",
                                    "Unit": "32 - 8 oz bottles",
                                    "Price": "21"
                                },
                                {
                                    "ProductID": "69",
                                    "ProductName": "Gudbrandsdalsost",
                                    "SupplierID": "15",
                                    "CategoryID": "4",
                                    "Unit": "10 kg pkg.",
                                    "Price": "36"
                                },
                                {
                                    "ProductID": "70",
                                    "ProductName": "Outback Lager",
                                    "SupplierID": "7",
                                    "CategoryID": "1",
                                    "Unit": "24 - 355 ml bottles",
                                    "Price": "21"
                                },
                                {
                                    "ProductID": "71",
                                    "ProductName": "Fløtemysost",
                                    "SupplierID": "15",
                                    "CategoryID": "4",
                                    "Unit": "10 - 500 g pkgs.",
                                    "Price": "22"
                                },
                                {
                                    "ProductID": "72",
                                    "ProductName": "Mozzarella di Giovanni",
                                    "SupplierID": "14",
                                    "CategoryID": "4",
                                    "Unit": "24 - 200 g pkgs.",
                                    "Price": "35"
                                },
                                {
                                    "ProductID": "76",
                                    "ProductName": "Lakkalikööri",
                                    "SupplierID": "23",
                                    "CategoryID": "1",
                                    "Unit": "500 ml",
                                    "Price": "24"
                                }
                            ]
                        },
                        "text/html": [
                            "<table>",
                            "<tr><th>ProductID</th><th>ProductName</th><th>SupplierID</th><th>CategoryID</th><th>Unit</th><th>Price</th></tr>",
                            "<tr><td>1</td><td>Chais</td><td>1</td><td>1</td><td>10 boxes x 20 bags</td><td>26</td></tr>",
                            "<tr><td>2</td><td>Chang</td><td>1</td><td>1</td><td>24 - 12 oz bottles</td><td>25</td></tr>",
                            "<tr><td>4</td><td>Chef Anton&#39;s Cajun Seasoning</td><td>2</td><td>2</td><td>48 - 6 oz jars</td><td>22</td></tr>",
                            "<tr><td>5</td><td>Chef Anton&#39;s Gumbo Mix</td><td>2</td><td>2</td><td>36 boxes</td><td>21</td></tr>",
                            "<tr><td>6</td><td>Grandma&#39;s Boysenberry Spread</td><td>3</td><td>2</td><td>12 - 8 oz jars</td><td>25</td></tr>",
                            "<tr><td>7</td><td>Uncle Bob&#39;s Organic Dried Pears</td><td>3</td><td>7</td><td>12 - 1 lb pkgs.</td><td>30</td></tr>",
                            "<tr><td>8</td><td>Northwoods Cranberry Sauce</td><td>3</td><td>2</td><td>12 - 12 oz jars</td><td>40</td></tr>",
                            "<tr><td>9</td><td>Mishi Kobe Niku</td><td>4</td><td>6</td><td>18 - 500 g pkgs.</td><td>97</td></tr>",
                            "<tr><td>10</td><td>Ikura</td><td>4</td><td>8</td><td>12 - 200 ml jars</td><td>31</td></tr>",
                            "<tr><td>11</td><td>Queso Cabrales</td><td>5</td><td>4</td><td>1 kg pkg.</td><td>21</td></tr>",
                            "<tr><td>12</td><td>Queso Manchego La Pastora</td><td>5</td><td>4</td><td>10 - 500 g pkgs.</td><td>38</td></tr>",
                            "<tr><td>14</td><td>Tofu</td><td>6</td><td>7</td><td>40 - 100 g pkgs.</td><td>23</td></tr>",
                            "<tr><td>17</td><td>Alice Mutton</td><td>7</td><td>6</td><td>20 - 1 kg tins</td><td>39</td></tr>",
                            "<tr><td>18</td><td>Carnarvon Tigers</td><td>7</td><td>8</td><td>16 kg pkg.</td><td>63</td></tr>",
                            "<tr><td>20</td><td>Sir Rodney&#39;s Marmalade</td><td>8</td><td>3</td><td>30 gift boxes</td><td>81</td></tr>",
                            "<tr><td>22</td><td>Gustaf&#39;s Knäckebröd</td><td>9</td><td>5</td><td>24 - 500 g pkgs.</td><td>21</td></tr>",
                            "<tr><td>26</td><td>Gumbär Gummibärchen</td><td>11</td><td>3</td><td>100 - 250 g bags</td><td>31</td></tr>",
                            "<tr><td>27</td><td>Schoggi Schokolade</td><td>11</td><td>3</td><td>100 - 100 g pieces</td><td>44</td></tr>",
                            "<tr><td>28</td><td>Rössle Sauerkraut</td><td>12</td><td>7</td><td>25 - 825 g cans</td><td>46</td></tr>",
                            "<tr><td>29</td><td>Thüringer Rostbratwurst</td><td>12</td><td>6</td><td>50 bags x 30 sausgs.</td><td>124</td></tr>",
                            "<tr><td>30</td><td>Nord-Ost Matjeshering</td><td>13</td><td>8</td><td>10 - 200 g glasses</td><td>26</td></tr>",
                            "<tr><td>32</td><td>Mascarpone Fabioli</td><td>14</td><td>4</td><td>24 - 200 g pkgs.</td><td>32</td></tr>",
                            "<tr><td>35</td><td>Steeleye Stout</td><td>16</td><td>1</td><td>24 - 12 oz bottles</td><td>24</td></tr>",
                            "<tr><td>37</td><td>Gravad lax</td><td>17</td><td>8</td><td>12 - 500 g pkgs.</td><td>26</td></tr>",
                            "<tr><td>38</td><td>Côte de Blaye</td><td>18</td><td>1</td><td>12 - 75 cl bottles</td><td>354</td></tr>",
                            "<tr><td>39</td><td>Chartreuse verte</td><td>18</td><td>1</td><td>750 cc per bottle</td><td>24</td></tr>",
                            "<tr><td>43</td><td>Ipoh Coffee</td><td>20</td><td>1</td><td>16 - 500 g tins</td><td>62</td></tr>",
                            "<tr><td>51</td><td>Manjimup Dried Apples</td><td>24</td><td>7</td><td>50 - 300 g pkgs.</td><td>53</td></tr>",
                            "<tr><td>53</td><td>Perth Pasties</td><td>24</td><td>6</td><td>48 pieces</td><td>33</td></tr>",
                            "<tr><td>55</td><td>Pâté chinois</td><td>25</td><td>6</td><td>24 boxes x 2 pies</td><td>24</td></tr>",
                            "<tr><td>56</td><td>Gnocchi di nonna Alice</td><td>26</td><td>5</td><td>24 - 250 g pkgs.</td><td>38</td></tr>",
                            "<tr><td>59</td><td>Raclette Courdavault</td><td>28</td><td>4</td><td>5 kg pkg.</td><td>55</td></tr>",
                            "<tr><td>60</td><td>Camembert Pierrot</td><td>28</td><td>4</td><td>15 - 300 g rounds</td><td>34</td></tr>",
                            "<tr><td>61</td><td>Sirop d&#39;érable</td><td>29</td><td>2</td><td>24 - 500 ml bottles</td><td>29</td></tr>",
                            "<tr><td>62</td><td>Tarte au sucre</td><td>29</td><td>3</td><td>48 pies</td><td>49</td></tr>",
                            "<tr><td>63</td><td>Vegie-spread</td><td>7</td><td>2</td><td>15 - 625 g jars</td><td>44</td></tr>",
                            "<tr><td>64</td><td>Wimmers gute Semmelknödel</td><td>12</td><td>5</td><td>20 bags x 4 pieces</td><td>33</td></tr>",
                            "<tr><td>65</td><td>Louisiana Fiery Hot Pepper Sauce</td><td>2</td><td>2</td><td>32 - 8 oz bottles</td><td>21</td></tr>",
                            "<tr><td>69</td><td>Gudbrandsdalsost</td><td>15</td><td>4</td><td>10 kg pkg.</td><td>36</td></tr>",
                            "<tr><td>70</td><td>Outback Lager</td><td>7</td><td>1</td><td>24 - 355 ml bottles</td><td>21</td></tr>",
                            "<tr><td>71</td><td>Fløtemysost</td><td>15</td><td>4</td><td>10 - 500 g pkgs.</td><td>22</td></tr>",
                            "<tr><td>72</td><td>Mozzarella di Giovanni</td><td>14</td><td>4</td><td>24 - 200 g pkgs.</td><td>35</td></tr>",
                            "<tr><td>76</td><td>Lakkalikööri</td><td>23</td><td>1</td><td>500 ml</td><td>24</td></tr>",
                            "</table>"
                        ]
                    }
                }
            ],
            "execution_count": 437
        },
        {
            "cell_type": "markdown",
            "source": [
                "**Part B:** Find products with a price between 10 and 30."
            ],
            "metadata": {
                "azdata_cell_guid": "4082520b-7194-4171-8cca-e8e307a52048"
            }
        },
        {
            "cell_type": "code",
            "source": [
                "/*\n",
                "WRITE AND EXECUTE YOUR IN THIS CELL UNDER THIS COMMENT\n",
                "*/\n",
                "\n",
                "SELECT * FROM Northwind.dbo.Products WHERE Price BETWEEN 10 AND 30;"
            ],
            "metadata": {
                "azdata_cell_guid": "cdf911dc-ff5f-4dc5-a3a0-9542ee6e004f",
                "language": "sql"
            },
            "outputs": [
                {
                    "output_type": "display_data",
                    "data": {
                        "text/html": "(45 rows affected)"
                    },
                    "metadata": {}
                },
                {
                    "output_type": "display_data",
                    "data": {
                        "text/html": "Total execution time: 00:00:00.001"
                    },
                    "metadata": {}
                },
                {
                    "output_type": "execute_result",
                    "metadata": {},
                    "execution_count": 438,
                    "data": {
                        "application/vnd.dataresource+json": {
                            "schema": {
                                "fields": [
                                    {
                                        "name": "ProductID"
                                    },
                                    {
                                        "name": "ProductName"
                                    },
                                    {
                                        "name": "SupplierID"
                                    },
                                    {
                                        "name": "CategoryID"
                                    },
                                    {
                                        "name": "Unit"
                                    },
                                    {
                                        "name": "Price"
                                    }
                                ]
                            },
                            "data": [
                                {
                                    "ProductID": "1",
                                    "ProductName": "Chais",
                                    "SupplierID": "1",
                                    "CategoryID": "1",
                                    "Unit": "10 boxes x 20 bags",
                                    "Price": "26"
                                },
                                {
                                    "ProductID": "2",
                                    "ProductName": "Chang",
                                    "SupplierID": "1",
                                    "CategoryID": "1",
                                    "Unit": "24 - 12 oz bottles",
                                    "Price": "25"
                                },
                                {
                                    "ProductID": "3",
                                    "ProductName": "Aniseed Syrup",
                                    "SupplierID": "1",
                                    "CategoryID": "2",
                                    "Unit": "12 - 550 ml bottles",
                                    "Price": "10"
                                },
                                {
                                    "ProductID": "4",
                                    "ProductName": "Chef Anton's Cajun Seasoning",
                                    "SupplierID": "2",
                                    "CategoryID": "2",
                                    "Unit": "48 - 6 oz jars",
                                    "Price": "22"
                                },
                                {
                                    "ProductID": "5",
                                    "ProductName": "Chef Anton's Gumbo Mix",
                                    "SupplierID": "2",
                                    "CategoryID": "2",
                                    "Unit": "36 boxes",
                                    "Price": "21"
                                },
                                {
                                    "ProductID": "6",
                                    "ProductName": "Grandma's Boysenberry Spread",
                                    "SupplierID": "3",
                                    "CategoryID": "2",
                                    "Unit": "12 - 8 oz jars",
                                    "Price": "25"
                                },
                                {
                                    "ProductID": "7",
                                    "ProductName": "Uncle Bob's Organic Dried Pears",
                                    "SupplierID": "3",
                                    "CategoryID": "7",
                                    "Unit": "12 - 1 lb pkgs.",
                                    "Price": "30"
                                },
                                {
                                    "ProductID": "11",
                                    "ProductName": "Queso Cabrales",
                                    "SupplierID": "5",
                                    "CategoryID": "4",
                                    "Unit": "1 kg pkg.",
                                    "Price": "21"
                                },
                                {
                                    "ProductID": "14",
                                    "ProductName": "Tofu",
                                    "SupplierID": "6",
                                    "CategoryID": "7",
                                    "Unit": "40 - 100 g pkgs.",
                                    "Price": "23"
                                },
                                {
                                    "ProductID": "15",
                                    "ProductName": "Genen Shouyu",
                                    "SupplierID": "6",
                                    "CategoryID": "2",
                                    "Unit": "24 - 250 ml bottles",
                                    "Price": "16"
                                },
                                {
                                    "ProductID": "16",
                                    "ProductName": "Pavlova",
                                    "SupplierID": "7",
                                    "CategoryID": "3",
                                    "Unit": "32 - 500 g boxes",
                                    "Price": "17"
                                },
                                {
                                    "ProductID": "21",
                                    "ProductName": "Sir Rodney's Scones",
                                    "SupplierID": "8",
                                    "CategoryID": "3",
                                    "Unit": "24 pkgs. x 4 pieces",
                                    "Price": "10"
                                },
                                {
                                    "ProductID": "22",
                                    "ProductName": "Gustaf's Knäckebröd",
                                    "SupplierID": "9",
                                    "CategoryID": "5",
                                    "Unit": "24 - 500 g pkgs.",
                                    "Price": "21"
                                },
                                {
                                    "ProductID": "25",
                                    "ProductName": "NuNuCa Nuß-Nougat-Creme",
                                    "SupplierID": "11",
                                    "CategoryID": "3",
                                    "Unit": "20 - 450 g glasses",
                                    "Price": "14"
                                },
                                {
                                    "ProductID": "30",
                                    "ProductName": "Nord-Ost Matjeshering",
                                    "SupplierID": "13",
                                    "CategoryID": "8",
                                    "Unit": "10 - 200 g glasses",
                                    "Price": "26"
                                },
                                {
                                    "ProductID": "31",
                                    "ProductName": "Gorgonzola Telino",
                                    "SupplierID": "14",
                                    "CategoryID": "4",
                                    "Unit": "12 - 100 g pkgs",
                                    "Price": "13"
                                },
                                {
                                    "ProductID": "34",
                                    "ProductName": "Sasquatch Ale",
                                    "SupplierID": "16",
                                    "CategoryID": "1",
                                    "Unit": "24 - 12 oz bottles",
                                    "Price": "20"
                                },
                                {
                                    "ProductID": "35",
                                    "ProductName": "Steeleye Stout",
                                    "SupplierID": "16",
                                    "CategoryID": "1",
                                    "Unit": "24 - 12 oz bottles",
                                    "Price": "24"
                                },
                                {
                                    "ProductID": "36",
                                    "ProductName": "Inlagd Sill",
                                    "SupplierID": "17",
                                    "CategoryID": "8",
                                    "Unit": "24 - 250 g jars",
                                    "Price": "19"
                                },
                                {
                                    "ProductID": "37",
                                    "ProductName": "Gravad lax",
                                    "SupplierID": "17",
                                    "CategoryID": "8",
                                    "Unit": "12 - 500 g pkgs.",
                                    "Price": "26"
                                },
                                {
                                    "ProductID": "39",
                                    "ProductName": "Chartreuse verte",
                                    "SupplierID": "18",
                                    "CategoryID": "1",
                                    "Unit": "750 cc per bottle",
                                    "Price": "24"
                                },
                                {
                                    "ProductID": "40",
                                    "ProductName": "Boston Crab Meat",
                                    "SupplierID": "19",
                                    "CategoryID": "8",
                                    "Unit": "24 - 4 oz tins",
                                    "Price": "18"
                                },
                                {
                                    "ProductID": "41",
                                    "ProductName": "Jack's New England Clam Chowder",
                                    "SupplierID": "19",
                                    "CategoryID": "8",
                                    "Unit": "12 - 12 oz cans",
                                    "Price": "10"
                                },
                                {
                                    "ProductID": "42",
                                    "ProductName": "Singaporean Hokkien Fried Mee",
                                    "SupplierID": "20",
                                    "CategoryID": "5",
                                    "Unit": "32 - 1 kg pkgs.",
                                    "Price": "14"
                                },
                                {
                                    "ProductID": "44",
                                    "ProductName": "Gula Malacca",
                                    "SupplierID": "20",
                                    "CategoryID": "2",
                                    "Unit": "20 - 2 kg bags",
                                    "Price": "19"
                                },
                                {
                                    "ProductID": "45",
                                    "ProductName": "Røgede sild",
                                    "SupplierID": "21",
                                    "CategoryID": "8",
                                    "Unit": "1k pkg.",
                                    "Price": "10"
                                },
                                {
                                    "ProductID": "46",
                                    "ProductName": "Spegesild",
                                    "SupplierID": "21",
                                    "CategoryID": "8",
                                    "Unit": "4 - 450 g glasses",
                                    "Price": "12"
                                },
                                {
                                    "ProductID": "47",
                                    "ProductName": "Zaanse koeken",
                                    "SupplierID": "22",
                                    "CategoryID": "3",
                                    "Unit": "10 - 4 oz boxes",
                                    "Price": "10"
                                },
                                {
                                    "ProductID": "48",
                                    "ProductName": "Chocolade",
                                    "SupplierID": "22",
                                    "CategoryID": "3",
                                    "Unit": "10 pkgs.",
                                    "Price": "13"
                                },
                                {
                                    "ProductID": "49",
                                    "ProductName": "Maxilaku",
                                    "SupplierID": "23",
                                    "CategoryID": "3",
                                    "Unit": "24 - 50 g pkgs.",
                                    "Price": "20"
                                },
                                {
                                    "ProductID": "50",
                                    "ProductName": "Valkoinen suklaa",
                                    "SupplierID": "23",
                                    "CategoryID": "3",
                                    "Unit": "12 - 100 g bars",
                                    "Price": "16"
                                },
                                {
                                    "ProductID": "55",
                                    "ProductName": "Pâté chinois",
                                    "SupplierID": "25",
                                    "CategoryID": "6",
                                    "Unit": "24 boxes x 2 pies",
                                    "Price": "24"
                                },
                                {
                                    "ProductID": "57",
                                    "ProductName": "Ravioli Angelo",
                                    "SupplierID": "26",
                                    "CategoryID": "5",
                                    "Unit": "24 - 250 g pkgs.",
                                    "Price": "20"
                                },
                                {
                                    "ProductID": "58",
                                    "ProductName": "Escargots de Bourgogne",
                                    "SupplierID": "27",
                                    "CategoryID": "8",
                                    "Unit": "24 pieces",
                                    "Price": "13"
                                },
                                {
                                    "ProductID": "61",
                                    "ProductName": "Sirop d'érable",
                                    "SupplierID": "29",
                                    "CategoryID": "2",
                                    "Unit": "24 - 500 ml bottles",
                                    "Price": "29"
                                },
                                {
                                    "ProductID": "65",
                                    "ProductName": "Louisiana Fiery Hot Pepper Sauce",
                                    "SupplierID": "2",
                                    "CategoryID": "2",
                                    "Unit": "32 - 8 oz bottles",
                                    "Price": "21"
                                },
                                {
                                    "ProductID": "66",
                                    "ProductName": "Louisiana Hot Spiced Okra",
                                    "SupplierID": "2",
                                    "CategoryID": "2",
                                    "Unit": "24 - 8 oz jars",
                                    "Price": "17"
                                },
                                {
                                    "ProductID": "67",
                                    "ProductName": "Laughing Lumberjack Lager",
                                    "SupplierID": "16",
                                    "CategoryID": "1",
                                    "Unit": "24 - 12 oz bottles",
                                    "Price": "20"
                                },
                                {
                                    "ProductID": "68",
                                    "ProductName": "Scottish Longbreads",
                                    "SupplierID": "8",
                                    "CategoryID": "3",
                                    "Unit": "10 boxes x 8 pieces",
                                    "Price": "13"
                                },
                                {
                                    "ProductID": "70",
                                    "ProductName": "Outback Lager",
                                    "SupplierID": "7",
                                    "CategoryID": "1",
                                    "Unit": "24 - 355 ml bottles",
                                    "Price": "21"
                                },
                                {
                                    "ProductID": "71",
                                    "ProductName": "Fløtemysost",
                                    "SupplierID": "15",
                                    "CategoryID": "4",
                                    "Unit": "10 - 500 g pkgs.",
                                    "Price": "22"
                                },
                                {
                                    "ProductID": "73",
                                    "ProductName": "Röd Kaviar",
                                    "SupplierID": "17",
                                    "CategoryID": "8",
                                    "Unit": "24 - 150 g jars",
                                    "Price": "15"
                                },
                                {
                                    "ProductID": "74",
                                    "ProductName": "Longlife Tofu",
                                    "SupplierID": "4",
                                    "CategoryID": "7",
                                    "Unit": "5 kg pkg.",
                                    "Price": "10"
                                },
                                {
                                    "ProductID": "76",
                                    "ProductName": "Lakkalikööri",
                                    "SupplierID": "23",
                                    "CategoryID": "1",
                                    "Unit": "500 ml",
                                    "Price": "24"
                                },
                                {
                                    "ProductID": "77",
                                    "ProductName": "Original Frankfurter grüne Soße",
                                    "SupplierID": "12",
                                    "CategoryID": "2",
                                    "Unit": "12 boxes",
                                    "Price": "13"
                                }
                            ]
                        },
                        "text/html": [
                            "<table>",
                            "<tr><th>ProductID</th><th>ProductName</th><th>SupplierID</th><th>CategoryID</th><th>Unit</th><th>Price</th></tr>",
                            "<tr><td>1</td><td>Chais</td><td>1</td><td>1</td><td>10 boxes x 20 bags</td><td>26</td></tr>",
                            "<tr><td>2</td><td>Chang</td><td>1</td><td>1</td><td>24 - 12 oz bottles</td><td>25</td></tr>",
                            "<tr><td>3</td><td>Aniseed Syrup</td><td>1</td><td>2</td><td>12 - 550 ml bottles</td><td>10</td></tr>",
                            "<tr><td>4</td><td>Chef Anton&#39;s Cajun Seasoning</td><td>2</td><td>2</td><td>48 - 6 oz jars</td><td>22</td></tr>",
                            "<tr><td>5</td><td>Chef Anton&#39;s Gumbo Mix</td><td>2</td><td>2</td><td>36 boxes</td><td>21</td></tr>",
                            "<tr><td>6</td><td>Grandma&#39;s Boysenberry Spread</td><td>3</td><td>2</td><td>12 - 8 oz jars</td><td>25</td></tr>",
                            "<tr><td>7</td><td>Uncle Bob&#39;s Organic Dried Pears</td><td>3</td><td>7</td><td>12 - 1 lb pkgs.</td><td>30</td></tr>",
                            "<tr><td>11</td><td>Queso Cabrales</td><td>5</td><td>4</td><td>1 kg pkg.</td><td>21</td></tr>",
                            "<tr><td>14</td><td>Tofu</td><td>6</td><td>7</td><td>40 - 100 g pkgs.</td><td>23</td></tr>",
                            "<tr><td>15</td><td>Genen Shouyu</td><td>6</td><td>2</td><td>24 - 250 ml bottles</td><td>16</td></tr>",
                            "<tr><td>16</td><td>Pavlova</td><td>7</td><td>3</td><td>32 - 500 g boxes</td><td>17</td></tr>",
                            "<tr><td>21</td><td>Sir Rodney&#39;s Scones</td><td>8</td><td>3</td><td>24 pkgs. x 4 pieces</td><td>10</td></tr>",
                            "<tr><td>22</td><td>Gustaf&#39;s Knäckebröd</td><td>9</td><td>5</td><td>24 - 500 g pkgs.</td><td>21</td></tr>",
                            "<tr><td>25</td><td>NuNuCa Nuß-Nougat-Creme</td><td>11</td><td>3</td><td>20 - 450 g glasses</td><td>14</td></tr>",
                            "<tr><td>30</td><td>Nord-Ost Matjeshering</td><td>13</td><td>8</td><td>10 - 200 g glasses</td><td>26</td></tr>",
                            "<tr><td>31</td><td>Gorgonzola Telino</td><td>14</td><td>4</td><td>12 - 100 g pkgs</td><td>13</td></tr>",
                            "<tr><td>34</td><td>Sasquatch Ale</td><td>16</td><td>1</td><td>24 - 12 oz bottles</td><td>20</td></tr>",
                            "<tr><td>35</td><td>Steeleye Stout</td><td>16</td><td>1</td><td>24 - 12 oz bottles</td><td>24</td></tr>",
                            "<tr><td>36</td><td>Inlagd Sill</td><td>17</td><td>8</td><td>24 - 250 g jars</td><td>19</td></tr>",
                            "<tr><td>37</td><td>Gravad lax</td><td>17</td><td>8</td><td>12 - 500 g pkgs.</td><td>26</td></tr>",
                            "<tr><td>39</td><td>Chartreuse verte</td><td>18</td><td>1</td><td>750 cc per bottle</td><td>24</td></tr>",
                            "<tr><td>40</td><td>Boston Crab Meat</td><td>19</td><td>8</td><td>24 - 4 oz tins</td><td>18</td></tr>",
                            "<tr><td>41</td><td>Jack&#39;s New England Clam Chowder</td><td>19</td><td>8</td><td>12 - 12 oz cans</td><td>10</td></tr>",
                            "<tr><td>42</td><td>Singaporean Hokkien Fried Mee</td><td>20</td><td>5</td><td>32 - 1 kg pkgs.</td><td>14</td></tr>",
                            "<tr><td>44</td><td>Gula Malacca</td><td>20</td><td>2</td><td>20 - 2 kg bags</td><td>19</td></tr>",
                            "<tr><td>45</td><td>Røgede sild</td><td>21</td><td>8</td><td>1k pkg.</td><td>10</td></tr>",
                            "<tr><td>46</td><td>Spegesild</td><td>21</td><td>8</td><td>4 - 450 g glasses</td><td>12</td></tr>",
                            "<tr><td>47</td><td>Zaanse koeken</td><td>22</td><td>3</td><td>10 - 4 oz boxes</td><td>10</td></tr>",
                            "<tr><td>48</td><td>Chocolade</td><td>22</td><td>3</td><td>10 pkgs.</td><td>13</td></tr>",
                            "<tr><td>49</td><td>Maxilaku</td><td>23</td><td>3</td><td>24 - 50 g pkgs.</td><td>20</td></tr>",
                            "<tr><td>50</td><td>Valkoinen suklaa</td><td>23</td><td>3</td><td>12 - 100 g bars</td><td>16</td></tr>",
                            "<tr><td>55</td><td>Pâté chinois</td><td>25</td><td>6</td><td>24 boxes x 2 pies</td><td>24</td></tr>",
                            "<tr><td>57</td><td>Ravioli Angelo</td><td>26</td><td>5</td><td>24 - 250 g pkgs.</td><td>20</td></tr>",
                            "<tr><td>58</td><td>Escargots de Bourgogne</td><td>27</td><td>8</td><td>24 pieces</td><td>13</td></tr>",
                            "<tr><td>61</td><td>Sirop d&#39;érable</td><td>29</td><td>2</td><td>24 - 500 ml bottles</td><td>29</td></tr>",
                            "<tr><td>65</td><td>Louisiana Fiery Hot Pepper Sauce</td><td>2</td><td>2</td><td>32 - 8 oz bottles</td><td>21</td></tr>",
                            "<tr><td>66</td><td>Louisiana Hot Spiced Okra</td><td>2</td><td>2</td><td>24 - 8 oz jars</td><td>17</td></tr>",
                            "<tr><td>67</td><td>Laughing Lumberjack Lager</td><td>16</td><td>1</td><td>24 - 12 oz bottles</td><td>20</td></tr>",
                            "<tr><td>68</td><td>Scottish Longbreads</td><td>8</td><td>3</td><td>10 boxes x 8 pieces</td><td>13</td></tr>",
                            "<tr><td>70</td><td>Outback Lager</td><td>7</td><td>1</td><td>24 - 355 ml bottles</td><td>21</td></tr>",
                            "<tr><td>71</td><td>Fløtemysost</td><td>15</td><td>4</td><td>10 - 500 g pkgs.</td><td>22</td></tr>",
                            "<tr><td>73</td><td>Röd Kaviar</td><td>17</td><td>8</td><td>24 - 150 g jars</td><td>15</td></tr>",
                            "<tr><td>74</td><td>Longlife Tofu</td><td>4</td><td>7</td><td>5 kg pkg.</td><td>10</td></tr>",
                            "<tr><td>76</td><td>Lakkalikööri</td><td>23</td><td>1</td><td>500 ml</td><td>24</td></tr>",
                            "<tr><td>77</td><td>Original Frankfurter grüne Soße</td><td>12</td><td>2</td><td>12 boxes</td><td>13</td></tr>",
                            "</table>"
                        ]
                    }
                }
            ],
            "execution_count": 438
        },
        {
            "cell_type": "markdown",
            "source": [
                "**Part C:** Find products where the `ProductName` includes the word \"Ch\"."
            ],
            "metadata": {
                "azdata_cell_guid": "ce7cd0fa-a7c9-4376-854f-65f6d141f6cc"
            }
        },
        {
            "cell_type": "code",
            "source": [
                "/*\n",
                "WRITE AND EXECUTE YOUR IN THIS CELL UNDER THIS COMMENT\n",
                "*/\n",
                "\n",
                "\n",
                "SELECT * FROM Northwind.dbo.Products WHERE ProductName LIKE '%Ch%';"
            ],
            "metadata": {
                "azdata_cell_guid": "34f07e99-0dbe-49de-8e3b-dcace31cc703",
                "language": "sql"
            },
            "outputs": [
                {
                    "output_type": "display_data",
                    "data": {
                        "text/html": "(14 rows affected)"
                    },
                    "metadata": {}
                },
                {
                    "output_type": "display_data",
                    "data": {
                        "text/html": "Total execution time: 00:00:00.001"
                    },
                    "metadata": {}
                },
                {
                    "output_type": "execute_result",
                    "metadata": {},
                    "execution_count": 439,
                    "data": {
                        "application/vnd.dataresource+json": {
                            "schema": {
                                "fields": [
                                    {
                                        "name": "ProductID"
                                    },
                                    {
                                        "name": "ProductName"
                                    },
                                    {
                                        "name": "SupplierID"
                                    },
                                    {
                                        "name": "CategoryID"
                                    },
                                    {
                                        "name": "Unit"
                                    },
                                    {
                                        "name": "Price"
                                    }
                                ]
                            },
                            "data": [
                                {
                                    "ProductID": "1",
                                    "ProductName": "Chais",
                                    "SupplierID": "1",
                                    "CategoryID": "1",
                                    "Unit": "10 boxes x 20 bags",
                                    "Price": "26"
                                },
                                {
                                    "ProductID": "2",
                                    "ProductName": "Chang",
                                    "SupplierID": "1",
                                    "CategoryID": "1",
                                    "Unit": "24 - 12 oz bottles",
                                    "Price": "25"
                                },
                                {
                                    "ProductID": "4",
                                    "ProductName": "Chef Anton's Cajun Seasoning",
                                    "SupplierID": "2",
                                    "CategoryID": "2",
                                    "Unit": "48 - 6 oz jars",
                                    "Price": "22"
                                },
                                {
                                    "ProductID": "5",
                                    "ProductName": "Chef Anton's Gumbo Mix",
                                    "SupplierID": "2",
                                    "CategoryID": "2",
                                    "Unit": "36 boxes",
                                    "Price": "21"
                                },
                                {
                                    "ProductID": "12",
                                    "ProductName": "Queso Manchego La Pastora",
                                    "SupplierID": "5",
                                    "CategoryID": "4",
                                    "Unit": "10 - 500 g pkgs.",
                                    "Price": "38"
                                },
                                {
                                    "ProductID": "19",
                                    "ProductName": "Teatime Chocolate Biscuits",
                                    "SupplierID": "8",
                                    "CategoryID": "3",
                                    "Unit": "10 boxes x 12 pieces",
                                    "Price": "9"
                                },
                                {
                                    "ProductID": "26",
                                    "ProductName": "Gumbär Gummibärchen",
                                    "SupplierID": "11",
                                    "CategoryID": "3",
                                    "Unit": "100 - 250 g bags",
                                    "Price": "31"
                                },
                                {
                                    "ProductID": "27",
                                    "ProductName": "Schoggi Schokolade",
                                    "SupplierID": "11",
                                    "CategoryID": "3",
                                    "Unit": "100 - 100 g pieces",
                                    "Price": "44"
                                },
                                {
                                    "ProductID": "34",
                                    "ProductName": "Sasquatch Ale",
                                    "SupplierID": "16",
                                    "CategoryID": "1",
                                    "Unit": "24 - 12 oz bottles",
                                    "Price": "20"
                                },
                                {
                                    "ProductID": "39",
                                    "ProductName": "Chartreuse verte",
                                    "SupplierID": "18",
                                    "CategoryID": "1",
                                    "Unit": "750 cc per bottle",
                                    "Price": "24"
                                },
                                {
                                    "ProductID": "41",
                                    "ProductName": "Jack's New England Clam Chowder",
                                    "SupplierID": "19",
                                    "CategoryID": "8",
                                    "Unit": "12 - 12 oz cans",
                                    "Price": "10"
                                },
                                {
                                    "ProductID": "48",
                                    "ProductName": "Chocolade",
                                    "SupplierID": "22",
                                    "CategoryID": "3",
                                    "Unit": "10 pkgs.",
                                    "Price": "13"
                                },
                                {
                                    "ProductID": "55",
                                    "ProductName": "Pâté chinois",
                                    "SupplierID": "25",
                                    "CategoryID": "6",
                                    "Unit": "24 boxes x 2 pies",
                                    "Price": "24"
                                },
                                {
                                    "ProductID": "56",
                                    "ProductName": "Gnocchi di nonna Alice",
                                    "SupplierID": "26",
                                    "CategoryID": "5",
                                    "Unit": "24 - 250 g pkgs.",
                                    "Price": "38"
                                }
                            ]
                        },
                        "text/html": [
                            "<table>",
                            "<tr><th>ProductID</th><th>ProductName</th><th>SupplierID</th><th>CategoryID</th><th>Unit</th><th>Price</th></tr>",
                            "<tr><td>1</td><td>Chais</td><td>1</td><td>1</td><td>10 boxes x 20 bags</td><td>26</td></tr>",
                            "<tr><td>2</td><td>Chang</td><td>1</td><td>1</td><td>24 - 12 oz bottles</td><td>25</td></tr>",
                            "<tr><td>4</td><td>Chef Anton&#39;s Cajun Seasoning</td><td>2</td><td>2</td><td>48 - 6 oz jars</td><td>22</td></tr>",
                            "<tr><td>5</td><td>Chef Anton&#39;s Gumbo Mix</td><td>2</td><td>2</td><td>36 boxes</td><td>21</td></tr>",
                            "<tr><td>12</td><td>Queso Manchego La Pastora</td><td>5</td><td>4</td><td>10 - 500 g pkgs.</td><td>38</td></tr>",
                            "<tr><td>19</td><td>Teatime Chocolate Biscuits</td><td>8</td><td>3</td><td>10 boxes x 12 pieces</td><td>9</td></tr>",
                            "<tr><td>26</td><td>Gumbär Gummibärchen</td><td>11</td><td>3</td><td>100 - 250 g bags</td><td>31</td></tr>",
                            "<tr><td>27</td><td>Schoggi Schokolade</td><td>11</td><td>3</td><td>100 - 100 g pieces</td><td>44</td></tr>",
                            "<tr><td>34</td><td>Sasquatch Ale</td><td>16</td><td>1</td><td>24 - 12 oz bottles</td><td>20</td></tr>",
                            "<tr><td>39</td><td>Chartreuse verte</td><td>18</td><td>1</td><td>750 cc per bottle</td><td>24</td></tr>",
                            "<tr><td>41</td><td>Jack&#39;s New England Clam Chowder</td><td>19</td><td>8</td><td>12 - 12 oz cans</td><td>10</td></tr>",
                            "<tr><td>48</td><td>Chocolade</td><td>22</td><td>3</td><td>10 pkgs.</td><td>13</td></tr>",
                            "<tr><td>55</td><td>Pâté chinois</td><td>25</td><td>6</td><td>24 boxes x 2 pies</td><td>24</td></tr>",
                            "<tr><td>56</td><td>Gnocchi di nonna Alice</td><td>26</td><td>5</td><td>24 - 250 g pkgs.</td><td>38</td></tr>",
                            "</table>"
                        ]
                    }
                }
            ],
            "execution_count": 439
        },
        {
            "cell_type": "markdown",
            "source": [
                "### Exercise 4: SQL ORDER BY"
            ],
            "metadata": {
                "azdata_cell_guid": "baae5fc3-a03f-4405-9c9f-3a7435e2723e"
            }
        },
        {
            "cell_type": "markdown",
            "source": [
                "**Part A:** Display all customers ordered alphabetically by `CustomerName`."
            ],
            "metadata": {
                "azdata_cell_guid": "c2e95423-4e51-4951-b670-0f344cf7613a"
            }
        },
        {
            "cell_type": "code",
            "source": [
                "/*\n",
                "WRITE AND EXECUTE YOUR IN THIS CELL UNDER THIS COMMENT\n",
                "*/\n",
                "\n",
                "SELECT * FROM Northwind.dbo.Customers ORDER BY CustomerName ASC;"
            ],
            "metadata": {
                "azdata_cell_guid": "ed01ff28-9d1d-47c6-8f50-c761e63657d6",
                "language": "sql"
            },
            "outputs": [
                {
                    "output_type": "display_data",
                    "data": {
                        "text/html": "(112 rows affected)"
                    },
                    "metadata": {}
                },
                {
                    "output_type": "display_data",
                    "data": {
                        "text/html": "Total execution time: 00:00:00.001"
                    },
                    "metadata": {}
                },
                {
                    "output_type": "execute_result",
                    "metadata": {},
                    "execution_count": 440,
                    "data": {
                        "application/vnd.dataresource+json": {
                            "schema": {
                                "fields": [
                                    {
                                        "name": "CustomerID"
                                    },
                                    {
                                        "name": "CustomerName"
                                    },
                                    {
                                        "name": "ContactName"
                                    },
                                    {
                                        "name": "Address"
                                    },
                                    {
                                        "name": "City"
                                    },
                                    {
                                        "name": "PostalCode"
                                    },
                                    {
                                        "name": "Country"
                                    }
                                ]
                            },
                            "data": [
                                {
                                    "CustomerID": "1",
                                    "CustomerName": "Alfreds Futterkiste",
                                    "ContactName": "Maria Anders",
                                    "Address": "Obere Str. 57",
                                    "City": "Berlin",
                                    "PostalCode": "12209",
                                    "Country": "Germany"
                                },
                                {
                                    "CustomerID": "2",
                                    "CustomerName": "Ana Trujillo Emparedados y helados",
                                    "ContactName": "Ana Trujillo",
                                    "Address": "Avda. de la Constitución 2222",
                                    "City": "México D.F.",
                                    "PostalCode": "5021",
                                    "Country": "Mexico"
                                },
                                {
                                    "CustomerID": "3",
                                    "CustomerName": "Antonio Moreno Taquería",
                                    "ContactName": "Antonio Moreno",
                                    "Address": "Mataderos 2312",
                                    "City": "México D.F.",
                                    "PostalCode": "5023",
                                    "Country": "Mexico"
                                },
                                {
                                    "CustomerID": "4",
                                    "CustomerName": "Around the Horn",
                                    "ContactName": "Thomas Hardy",
                                    "Address": "120 Hanover Sq.",
                                    "City": "London",
                                    "PostalCode": "WA1 1DP",
                                    "Country": "UK"
                                },
                                {
                                    "CustomerID": "11",
                                    "CustomerName": "B''s Beverages",
                                    "ContactName": "Victoria Ashworth",
                                    "Address": "Fauntleroy Circus",
                                    "City": "London",
                                    "PostalCode": "EC2 5NT",
                                    "Country": "UK"
                                },
                                {
                                    "CustomerID": "5",
                                    "CustomerName": "Berglunds snabbköp",
                                    "ContactName": "Christina Berglund",
                                    "Address": "Berguvsvägen 8",
                                    "City": "Luleå",
                                    "PostalCode": "S-958 22",
                                    "Country": "Sweden"
                                },
                                {
                                    "CustomerID": "6",
                                    "CustomerName": "Blauer See Delikatessen",
                                    "ContactName": "Hanna Moos",
                                    "Address": "Forsterstr. 57",
                                    "City": "Mannheim",
                                    "PostalCode": "68306",
                                    "Country": "Germany"
                                },
                                {
                                    "CustomerID": "7",
                                    "CustomerName": "Blondel père et fils",
                                    "ContactName": "Frédérique Citeaux",
                                    "Address": "24, place Kléber",
                                    "City": "Strasbourg",
                                    "PostalCode": "67000",
                                    "Country": "France"
                                },
                                {
                                    "CustomerID": "8",
                                    "CustomerName": "Bólido Comidas preparadas",
                                    "ContactName": "Martín Sommer",
                                    "Address": "C/ Araquil, 67",
                                    "City": "Madrid",
                                    "PostalCode": "28023",
                                    "Country": "Spain"
                                },
                                {
                                    "CustomerID": "9",
                                    "CustomerName": "Bon app''",
                                    "ContactName": "Laurence Lebihans",
                                    "Address": "12, rue des Bouchers",
                                    "City": "Marseille",
                                    "PostalCode": "13008",
                                    "Country": "France"
                                },
                                {
                                    "CustomerID": "10",
                                    "CustomerName": "Bottom-Dollar Marketse",
                                    "ContactName": "Elizabeth Lincoln",
                                    "Address": "23 Tsawassen Blvd.",
                                    "City": "Tsawassen",
                                    "PostalCode": "T2F 8M4",
                                    "Country": "Canada"
                                },
                                {
                                    "CustomerID": "12",
                                    "CustomerName": "Cactus Comidas para llevar",
                                    "ContactName": "Patricio Simpson",
                                    "Address": "Cerrito 333",
                                    "City": "Buenos Aires",
                                    "PostalCode": "1010",
                                    "Country": "Argentina"
                                },
                                {
                                    "CustomerID": "13",
                                    "CustomerName": "Centro comercial Moctezuma",
                                    "ContactName": "Francisco Chang",
                                    "Address": "Sierras de Granada 9993",
                                    "City": "México D.F.",
                                    "PostalCode": "5022",
                                    "Country": "Mexico"
                                },
                                {
                                    "CustomerID": "14",
                                    "CustomerName": "Chop-suey Chinese",
                                    "ContactName": "Yang Wang",
                                    "Address": "Hauptstr. 29",
                                    "City": "Bern",
                                    "PostalCode": "3012",
                                    "Country": "Switzerland"
                                },
                                {
                                    "CustomerID": "15",
                                    "CustomerName": "Comércio Mineiro",
                                    "ContactName": "Pedro Afonso",
                                    "Address": "Av. dos Lusíadas, 23",
                                    "City": "São Paulo",
                                    "PostalCode": "05432-043",
                                    "Country": "Brazil"
                                },
                                {
                                    "CustomerID": "16",
                                    "CustomerName": "Consolidated Holdings",
                                    "ContactName": "Elizabeth Brown",
                                    "Address": "Berkeley Gardens 12 Brewery",
                                    "City": "London",
                                    "PostalCode": "WX1 6LT",
                                    "Country": "UK"
                                },
                                {
                                    "CustomerID": "86",
                                    "CustomerName": "Die Wandernde Kuh",
                                    "ContactName": "Rita Müller",
                                    "Address": "Adenauerallee 900",
                                    "City": "Stuttgart",
                                    "PostalCode": "70563",
                                    "Country": "Germany"
                                },
                                {
                                    "CustomerID": "17",
                                    "CustomerName": "Drachenblut Delikatessend",
                                    "ContactName": "Sven Ottlieb",
                                    "Address": "Walserweg 21",
                                    "City": "Aachen",
                                    "PostalCode": "52066",
                                    "Country": "Germany"
                                },
                                {
                                    "CustomerID": "18",
                                    "CustomerName": "Du monde entier",
                                    "ContactName": "Janine Labrune",
                                    "Address": "67, rue des Cinquante Otages",
                                    "City": "Nantes",
                                    "PostalCode": "44000",
                                    "Country": "France"
                                },
                                {
                                    "CustomerID": "19",
                                    "CustomerName": "Eastern Connection",
                                    "ContactName": "Ann Devon",
                                    "Address": "35 King George",
                                    "City": "London",
                                    "PostalCode": "WX3 6FW",
                                    "Country": "UK"
                                },
                                {
                                    "CustomerID": "20",
                                    "CustomerName": "Ernst Handel",
                                    "ContactName": "Roland Mendel",
                                    "Address": "Kirchgasse 6",
                                    "City": "Graz",
                                    "PostalCode": "8010",
                                    "Country": "Austria"
                                },
                                {
                                    "CustomerID": "21",
                                    "CustomerName": "Familia Arquibaldo",
                                    "ContactName": "Aria Cruz",
                                    "Address": "Rua Orós, 92",
                                    "City": "São Paulo",
                                    "PostalCode": "05442-030",
                                    "Country": "Brazil"
                                },
                                {
                                    "CustomerID": "22",
                                    "CustomerName": "FISSA Fabrica Inter. Salchichas S.A.",
                                    "ContactName": "Diego Roel",
                                    "Address": "C/ Moralzarzal, 86",
                                    "City": "Madrid",
                                    "PostalCode": "28034",
                                    "Country": "Spain"
                                },
                                {
                                    "CustomerID": "23",
                                    "CustomerName": "Folies gourmandes",
                                    "ContactName": "Martine Rancé",
                                    "Address": "184, chaussée de Tournai",
                                    "City": "Lille",
                                    "PostalCode": "59000",
                                    "Country": "France"
                                },
                                {
                                    "CustomerID": "24",
                                    "CustomerName": "Folk och fä HB",
                                    "ContactName": "Maria Larsson",
                                    "Address": "Åkergatan 24",
                                    "City": "Bräcke",
                                    "PostalCode": "S-844 67",
                                    "Country": "Sweden"
                                },
                                {
                                    "CustomerID": "26",
                                    "CustomerName": "France restauration",
                                    "ContactName": "Carine Schmitt",
                                    "Address": "54, rue Royale",
                                    "City": "Nantes",
                                    "PostalCode": "44000",
                                    "Country": "France"
                                },
                                {
                                    "CustomerID": "27",
                                    "CustomerName": "Franchi S.p.A.",
                                    "ContactName": "Paolo Accorti",
                                    "Address": "Via Monte Bianco 34",
                                    "City": "Torino",
                                    "PostalCode": "10100",
                                    "Country": "Italy"
                                },
                                {
                                    "CustomerID": "25",
                                    "CustomerName": "Frankenversand",
                                    "ContactName": "Peter Franken",
                                    "Address": "Berliner Platz 43",
                                    "City": "München",
                                    "PostalCode": "80805",
                                    "Country": "Germany"
                                },
                                {
                                    "CustomerID": "28",
                                    "CustomerName": "Furia Bacalhau e Frutos do Mar",
                                    "ContactName": "Lino Rodriguez",
                                    "Address": "Jardim das rosas n. 32",
                                    "City": "Lisboa",
                                    "PostalCode": "1675",
                                    "Country": "Portugal"
                                },
                                {
                                    "CustomerID": "29",
                                    "CustomerName": "Galería del gastrónomo",
                                    "ContactName": "Eduardo Saavedra",
                                    "Address": "Rambla de Cataluña, 23",
                                    "City": "Barcelona",
                                    "PostalCode": "8022",
                                    "Country": "Spain"
                                },
                                {
                                    "CustomerID": "94",
                                    "CustomerName": "gimnazija",
                                    "ContactName": "caka razdaginac",
                                    "Address": "NULL",
                                    "City": "novi pazar",
                                    "PostalCode": "NULL",
                                    "Country": "serbia"
                                },
                                {
                                    "CustomerID": "97",
                                    "CustomerName": "gimnazija",
                                    "ContactName": "caka razdaginac",
                                    "Address": "NULL",
                                    "City": "novi pazar",
                                    "PostalCode": "NULL",
                                    "Country": "serbia"
                                },
                                {
                                    "CustomerID": "100",
                                    "CustomerName": "gimnazija",
                                    "ContactName": "caka razdaginac",
                                    "Address": "NULL",
                                    "City": "novi pazar",
                                    "PostalCode": "NULL",
                                    "Country": "serbia"
                                },
                                {
                                    "CustomerID": "103",
                                    "CustomerName": "gimnazija",
                                    "ContactName": "caka razdaginac",
                                    "Address": "NULL",
                                    "City": "novi pazar",
                                    "PostalCode": "NULL",
                                    "Country": "serbia"
                                },
                                {
                                    "CustomerID": "106",
                                    "CustomerName": "gimnazija",
                                    "ContactName": "caka razdaginac",
                                    "Address": "NULL",
                                    "City": "novi pazar",
                                    "PostalCode": "NULL",
                                    "Country": "serbia"
                                },
                                {
                                    "CustomerID": "109",
                                    "CustomerName": "gimnazija",
                                    "ContactName": "caka razdaginac",
                                    "Address": "NULL",
                                    "City": "novi pazar",
                                    "PostalCode": "NULL",
                                    "Country": "serbia"
                                },
                                {
                                    "CustomerID": "112",
                                    "CustomerName": "gimnazija",
                                    "ContactName": "caka razdaginac",
                                    "Address": "NULL",
                                    "City": "novi pazar",
                                    "PostalCode": "NULL",
                                    "Country": "serbia"
                                },
                                {
                                    "CustomerID": "30",
                                    "CustomerName": "Godos Cocina Típica",
                                    "ContactName": "José Pedro Freyre",
                                    "Address": "C/ Romero, 33",
                                    "City": "Sevilla",
                                    "PostalCode": "41101",
                                    "Country": "Spain"
                                },
                                {
                                    "CustomerID": "31",
                                    "CustomerName": "Gourmet Lanchonetes",
                                    "ContactName": "André Fonseca",
                                    "Address": "Av. Brasil, 442",
                                    "City": "Campinas",
                                    "PostalCode": "04876-786",
                                    "Country": "Brazil"
                                },
                                {
                                    "CustomerID": "32",
                                    "CustomerName": "Great Lakes Food Market",
                                    "ContactName": "Howard Snyder",
                                    "Address": "2732 Baker Blvd.",
                                    "City": "Eugene",
                                    "PostalCode": "97403",
                                    "Country": "USA"
                                },
                                {
                                    "CustomerID": "33",
                                    "CustomerName": "GROSELLA-Restaurante",
                                    "ContactName": "Manuel Pereira",
                                    "Address": "5ª Ave. Los Palos Grandes",
                                    "City": "Caracas",
                                    "PostalCode": "1081",
                                    "Country": "Venezuela"
                                },
                                {
                                    "CustomerID": "34",
                                    "CustomerName": "Hanari Carnes",
                                    "ContactName": "Mario Pontes",
                                    "Address": "Rua do Paço, 67",
                                    "City": "Rio de Janeiro",
                                    "PostalCode": "05454-876",
                                    "Country": "Brazil"
                                },
                                {
                                    "CustomerID": "35",
                                    "CustomerName": "HILARIÓN-Abastos",
                                    "ContactName": "Carlos Hernández",
                                    "Address": "Carrera 22 con Ave. Carlos Soublette #8-35",
                                    "City": "San Cristóbal",
                                    "PostalCode": "5022",
                                    "Country": "Venezuela"
                                },
                                {
                                    "CustomerID": "36",
                                    "CustomerName": "Hungry Coyote Import Store",
                                    "ContactName": "Yoshi Latimer",
                                    "Address": "City Center Plaza 516 Main St.",
                                    "City": "Elgin",
                                    "PostalCode": "97827",
                                    "Country": "USA"
                                },
                                {
                                    "CustomerID": "37",
                                    "CustomerName": "Hungry Owl All-Night Grocers",
                                    "ContactName": "Patricia McKenna",
                                    "Address": "8 Johnstown Road",
                                    "City": "Cork",
                                    "PostalCode": "",
                                    "Country": "Ireland"
                                },
                                {
                                    "CustomerID": "38",
                                    "CustomerName": "Island Trading",
                                    "ContactName": "Helen Bennett",
                                    "Address": "Garden House Crowther Way",
                                    "City": "Cowes",
                                    "PostalCode": "PO31 7PJ",
                                    "Country": "UK"
                                },
                                {
                                    "CustomerID": "39",
                                    "CustomerName": "Königlich Essen",
                                    "ContactName": "Philip Cramer",
                                    "Address": "Maubelstr. 90",
                                    "City": "Brandenburg",
                                    "PostalCode": "14776",
                                    "Country": "Germany"
                                },
                                {
                                    "CustomerID": "40",
                                    "CustomerName": "La corne d''abondance",
                                    "ContactName": "Daniel Tonini",
                                    "Address": "67, avenue de l''Europe",
                                    "City": "Versailles",
                                    "PostalCode": "78000",
                                    "Country": "France"
                                },
                                {
                                    "CustomerID": "41",
                                    "CustomerName": "La maison d''Asie",
                                    "ContactName": "Annette Roulet",
                                    "Address": "1 rue Alsace-Lorraine",
                                    "City": "Toulouse",
                                    "PostalCode": "31000",
                                    "Country": "France"
                                },
                                {
                                    "CustomerID": "42",
                                    "CustomerName": "Laughing Bacchus Wine Cellars",
                                    "ContactName": "Yoshi Tannamuri",
                                    "Address": "1900 Oak St.",
                                    "City": "Vancouver",
                                    "PostalCode": "V3F 2K1",
                                    "Country": "Canada"
                                },
                                {
                                    "CustomerID": "43",
                                    "CustomerName": "Lazy K Kountry Store",
                                    "ContactName": "John Steel",
                                    "Address": "12 Orchestra Terrace",
                                    "City": "Walla Walla",
                                    "PostalCode": "99362",
                                    "Country": "USA"
                                },
                                {
                                    "CustomerID": "44",
                                    "CustomerName": "Lehmanns Marktstand",
                                    "ContactName": "Renate Messner",
                                    "Address": "Magazinweg 7",
                                    "City": "Frankfurt a.M.",
                                    "PostalCode": "60528",
                                    "Country": "Germany"
                                },
                                {
                                    "CustomerID": "45",
                                    "CustomerName": "Let''s Stop N Shop",
                                    "ContactName": "Jaime Yorres",
                                    "Address": "87 Polk St. Suite 5",
                                    "City": "San Francisco",
                                    "PostalCode": "94117",
                                    "Country": "USA"
                                },
                                {
                                    "CustomerID": "46",
                                    "CustomerName": "LILA-Supermercado",
                                    "ContactName": "Carlos González",
                                    "Address": "Carrera 52 con Ave. Bolívar #65-98 Llano Largo",
                                    "City": "Barquisimeto",
                                    "PostalCode": "3508",
                                    "Country": "Venezuela"
                                },
                                {
                                    "CustomerID": "47",
                                    "CustomerName": "LINO-Delicateses",
                                    "ContactName": "Felipe Izquierdo",
                                    "Address": "Ave. 5 de Mayo Porlamar",
                                    "City": "I. de Margarita",
                                    "PostalCode": "4980",
                                    "Country": "Venezuela"
                                },
                                {
                                    "CustomerID": "48",
                                    "CustomerName": "Lonesome Pine Restaurant",
                                    "ContactName": "Fran Wilson",
                                    "Address": "89 Chiaroscuro Rd.",
                                    "City": "Portland",
                                    "PostalCode": "97219",
                                    "Country": "USA"
                                },
                                {
                                    "CustomerID": "49",
                                    "CustomerName": "Magazzini Alimentari Riuniti",
                                    "ContactName": "Giovanni Rovelli",
                                    "Address": "Via Ludovico il Moro 22",
                                    "City": "Bergamo",
                                    "PostalCode": "24100",
                                    "Country": "Italy"
                                },
                                {
                                    "CustomerID": "50",
                                    "CustomerName": "Maison Dewey",
                                    "ContactName": "Catherine Dewey",
                                    "Address": "Rue Joseph-Bens 532",
                                    "City": "Bruxelles",
                                    "PostalCode": "B-1180",
                                    "Country": "Belgium"
                                },
                                {
                                    "CustomerID": "51",
                                    "CustomerName": "Mère Paillarde",
                                    "ContactName": "Jean Fresnière",
                                    "Address": "43 rue St. Laurent",
                                    "City": "Montréal",
                                    "PostalCode": "H1J 1C3",
                                    "Country": "Canada"
                                },
                                {
                                    "CustomerID": "52",
                                    "CustomerName": "Morgenstern Gesundkost",
                                    "ContactName": "Alexander Feuer",
                                    "Address": "Heerstr. 22",
                                    "City": "Leipzig",
                                    "PostalCode": "4179",
                                    "Country": "Germany"
                                },
                                {
                                    "CustomerID": "53",
                                    "CustomerName": "North/South",
                                    "ContactName": "Simon Crowther",
                                    "Address": "South House 300 Queensbridge",
                                    "City": "London",
                                    "PostalCode": "SW7 1RZ",
                                    "Country": "UK"
                                },
                                {
                                    "CustomerID": "54",
                                    "CustomerName": "Océano Atlántico Ltda.",
                                    "ContactName": "Yvonne Moncada",
                                    "Address": "Ing. Gustavo Moncada 8585 Piso 20-A",
                                    "City": "Buenos Aires",
                                    "PostalCode": "1010",
                                    "Country": "Argentina"
                                },
                                {
                                    "CustomerID": "55",
                                    "CustomerName": "Old World Delicatessen",
                                    "ContactName": "Rene Phillips",
                                    "Address": "2743 Bering St.",
                                    "City": "Anchorage",
                                    "PostalCode": "99508",
                                    "Country": "USA"
                                },
                                {
                                    "CustomerID": "56",
                                    "CustomerName": "Ottilies Käseladen",
                                    "ContactName": "Henriette Pfalzheim",
                                    "Address": "Mehrheimerstr. 369",
                                    "City": "Köln",
                                    "PostalCode": "50739",
                                    "Country": "Germany"
                                },
                                {
                                    "CustomerID": "57",
                                    "CustomerName": "Paris spécialités",
                                    "ContactName": "Marie Bertrand",
                                    "Address": "265, boulevard Charonne",
                                    "City": "Paris",
                                    "PostalCode": "75012",
                                    "Country": "France"
                                },
                                {
                                    "CustomerID": "58",
                                    "CustomerName": "Pericles Comidas clásicas",
                                    "ContactName": "Guillermo Fernández",
                                    "Address": "Calle Dr. Jorge Cash 321",
                                    "City": "México D.F.",
                                    "PostalCode": "5033",
                                    "Country": "Mexico"
                                },
                                {
                                    "CustomerID": "59",
                                    "CustomerName": "Piccolo und mehr",
                                    "ContactName": "Georg Pipps",
                                    "Address": "Geislweg 14",
                                    "City": "Salzburg",
                                    "PostalCode": "5020",
                                    "Country": "Austria"
                                },
                                {
                                    "CustomerID": "107",
                                    "CustomerName": "pingpro",
                                    "ContactName": "ado mahmutovic",
                                    "Address": "NULL",
                                    "City": "novi pazar",
                                    "PostalCode": "NULL",
                                    "Country": "serbia"
                                },
                                {
                                    "CustomerID": "108",
                                    "CustomerName": "pingpro",
                                    "ContactName": "ado mahmutovic",
                                    "Address": "NULL",
                                    "City": "novi pazar",
                                    "PostalCode": "NULL",
                                    "Country": "serbia"
                                },
                                {
                                    "CustomerID": "104",
                                    "CustomerName": "pingpro",
                                    "ContactName": "ado mahmutovic",
                                    "Address": "NULL",
                                    "City": "novi pazar",
                                    "PostalCode": "NULL",
                                    "Country": "serbia"
                                },
                                {
                                    "CustomerID": "105",
                                    "CustomerName": "pingpro",
                                    "ContactName": "ado mahmutovic",
                                    "Address": "NULL",
                                    "City": "novi pazar",
                                    "PostalCode": "NULL",
                                    "Country": "serbia"
                                },
                                {
                                    "CustomerID": "101",
                                    "CustomerName": "pingpro",
                                    "ContactName": "ado mahmutovic",
                                    "Address": "NULL",
                                    "City": "novi pazar",
                                    "PostalCode": "NULL",
                                    "Country": "serbia"
                                },
                                {
                                    "CustomerID": "102",
                                    "CustomerName": "pingpro",
                                    "ContactName": "ado mahmutovic",
                                    "Address": "NULL",
                                    "City": "novi pazar",
                                    "PostalCode": "NULL",
                                    "Country": "serbia"
                                },
                                {
                                    "CustomerID": "98",
                                    "CustomerName": "pingpro",
                                    "ContactName": "ado mahmutovic",
                                    "Address": "NULL",
                                    "City": "novi pazar",
                                    "PostalCode": "NULL",
                                    "Country": "serbia"
                                },
                                {
                                    "CustomerID": "99",
                                    "CustomerName": "pingpro",
                                    "ContactName": "ado mahmutovic",
                                    "Address": "NULL",
                                    "City": "novi pazar",
                                    "PostalCode": "NULL",
                                    "Country": "serbia"
                                },
                                {
                                    "CustomerID": "95",
                                    "CustomerName": "pingpro",
                                    "ContactName": "ado mahmutovic",
                                    "Address": "NULL",
                                    "City": "novi pazar",
                                    "PostalCode": "NULL",
                                    "Country": "serbia"
                                },
                                {
                                    "CustomerID": "96",
                                    "CustomerName": "pingpro",
                                    "ContactName": "ado mahmutovic",
                                    "Address": "NULL",
                                    "City": "novi pazar",
                                    "PostalCode": "NULL",
                                    "Country": "serbia"
                                },
                                {
                                    "CustomerID": "92",
                                    "CustomerName": "pingpro",
                                    "ContactName": "ado mahmutovic",
                                    "Address": "NULL",
                                    "City": "novi pazar",
                                    "PostalCode": "NULL",
                                    "Country": "serbia"
                                },
                                {
                                    "CustomerID": "93",
                                    "CustomerName": "pingpro",
                                    "ContactName": "ado mahmutovic",
                                    "Address": "NULL",
                                    "City": "novi pazar",
                                    "PostalCode": "NULL",
                                    "Country": "serbia"
                                },
                                {
                                    "CustomerID": "110",
                                    "CustomerName": "pingpro",
                                    "ContactName": "ado mahmutovic",
                                    "Address": "NULL",
                                    "City": "novi pazar",
                                    "PostalCode": "NULL",
                                    "Country": "serbia"
                                },
                                {
                                    "CustomerID": "111",
                                    "CustomerName": "pingpro",
                                    "ContactName": "ado mahmutovic",
                                    "Address": "NULL",
                                    "City": "novi pazar",
                                    "PostalCode": "NULL",
                                    "Country": "serbia"
                                },
                                {
                                    "CustomerID": "60",
                                    "CustomerName": "Princesa Isabel Vinhoss",
                                    "ContactName": "Isabel de Castro",
                                    "Address": "Estrada da saúde n. 58",
                                    "City": "Lisboa",
                                    "PostalCode": "1756",
                                    "Country": "Portugal"
                                },
                                {
                                    "CustomerID": "61",
                                    "CustomerName": "Que Delícia",
                                    "ContactName": "Bernardo Batista",
                                    "Address": "Rua da Panificadora, 12",
                                    "City": "Rio de Janeiro",
                                    "PostalCode": "02389-673",
                                    "Country": "Brazil"
                                },
                                {
                                    "CustomerID": "62",
                                    "CustomerName": "Queen Cozinha",
                                    "ContactName": "Lúcia Carvalho",
                                    "Address": "Alameda dos Canàrios, 891",
                                    "City": "São Paulo",
                                    "PostalCode": "05487-020",
                                    "Country": "Brazil"
                                },
                                {
                                    "CustomerID": "63",
                                    "CustomerName": "QUICK-Stop",
                                    "ContactName": "Horst Kloss",
                                    "Address": "Taucherstraße 10",
                                    "City": "Cunewalde",
                                    "PostalCode": "1307",
                                    "Country": "Germany"
                                },
                                {
                                    "CustomerID": "64",
                                    "CustomerName": "Rancho grande",
                                    "ContactName": "Sergio Gutiérrez",
                                    "Address": "Av. del Libertador 900",
                                    "City": "Buenos Aires",
                                    "PostalCode": "1010",
                                    "Country": "Argentina"
                                },
                                {
                                    "CustomerID": "65",
                                    "CustomerName": "Rattlesnake Canyon Grocery",
                                    "ContactName": "Paula Wilson",
                                    "Address": "2817 Milton Dr.",
                                    "City": "Albuquerque",
                                    "PostalCode": "87110",
                                    "Country": "USA"
                                },
                                {
                                    "CustomerID": "66",
                                    "CustomerName": "Reggiani Caseifici",
                                    "ContactName": "Maurizio Moroni",
                                    "Address": "Strada Provinciale 124",
                                    "City": "Reggio Emilia",
                                    "PostalCode": "42100",
                                    "Country": "Italy"
                                },
                                {
                                    "CustomerID": "67",
                                    "CustomerName": "Ricardo Adocicados",
                                    "ContactName": "Janete Limeira",
                                    "Address": "Av. Copacabana, 267",
                                    "City": "Rio de Janeiro",
                                    "PostalCode": "02389-890",
                                    "Country": "Brazil"
                                },
                                {
                                    "CustomerID": "68",
                                    "CustomerName": "Richter Supermarkt",
                                    "ContactName": "Michael Holz",
                                    "Address": "Grenzacherweg 237",
                                    "City": "Genève",
                                    "PostalCode": "1203",
                                    "Country": "Switzerland"
                                },
                                {
                                    "CustomerID": "69",
                                    "CustomerName": "Romero y tomillo",
                                    "ContactName": "Alejandra Camino",
                                    "Address": "Gran Vía, 1",
                                    "City": "Madrid",
                                    "PostalCode": "28001",
                                    "Country": "Spain"
                                },
                                {
                                    "CustomerID": "70",
                                    "CustomerName": "Santé Gourmet",
                                    "ContactName": "Jonas Bergulfsen",
                                    "Address": "Erling Skakkes gate 78",
                                    "City": "Stavern",
                                    "PostalCode": "4110",
                                    "Country": "Norway"
                                },
                                {
                                    "CustomerID": "71",
                                    "CustomerName": "Save-a-lot Markets",
                                    "ContactName": "Jose Pavarotti",
                                    "Address": "187 Suffolk Ln.",
                                    "City": "Boise",
                                    "PostalCode": "83720",
                                    "Country": "USA"
                                },
                                {
                                    "CustomerID": "72",
                                    "CustomerName": "Seven Seas Imports",
                                    "ContactName": "Hari Kumar",
                                    "Address": "90 Wadhurst Rd.",
                                    "City": "London",
                                    "PostalCode": "OX15 4NB",
                                    "Country": "UK"
                                },
                                {
                                    "CustomerID": "73",
                                    "CustomerName": "Simons bistro",
                                    "ContactName": "Jytte Petersen",
                                    "Address": "Vinbæltet 34",
                                    "City": "København",
                                    "PostalCode": "1734",
                                    "Country": "Denmark"
                                },
                                {
                                    "CustomerID": "74",
                                    "CustomerName": "Spécialités du monde",
                                    "ContactName": "Dominique Perrier",
                                    "Address": "25, rue Lauriston",
                                    "City": "Paris",
                                    "PostalCode": "75016",
                                    "Country": "France"
                                },
                                {
                                    "CustomerID": "75",
                                    "CustomerName": "Split Rail Beer & Ale",
                                    "ContactName": "Art Braunschweiger",
                                    "Address": "P.O. Box 555",
                                    "City": "Lander",
                                    "PostalCode": "82520",
                                    "Country": "USA"
                                },
                                {
                                    "CustomerID": "76",
                                    "CustomerName": "Suprêmes délices",
                                    "ContactName": "Pascale Cartrain",
                                    "Address": "Boulevard Tirou, 255",
                                    "City": "Charleroi",
                                    "PostalCode": "B-6000",
                                    "Country": "Belgium"
                                },
                                {
                                    "CustomerID": "77",
                                    "CustomerName": "The Big Cheese",
                                    "ContactName": "Liz Nixon",
                                    "Address": "89 Jefferson Way Suite 2",
                                    "City": "Portland",
                                    "PostalCode": "97201",
                                    "Country": "USA"
                                },
                                {
                                    "CustomerID": "78",
                                    "CustomerName": "The Cracker Box",
                                    "ContactName": "Liu Wong",
                                    "Address": "55 Grizzly Peak Rd.",
                                    "City": "Butte",
                                    "PostalCode": "59801",
                                    "Country": "USA"
                                },
                                {
                                    "CustomerID": "79",
                                    "CustomerName": "Toms Spezialitäten",
                                    "ContactName": "Karin Josephs",
                                    "Address": "Luisenstr. 48",
                                    "City": "Münster",
                                    "PostalCode": "44087",
                                    "Country": "Germany"
                                },
                                {
                                    "CustomerID": "80",
                                    "CustomerName": "Tortuga Restaurante",
                                    "ContactName": "Miguel Angel Paolino",
                                    "Address": "Avda. Azteca 123",
                                    "City": "México D.F.",
                                    "PostalCode": "5033",
                                    "Country": "Mexico"
                                },
                                {
                                    "CustomerID": "81",
                                    "CustomerName": "Tradição Hipermercados",
                                    "ContactName": "Anabela Domingues",
                                    "Address": "Av. Inês de Castro, 414",
                                    "City": "São Paulo",
                                    "PostalCode": "05634-030",
                                    "Country": "Brazil"
                                },
                                {
                                    "CustomerID": "82",
                                    "CustomerName": "Trail''s Head Gourmet Provisioners",
                                    "ContactName": "Helvetius Nagy",
                                    "Address": "722 DaVinci Blvd.",
                                    "City": "Kirkland",
                                    "PostalCode": "98034",
                                    "Country": "USA"
                                },
                                {
                                    "CustomerID": "83",
                                    "CustomerName": "Vaffeljernet",
                                    "ContactName": "Palle Ibsen",
                                    "Address": "Smagsløget 45",
                                    "City": "Århus",
                                    "PostalCode": "8200",
                                    "Country": "Denmark"
                                },
                                {
                                    "CustomerID": "84",
                                    "CustomerName": "Victuailles en stock",
                                    "ContactName": "Mary Saveley",
                                    "Address": "2, rue du Commerce",
                                    "City": "Lyon",
                                    "PostalCode": "69004",
                                    "Country": "France"
                                },
                                {
                                    "CustomerID": "85",
                                    "CustomerName": "Vins et alcools Chevalier",
                                    "ContactName": "Paul Henriot",
                                    "Address": "59 rue de l''Abbaye",
                                    "City": "Reims",
                                    "PostalCode": "51100",
                                    "Country": "France"
                                },
                                {
                                    "CustomerID": "87",
                                    "CustomerName": "Wartian Herkku",
                                    "ContactName": "Pirkko Koskitalo",
                                    "Address": "Torikatu 38",
                                    "City": "Oulu",
                                    "PostalCode": "90110",
                                    "Country": "Finland"
                                },
                                {
                                    "CustomerID": "88",
                                    "CustomerName": "Wellington Importadora",
                                    "ContactName": "Paula Parente",
                                    "Address": "Rua do Mercado, 12",
                                    "City": "Resende",
                                    "PostalCode": "08737-363",
                                    "Country": "Brazil"
                                },
                                {
                                    "CustomerID": "89",
                                    "CustomerName": "White Clover Markets",
                                    "ContactName": "Karl Jablonski",
                                    "Address": "305 - 14th Ave. S. Suite 3B",
                                    "City": "Seattle",
                                    "PostalCode": "98128",
                                    "Country": "USA"
                                },
                                {
                                    "CustomerID": "90",
                                    "CustomerName": "Wilman Kala",
                                    "ContactName": "Matti Karttunen",
                                    "Address": "Keskuskatu 45",
                                    "City": "Helsinki",
                                    "PostalCode": "21240",
                                    "Country": "Finland"
                                },
                                {
                                    "CustomerID": "91",
                                    "CustomerName": "Wolski",
                                    "ContactName": "Zbyszek",
                                    "Address": "ul. Filtrowa 68",
                                    "City": "Walla",
                                    "PostalCode": "01-012",
                                    "Country": "Poland"
                                }
                            ]
                        },
                        "text/html": [
                            "<table>",
                            "<tr><th>CustomerID</th><th>CustomerName</th><th>ContactName</th><th>Address</th><th>City</th><th>PostalCode</th><th>Country</th></tr>",
                            "<tr><td>1</td><td>Alfreds Futterkiste</td><td>Maria Anders</td><td>Obere Str. 57</td><td>Berlin</td><td>12209</td><td>Germany</td></tr>",
                            "<tr><td>2</td><td>Ana Trujillo Emparedados y helados</td><td>Ana Trujillo</td><td>Avda. de la Constitución 2222</td><td>México D.F.</td><td>5021</td><td>Mexico</td></tr>",
                            "<tr><td>3</td><td>Antonio Moreno Taquería</td><td>Antonio Moreno</td><td>Mataderos 2312</td><td>México D.F.</td><td>5023</td><td>Mexico</td></tr>",
                            "<tr><td>4</td><td>Around the Horn</td><td>Thomas Hardy</td><td>120 Hanover Sq.</td><td>London</td><td>WA1 1DP</td><td>UK</td></tr>",
                            "<tr><td>11</td><td>B&#39;&#39;s Beverages</td><td>Victoria Ashworth</td><td>Fauntleroy Circus</td><td>London</td><td>EC2 5NT</td><td>UK</td></tr>",
                            "<tr><td>5</td><td>Berglunds snabbköp</td><td>Christina Berglund</td><td>Berguvsvägen 8</td><td>Luleå</td><td>S-958 22</td><td>Sweden</td></tr>",
                            "<tr><td>6</td><td>Blauer See Delikatessen</td><td>Hanna Moos</td><td>Forsterstr. 57</td><td>Mannheim</td><td>68306</td><td>Germany</td></tr>",
                            "<tr><td>7</td><td>Blondel père et fils</td><td>Frédérique Citeaux</td><td>24, place Kléber</td><td>Strasbourg</td><td>67000</td><td>France</td></tr>",
                            "<tr><td>8</td><td>Bólido Comidas preparadas</td><td>Martín Sommer</td><td>C/ Araquil, 67</td><td>Madrid</td><td>28023</td><td>Spain</td></tr>",
                            "<tr><td>9</td><td>Bon app&#39;&#39;</td><td>Laurence Lebihans</td><td>12, rue des Bouchers</td><td>Marseille</td><td>13008</td><td>France</td></tr>",
                            "<tr><td>10</td><td>Bottom-Dollar Marketse</td><td>Elizabeth Lincoln</td><td>23 Tsawassen Blvd.</td><td>Tsawassen</td><td>T2F 8M4</td><td>Canada</td></tr>",
                            "<tr><td>12</td><td>Cactus Comidas para llevar</td><td>Patricio Simpson</td><td>Cerrito 333</td><td>Buenos Aires</td><td>1010</td><td>Argentina</td></tr>",
                            "<tr><td>13</td><td>Centro comercial Moctezuma</td><td>Francisco Chang</td><td>Sierras de Granada 9993</td><td>México D.F.</td><td>5022</td><td>Mexico</td></tr>",
                            "<tr><td>14</td><td>Chop-suey Chinese</td><td>Yang Wang</td><td>Hauptstr. 29</td><td>Bern</td><td>3012</td><td>Switzerland</td></tr>",
                            "<tr><td>15</td><td>Comércio Mineiro</td><td>Pedro Afonso</td><td>Av. dos Lusíadas, 23</td><td>São Paulo</td><td>05432-043</td><td>Brazil</td></tr>",
                            "<tr><td>16</td><td>Consolidated Holdings</td><td>Elizabeth Brown</td><td>Berkeley Gardens 12 Brewery</td><td>London</td><td>WX1 6LT</td><td>UK</td></tr>",
                            "<tr><td>86</td><td>Die Wandernde Kuh</td><td>Rita Müller</td><td>Adenauerallee 900</td><td>Stuttgart</td><td>70563</td><td>Germany</td></tr>",
                            "<tr><td>17</td><td>Drachenblut Delikatessend</td><td>Sven Ottlieb</td><td>Walserweg 21</td><td>Aachen</td><td>52066</td><td>Germany</td></tr>",
                            "<tr><td>18</td><td>Du monde entier</td><td>Janine Labrune</td><td>67, rue des Cinquante Otages</td><td>Nantes</td><td>44000</td><td>France</td></tr>",
                            "<tr><td>19</td><td>Eastern Connection</td><td>Ann Devon</td><td>35 King George</td><td>London</td><td>WX3 6FW</td><td>UK</td></tr>",
                            "<tr><td>20</td><td>Ernst Handel</td><td>Roland Mendel</td><td>Kirchgasse 6</td><td>Graz</td><td>8010</td><td>Austria</td></tr>",
                            "<tr><td>21</td><td>Familia Arquibaldo</td><td>Aria Cruz</td><td>Rua Orós, 92</td><td>São Paulo</td><td>05442-030</td><td>Brazil</td></tr>",
                            "<tr><td>22</td><td>FISSA Fabrica Inter. Salchichas S.A.</td><td>Diego Roel</td><td>C/ Moralzarzal, 86</td><td>Madrid</td><td>28034</td><td>Spain</td></tr>",
                            "<tr><td>23</td><td>Folies gourmandes</td><td>Martine Rancé</td><td>184, chaussée de Tournai</td><td>Lille</td><td>59000</td><td>France</td></tr>",
                            "<tr><td>24</td><td>Folk och fä HB</td><td>Maria Larsson</td><td>Åkergatan 24</td><td>Bräcke</td><td>S-844 67</td><td>Sweden</td></tr>",
                            "<tr><td>26</td><td>France restauration</td><td>Carine Schmitt</td><td>54, rue Royale</td><td>Nantes</td><td>44000</td><td>France</td></tr>",
                            "<tr><td>27</td><td>Franchi S.p.A.</td><td>Paolo Accorti</td><td>Via Monte Bianco 34</td><td>Torino</td><td>10100</td><td>Italy</td></tr>",
                            "<tr><td>25</td><td>Frankenversand</td><td>Peter Franken</td><td>Berliner Platz 43</td><td>München</td><td>80805</td><td>Germany</td></tr>",
                            "<tr><td>28</td><td>Furia Bacalhau e Frutos do Mar</td><td>Lino Rodriguez</td><td>Jardim das rosas n. 32</td><td>Lisboa</td><td>1675</td><td>Portugal</td></tr>",
                            "<tr><td>29</td><td>Galería del gastrónomo</td><td>Eduardo Saavedra</td><td>Rambla de Cataluña, 23</td><td>Barcelona</td><td>8022</td><td>Spain</td></tr>",
                            "<tr><td>94</td><td>gimnazija</td><td>caka razdaginac</td><td>NULL</td><td>novi pazar</td><td>NULL</td><td>serbia</td></tr>",
                            "<tr><td>97</td><td>gimnazija</td><td>caka razdaginac</td><td>NULL</td><td>novi pazar</td><td>NULL</td><td>serbia</td></tr>",
                            "<tr><td>100</td><td>gimnazija</td><td>caka razdaginac</td><td>NULL</td><td>novi pazar</td><td>NULL</td><td>serbia</td></tr>",
                            "<tr><td>103</td><td>gimnazija</td><td>caka razdaginac</td><td>NULL</td><td>novi pazar</td><td>NULL</td><td>serbia</td></tr>",
                            "<tr><td>106</td><td>gimnazija</td><td>caka razdaginac</td><td>NULL</td><td>novi pazar</td><td>NULL</td><td>serbia</td></tr>",
                            "<tr><td>109</td><td>gimnazija</td><td>caka razdaginac</td><td>NULL</td><td>novi pazar</td><td>NULL</td><td>serbia</td></tr>",
                            "<tr><td>112</td><td>gimnazija</td><td>caka razdaginac</td><td>NULL</td><td>novi pazar</td><td>NULL</td><td>serbia</td></tr>",
                            "<tr><td>30</td><td>Godos Cocina Típica</td><td>José Pedro Freyre</td><td>C/ Romero, 33</td><td>Sevilla</td><td>41101</td><td>Spain</td></tr>",
                            "<tr><td>31</td><td>Gourmet Lanchonetes</td><td>André Fonseca</td><td>Av. Brasil, 442</td><td>Campinas</td><td>04876-786</td><td>Brazil</td></tr>",
                            "<tr><td>32</td><td>Great Lakes Food Market</td><td>Howard Snyder</td><td>2732 Baker Blvd.</td><td>Eugene</td><td>97403</td><td>USA</td></tr>",
                            "<tr><td>33</td><td>GROSELLA-Restaurante</td><td>Manuel Pereira</td><td>5ª Ave. Los Palos Grandes</td><td>Caracas</td><td>1081</td><td>Venezuela</td></tr>",
                            "<tr><td>34</td><td>Hanari Carnes</td><td>Mario Pontes</td><td>Rua do Paço, 67</td><td>Rio de Janeiro</td><td>05454-876</td><td>Brazil</td></tr>",
                            "<tr><td>35</td><td>HILARIÓN-Abastos</td><td>Carlos Hernández</td><td>Carrera 22 con Ave. Carlos Soublette #8-35</td><td>San Cristóbal</td><td>5022</td><td>Venezuela</td></tr>",
                            "<tr><td>36</td><td>Hungry Coyote Import Store</td><td>Yoshi Latimer</td><td>City Center Plaza 516 Main St.</td><td>Elgin</td><td>97827</td><td>USA</td></tr>",
                            "<tr><td>37</td><td>Hungry Owl All-Night Grocers</td><td>Patricia McKenna</td><td>8 Johnstown Road</td><td>Cork</td><td></td><td>Ireland</td></tr>",
                            "<tr><td>38</td><td>Island Trading</td><td>Helen Bennett</td><td>Garden House Crowther Way</td><td>Cowes</td><td>PO31 7PJ</td><td>UK</td></tr>",
                            "<tr><td>39</td><td>Königlich Essen</td><td>Philip Cramer</td><td>Maubelstr. 90</td><td>Brandenburg</td><td>14776</td><td>Germany</td></tr>",
                            "<tr><td>40</td><td>La corne d&#39;&#39;abondance</td><td>Daniel Tonini</td><td>67, avenue de l&#39;&#39;Europe</td><td>Versailles</td><td>78000</td><td>France</td></tr>",
                            "<tr><td>41</td><td>La maison d&#39;&#39;Asie</td><td>Annette Roulet</td><td>1 rue Alsace-Lorraine</td><td>Toulouse</td><td>31000</td><td>France</td></tr>",
                            "<tr><td>42</td><td>Laughing Bacchus Wine Cellars</td><td>Yoshi Tannamuri</td><td>1900 Oak St.</td><td>Vancouver</td><td>V3F 2K1</td><td>Canada</td></tr>",
                            "<tr><td>43</td><td>Lazy K Kountry Store</td><td>John Steel</td><td>12 Orchestra Terrace</td><td>Walla Walla</td><td>99362</td><td>USA</td></tr>",
                            "<tr><td>44</td><td>Lehmanns Marktstand</td><td>Renate Messner</td><td>Magazinweg 7</td><td>Frankfurt a.M.</td><td>60528</td><td>Germany</td></tr>",
                            "<tr><td>45</td><td>Let&#39;&#39;s Stop N Shop</td><td>Jaime Yorres</td><td>87 Polk St. Suite 5</td><td>San Francisco</td><td>94117</td><td>USA</td></tr>",
                            "<tr><td>46</td><td>LILA-Supermercado</td><td>Carlos González</td><td>Carrera 52 con Ave. Bolívar #65-98 Llano Largo</td><td>Barquisimeto</td><td>3508</td><td>Venezuela</td></tr>",
                            "<tr><td>47</td><td>LINO-Delicateses</td><td>Felipe Izquierdo</td><td>Ave. 5 de Mayo Porlamar</td><td>I. de Margarita</td><td>4980</td><td>Venezuela</td></tr>",
                            "<tr><td>48</td><td>Lonesome Pine Restaurant</td><td>Fran Wilson</td><td>89 Chiaroscuro Rd.</td><td>Portland</td><td>97219</td><td>USA</td></tr>",
                            "<tr><td>49</td><td>Magazzini Alimentari Riuniti</td><td>Giovanni Rovelli</td><td>Via Ludovico il Moro 22</td><td>Bergamo</td><td>24100</td><td>Italy</td></tr>",
                            "<tr><td>50</td><td>Maison Dewey</td><td>Catherine Dewey</td><td>Rue Joseph-Bens 532</td><td>Bruxelles</td><td>B-1180</td><td>Belgium</td></tr>",
                            "<tr><td>51</td><td>Mère Paillarde</td><td>Jean Fresnière</td><td>43 rue St. Laurent</td><td>Montréal</td><td>H1J 1C3</td><td>Canada</td></tr>",
                            "<tr><td>52</td><td>Morgenstern Gesundkost</td><td>Alexander Feuer</td><td>Heerstr. 22</td><td>Leipzig</td><td>4179</td><td>Germany</td></tr>",
                            "<tr><td>53</td><td>North/South</td><td>Simon Crowther</td><td>South House 300 Queensbridge</td><td>London</td><td>SW7 1RZ</td><td>UK</td></tr>",
                            "<tr><td>54</td><td>Océano Atlántico Ltda.</td><td>Yvonne Moncada</td><td>Ing. Gustavo Moncada 8585 Piso 20-A</td><td>Buenos Aires</td><td>1010</td><td>Argentina</td></tr>",
                            "<tr><td>55</td><td>Old World Delicatessen</td><td>Rene Phillips</td><td>2743 Bering St.</td><td>Anchorage</td><td>99508</td><td>USA</td></tr>",
                            "<tr><td>56</td><td>Ottilies Käseladen</td><td>Henriette Pfalzheim</td><td>Mehrheimerstr. 369</td><td>Köln</td><td>50739</td><td>Germany</td></tr>",
                            "<tr><td>57</td><td>Paris spécialités</td><td>Marie Bertrand</td><td>265, boulevard Charonne</td><td>Paris</td><td>75012</td><td>France</td></tr>",
                            "<tr><td>58</td><td>Pericles Comidas clásicas</td><td>Guillermo Fernández</td><td>Calle Dr. Jorge Cash 321</td><td>México D.F.</td><td>5033</td><td>Mexico</td></tr>",
                            "<tr><td>59</td><td>Piccolo und mehr</td><td>Georg Pipps</td><td>Geislweg 14</td><td>Salzburg</td><td>5020</td><td>Austria</td></tr>",
                            "<tr><td>107</td><td>pingpro</td><td>ado mahmutovic</td><td>NULL</td><td>novi pazar</td><td>NULL</td><td>serbia</td></tr>",
                            "<tr><td>108</td><td>pingpro</td><td>ado mahmutovic</td><td>NULL</td><td>novi pazar</td><td>NULL</td><td>serbia</td></tr>",
                            "<tr><td>104</td><td>pingpro</td><td>ado mahmutovic</td><td>NULL</td><td>novi pazar</td><td>NULL</td><td>serbia</td></tr>",
                            "<tr><td>105</td><td>pingpro</td><td>ado mahmutovic</td><td>NULL</td><td>novi pazar</td><td>NULL</td><td>serbia</td></tr>",
                            "<tr><td>101</td><td>pingpro</td><td>ado mahmutovic</td><td>NULL</td><td>novi pazar</td><td>NULL</td><td>serbia</td></tr>",
                            "<tr><td>102</td><td>pingpro</td><td>ado mahmutovic</td><td>NULL</td><td>novi pazar</td><td>NULL</td><td>serbia</td></tr>",
                            "<tr><td>98</td><td>pingpro</td><td>ado mahmutovic</td><td>NULL</td><td>novi pazar</td><td>NULL</td><td>serbia</td></tr>",
                            "<tr><td>99</td><td>pingpro</td><td>ado mahmutovic</td><td>NULL</td><td>novi pazar</td><td>NULL</td><td>serbia</td></tr>",
                            "<tr><td>95</td><td>pingpro</td><td>ado mahmutovic</td><td>NULL</td><td>novi pazar</td><td>NULL</td><td>serbia</td></tr>",
                            "<tr><td>96</td><td>pingpro</td><td>ado mahmutovic</td><td>NULL</td><td>novi pazar</td><td>NULL</td><td>serbia</td></tr>",
                            "<tr><td>92</td><td>pingpro</td><td>ado mahmutovic</td><td>NULL</td><td>novi pazar</td><td>NULL</td><td>serbia</td></tr>",
                            "<tr><td>93</td><td>pingpro</td><td>ado mahmutovic</td><td>NULL</td><td>novi pazar</td><td>NULL</td><td>serbia</td></tr>",
                            "<tr><td>110</td><td>pingpro</td><td>ado mahmutovic</td><td>NULL</td><td>novi pazar</td><td>NULL</td><td>serbia</td></tr>",
                            "<tr><td>111</td><td>pingpro</td><td>ado mahmutovic</td><td>NULL</td><td>novi pazar</td><td>NULL</td><td>serbia</td></tr>",
                            "<tr><td>60</td><td>Princesa Isabel Vinhoss</td><td>Isabel de Castro</td><td>Estrada da saúde n. 58</td><td>Lisboa</td><td>1756</td><td>Portugal</td></tr>",
                            "<tr><td>61</td><td>Que Delícia</td><td>Bernardo Batista</td><td>Rua da Panificadora, 12</td><td>Rio de Janeiro</td><td>02389-673</td><td>Brazil</td></tr>",
                            "<tr><td>62</td><td>Queen Cozinha</td><td>Lúcia Carvalho</td><td>Alameda dos Canàrios, 891</td><td>São Paulo</td><td>05487-020</td><td>Brazil</td></tr>",
                            "<tr><td>63</td><td>QUICK-Stop</td><td>Horst Kloss</td><td>Taucherstraße 10</td><td>Cunewalde</td><td>1307</td><td>Germany</td></tr>",
                            "<tr><td>64</td><td>Rancho grande</td><td>Sergio Gutiérrez</td><td>Av. del Libertador 900</td><td>Buenos Aires</td><td>1010</td><td>Argentina</td></tr>",
                            "<tr><td>65</td><td>Rattlesnake Canyon Grocery</td><td>Paula Wilson</td><td>2817 Milton Dr.</td><td>Albuquerque</td><td>87110</td><td>USA</td></tr>",
                            "<tr><td>66</td><td>Reggiani Caseifici</td><td>Maurizio Moroni</td><td>Strada Provinciale 124</td><td>Reggio Emilia</td><td>42100</td><td>Italy</td></tr>",
                            "<tr><td>67</td><td>Ricardo Adocicados</td><td>Janete Limeira</td><td>Av. Copacabana, 267</td><td>Rio de Janeiro</td><td>02389-890</td><td>Brazil</td></tr>",
                            "<tr><td>68</td><td>Richter Supermarkt</td><td>Michael Holz</td><td>Grenzacherweg 237</td><td>Genève</td><td>1203</td><td>Switzerland</td></tr>",
                            "<tr><td>69</td><td>Romero y tomillo</td><td>Alejandra Camino</td><td>Gran Vía, 1</td><td>Madrid</td><td>28001</td><td>Spain</td></tr>",
                            "<tr><td>70</td><td>Santé Gourmet</td><td>Jonas Bergulfsen</td><td>Erling Skakkes gate 78</td><td>Stavern</td><td>4110</td><td>Norway</td></tr>",
                            "<tr><td>71</td><td>Save-a-lot Markets</td><td>Jose Pavarotti</td><td>187 Suffolk Ln.</td><td>Boise</td><td>83720</td><td>USA</td></tr>",
                            "<tr><td>72</td><td>Seven Seas Imports</td><td>Hari Kumar</td><td>90 Wadhurst Rd.</td><td>London</td><td>OX15 4NB</td><td>UK</td></tr>",
                            "<tr><td>73</td><td>Simons bistro</td><td>Jytte Petersen</td><td>Vinbæltet 34</td><td>København</td><td>1734</td><td>Denmark</td></tr>",
                            "<tr><td>74</td><td>Spécialités du monde</td><td>Dominique Perrier</td><td>25, rue Lauriston</td><td>Paris</td><td>75016</td><td>France</td></tr>",
                            "<tr><td>75</td><td>Split Rail Beer &amp; Ale</td><td>Art Braunschweiger</td><td>P.O. Box 555</td><td>Lander</td><td>82520</td><td>USA</td></tr>",
                            "<tr><td>76</td><td>Suprêmes délices</td><td>Pascale Cartrain</td><td>Boulevard Tirou, 255</td><td>Charleroi</td><td>B-6000</td><td>Belgium</td></tr>",
                            "<tr><td>77</td><td>The Big Cheese</td><td>Liz Nixon</td><td>89 Jefferson Way Suite 2</td><td>Portland</td><td>97201</td><td>USA</td></tr>",
                            "<tr><td>78</td><td>The Cracker Box</td><td>Liu Wong</td><td>55 Grizzly Peak Rd.</td><td>Butte</td><td>59801</td><td>USA</td></tr>",
                            "<tr><td>79</td><td>Toms Spezialitäten</td><td>Karin Josephs</td><td>Luisenstr. 48</td><td>Münster</td><td>44087</td><td>Germany</td></tr>",
                            "<tr><td>80</td><td>Tortuga Restaurante</td><td>Miguel Angel Paolino</td><td>Avda. Azteca 123</td><td>México D.F.</td><td>5033</td><td>Mexico</td></tr>",
                            "<tr><td>81</td><td>Tradição Hipermercados</td><td>Anabela Domingues</td><td>Av. Inês de Castro, 414</td><td>São Paulo</td><td>05634-030</td><td>Brazil</td></tr>",
                            "<tr><td>82</td><td>Trail&#39;&#39;s Head Gourmet Provisioners</td><td>Helvetius Nagy</td><td>722 DaVinci Blvd.</td><td>Kirkland</td><td>98034</td><td>USA</td></tr>",
                            "<tr><td>83</td><td>Vaffeljernet</td><td>Palle Ibsen</td><td>Smagsløget 45</td><td>Århus</td><td>8200</td><td>Denmark</td></tr>",
                            "<tr><td>84</td><td>Victuailles en stock</td><td>Mary Saveley</td><td>2, rue du Commerce</td><td>Lyon</td><td>69004</td><td>France</td></tr>",
                            "<tr><td>85</td><td>Vins et alcools Chevalier</td><td>Paul Henriot</td><td>59 rue de l&#39;&#39;Abbaye</td><td>Reims</td><td>51100</td><td>France</td></tr>",
                            "<tr><td>87</td><td>Wartian Herkku</td><td>Pirkko Koskitalo</td><td>Torikatu 38</td><td>Oulu</td><td>90110</td><td>Finland</td></tr>",
                            "<tr><td>88</td><td>Wellington Importadora</td><td>Paula Parente</td><td>Rua do Mercado, 12</td><td>Resende</td><td>08737-363</td><td>Brazil</td></tr>",
                            "<tr><td>89</td><td>White Clover Markets</td><td>Karl Jablonski</td><td>305 - 14th Ave. S. Suite 3B</td><td>Seattle</td><td>98128</td><td>USA</td></tr>",
                            "<tr><td>90</td><td>Wilman Kala</td><td>Matti Karttunen</td><td>Keskuskatu 45</td><td>Helsinki</td><td>21240</td><td>Finland</td></tr>",
                            "<tr><td>91</td><td>Wolski</td><td>Zbyszek</td><td>ul. Filtrowa 68</td><td>Walla</td><td>01-012</td><td>Poland</td></tr>",
                            "</table>"
                        ]
                    }
                }
            ],
            "execution_count": 440
        },
        {
            "cell_type": "markdown",
            "source": [
                "**Part B:** Display all customers sorted first by `Country` (A-Z) and then by `City` (Z-A)."
            ],
            "metadata": {
                "azdata_cell_guid": "7a05fd4d-7ac1-447a-8931-5e173ab26ca4"
            }
        },
        {
            "cell_type": "code",
            "source": [
                "/*\n",
                "WRITE AND EXECUTE YOUR IN THIS CELL UNDER THIS COMMENT\n",
                "*/\n",
                "SELECT * FROM Northwind.dbo.Customers ORDER BY Country, City ASC;\n",
                ""
            ],
            "metadata": {
                "azdata_cell_guid": "da3619f7-c7fc-465e-a2ab-8ef37ede4be2",
                "language": "sql"
            },
            "outputs": [
                {
                    "output_type": "display_data",
                    "data": {
                        "text/html": "(112 rows affected)"
                    },
                    "metadata": {}
                },
                {
                    "output_type": "display_data",
                    "data": {
                        "text/html": "Total execution time: 00:00:00.001"
                    },
                    "metadata": {}
                },
                {
                    "output_type": "execute_result",
                    "metadata": {},
                    "execution_count": 441,
                    "data": {
                        "application/vnd.dataresource+json": {
                            "schema": {
                                "fields": [
                                    {
                                        "name": "CustomerID"
                                    },
                                    {
                                        "name": "CustomerName"
                                    },
                                    {
                                        "name": "ContactName"
                                    },
                                    {
                                        "name": "Address"
                                    },
                                    {
                                        "name": "City"
                                    },
                                    {
                                        "name": "PostalCode"
                                    },
                                    {
                                        "name": "Country"
                                    }
                                ]
                            },
                            "data": [
                                {
                                    "CustomerID": "12",
                                    "CustomerName": "Cactus Comidas para llevar",
                                    "ContactName": "Patricio Simpson",
                                    "Address": "Cerrito 333",
                                    "City": "Buenos Aires",
                                    "PostalCode": "1010",
                                    "Country": "Argentina"
                                },
                                {
                                    "CustomerID": "54",
                                    "CustomerName": "Océano Atlántico Ltda.",
                                    "ContactName": "Yvonne Moncada",
                                    "Address": "Ing. Gustavo Moncada 8585 Piso 20-A",
                                    "City": "Buenos Aires",
                                    "PostalCode": "1010",
                                    "Country": "Argentina"
                                },
                                {
                                    "CustomerID": "64",
                                    "CustomerName": "Rancho grande",
                                    "ContactName": "Sergio Gutiérrez",
                                    "Address": "Av. del Libertador 900",
                                    "City": "Buenos Aires",
                                    "PostalCode": "1010",
                                    "Country": "Argentina"
                                },
                                {
                                    "CustomerID": "20",
                                    "CustomerName": "Ernst Handel",
                                    "ContactName": "Roland Mendel",
                                    "Address": "Kirchgasse 6",
                                    "City": "Graz",
                                    "PostalCode": "8010",
                                    "Country": "Austria"
                                },
                                {
                                    "CustomerID": "59",
                                    "CustomerName": "Piccolo und mehr",
                                    "ContactName": "Georg Pipps",
                                    "Address": "Geislweg 14",
                                    "City": "Salzburg",
                                    "PostalCode": "5020",
                                    "Country": "Austria"
                                },
                                {
                                    "CustomerID": "50",
                                    "CustomerName": "Maison Dewey",
                                    "ContactName": "Catherine Dewey",
                                    "Address": "Rue Joseph-Bens 532",
                                    "City": "Bruxelles",
                                    "PostalCode": "B-1180",
                                    "Country": "Belgium"
                                },
                                {
                                    "CustomerID": "76",
                                    "CustomerName": "Suprêmes délices",
                                    "ContactName": "Pascale Cartrain",
                                    "Address": "Boulevard Tirou, 255",
                                    "City": "Charleroi",
                                    "PostalCode": "B-6000",
                                    "Country": "Belgium"
                                },
                                {
                                    "CustomerID": "31",
                                    "CustomerName": "Gourmet Lanchonetes",
                                    "ContactName": "André Fonseca",
                                    "Address": "Av. Brasil, 442",
                                    "City": "Campinas",
                                    "PostalCode": "04876-786",
                                    "Country": "Brazil"
                                },
                                {
                                    "CustomerID": "88",
                                    "CustomerName": "Wellington Importadora",
                                    "ContactName": "Paula Parente",
                                    "Address": "Rua do Mercado, 12",
                                    "City": "Resende",
                                    "PostalCode": "08737-363",
                                    "Country": "Brazil"
                                },
                                {
                                    "CustomerID": "34",
                                    "CustomerName": "Hanari Carnes",
                                    "ContactName": "Mario Pontes",
                                    "Address": "Rua do Paço, 67",
                                    "City": "Rio de Janeiro",
                                    "PostalCode": "05454-876",
                                    "Country": "Brazil"
                                },
                                {
                                    "CustomerID": "61",
                                    "CustomerName": "Que Delícia",
                                    "ContactName": "Bernardo Batista",
                                    "Address": "Rua da Panificadora, 12",
                                    "City": "Rio de Janeiro",
                                    "PostalCode": "02389-673",
                                    "Country": "Brazil"
                                },
                                {
                                    "CustomerID": "67",
                                    "CustomerName": "Ricardo Adocicados",
                                    "ContactName": "Janete Limeira",
                                    "Address": "Av. Copacabana, 267",
                                    "City": "Rio de Janeiro",
                                    "PostalCode": "02389-890",
                                    "Country": "Brazil"
                                },
                                {
                                    "CustomerID": "62",
                                    "CustomerName": "Queen Cozinha",
                                    "ContactName": "Lúcia Carvalho",
                                    "Address": "Alameda dos Canàrios, 891",
                                    "City": "São Paulo",
                                    "PostalCode": "05487-020",
                                    "Country": "Brazil"
                                },
                                {
                                    "CustomerID": "21",
                                    "CustomerName": "Familia Arquibaldo",
                                    "ContactName": "Aria Cruz",
                                    "Address": "Rua Orós, 92",
                                    "City": "São Paulo",
                                    "PostalCode": "05442-030",
                                    "Country": "Brazil"
                                },
                                {
                                    "CustomerID": "15",
                                    "CustomerName": "Comércio Mineiro",
                                    "ContactName": "Pedro Afonso",
                                    "Address": "Av. dos Lusíadas, 23",
                                    "City": "São Paulo",
                                    "PostalCode": "05432-043",
                                    "Country": "Brazil"
                                },
                                {
                                    "CustomerID": "81",
                                    "CustomerName": "Tradição Hipermercados",
                                    "ContactName": "Anabela Domingues",
                                    "Address": "Av. Inês de Castro, 414",
                                    "City": "São Paulo",
                                    "PostalCode": "05634-030",
                                    "Country": "Brazil"
                                },
                                {
                                    "CustomerID": "51",
                                    "CustomerName": "Mère Paillarde",
                                    "ContactName": "Jean Fresnière",
                                    "Address": "43 rue St. Laurent",
                                    "City": "Montréal",
                                    "PostalCode": "H1J 1C3",
                                    "Country": "Canada"
                                },
                                {
                                    "CustomerID": "10",
                                    "CustomerName": "Bottom-Dollar Marketse",
                                    "ContactName": "Elizabeth Lincoln",
                                    "Address": "23 Tsawassen Blvd.",
                                    "City": "Tsawassen",
                                    "PostalCode": "T2F 8M4",
                                    "Country": "Canada"
                                },
                                {
                                    "CustomerID": "42",
                                    "CustomerName": "Laughing Bacchus Wine Cellars",
                                    "ContactName": "Yoshi Tannamuri",
                                    "Address": "1900 Oak St.",
                                    "City": "Vancouver",
                                    "PostalCode": "V3F 2K1",
                                    "Country": "Canada"
                                },
                                {
                                    "CustomerID": "83",
                                    "CustomerName": "Vaffeljernet",
                                    "ContactName": "Palle Ibsen",
                                    "Address": "Smagsløget 45",
                                    "City": "Århus",
                                    "PostalCode": "8200",
                                    "Country": "Denmark"
                                },
                                {
                                    "CustomerID": "73",
                                    "CustomerName": "Simons bistro",
                                    "ContactName": "Jytte Petersen",
                                    "Address": "Vinbæltet 34",
                                    "City": "København",
                                    "PostalCode": "1734",
                                    "Country": "Denmark"
                                },
                                {
                                    "CustomerID": "90",
                                    "CustomerName": "Wilman Kala",
                                    "ContactName": "Matti Karttunen",
                                    "Address": "Keskuskatu 45",
                                    "City": "Helsinki",
                                    "PostalCode": "21240",
                                    "Country": "Finland"
                                },
                                {
                                    "CustomerID": "87",
                                    "CustomerName": "Wartian Herkku",
                                    "ContactName": "Pirkko Koskitalo",
                                    "Address": "Torikatu 38",
                                    "City": "Oulu",
                                    "PostalCode": "90110",
                                    "Country": "Finland"
                                },
                                {
                                    "CustomerID": "23",
                                    "CustomerName": "Folies gourmandes",
                                    "ContactName": "Martine Rancé",
                                    "Address": "184, chaussée de Tournai",
                                    "City": "Lille",
                                    "PostalCode": "59000",
                                    "Country": "France"
                                },
                                {
                                    "CustomerID": "84",
                                    "CustomerName": "Victuailles en stock",
                                    "ContactName": "Mary Saveley",
                                    "Address": "2, rue du Commerce",
                                    "City": "Lyon",
                                    "PostalCode": "69004",
                                    "Country": "France"
                                },
                                {
                                    "CustomerID": "9",
                                    "CustomerName": "Bon app''",
                                    "ContactName": "Laurence Lebihans",
                                    "Address": "12, rue des Bouchers",
                                    "City": "Marseille",
                                    "PostalCode": "13008",
                                    "Country": "France"
                                },
                                {
                                    "CustomerID": "18",
                                    "CustomerName": "Du monde entier",
                                    "ContactName": "Janine Labrune",
                                    "Address": "67, rue des Cinquante Otages",
                                    "City": "Nantes",
                                    "PostalCode": "44000",
                                    "Country": "France"
                                },
                                {
                                    "CustomerID": "26",
                                    "CustomerName": "France restauration",
                                    "ContactName": "Carine Schmitt",
                                    "Address": "54, rue Royale",
                                    "City": "Nantes",
                                    "PostalCode": "44000",
                                    "Country": "France"
                                },
                                {
                                    "CustomerID": "57",
                                    "CustomerName": "Paris spécialités",
                                    "ContactName": "Marie Bertrand",
                                    "Address": "265, boulevard Charonne",
                                    "City": "Paris",
                                    "PostalCode": "75012",
                                    "Country": "France"
                                },
                                {
                                    "CustomerID": "74",
                                    "CustomerName": "Spécialités du monde",
                                    "ContactName": "Dominique Perrier",
                                    "Address": "25, rue Lauriston",
                                    "City": "Paris",
                                    "PostalCode": "75016",
                                    "Country": "France"
                                },
                                {
                                    "CustomerID": "85",
                                    "CustomerName": "Vins et alcools Chevalier",
                                    "ContactName": "Paul Henriot",
                                    "Address": "59 rue de l''Abbaye",
                                    "City": "Reims",
                                    "PostalCode": "51100",
                                    "Country": "France"
                                },
                                {
                                    "CustomerID": "7",
                                    "CustomerName": "Blondel père et fils",
                                    "ContactName": "Frédérique Citeaux",
                                    "Address": "24, place Kléber",
                                    "City": "Strasbourg",
                                    "PostalCode": "67000",
                                    "Country": "France"
                                },
                                {
                                    "CustomerID": "41",
                                    "CustomerName": "La maison d''Asie",
                                    "ContactName": "Annette Roulet",
                                    "Address": "1 rue Alsace-Lorraine",
                                    "City": "Toulouse",
                                    "PostalCode": "31000",
                                    "Country": "France"
                                },
                                {
                                    "CustomerID": "40",
                                    "CustomerName": "La corne d''abondance",
                                    "ContactName": "Daniel Tonini",
                                    "Address": "67, avenue de l''Europe",
                                    "City": "Versailles",
                                    "PostalCode": "78000",
                                    "Country": "France"
                                },
                                {
                                    "CustomerID": "17",
                                    "CustomerName": "Drachenblut Delikatessend",
                                    "ContactName": "Sven Ottlieb",
                                    "Address": "Walserweg 21",
                                    "City": "Aachen",
                                    "PostalCode": "52066",
                                    "Country": "Germany"
                                },
                                {
                                    "CustomerID": "1",
                                    "CustomerName": "Alfreds Futterkiste",
                                    "ContactName": "Maria Anders",
                                    "Address": "Obere Str. 57",
                                    "City": "Berlin",
                                    "PostalCode": "12209",
                                    "Country": "Germany"
                                },
                                {
                                    "CustomerID": "39",
                                    "CustomerName": "Königlich Essen",
                                    "ContactName": "Philip Cramer",
                                    "Address": "Maubelstr. 90",
                                    "City": "Brandenburg",
                                    "PostalCode": "14776",
                                    "Country": "Germany"
                                },
                                {
                                    "CustomerID": "63",
                                    "CustomerName": "QUICK-Stop",
                                    "ContactName": "Horst Kloss",
                                    "Address": "Taucherstraße 10",
                                    "City": "Cunewalde",
                                    "PostalCode": "1307",
                                    "Country": "Germany"
                                },
                                {
                                    "CustomerID": "44",
                                    "CustomerName": "Lehmanns Marktstand",
                                    "ContactName": "Renate Messner",
                                    "Address": "Magazinweg 7",
                                    "City": "Frankfurt a.M.",
                                    "PostalCode": "60528",
                                    "Country": "Germany"
                                },
                                {
                                    "CustomerID": "56",
                                    "CustomerName": "Ottilies Käseladen",
                                    "ContactName": "Henriette Pfalzheim",
                                    "Address": "Mehrheimerstr. 369",
                                    "City": "Köln",
                                    "PostalCode": "50739",
                                    "Country": "Germany"
                                },
                                {
                                    "CustomerID": "52",
                                    "CustomerName": "Morgenstern Gesundkost",
                                    "ContactName": "Alexander Feuer",
                                    "Address": "Heerstr. 22",
                                    "City": "Leipzig",
                                    "PostalCode": "4179",
                                    "Country": "Germany"
                                },
                                {
                                    "CustomerID": "6",
                                    "CustomerName": "Blauer See Delikatessen",
                                    "ContactName": "Hanna Moos",
                                    "Address": "Forsterstr. 57",
                                    "City": "Mannheim",
                                    "PostalCode": "68306",
                                    "Country": "Germany"
                                },
                                {
                                    "CustomerID": "25",
                                    "CustomerName": "Frankenversand",
                                    "ContactName": "Peter Franken",
                                    "Address": "Berliner Platz 43",
                                    "City": "München",
                                    "PostalCode": "80805",
                                    "Country": "Germany"
                                },
                                {
                                    "CustomerID": "79",
                                    "CustomerName": "Toms Spezialitäten",
                                    "ContactName": "Karin Josephs",
                                    "Address": "Luisenstr. 48",
                                    "City": "Münster",
                                    "PostalCode": "44087",
                                    "Country": "Germany"
                                },
                                {
                                    "CustomerID": "86",
                                    "CustomerName": "Die Wandernde Kuh",
                                    "ContactName": "Rita Müller",
                                    "Address": "Adenauerallee 900",
                                    "City": "Stuttgart",
                                    "PostalCode": "70563",
                                    "Country": "Germany"
                                },
                                {
                                    "CustomerID": "37",
                                    "CustomerName": "Hungry Owl All-Night Grocers",
                                    "ContactName": "Patricia McKenna",
                                    "Address": "8 Johnstown Road",
                                    "City": "Cork",
                                    "PostalCode": "",
                                    "Country": "Ireland"
                                },
                                {
                                    "CustomerID": "49",
                                    "CustomerName": "Magazzini Alimentari Riuniti",
                                    "ContactName": "Giovanni Rovelli",
                                    "Address": "Via Ludovico il Moro 22",
                                    "City": "Bergamo",
                                    "PostalCode": "24100",
                                    "Country": "Italy"
                                },
                                {
                                    "CustomerID": "66",
                                    "CustomerName": "Reggiani Caseifici",
                                    "ContactName": "Maurizio Moroni",
                                    "Address": "Strada Provinciale 124",
                                    "City": "Reggio Emilia",
                                    "PostalCode": "42100",
                                    "Country": "Italy"
                                },
                                {
                                    "CustomerID": "27",
                                    "CustomerName": "Franchi S.p.A.",
                                    "ContactName": "Paolo Accorti",
                                    "Address": "Via Monte Bianco 34",
                                    "City": "Torino",
                                    "PostalCode": "10100",
                                    "Country": "Italy"
                                },
                                {
                                    "CustomerID": "2",
                                    "CustomerName": "Ana Trujillo Emparedados y helados",
                                    "ContactName": "Ana Trujillo",
                                    "Address": "Avda. de la Constitución 2222",
                                    "City": "México D.F.",
                                    "PostalCode": "5021",
                                    "Country": "Mexico"
                                },
                                {
                                    "CustomerID": "3",
                                    "CustomerName": "Antonio Moreno Taquería",
                                    "ContactName": "Antonio Moreno",
                                    "Address": "Mataderos 2312",
                                    "City": "México D.F.",
                                    "PostalCode": "5023",
                                    "Country": "Mexico"
                                },
                                {
                                    "CustomerID": "13",
                                    "CustomerName": "Centro comercial Moctezuma",
                                    "ContactName": "Francisco Chang",
                                    "Address": "Sierras de Granada 9993",
                                    "City": "México D.F.",
                                    "PostalCode": "5022",
                                    "Country": "Mexico"
                                },
                                {
                                    "CustomerID": "58",
                                    "CustomerName": "Pericles Comidas clásicas",
                                    "ContactName": "Guillermo Fernández",
                                    "Address": "Calle Dr. Jorge Cash 321",
                                    "City": "México D.F.",
                                    "PostalCode": "5033",
                                    "Country": "Mexico"
                                },
                                {
                                    "CustomerID": "80",
                                    "CustomerName": "Tortuga Restaurante",
                                    "ContactName": "Miguel Angel Paolino",
                                    "Address": "Avda. Azteca 123",
                                    "City": "México D.F.",
                                    "PostalCode": "5033",
                                    "Country": "Mexico"
                                },
                                {
                                    "CustomerID": "70",
                                    "CustomerName": "Santé Gourmet",
                                    "ContactName": "Jonas Bergulfsen",
                                    "Address": "Erling Skakkes gate 78",
                                    "City": "Stavern",
                                    "PostalCode": "4110",
                                    "Country": "Norway"
                                },
                                {
                                    "CustomerID": "91",
                                    "CustomerName": "Wolski",
                                    "ContactName": "Zbyszek",
                                    "Address": "ul. Filtrowa 68",
                                    "City": "Walla",
                                    "PostalCode": "01-012",
                                    "Country": "Poland"
                                },
                                {
                                    "CustomerID": "60",
                                    "CustomerName": "Princesa Isabel Vinhoss",
                                    "ContactName": "Isabel de Castro",
                                    "Address": "Estrada da saúde n. 58",
                                    "City": "Lisboa",
                                    "PostalCode": "1756",
                                    "Country": "Portugal"
                                },
                                {
                                    "CustomerID": "28",
                                    "CustomerName": "Furia Bacalhau e Frutos do Mar",
                                    "ContactName": "Lino Rodriguez",
                                    "Address": "Jardim das rosas n. 32",
                                    "City": "Lisboa",
                                    "PostalCode": "1675",
                                    "Country": "Portugal"
                                },
                                {
                                    "CustomerID": "92",
                                    "CustomerName": "pingpro",
                                    "ContactName": "ado mahmutovic",
                                    "Address": "NULL",
                                    "City": "novi pazar",
                                    "PostalCode": "NULL",
                                    "Country": "serbia"
                                },
                                {
                                    "CustomerID": "93",
                                    "CustomerName": "pingpro",
                                    "ContactName": "ado mahmutovic",
                                    "Address": "NULL",
                                    "City": "novi pazar",
                                    "PostalCode": "NULL",
                                    "Country": "serbia"
                                },
                                {
                                    "CustomerID": "94",
                                    "CustomerName": "gimnazija",
                                    "ContactName": "caka razdaginac",
                                    "Address": "NULL",
                                    "City": "novi pazar",
                                    "PostalCode": "NULL",
                                    "Country": "serbia"
                                },
                                {
                                    "CustomerID": "95",
                                    "CustomerName": "pingpro",
                                    "ContactName": "ado mahmutovic",
                                    "Address": "NULL",
                                    "City": "novi pazar",
                                    "PostalCode": "NULL",
                                    "Country": "serbia"
                                },
                                {
                                    "CustomerID": "96",
                                    "CustomerName": "pingpro",
                                    "ContactName": "ado mahmutovic",
                                    "Address": "NULL",
                                    "City": "novi pazar",
                                    "PostalCode": "NULL",
                                    "Country": "serbia"
                                },
                                {
                                    "CustomerID": "97",
                                    "CustomerName": "gimnazija",
                                    "ContactName": "caka razdaginac",
                                    "Address": "NULL",
                                    "City": "novi pazar",
                                    "PostalCode": "NULL",
                                    "Country": "serbia"
                                },
                                {
                                    "CustomerID": "98",
                                    "CustomerName": "pingpro",
                                    "ContactName": "ado mahmutovic",
                                    "Address": "NULL",
                                    "City": "novi pazar",
                                    "PostalCode": "NULL",
                                    "Country": "serbia"
                                },
                                {
                                    "CustomerID": "99",
                                    "CustomerName": "pingpro",
                                    "ContactName": "ado mahmutovic",
                                    "Address": "NULL",
                                    "City": "novi pazar",
                                    "PostalCode": "NULL",
                                    "Country": "serbia"
                                },
                                {
                                    "CustomerID": "100",
                                    "CustomerName": "gimnazija",
                                    "ContactName": "caka razdaginac",
                                    "Address": "NULL",
                                    "City": "novi pazar",
                                    "PostalCode": "NULL",
                                    "Country": "serbia"
                                },
                                {
                                    "CustomerID": "101",
                                    "CustomerName": "pingpro",
                                    "ContactName": "ado mahmutovic",
                                    "Address": "NULL",
                                    "City": "novi pazar",
                                    "PostalCode": "NULL",
                                    "Country": "serbia"
                                },
                                {
                                    "CustomerID": "102",
                                    "CustomerName": "pingpro",
                                    "ContactName": "ado mahmutovic",
                                    "Address": "NULL",
                                    "City": "novi pazar",
                                    "PostalCode": "NULL",
                                    "Country": "serbia"
                                },
                                {
                                    "CustomerID": "103",
                                    "CustomerName": "gimnazija",
                                    "ContactName": "caka razdaginac",
                                    "Address": "NULL",
                                    "City": "novi pazar",
                                    "PostalCode": "NULL",
                                    "Country": "serbia"
                                },
                                {
                                    "CustomerID": "104",
                                    "CustomerName": "pingpro",
                                    "ContactName": "ado mahmutovic",
                                    "Address": "NULL",
                                    "City": "novi pazar",
                                    "PostalCode": "NULL",
                                    "Country": "serbia"
                                },
                                {
                                    "CustomerID": "105",
                                    "CustomerName": "pingpro",
                                    "ContactName": "ado mahmutovic",
                                    "Address": "NULL",
                                    "City": "novi pazar",
                                    "PostalCode": "NULL",
                                    "Country": "serbia"
                                },
                                {
                                    "CustomerID": "106",
                                    "CustomerName": "gimnazija",
                                    "ContactName": "caka razdaginac",
                                    "Address": "NULL",
                                    "City": "novi pazar",
                                    "PostalCode": "NULL",
                                    "Country": "serbia"
                                },
                                {
                                    "CustomerID": "107",
                                    "CustomerName": "pingpro",
                                    "ContactName": "ado mahmutovic",
                                    "Address": "NULL",
                                    "City": "novi pazar",
                                    "PostalCode": "NULL",
                                    "Country": "serbia"
                                },
                                {
                                    "CustomerID": "108",
                                    "CustomerName": "pingpro",
                                    "ContactName": "ado mahmutovic",
                                    "Address": "NULL",
                                    "City": "novi pazar",
                                    "PostalCode": "NULL",
                                    "Country": "serbia"
                                },
                                {
                                    "CustomerID": "109",
                                    "CustomerName": "gimnazija",
                                    "ContactName": "caka razdaginac",
                                    "Address": "NULL",
                                    "City": "novi pazar",
                                    "PostalCode": "NULL",
                                    "Country": "serbia"
                                },
                                {
                                    "CustomerID": "110",
                                    "CustomerName": "pingpro",
                                    "ContactName": "ado mahmutovic",
                                    "Address": "NULL",
                                    "City": "novi pazar",
                                    "PostalCode": "NULL",
                                    "Country": "serbia"
                                },
                                {
                                    "CustomerID": "111",
                                    "CustomerName": "pingpro",
                                    "ContactName": "ado mahmutovic",
                                    "Address": "NULL",
                                    "City": "novi pazar",
                                    "PostalCode": "NULL",
                                    "Country": "serbia"
                                },
                                {
                                    "CustomerID": "112",
                                    "CustomerName": "gimnazija",
                                    "ContactName": "caka razdaginac",
                                    "Address": "NULL",
                                    "City": "novi pazar",
                                    "PostalCode": "NULL",
                                    "Country": "serbia"
                                },
                                {
                                    "CustomerID": "29",
                                    "CustomerName": "Galería del gastrónomo",
                                    "ContactName": "Eduardo Saavedra",
                                    "Address": "Rambla de Cataluña, 23",
                                    "City": "Barcelona",
                                    "PostalCode": "8022",
                                    "Country": "Spain"
                                },
                                {
                                    "CustomerID": "22",
                                    "CustomerName": "FISSA Fabrica Inter. Salchichas S.A.",
                                    "ContactName": "Diego Roel",
                                    "Address": "C/ Moralzarzal, 86",
                                    "City": "Madrid",
                                    "PostalCode": "28034",
                                    "Country": "Spain"
                                },
                                {
                                    "CustomerID": "8",
                                    "CustomerName": "Bólido Comidas preparadas",
                                    "ContactName": "Martín Sommer",
                                    "Address": "C/ Araquil, 67",
                                    "City": "Madrid",
                                    "PostalCode": "28023",
                                    "Country": "Spain"
                                },
                                {
                                    "CustomerID": "69",
                                    "CustomerName": "Romero y tomillo",
                                    "ContactName": "Alejandra Camino",
                                    "Address": "Gran Vía, 1",
                                    "City": "Madrid",
                                    "PostalCode": "28001",
                                    "Country": "Spain"
                                },
                                {
                                    "CustomerID": "30",
                                    "CustomerName": "Godos Cocina Típica",
                                    "ContactName": "José Pedro Freyre",
                                    "Address": "C/ Romero, 33",
                                    "City": "Sevilla",
                                    "PostalCode": "41101",
                                    "Country": "Spain"
                                },
                                {
                                    "CustomerID": "24",
                                    "CustomerName": "Folk och fä HB",
                                    "ContactName": "Maria Larsson",
                                    "Address": "Åkergatan 24",
                                    "City": "Bräcke",
                                    "PostalCode": "S-844 67",
                                    "Country": "Sweden"
                                },
                                {
                                    "CustomerID": "5",
                                    "CustomerName": "Berglunds snabbköp",
                                    "ContactName": "Christina Berglund",
                                    "Address": "Berguvsvägen 8",
                                    "City": "Luleå",
                                    "PostalCode": "S-958 22",
                                    "Country": "Sweden"
                                },
                                {
                                    "CustomerID": "14",
                                    "CustomerName": "Chop-suey Chinese",
                                    "ContactName": "Yang Wang",
                                    "Address": "Hauptstr. 29",
                                    "City": "Bern",
                                    "PostalCode": "3012",
                                    "Country": "Switzerland"
                                },
                                {
                                    "CustomerID": "68",
                                    "CustomerName": "Richter Supermarkt",
                                    "ContactName": "Michael Holz",
                                    "Address": "Grenzacherweg 237",
                                    "City": "Genève",
                                    "PostalCode": "1203",
                                    "Country": "Switzerland"
                                },
                                {
                                    "CustomerID": "38",
                                    "CustomerName": "Island Trading",
                                    "ContactName": "Helen Bennett",
                                    "Address": "Garden House Crowther Way",
                                    "City": "Cowes",
                                    "PostalCode": "PO31 7PJ",
                                    "Country": "UK"
                                },
                                {
                                    "CustomerID": "53",
                                    "CustomerName": "North/South",
                                    "ContactName": "Simon Crowther",
                                    "Address": "South House 300 Queensbridge",
                                    "City": "London",
                                    "PostalCode": "SW7 1RZ",
                                    "Country": "UK"
                                },
                                {
                                    "CustomerID": "11",
                                    "CustomerName": "B''s Beverages",
                                    "ContactName": "Victoria Ashworth",
                                    "Address": "Fauntleroy Circus",
                                    "City": "London",
                                    "PostalCode": "EC2 5NT",
                                    "Country": "UK"
                                },
                                {
                                    "CustomerID": "16",
                                    "CustomerName": "Consolidated Holdings",
                                    "ContactName": "Elizabeth Brown",
                                    "Address": "Berkeley Gardens 12 Brewery",
                                    "City": "London",
                                    "PostalCode": "WX1 6LT",
                                    "Country": "UK"
                                },
                                {
                                    "CustomerID": "4",
                                    "CustomerName": "Around the Horn",
                                    "ContactName": "Thomas Hardy",
                                    "Address": "120 Hanover Sq.",
                                    "City": "London",
                                    "PostalCode": "WA1 1DP",
                                    "Country": "UK"
                                },
                                {
                                    "CustomerID": "19",
                                    "CustomerName": "Eastern Connection",
                                    "ContactName": "Ann Devon",
                                    "Address": "35 King George",
                                    "City": "London",
                                    "PostalCode": "WX3 6FW",
                                    "Country": "UK"
                                },
                                {
                                    "CustomerID": "72",
                                    "CustomerName": "Seven Seas Imports",
                                    "ContactName": "Hari Kumar",
                                    "Address": "90 Wadhurst Rd.",
                                    "City": "London",
                                    "PostalCode": "OX15 4NB",
                                    "Country": "UK"
                                },
                                {
                                    "CustomerID": "65",
                                    "CustomerName": "Rattlesnake Canyon Grocery",
                                    "ContactName": "Paula Wilson",
                                    "Address": "2817 Milton Dr.",
                                    "City": "Albuquerque",
                                    "PostalCode": "87110",
                                    "Country": "USA"
                                },
                                {
                                    "CustomerID": "55",
                                    "CustomerName": "Old World Delicatessen",
                                    "ContactName": "Rene Phillips",
                                    "Address": "2743 Bering St.",
                                    "City": "Anchorage",
                                    "PostalCode": "99508",
                                    "Country": "USA"
                                },
                                {
                                    "CustomerID": "71",
                                    "CustomerName": "Save-a-lot Markets",
                                    "ContactName": "Jose Pavarotti",
                                    "Address": "187 Suffolk Ln.",
                                    "City": "Boise",
                                    "PostalCode": "83720",
                                    "Country": "USA"
                                },
                                {
                                    "CustomerID": "78",
                                    "CustomerName": "The Cracker Box",
                                    "ContactName": "Liu Wong",
                                    "Address": "55 Grizzly Peak Rd.",
                                    "City": "Butte",
                                    "PostalCode": "59801",
                                    "Country": "USA"
                                },
                                {
                                    "CustomerID": "36",
                                    "CustomerName": "Hungry Coyote Import Store",
                                    "ContactName": "Yoshi Latimer",
                                    "Address": "City Center Plaza 516 Main St.",
                                    "City": "Elgin",
                                    "PostalCode": "97827",
                                    "Country": "USA"
                                },
                                {
                                    "CustomerID": "32",
                                    "CustomerName": "Great Lakes Food Market",
                                    "ContactName": "Howard Snyder",
                                    "Address": "2732 Baker Blvd.",
                                    "City": "Eugene",
                                    "PostalCode": "97403",
                                    "Country": "USA"
                                },
                                {
                                    "CustomerID": "82",
                                    "CustomerName": "Trail''s Head Gourmet Provisioners",
                                    "ContactName": "Helvetius Nagy",
                                    "Address": "722 DaVinci Blvd.",
                                    "City": "Kirkland",
                                    "PostalCode": "98034",
                                    "Country": "USA"
                                },
                                {
                                    "CustomerID": "75",
                                    "CustomerName": "Split Rail Beer & Ale",
                                    "ContactName": "Art Braunschweiger",
                                    "Address": "P.O. Box 555",
                                    "City": "Lander",
                                    "PostalCode": "82520",
                                    "Country": "USA"
                                },
                                {
                                    "CustomerID": "77",
                                    "CustomerName": "The Big Cheese",
                                    "ContactName": "Liz Nixon",
                                    "Address": "89 Jefferson Way Suite 2",
                                    "City": "Portland",
                                    "PostalCode": "97201",
                                    "Country": "USA"
                                },
                                {
                                    "CustomerID": "48",
                                    "CustomerName": "Lonesome Pine Restaurant",
                                    "ContactName": "Fran Wilson",
                                    "Address": "89 Chiaroscuro Rd.",
                                    "City": "Portland",
                                    "PostalCode": "97219",
                                    "Country": "USA"
                                },
                                {
                                    "CustomerID": "45",
                                    "CustomerName": "Let''s Stop N Shop",
                                    "ContactName": "Jaime Yorres",
                                    "Address": "87 Polk St. Suite 5",
                                    "City": "San Francisco",
                                    "PostalCode": "94117",
                                    "Country": "USA"
                                },
                                {
                                    "CustomerID": "89",
                                    "CustomerName": "White Clover Markets",
                                    "ContactName": "Karl Jablonski",
                                    "Address": "305 - 14th Ave. S. Suite 3B",
                                    "City": "Seattle",
                                    "PostalCode": "98128",
                                    "Country": "USA"
                                },
                                {
                                    "CustomerID": "43",
                                    "CustomerName": "Lazy K Kountry Store",
                                    "ContactName": "John Steel",
                                    "Address": "12 Orchestra Terrace",
                                    "City": "Walla Walla",
                                    "PostalCode": "99362",
                                    "Country": "USA"
                                },
                                {
                                    "CustomerID": "46",
                                    "CustomerName": "LILA-Supermercado",
                                    "ContactName": "Carlos González",
                                    "Address": "Carrera 52 con Ave. Bolívar #65-98 Llano Largo",
                                    "City": "Barquisimeto",
                                    "PostalCode": "3508",
                                    "Country": "Venezuela"
                                },
                                {
                                    "CustomerID": "33",
                                    "CustomerName": "GROSELLA-Restaurante",
                                    "ContactName": "Manuel Pereira",
                                    "Address": "5ª Ave. Los Palos Grandes",
                                    "City": "Caracas",
                                    "PostalCode": "1081",
                                    "Country": "Venezuela"
                                },
                                {
                                    "CustomerID": "47",
                                    "CustomerName": "LINO-Delicateses",
                                    "ContactName": "Felipe Izquierdo",
                                    "Address": "Ave. 5 de Mayo Porlamar",
                                    "City": "I. de Margarita",
                                    "PostalCode": "4980",
                                    "Country": "Venezuela"
                                },
                                {
                                    "CustomerID": "35",
                                    "CustomerName": "HILARIÓN-Abastos",
                                    "ContactName": "Carlos Hernández",
                                    "Address": "Carrera 22 con Ave. Carlos Soublette #8-35",
                                    "City": "San Cristóbal",
                                    "PostalCode": "5022",
                                    "Country": "Venezuela"
                                }
                            ]
                        },
                        "text/html": [
                            "<table>",
                            "<tr><th>CustomerID</th><th>CustomerName</th><th>ContactName</th><th>Address</th><th>City</th><th>PostalCode</th><th>Country</th></tr>",
                            "<tr><td>12</td><td>Cactus Comidas para llevar</td><td>Patricio Simpson</td><td>Cerrito 333</td><td>Buenos Aires</td><td>1010</td><td>Argentina</td></tr>",
                            "<tr><td>54</td><td>Océano Atlántico Ltda.</td><td>Yvonne Moncada</td><td>Ing. Gustavo Moncada 8585 Piso 20-A</td><td>Buenos Aires</td><td>1010</td><td>Argentina</td></tr>",
                            "<tr><td>64</td><td>Rancho grande</td><td>Sergio Gutiérrez</td><td>Av. del Libertador 900</td><td>Buenos Aires</td><td>1010</td><td>Argentina</td></tr>",
                            "<tr><td>20</td><td>Ernst Handel</td><td>Roland Mendel</td><td>Kirchgasse 6</td><td>Graz</td><td>8010</td><td>Austria</td></tr>",
                            "<tr><td>59</td><td>Piccolo und mehr</td><td>Georg Pipps</td><td>Geislweg 14</td><td>Salzburg</td><td>5020</td><td>Austria</td></tr>",
                            "<tr><td>50</td><td>Maison Dewey</td><td>Catherine Dewey</td><td>Rue Joseph-Bens 532</td><td>Bruxelles</td><td>B-1180</td><td>Belgium</td></tr>",
                            "<tr><td>76</td><td>Suprêmes délices</td><td>Pascale Cartrain</td><td>Boulevard Tirou, 255</td><td>Charleroi</td><td>B-6000</td><td>Belgium</td></tr>",
                            "<tr><td>31</td><td>Gourmet Lanchonetes</td><td>André Fonseca</td><td>Av. Brasil, 442</td><td>Campinas</td><td>04876-786</td><td>Brazil</td></tr>",
                            "<tr><td>88</td><td>Wellington Importadora</td><td>Paula Parente</td><td>Rua do Mercado, 12</td><td>Resende</td><td>08737-363</td><td>Brazil</td></tr>",
                            "<tr><td>34</td><td>Hanari Carnes</td><td>Mario Pontes</td><td>Rua do Paço, 67</td><td>Rio de Janeiro</td><td>05454-876</td><td>Brazil</td></tr>",
                            "<tr><td>61</td><td>Que Delícia</td><td>Bernardo Batista</td><td>Rua da Panificadora, 12</td><td>Rio de Janeiro</td><td>02389-673</td><td>Brazil</td></tr>",
                            "<tr><td>67</td><td>Ricardo Adocicados</td><td>Janete Limeira</td><td>Av. Copacabana, 267</td><td>Rio de Janeiro</td><td>02389-890</td><td>Brazil</td></tr>",
                            "<tr><td>62</td><td>Queen Cozinha</td><td>Lúcia Carvalho</td><td>Alameda dos Canàrios, 891</td><td>São Paulo</td><td>05487-020</td><td>Brazil</td></tr>",
                            "<tr><td>21</td><td>Familia Arquibaldo</td><td>Aria Cruz</td><td>Rua Orós, 92</td><td>São Paulo</td><td>05442-030</td><td>Brazil</td></tr>",
                            "<tr><td>15</td><td>Comércio Mineiro</td><td>Pedro Afonso</td><td>Av. dos Lusíadas, 23</td><td>São Paulo</td><td>05432-043</td><td>Brazil</td></tr>",
                            "<tr><td>81</td><td>Tradição Hipermercados</td><td>Anabela Domingues</td><td>Av. Inês de Castro, 414</td><td>São Paulo</td><td>05634-030</td><td>Brazil</td></tr>",
                            "<tr><td>51</td><td>Mère Paillarde</td><td>Jean Fresnière</td><td>43 rue St. Laurent</td><td>Montréal</td><td>H1J 1C3</td><td>Canada</td></tr>",
                            "<tr><td>10</td><td>Bottom-Dollar Marketse</td><td>Elizabeth Lincoln</td><td>23 Tsawassen Blvd.</td><td>Tsawassen</td><td>T2F 8M4</td><td>Canada</td></tr>",
                            "<tr><td>42</td><td>Laughing Bacchus Wine Cellars</td><td>Yoshi Tannamuri</td><td>1900 Oak St.</td><td>Vancouver</td><td>V3F 2K1</td><td>Canada</td></tr>",
                            "<tr><td>83</td><td>Vaffeljernet</td><td>Palle Ibsen</td><td>Smagsløget 45</td><td>Århus</td><td>8200</td><td>Denmark</td></tr>",
                            "<tr><td>73</td><td>Simons bistro</td><td>Jytte Petersen</td><td>Vinbæltet 34</td><td>København</td><td>1734</td><td>Denmark</td></tr>",
                            "<tr><td>90</td><td>Wilman Kala</td><td>Matti Karttunen</td><td>Keskuskatu 45</td><td>Helsinki</td><td>21240</td><td>Finland</td></tr>",
                            "<tr><td>87</td><td>Wartian Herkku</td><td>Pirkko Koskitalo</td><td>Torikatu 38</td><td>Oulu</td><td>90110</td><td>Finland</td></tr>",
                            "<tr><td>23</td><td>Folies gourmandes</td><td>Martine Rancé</td><td>184, chaussée de Tournai</td><td>Lille</td><td>59000</td><td>France</td></tr>",
                            "<tr><td>84</td><td>Victuailles en stock</td><td>Mary Saveley</td><td>2, rue du Commerce</td><td>Lyon</td><td>69004</td><td>France</td></tr>",
                            "<tr><td>9</td><td>Bon app&#39;&#39;</td><td>Laurence Lebihans</td><td>12, rue des Bouchers</td><td>Marseille</td><td>13008</td><td>France</td></tr>",
                            "<tr><td>18</td><td>Du monde entier</td><td>Janine Labrune</td><td>67, rue des Cinquante Otages</td><td>Nantes</td><td>44000</td><td>France</td></tr>",
                            "<tr><td>26</td><td>France restauration</td><td>Carine Schmitt</td><td>54, rue Royale</td><td>Nantes</td><td>44000</td><td>France</td></tr>",
                            "<tr><td>57</td><td>Paris spécialités</td><td>Marie Bertrand</td><td>265, boulevard Charonne</td><td>Paris</td><td>75012</td><td>France</td></tr>",
                            "<tr><td>74</td><td>Spécialités du monde</td><td>Dominique Perrier</td><td>25, rue Lauriston</td><td>Paris</td><td>75016</td><td>France</td></tr>",
                            "<tr><td>85</td><td>Vins et alcools Chevalier</td><td>Paul Henriot</td><td>59 rue de l&#39;&#39;Abbaye</td><td>Reims</td><td>51100</td><td>France</td></tr>",
                            "<tr><td>7</td><td>Blondel père et fils</td><td>Frédérique Citeaux</td><td>24, place Kléber</td><td>Strasbourg</td><td>67000</td><td>France</td></tr>",
                            "<tr><td>41</td><td>La maison d&#39;&#39;Asie</td><td>Annette Roulet</td><td>1 rue Alsace-Lorraine</td><td>Toulouse</td><td>31000</td><td>France</td></tr>",
                            "<tr><td>40</td><td>La corne d&#39;&#39;abondance</td><td>Daniel Tonini</td><td>67, avenue de l&#39;&#39;Europe</td><td>Versailles</td><td>78000</td><td>France</td></tr>",
                            "<tr><td>17</td><td>Drachenblut Delikatessend</td><td>Sven Ottlieb</td><td>Walserweg 21</td><td>Aachen</td><td>52066</td><td>Germany</td></tr>",
                            "<tr><td>1</td><td>Alfreds Futterkiste</td><td>Maria Anders</td><td>Obere Str. 57</td><td>Berlin</td><td>12209</td><td>Germany</td></tr>",
                            "<tr><td>39</td><td>Königlich Essen</td><td>Philip Cramer</td><td>Maubelstr. 90</td><td>Brandenburg</td><td>14776</td><td>Germany</td></tr>",
                            "<tr><td>63</td><td>QUICK-Stop</td><td>Horst Kloss</td><td>Taucherstraße 10</td><td>Cunewalde</td><td>1307</td><td>Germany</td></tr>",
                            "<tr><td>44</td><td>Lehmanns Marktstand</td><td>Renate Messner</td><td>Magazinweg 7</td><td>Frankfurt a.M.</td><td>60528</td><td>Germany</td></tr>",
                            "<tr><td>56</td><td>Ottilies Käseladen</td><td>Henriette Pfalzheim</td><td>Mehrheimerstr. 369</td><td>Köln</td><td>50739</td><td>Germany</td></tr>",
                            "<tr><td>52</td><td>Morgenstern Gesundkost</td><td>Alexander Feuer</td><td>Heerstr. 22</td><td>Leipzig</td><td>4179</td><td>Germany</td></tr>",
                            "<tr><td>6</td><td>Blauer See Delikatessen</td><td>Hanna Moos</td><td>Forsterstr. 57</td><td>Mannheim</td><td>68306</td><td>Germany</td></tr>",
                            "<tr><td>25</td><td>Frankenversand</td><td>Peter Franken</td><td>Berliner Platz 43</td><td>München</td><td>80805</td><td>Germany</td></tr>",
                            "<tr><td>79</td><td>Toms Spezialitäten</td><td>Karin Josephs</td><td>Luisenstr. 48</td><td>Münster</td><td>44087</td><td>Germany</td></tr>",
                            "<tr><td>86</td><td>Die Wandernde Kuh</td><td>Rita Müller</td><td>Adenauerallee 900</td><td>Stuttgart</td><td>70563</td><td>Germany</td></tr>",
                            "<tr><td>37</td><td>Hungry Owl All-Night Grocers</td><td>Patricia McKenna</td><td>8 Johnstown Road</td><td>Cork</td><td></td><td>Ireland</td></tr>",
                            "<tr><td>49</td><td>Magazzini Alimentari Riuniti</td><td>Giovanni Rovelli</td><td>Via Ludovico il Moro 22</td><td>Bergamo</td><td>24100</td><td>Italy</td></tr>",
                            "<tr><td>66</td><td>Reggiani Caseifici</td><td>Maurizio Moroni</td><td>Strada Provinciale 124</td><td>Reggio Emilia</td><td>42100</td><td>Italy</td></tr>",
                            "<tr><td>27</td><td>Franchi S.p.A.</td><td>Paolo Accorti</td><td>Via Monte Bianco 34</td><td>Torino</td><td>10100</td><td>Italy</td></tr>",
                            "<tr><td>2</td><td>Ana Trujillo Emparedados y helados</td><td>Ana Trujillo</td><td>Avda. de la Constitución 2222</td><td>México D.F.</td><td>5021</td><td>Mexico</td></tr>",
                            "<tr><td>3</td><td>Antonio Moreno Taquería</td><td>Antonio Moreno</td><td>Mataderos 2312</td><td>México D.F.</td><td>5023</td><td>Mexico</td></tr>",
                            "<tr><td>13</td><td>Centro comercial Moctezuma</td><td>Francisco Chang</td><td>Sierras de Granada 9993</td><td>México D.F.</td><td>5022</td><td>Mexico</td></tr>",
                            "<tr><td>58</td><td>Pericles Comidas clásicas</td><td>Guillermo Fernández</td><td>Calle Dr. Jorge Cash 321</td><td>México D.F.</td><td>5033</td><td>Mexico</td></tr>",
                            "<tr><td>80</td><td>Tortuga Restaurante</td><td>Miguel Angel Paolino</td><td>Avda. Azteca 123</td><td>México D.F.</td><td>5033</td><td>Mexico</td></tr>",
                            "<tr><td>70</td><td>Santé Gourmet</td><td>Jonas Bergulfsen</td><td>Erling Skakkes gate 78</td><td>Stavern</td><td>4110</td><td>Norway</td></tr>",
                            "<tr><td>91</td><td>Wolski</td><td>Zbyszek</td><td>ul. Filtrowa 68</td><td>Walla</td><td>01-012</td><td>Poland</td></tr>",
                            "<tr><td>60</td><td>Princesa Isabel Vinhoss</td><td>Isabel de Castro</td><td>Estrada da saúde n. 58</td><td>Lisboa</td><td>1756</td><td>Portugal</td></tr>",
                            "<tr><td>28</td><td>Furia Bacalhau e Frutos do Mar</td><td>Lino Rodriguez</td><td>Jardim das rosas n. 32</td><td>Lisboa</td><td>1675</td><td>Portugal</td></tr>",
                            "<tr><td>92</td><td>pingpro</td><td>ado mahmutovic</td><td>NULL</td><td>novi pazar</td><td>NULL</td><td>serbia</td></tr>",
                            "<tr><td>93</td><td>pingpro</td><td>ado mahmutovic</td><td>NULL</td><td>novi pazar</td><td>NULL</td><td>serbia</td></tr>",
                            "<tr><td>94</td><td>gimnazija</td><td>caka razdaginac</td><td>NULL</td><td>novi pazar</td><td>NULL</td><td>serbia</td></tr>",
                            "<tr><td>95</td><td>pingpro</td><td>ado mahmutovic</td><td>NULL</td><td>novi pazar</td><td>NULL</td><td>serbia</td></tr>",
                            "<tr><td>96</td><td>pingpro</td><td>ado mahmutovic</td><td>NULL</td><td>novi pazar</td><td>NULL</td><td>serbia</td></tr>",
                            "<tr><td>97</td><td>gimnazija</td><td>caka razdaginac</td><td>NULL</td><td>novi pazar</td><td>NULL</td><td>serbia</td></tr>",
                            "<tr><td>98</td><td>pingpro</td><td>ado mahmutovic</td><td>NULL</td><td>novi pazar</td><td>NULL</td><td>serbia</td></tr>",
                            "<tr><td>99</td><td>pingpro</td><td>ado mahmutovic</td><td>NULL</td><td>novi pazar</td><td>NULL</td><td>serbia</td></tr>",
                            "<tr><td>100</td><td>gimnazija</td><td>caka razdaginac</td><td>NULL</td><td>novi pazar</td><td>NULL</td><td>serbia</td></tr>",
                            "<tr><td>101</td><td>pingpro</td><td>ado mahmutovic</td><td>NULL</td><td>novi pazar</td><td>NULL</td><td>serbia</td></tr>",
                            "<tr><td>102</td><td>pingpro</td><td>ado mahmutovic</td><td>NULL</td><td>novi pazar</td><td>NULL</td><td>serbia</td></tr>",
                            "<tr><td>103</td><td>gimnazija</td><td>caka razdaginac</td><td>NULL</td><td>novi pazar</td><td>NULL</td><td>serbia</td></tr>",
                            "<tr><td>104</td><td>pingpro</td><td>ado mahmutovic</td><td>NULL</td><td>novi pazar</td><td>NULL</td><td>serbia</td></tr>",
                            "<tr><td>105</td><td>pingpro</td><td>ado mahmutovic</td><td>NULL</td><td>novi pazar</td><td>NULL</td><td>serbia</td></tr>",
                            "<tr><td>106</td><td>gimnazija</td><td>caka razdaginac</td><td>NULL</td><td>novi pazar</td><td>NULL</td><td>serbia</td></tr>",
                            "<tr><td>107</td><td>pingpro</td><td>ado mahmutovic</td><td>NULL</td><td>novi pazar</td><td>NULL</td><td>serbia</td></tr>",
                            "<tr><td>108</td><td>pingpro</td><td>ado mahmutovic</td><td>NULL</td><td>novi pazar</td><td>NULL</td><td>serbia</td></tr>",
                            "<tr><td>109</td><td>gimnazija</td><td>caka razdaginac</td><td>NULL</td><td>novi pazar</td><td>NULL</td><td>serbia</td></tr>",
                            "<tr><td>110</td><td>pingpro</td><td>ado mahmutovic</td><td>NULL</td><td>novi pazar</td><td>NULL</td><td>serbia</td></tr>",
                            "<tr><td>111</td><td>pingpro</td><td>ado mahmutovic</td><td>NULL</td><td>novi pazar</td><td>NULL</td><td>serbia</td></tr>",
                            "<tr><td>112</td><td>gimnazija</td><td>caka razdaginac</td><td>NULL</td><td>novi pazar</td><td>NULL</td><td>serbia</td></tr>",
                            "<tr><td>29</td><td>Galería del gastrónomo</td><td>Eduardo Saavedra</td><td>Rambla de Cataluña, 23</td><td>Barcelona</td><td>8022</td><td>Spain</td></tr>",
                            "<tr><td>22</td><td>FISSA Fabrica Inter. Salchichas S.A.</td><td>Diego Roel</td><td>C/ Moralzarzal, 86</td><td>Madrid</td><td>28034</td><td>Spain</td></tr>",
                            "<tr><td>8</td><td>Bólido Comidas preparadas</td><td>Martín Sommer</td><td>C/ Araquil, 67</td><td>Madrid</td><td>28023</td><td>Spain</td></tr>",
                            "<tr><td>69</td><td>Romero y tomillo</td><td>Alejandra Camino</td><td>Gran Vía, 1</td><td>Madrid</td><td>28001</td><td>Spain</td></tr>",
                            "<tr><td>30</td><td>Godos Cocina Típica</td><td>José Pedro Freyre</td><td>C/ Romero, 33</td><td>Sevilla</td><td>41101</td><td>Spain</td></tr>",
                            "<tr><td>24</td><td>Folk och fä HB</td><td>Maria Larsson</td><td>Åkergatan 24</td><td>Bräcke</td><td>S-844 67</td><td>Sweden</td></tr>",
                            "<tr><td>5</td><td>Berglunds snabbköp</td><td>Christina Berglund</td><td>Berguvsvägen 8</td><td>Luleå</td><td>S-958 22</td><td>Sweden</td></tr>",
                            "<tr><td>14</td><td>Chop-suey Chinese</td><td>Yang Wang</td><td>Hauptstr. 29</td><td>Bern</td><td>3012</td><td>Switzerland</td></tr>",
                            "<tr><td>68</td><td>Richter Supermarkt</td><td>Michael Holz</td><td>Grenzacherweg 237</td><td>Genève</td><td>1203</td><td>Switzerland</td></tr>",
                            "<tr><td>38</td><td>Island Trading</td><td>Helen Bennett</td><td>Garden House Crowther Way</td><td>Cowes</td><td>PO31 7PJ</td><td>UK</td></tr>",
                            "<tr><td>53</td><td>North/South</td><td>Simon Crowther</td><td>South House 300 Queensbridge</td><td>London</td><td>SW7 1RZ</td><td>UK</td></tr>",
                            "<tr><td>11</td><td>B&#39;&#39;s Beverages</td><td>Victoria Ashworth</td><td>Fauntleroy Circus</td><td>London</td><td>EC2 5NT</td><td>UK</td></tr>",
                            "<tr><td>16</td><td>Consolidated Holdings</td><td>Elizabeth Brown</td><td>Berkeley Gardens 12 Brewery</td><td>London</td><td>WX1 6LT</td><td>UK</td></tr>",
                            "<tr><td>4</td><td>Around the Horn</td><td>Thomas Hardy</td><td>120 Hanover Sq.</td><td>London</td><td>WA1 1DP</td><td>UK</td></tr>",
                            "<tr><td>19</td><td>Eastern Connection</td><td>Ann Devon</td><td>35 King George</td><td>London</td><td>WX3 6FW</td><td>UK</td></tr>",
                            "<tr><td>72</td><td>Seven Seas Imports</td><td>Hari Kumar</td><td>90 Wadhurst Rd.</td><td>London</td><td>OX15 4NB</td><td>UK</td></tr>",
                            "<tr><td>65</td><td>Rattlesnake Canyon Grocery</td><td>Paula Wilson</td><td>2817 Milton Dr.</td><td>Albuquerque</td><td>87110</td><td>USA</td></tr>",
                            "<tr><td>55</td><td>Old World Delicatessen</td><td>Rene Phillips</td><td>2743 Bering St.</td><td>Anchorage</td><td>99508</td><td>USA</td></tr>",
                            "<tr><td>71</td><td>Save-a-lot Markets</td><td>Jose Pavarotti</td><td>187 Suffolk Ln.</td><td>Boise</td><td>83720</td><td>USA</td></tr>",
                            "<tr><td>78</td><td>The Cracker Box</td><td>Liu Wong</td><td>55 Grizzly Peak Rd.</td><td>Butte</td><td>59801</td><td>USA</td></tr>",
                            "<tr><td>36</td><td>Hungry Coyote Import Store</td><td>Yoshi Latimer</td><td>City Center Plaza 516 Main St.</td><td>Elgin</td><td>97827</td><td>USA</td></tr>",
                            "<tr><td>32</td><td>Great Lakes Food Market</td><td>Howard Snyder</td><td>2732 Baker Blvd.</td><td>Eugene</td><td>97403</td><td>USA</td></tr>",
                            "<tr><td>82</td><td>Trail&#39;&#39;s Head Gourmet Provisioners</td><td>Helvetius Nagy</td><td>722 DaVinci Blvd.</td><td>Kirkland</td><td>98034</td><td>USA</td></tr>",
                            "<tr><td>75</td><td>Split Rail Beer &amp; Ale</td><td>Art Braunschweiger</td><td>P.O. Box 555</td><td>Lander</td><td>82520</td><td>USA</td></tr>",
                            "<tr><td>77</td><td>The Big Cheese</td><td>Liz Nixon</td><td>89 Jefferson Way Suite 2</td><td>Portland</td><td>97201</td><td>USA</td></tr>",
                            "<tr><td>48</td><td>Lonesome Pine Restaurant</td><td>Fran Wilson</td><td>89 Chiaroscuro Rd.</td><td>Portland</td><td>97219</td><td>USA</td></tr>",
                            "<tr><td>45</td><td>Let&#39;&#39;s Stop N Shop</td><td>Jaime Yorres</td><td>87 Polk St. Suite 5</td><td>San Francisco</td><td>94117</td><td>USA</td></tr>",
                            "<tr><td>89</td><td>White Clover Markets</td><td>Karl Jablonski</td><td>305 - 14th Ave. S. Suite 3B</td><td>Seattle</td><td>98128</td><td>USA</td></tr>",
                            "<tr><td>43</td><td>Lazy K Kountry Store</td><td>John Steel</td><td>12 Orchestra Terrace</td><td>Walla Walla</td><td>99362</td><td>USA</td></tr>",
                            "<tr><td>46</td><td>LILA-Supermercado</td><td>Carlos González</td><td>Carrera 52 con Ave. Bolívar #65-98 Llano Largo</td><td>Barquisimeto</td><td>3508</td><td>Venezuela</td></tr>",
                            "<tr><td>33</td><td>GROSELLA-Restaurante</td><td>Manuel Pereira</td><td>5ª Ave. Los Palos Grandes</td><td>Caracas</td><td>1081</td><td>Venezuela</td></tr>",
                            "<tr><td>47</td><td>LINO-Delicateses</td><td>Felipe Izquierdo</td><td>Ave. 5 de Mayo Porlamar</td><td>I. de Margarita</td><td>4980</td><td>Venezuela</td></tr>",
                            "<tr><td>35</td><td>HILARIÓN-Abastos</td><td>Carlos Hernández</td><td>Carrera 22 con Ave. Carlos Soublette #8-35</td><td>San Cristóbal</td><td>5022</td><td>Venezuela</td></tr>",
                            "</table>"
                        ]
                    }
                }
            ],
            "execution_count": 441
        },
        {
            "cell_type": "markdown",
            "source": [
                "### Exercise 5: SQL AND, OR, NOT"
            ],
            "metadata": {
                "azdata_cell_guid": "e4a6cdbb-e519-468c-88b2-76c3c03f0a72"
            }
        },
        {
            "cell_type": "markdown",
            "source": [
                "**Part A:** Find all products with a price greater than 10 **and** less than 50."
            ],
            "metadata": {
                "azdata_cell_guid": "5f4744a1-191f-4d7a-bed1-5ea14121c9f7"
            }
        },
        {
            "cell_type": "code",
            "source": [
                "/*\n",
                "WRITE AND EXECUTE YOUR IN THIS CELL UNDER THIS COMMENT\n",
                "*/\n",
                "\n",
                "SELECT * FROM Northwind.dbo.Products WHERE Price BETWEEN 10 AND 50;"
            ],
            "metadata": {
                "azdata_cell_guid": "8378fd27-4877-4d6d-bae4-9746ecde8658",
                "language": "sql"
            },
            "outputs": [
                {
                    "output_type": "display_data",
                    "data": {
                        "text/html": "(61 rows affected)"
                    },
                    "metadata": {}
                },
                {
                    "output_type": "display_data",
                    "data": {
                        "text/html": "Total execution time: 00:00:00.001"
                    },
                    "metadata": {}
                },
                {
                    "output_type": "execute_result",
                    "metadata": {},
                    "execution_count": 442,
                    "data": {
                        "application/vnd.dataresource+json": {
                            "schema": {
                                "fields": [
                                    {
                                        "name": "ProductID"
                                    },
                                    {
                                        "name": "ProductName"
                                    },
                                    {
                                        "name": "SupplierID"
                                    },
                                    {
                                        "name": "CategoryID"
                                    },
                                    {
                                        "name": "Unit"
                                    },
                                    {
                                        "name": "Price"
                                    }
                                ]
                            },
                            "data": [
                                {
                                    "ProductID": "1",
                                    "ProductName": "Chais",
                                    "SupplierID": "1",
                                    "CategoryID": "1",
                                    "Unit": "10 boxes x 20 bags",
                                    "Price": "26"
                                },
                                {
                                    "ProductID": "2",
                                    "ProductName": "Chang",
                                    "SupplierID": "1",
                                    "CategoryID": "1",
                                    "Unit": "24 - 12 oz bottles",
                                    "Price": "25"
                                },
                                {
                                    "ProductID": "3",
                                    "ProductName": "Aniseed Syrup",
                                    "SupplierID": "1",
                                    "CategoryID": "2",
                                    "Unit": "12 - 550 ml bottles",
                                    "Price": "10"
                                },
                                {
                                    "ProductID": "4",
                                    "ProductName": "Chef Anton's Cajun Seasoning",
                                    "SupplierID": "2",
                                    "CategoryID": "2",
                                    "Unit": "48 - 6 oz jars",
                                    "Price": "22"
                                },
                                {
                                    "ProductID": "5",
                                    "ProductName": "Chef Anton's Gumbo Mix",
                                    "SupplierID": "2",
                                    "CategoryID": "2",
                                    "Unit": "36 boxes",
                                    "Price": "21"
                                },
                                {
                                    "ProductID": "6",
                                    "ProductName": "Grandma's Boysenberry Spread",
                                    "SupplierID": "3",
                                    "CategoryID": "2",
                                    "Unit": "12 - 8 oz jars",
                                    "Price": "25"
                                },
                                {
                                    "ProductID": "7",
                                    "ProductName": "Uncle Bob's Organic Dried Pears",
                                    "SupplierID": "3",
                                    "CategoryID": "7",
                                    "Unit": "12 - 1 lb pkgs.",
                                    "Price": "30"
                                },
                                {
                                    "ProductID": "8",
                                    "ProductName": "Northwoods Cranberry Sauce",
                                    "SupplierID": "3",
                                    "CategoryID": "2",
                                    "Unit": "12 - 12 oz jars",
                                    "Price": "40"
                                },
                                {
                                    "ProductID": "10",
                                    "ProductName": "Ikura",
                                    "SupplierID": "4",
                                    "CategoryID": "8",
                                    "Unit": "12 - 200 ml jars",
                                    "Price": "31"
                                },
                                {
                                    "ProductID": "11",
                                    "ProductName": "Queso Cabrales",
                                    "SupplierID": "5",
                                    "CategoryID": "4",
                                    "Unit": "1 kg pkg.",
                                    "Price": "21"
                                },
                                {
                                    "ProductID": "12",
                                    "ProductName": "Queso Manchego La Pastora",
                                    "SupplierID": "5",
                                    "CategoryID": "4",
                                    "Unit": "10 - 500 g pkgs.",
                                    "Price": "38"
                                },
                                {
                                    "ProductID": "14",
                                    "ProductName": "Tofu",
                                    "SupplierID": "6",
                                    "CategoryID": "7",
                                    "Unit": "40 - 100 g pkgs.",
                                    "Price": "23"
                                },
                                {
                                    "ProductID": "15",
                                    "ProductName": "Genen Shouyu",
                                    "SupplierID": "6",
                                    "CategoryID": "2",
                                    "Unit": "24 - 250 ml bottles",
                                    "Price": "16"
                                },
                                {
                                    "ProductID": "16",
                                    "ProductName": "Pavlova",
                                    "SupplierID": "7",
                                    "CategoryID": "3",
                                    "Unit": "32 - 500 g boxes",
                                    "Price": "17"
                                },
                                {
                                    "ProductID": "17",
                                    "ProductName": "Alice Mutton",
                                    "SupplierID": "7",
                                    "CategoryID": "6",
                                    "Unit": "20 - 1 kg tins",
                                    "Price": "39"
                                },
                                {
                                    "ProductID": "21",
                                    "ProductName": "Sir Rodney's Scones",
                                    "SupplierID": "8",
                                    "CategoryID": "3",
                                    "Unit": "24 pkgs. x 4 pieces",
                                    "Price": "10"
                                },
                                {
                                    "ProductID": "22",
                                    "ProductName": "Gustaf's Knäckebröd",
                                    "SupplierID": "9",
                                    "CategoryID": "5",
                                    "Unit": "24 - 500 g pkgs.",
                                    "Price": "21"
                                },
                                {
                                    "ProductID": "25",
                                    "ProductName": "NuNuCa Nuß-Nougat-Creme",
                                    "SupplierID": "11",
                                    "CategoryID": "3",
                                    "Unit": "20 - 450 g glasses",
                                    "Price": "14"
                                },
                                {
                                    "ProductID": "26",
                                    "ProductName": "Gumbär Gummibärchen",
                                    "SupplierID": "11",
                                    "CategoryID": "3",
                                    "Unit": "100 - 250 g bags",
                                    "Price": "31"
                                },
                                {
                                    "ProductID": "27",
                                    "ProductName": "Schoggi Schokolade",
                                    "SupplierID": "11",
                                    "CategoryID": "3",
                                    "Unit": "100 - 100 g pieces",
                                    "Price": "44"
                                },
                                {
                                    "ProductID": "28",
                                    "ProductName": "Rössle Sauerkraut",
                                    "SupplierID": "12",
                                    "CategoryID": "7",
                                    "Unit": "25 - 825 g cans",
                                    "Price": "46"
                                },
                                {
                                    "ProductID": "30",
                                    "ProductName": "Nord-Ost Matjeshering",
                                    "SupplierID": "13",
                                    "CategoryID": "8",
                                    "Unit": "10 - 200 g glasses",
                                    "Price": "26"
                                },
                                {
                                    "ProductID": "31",
                                    "ProductName": "Gorgonzola Telino",
                                    "SupplierID": "14",
                                    "CategoryID": "4",
                                    "Unit": "12 - 100 g pkgs",
                                    "Price": "13"
                                },
                                {
                                    "ProductID": "32",
                                    "ProductName": "Mascarpone Fabioli",
                                    "SupplierID": "14",
                                    "CategoryID": "4",
                                    "Unit": "24 - 200 g pkgs.",
                                    "Price": "32"
                                },
                                {
                                    "ProductID": "34",
                                    "ProductName": "Sasquatch Ale",
                                    "SupplierID": "16",
                                    "CategoryID": "1",
                                    "Unit": "24 - 12 oz bottles",
                                    "Price": "20"
                                },
                                {
                                    "ProductID": "35",
                                    "ProductName": "Steeleye Stout",
                                    "SupplierID": "16",
                                    "CategoryID": "1",
                                    "Unit": "24 - 12 oz bottles",
                                    "Price": "24"
                                },
                                {
                                    "ProductID": "36",
                                    "ProductName": "Inlagd Sill",
                                    "SupplierID": "17",
                                    "CategoryID": "8",
                                    "Unit": "24 - 250 g jars",
                                    "Price": "19"
                                },
                                {
                                    "ProductID": "37",
                                    "ProductName": "Gravad lax",
                                    "SupplierID": "17",
                                    "CategoryID": "8",
                                    "Unit": "12 - 500 g pkgs.",
                                    "Price": "26"
                                },
                                {
                                    "ProductID": "39",
                                    "ProductName": "Chartreuse verte",
                                    "SupplierID": "18",
                                    "CategoryID": "1",
                                    "Unit": "750 cc per bottle",
                                    "Price": "24"
                                },
                                {
                                    "ProductID": "40",
                                    "ProductName": "Boston Crab Meat",
                                    "SupplierID": "19",
                                    "CategoryID": "8",
                                    "Unit": "24 - 4 oz tins",
                                    "Price": "18"
                                },
                                {
                                    "ProductID": "41",
                                    "ProductName": "Jack's New England Clam Chowder",
                                    "SupplierID": "19",
                                    "CategoryID": "8",
                                    "Unit": "12 - 12 oz cans",
                                    "Price": "10"
                                },
                                {
                                    "ProductID": "42",
                                    "ProductName": "Singaporean Hokkien Fried Mee",
                                    "SupplierID": "20",
                                    "CategoryID": "5",
                                    "Unit": "32 - 1 kg pkgs.",
                                    "Price": "14"
                                },
                                {
                                    "ProductID": "44",
                                    "ProductName": "Gula Malacca",
                                    "SupplierID": "20",
                                    "CategoryID": "2",
                                    "Unit": "20 - 2 kg bags",
                                    "Price": "19"
                                },
                                {
                                    "ProductID": "45",
                                    "ProductName": "Røgede sild",
                                    "SupplierID": "21",
                                    "CategoryID": "8",
                                    "Unit": "1k pkg.",
                                    "Price": "10"
                                },
                                {
                                    "ProductID": "46",
                                    "ProductName": "Spegesild",
                                    "SupplierID": "21",
                                    "CategoryID": "8",
                                    "Unit": "4 - 450 g glasses",
                                    "Price": "12"
                                },
                                {
                                    "ProductID": "47",
                                    "ProductName": "Zaanse koeken",
                                    "SupplierID": "22",
                                    "CategoryID": "3",
                                    "Unit": "10 - 4 oz boxes",
                                    "Price": "10"
                                },
                                {
                                    "ProductID": "48",
                                    "ProductName": "Chocolade",
                                    "SupplierID": "22",
                                    "CategoryID": "3",
                                    "Unit": "10 pkgs.",
                                    "Price": "13"
                                },
                                {
                                    "ProductID": "49",
                                    "ProductName": "Maxilaku",
                                    "SupplierID": "23",
                                    "CategoryID": "3",
                                    "Unit": "24 - 50 g pkgs.",
                                    "Price": "20"
                                },
                                {
                                    "ProductID": "50",
                                    "ProductName": "Valkoinen suklaa",
                                    "SupplierID": "23",
                                    "CategoryID": "3",
                                    "Unit": "12 - 100 g bars",
                                    "Price": "16"
                                },
                                {
                                    "ProductID": "53",
                                    "ProductName": "Perth Pasties",
                                    "SupplierID": "24",
                                    "CategoryID": "6",
                                    "Unit": "48 pieces",
                                    "Price": "33"
                                },
                                {
                                    "ProductID": "55",
                                    "ProductName": "Pâté chinois",
                                    "SupplierID": "25",
                                    "CategoryID": "6",
                                    "Unit": "24 boxes x 2 pies",
                                    "Price": "24"
                                },
                                {
                                    "ProductID": "56",
                                    "ProductName": "Gnocchi di nonna Alice",
                                    "SupplierID": "26",
                                    "CategoryID": "5",
                                    "Unit": "24 - 250 g pkgs.",
                                    "Price": "38"
                                },
                                {
                                    "ProductID": "57",
                                    "ProductName": "Ravioli Angelo",
                                    "SupplierID": "26",
                                    "CategoryID": "5",
                                    "Unit": "24 - 250 g pkgs.",
                                    "Price": "20"
                                },
                                {
                                    "ProductID": "58",
                                    "ProductName": "Escargots de Bourgogne",
                                    "SupplierID": "27",
                                    "CategoryID": "8",
                                    "Unit": "24 pieces",
                                    "Price": "13"
                                },
                                {
                                    "ProductID": "60",
                                    "ProductName": "Camembert Pierrot",
                                    "SupplierID": "28",
                                    "CategoryID": "4",
                                    "Unit": "15 - 300 g rounds",
                                    "Price": "34"
                                },
                                {
                                    "ProductID": "61",
                                    "ProductName": "Sirop d'érable",
                                    "SupplierID": "29",
                                    "CategoryID": "2",
                                    "Unit": "24 - 500 ml bottles",
                                    "Price": "29"
                                },
                                {
                                    "ProductID": "62",
                                    "ProductName": "Tarte au sucre",
                                    "SupplierID": "29",
                                    "CategoryID": "3",
                                    "Unit": "48 pies",
                                    "Price": "49"
                                },
                                {
                                    "ProductID": "63",
                                    "ProductName": "Vegie-spread",
                                    "SupplierID": "7",
                                    "CategoryID": "2",
                                    "Unit": "15 - 625 g jars",
                                    "Price": "44"
                                },
                                {
                                    "ProductID": "64",
                                    "ProductName": "Wimmers gute Semmelknödel",
                                    "SupplierID": "12",
                                    "CategoryID": "5",
                                    "Unit": "20 bags x 4 pieces",
                                    "Price": "33"
                                },
                                {
                                    "ProductID": "65",
                                    "ProductName": "Louisiana Fiery Hot Pepper Sauce",
                                    "SupplierID": "2",
                                    "CategoryID": "2",
                                    "Unit": "32 - 8 oz bottles",
                                    "Price": "21"
                                },
                                {
                                    "ProductID": "66",
                                    "ProductName": "Louisiana Hot Spiced Okra",
                                    "SupplierID": "2",
                                    "CategoryID": "2",
                                    "Unit": "24 - 8 oz jars",
                                    "Price": "17"
                                },
                                {
                                    "ProductID": "67",
                                    "ProductName": "Laughing Lumberjack Lager",
                                    "SupplierID": "16",
                                    "CategoryID": "1",
                                    "Unit": "24 - 12 oz bottles",
                                    "Price": "20"
                                },
                                {
                                    "ProductID": "68",
                                    "ProductName": "Scottish Longbreads",
                                    "SupplierID": "8",
                                    "CategoryID": "3",
                                    "Unit": "10 boxes x 8 pieces",
                                    "Price": "13"
                                },
                                {
                                    "ProductID": "69",
                                    "ProductName": "Gudbrandsdalsost",
                                    "SupplierID": "15",
                                    "CategoryID": "4",
                                    "Unit": "10 kg pkg.",
                                    "Price": "36"
                                },
                                {
                                    "ProductID": "70",
                                    "ProductName": "Outback Lager",
                                    "SupplierID": "7",
                                    "CategoryID": "1",
                                    "Unit": "24 - 355 ml bottles",
                                    "Price": "21"
                                },
                                {
                                    "ProductID": "71",
                                    "ProductName": "Fløtemysost",
                                    "SupplierID": "15",
                                    "CategoryID": "4",
                                    "Unit": "10 - 500 g pkgs.",
                                    "Price": "22"
                                },
                                {
                                    "ProductID": "72",
                                    "ProductName": "Mozzarella di Giovanni",
                                    "SupplierID": "14",
                                    "CategoryID": "4",
                                    "Unit": "24 - 200 g pkgs.",
                                    "Price": "35"
                                },
                                {
                                    "ProductID": "73",
                                    "ProductName": "Röd Kaviar",
                                    "SupplierID": "17",
                                    "CategoryID": "8",
                                    "Unit": "24 - 150 g jars",
                                    "Price": "15"
                                },
                                {
                                    "ProductID": "74",
                                    "ProductName": "Longlife Tofu",
                                    "SupplierID": "4",
                                    "CategoryID": "7",
                                    "Unit": "5 kg pkg.",
                                    "Price": "10"
                                },
                                {
                                    "ProductID": "76",
                                    "ProductName": "Lakkalikööri",
                                    "SupplierID": "23",
                                    "CategoryID": "1",
                                    "Unit": "500 ml",
                                    "Price": "24"
                                },
                                {
                                    "ProductID": "77",
                                    "ProductName": "Original Frankfurter grüne Soße",
                                    "SupplierID": "12",
                                    "CategoryID": "2",
                                    "Unit": "12 boxes",
                                    "Price": "13"
                                }
                            ]
                        },
                        "text/html": [
                            "<table>",
                            "<tr><th>ProductID</th><th>ProductName</th><th>SupplierID</th><th>CategoryID</th><th>Unit</th><th>Price</th></tr>",
                            "<tr><td>1</td><td>Chais</td><td>1</td><td>1</td><td>10 boxes x 20 bags</td><td>26</td></tr>",
                            "<tr><td>2</td><td>Chang</td><td>1</td><td>1</td><td>24 - 12 oz bottles</td><td>25</td></tr>",
                            "<tr><td>3</td><td>Aniseed Syrup</td><td>1</td><td>2</td><td>12 - 550 ml bottles</td><td>10</td></tr>",
                            "<tr><td>4</td><td>Chef Anton&#39;s Cajun Seasoning</td><td>2</td><td>2</td><td>48 - 6 oz jars</td><td>22</td></tr>",
                            "<tr><td>5</td><td>Chef Anton&#39;s Gumbo Mix</td><td>2</td><td>2</td><td>36 boxes</td><td>21</td></tr>",
                            "<tr><td>6</td><td>Grandma&#39;s Boysenberry Spread</td><td>3</td><td>2</td><td>12 - 8 oz jars</td><td>25</td></tr>",
                            "<tr><td>7</td><td>Uncle Bob&#39;s Organic Dried Pears</td><td>3</td><td>7</td><td>12 - 1 lb pkgs.</td><td>30</td></tr>",
                            "<tr><td>8</td><td>Northwoods Cranberry Sauce</td><td>3</td><td>2</td><td>12 - 12 oz jars</td><td>40</td></tr>",
                            "<tr><td>10</td><td>Ikura</td><td>4</td><td>8</td><td>12 - 200 ml jars</td><td>31</td></tr>",
                            "<tr><td>11</td><td>Queso Cabrales</td><td>5</td><td>4</td><td>1 kg pkg.</td><td>21</td></tr>",
                            "<tr><td>12</td><td>Queso Manchego La Pastora</td><td>5</td><td>4</td><td>10 - 500 g pkgs.</td><td>38</td></tr>",
                            "<tr><td>14</td><td>Tofu</td><td>6</td><td>7</td><td>40 - 100 g pkgs.</td><td>23</td></tr>",
                            "<tr><td>15</td><td>Genen Shouyu</td><td>6</td><td>2</td><td>24 - 250 ml bottles</td><td>16</td></tr>",
                            "<tr><td>16</td><td>Pavlova</td><td>7</td><td>3</td><td>32 - 500 g boxes</td><td>17</td></tr>",
                            "<tr><td>17</td><td>Alice Mutton</td><td>7</td><td>6</td><td>20 - 1 kg tins</td><td>39</td></tr>",
                            "<tr><td>21</td><td>Sir Rodney&#39;s Scones</td><td>8</td><td>3</td><td>24 pkgs. x 4 pieces</td><td>10</td></tr>",
                            "<tr><td>22</td><td>Gustaf&#39;s Knäckebröd</td><td>9</td><td>5</td><td>24 - 500 g pkgs.</td><td>21</td></tr>",
                            "<tr><td>25</td><td>NuNuCa Nuß-Nougat-Creme</td><td>11</td><td>3</td><td>20 - 450 g glasses</td><td>14</td></tr>",
                            "<tr><td>26</td><td>Gumbär Gummibärchen</td><td>11</td><td>3</td><td>100 - 250 g bags</td><td>31</td></tr>",
                            "<tr><td>27</td><td>Schoggi Schokolade</td><td>11</td><td>3</td><td>100 - 100 g pieces</td><td>44</td></tr>",
                            "<tr><td>28</td><td>Rössle Sauerkraut</td><td>12</td><td>7</td><td>25 - 825 g cans</td><td>46</td></tr>",
                            "<tr><td>30</td><td>Nord-Ost Matjeshering</td><td>13</td><td>8</td><td>10 - 200 g glasses</td><td>26</td></tr>",
                            "<tr><td>31</td><td>Gorgonzola Telino</td><td>14</td><td>4</td><td>12 - 100 g pkgs</td><td>13</td></tr>",
                            "<tr><td>32</td><td>Mascarpone Fabioli</td><td>14</td><td>4</td><td>24 - 200 g pkgs.</td><td>32</td></tr>",
                            "<tr><td>34</td><td>Sasquatch Ale</td><td>16</td><td>1</td><td>24 - 12 oz bottles</td><td>20</td></tr>",
                            "<tr><td>35</td><td>Steeleye Stout</td><td>16</td><td>1</td><td>24 - 12 oz bottles</td><td>24</td></tr>",
                            "<tr><td>36</td><td>Inlagd Sill</td><td>17</td><td>8</td><td>24 - 250 g jars</td><td>19</td></tr>",
                            "<tr><td>37</td><td>Gravad lax</td><td>17</td><td>8</td><td>12 - 500 g pkgs.</td><td>26</td></tr>",
                            "<tr><td>39</td><td>Chartreuse verte</td><td>18</td><td>1</td><td>750 cc per bottle</td><td>24</td></tr>",
                            "<tr><td>40</td><td>Boston Crab Meat</td><td>19</td><td>8</td><td>24 - 4 oz tins</td><td>18</td></tr>",
                            "<tr><td>41</td><td>Jack&#39;s New England Clam Chowder</td><td>19</td><td>8</td><td>12 - 12 oz cans</td><td>10</td></tr>",
                            "<tr><td>42</td><td>Singaporean Hokkien Fried Mee</td><td>20</td><td>5</td><td>32 - 1 kg pkgs.</td><td>14</td></tr>",
                            "<tr><td>44</td><td>Gula Malacca</td><td>20</td><td>2</td><td>20 - 2 kg bags</td><td>19</td></tr>",
                            "<tr><td>45</td><td>Røgede sild</td><td>21</td><td>8</td><td>1k pkg.</td><td>10</td></tr>",
                            "<tr><td>46</td><td>Spegesild</td><td>21</td><td>8</td><td>4 - 450 g glasses</td><td>12</td></tr>",
                            "<tr><td>47</td><td>Zaanse koeken</td><td>22</td><td>3</td><td>10 - 4 oz boxes</td><td>10</td></tr>",
                            "<tr><td>48</td><td>Chocolade</td><td>22</td><td>3</td><td>10 pkgs.</td><td>13</td></tr>",
                            "<tr><td>49</td><td>Maxilaku</td><td>23</td><td>3</td><td>24 - 50 g pkgs.</td><td>20</td></tr>",
                            "<tr><td>50</td><td>Valkoinen suklaa</td><td>23</td><td>3</td><td>12 - 100 g bars</td><td>16</td></tr>",
                            "<tr><td>53</td><td>Perth Pasties</td><td>24</td><td>6</td><td>48 pieces</td><td>33</td></tr>",
                            "<tr><td>55</td><td>Pâté chinois</td><td>25</td><td>6</td><td>24 boxes x 2 pies</td><td>24</td></tr>",
                            "<tr><td>56</td><td>Gnocchi di nonna Alice</td><td>26</td><td>5</td><td>24 - 250 g pkgs.</td><td>38</td></tr>",
                            "<tr><td>57</td><td>Ravioli Angelo</td><td>26</td><td>5</td><td>24 - 250 g pkgs.</td><td>20</td></tr>",
                            "<tr><td>58</td><td>Escargots de Bourgogne</td><td>27</td><td>8</td><td>24 pieces</td><td>13</td></tr>",
                            "<tr><td>60</td><td>Camembert Pierrot</td><td>28</td><td>4</td><td>15 - 300 g rounds</td><td>34</td></tr>",
                            "<tr><td>61</td><td>Sirop d&#39;érable</td><td>29</td><td>2</td><td>24 - 500 ml bottles</td><td>29</td></tr>",
                            "<tr><td>62</td><td>Tarte au sucre</td><td>29</td><td>3</td><td>48 pies</td><td>49</td></tr>",
                            "<tr><td>63</td><td>Vegie-spread</td><td>7</td><td>2</td><td>15 - 625 g jars</td><td>44</td></tr>",
                            "<tr><td>64</td><td>Wimmers gute Semmelknödel</td><td>12</td><td>5</td><td>20 bags x 4 pieces</td><td>33</td></tr>",
                            "<tr><td>65</td><td>Louisiana Fiery Hot Pepper Sauce</td><td>2</td><td>2</td><td>32 - 8 oz bottles</td><td>21</td></tr>",
                            "<tr><td>66</td><td>Louisiana Hot Spiced Okra</td><td>2</td><td>2</td><td>24 - 8 oz jars</td><td>17</td></tr>",
                            "<tr><td>67</td><td>Laughing Lumberjack Lager</td><td>16</td><td>1</td><td>24 - 12 oz bottles</td><td>20</td></tr>",
                            "<tr><td>68</td><td>Scottish Longbreads</td><td>8</td><td>3</td><td>10 boxes x 8 pieces</td><td>13</td></tr>",
                            "<tr><td>69</td><td>Gudbrandsdalsost</td><td>15</td><td>4</td><td>10 kg pkg.</td><td>36</td></tr>",
                            "<tr><td>70</td><td>Outback Lager</td><td>7</td><td>1</td><td>24 - 355 ml bottles</td><td>21</td></tr>",
                            "<tr><td>71</td><td>Fløtemysost</td><td>15</td><td>4</td><td>10 - 500 g pkgs.</td><td>22</td></tr>",
                            "<tr><td>72</td><td>Mozzarella di Giovanni</td><td>14</td><td>4</td><td>24 - 200 g pkgs.</td><td>35</td></tr>",
                            "<tr><td>73</td><td>Röd Kaviar</td><td>17</td><td>8</td><td>24 - 150 g jars</td><td>15</td></tr>",
                            "<tr><td>74</td><td>Longlife Tofu</td><td>4</td><td>7</td><td>5 kg pkg.</td><td>10</td></tr>",
                            "<tr><td>76</td><td>Lakkalikööri</td><td>23</td><td>1</td><td>500 ml</td><td>24</td></tr>",
                            "<tr><td>77</td><td>Original Frankfurter grüne Soße</td><td>12</td><td>2</td><td>12 boxes</td><td>13</td></tr>",
                            "</table>"
                        ]
                    }
                }
            ],
            "execution_count": 442
        },
        {
            "cell_type": "markdown",
            "source": [
                "**Part B:** Find products with `Price` greater than 100 **or** belong to `CategoryID = 2`."
            ],
            "metadata": {
                "azdata_cell_guid": "599bb767-c0b6-4073-862a-251e6574341a"
            }
        },
        {
            "cell_type": "code",
            "source": [
                "/*\n",
                "WRITE AND EXECUTE YOUR IN THIS CELL UNDER THIS COMMENT\n",
                "*/\n",
                "\n",
                "\n",
                "SELECT * FROM Northwind.dbo.Products WHERE Price > 100 OR CategoryID = 2;"
            ],
            "metadata": {
                "azdata_cell_guid": "254e63b4-db79-487b-98c1-73b53e715bb5",
                "language": "sql"
            },
            "outputs": [
                {
                    "output_type": "display_data",
                    "data": {
                        "text/html": "(14 rows affected)"
                    },
                    "metadata": {}
                },
                {
                    "output_type": "display_data",
                    "data": {
                        "text/html": "Total execution time: 00:00:00.001"
                    },
                    "metadata": {}
                },
                {
                    "output_type": "execute_result",
                    "metadata": {},
                    "execution_count": 443,
                    "data": {
                        "application/vnd.dataresource+json": {
                            "schema": {
                                "fields": [
                                    {
                                        "name": "ProductID"
                                    },
                                    {
                                        "name": "ProductName"
                                    },
                                    {
                                        "name": "SupplierID"
                                    },
                                    {
                                        "name": "CategoryID"
                                    },
                                    {
                                        "name": "Unit"
                                    },
                                    {
                                        "name": "Price"
                                    }
                                ]
                            },
                            "data": [
                                {
                                    "ProductID": "3",
                                    "ProductName": "Aniseed Syrup",
                                    "SupplierID": "1",
                                    "CategoryID": "2",
                                    "Unit": "12 - 550 ml bottles",
                                    "Price": "10"
                                },
                                {
                                    "ProductID": "4",
                                    "ProductName": "Chef Anton's Cajun Seasoning",
                                    "SupplierID": "2",
                                    "CategoryID": "2",
                                    "Unit": "48 - 6 oz jars",
                                    "Price": "22"
                                },
                                {
                                    "ProductID": "5",
                                    "ProductName": "Chef Anton's Gumbo Mix",
                                    "SupplierID": "2",
                                    "CategoryID": "2",
                                    "Unit": "36 boxes",
                                    "Price": "21"
                                },
                                {
                                    "ProductID": "6",
                                    "ProductName": "Grandma's Boysenberry Spread",
                                    "SupplierID": "3",
                                    "CategoryID": "2",
                                    "Unit": "12 - 8 oz jars",
                                    "Price": "25"
                                },
                                {
                                    "ProductID": "8",
                                    "ProductName": "Northwoods Cranberry Sauce",
                                    "SupplierID": "3",
                                    "CategoryID": "2",
                                    "Unit": "12 - 12 oz jars",
                                    "Price": "40"
                                },
                                {
                                    "ProductID": "15",
                                    "ProductName": "Genen Shouyu",
                                    "SupplierID": "6",
                                    "CategoryID": "2",
                                    "Unit": "24 - 250 ml bottles",
                                    "Price": "16"
                                },
                                {
                                    "ProductID": "29",
                                    "ProductName": "Thüringer Rostbratwurst",
                                    "SupplierID": "12",
                                    "CategoryID": "6",
                                    "Unit": "50 bags x 30 sausgs.",
                                    "Price": "124"
                                },
                                {
                                    "ProductID": "38",
                                    "ProductName": "Côte de Blaye",
                                    "SupplierID": "18",
                                    "CategoryID": "1",
                                    "Unit": "12 - 75 cl bottles",
                                    "Price": "354"
                                },
                                {
                                    "ProductID": "44",
                                    "ProductName": "Gula Malacca",
                                    "SupplierID": "20",
                                    "CategoryID": "2",
                                    "Unit": "20 - 2 kg bags",
                                    "Price": "19"
                                },
                                {
                                    "ProductID": "61",
                                    "ProductName": "Sirop d'érable",
                                    "SupplierID": "29",
                                    "CategoryID": "2",
                                    "Unit": "24 - 500 ml bottles",
                                    "Price": "29"
                                },
                                {
                                    "ProductID": "63",
                                    "ProductName": "Vegie-spread",
                                    "SupplierID": "7",
                                    "CategoryID": "2",
                                    "Unit": "15 - 625 g jars",
                                    "Price": "44"
                                },
                                {
                                    "ProductID": "65",
                                    "ProductName": "Louisiana Fiery Hot Pepper Sauce",
                                    "SupplierID": "2",
                                    "CategoryID": "2",
                                    "Unit": "32 - 8 oz bottles",
                                    "Price": "21"
                                },
                                {
                                    "ProductID": "66",
                                    "ProductName": "Louisiana Hot Spiced Okra",
                                    "SupplierID": "2",
                                    "CategoryID": "2",
                                    "Unit": "24 - 8 oz jars",
                                    "Price": "17"
                                },
                                {
                                    "ProductID": "77",
                                    "ProductName": "Original Frankfurter grüne Soße",
                                    "SupplierID": "12",
                                    "CategoryID": "2",
                                    "Unit": "12 boxes",
                                    "Price": "13"
                                }
                            ]
                        },
                        "text/html": [
                            "<table>",
                            "<tr><th>ProductID</th><th>ProductName</th><th>SupplierID</th><th>CategoryID</th><th>Unit</th><th>Price</th></tr>",
                            "<tr><td>3</td><td>Aniseed Syrup</td><td>1</td><td>2</td><td>12 - 550 ml bottles</td><td>10</td></tr>",
                            "<tr><td>4</td><td>Chef Anton&#39;s Cajun Seasoning</td><td>2</td><td>2</td><td>48 - 6 oz jars</td><td>22</td></tr>",
                            "<tr><td>5</td><td>Chef Anton&#39;s Gumbo Mix</td><td>2</td><td>2</td><td>36 boxes</td><td>21</td></tr>",
                            "<tr><td>6</td><td>Grandma&#39;s Boysenberry Spread</td><td>3</td><td>2</td><td>12 - 8 oz jars</td><td>25</td></tr>",
                            "<tr><td>8</td><td>Northwoods Cranberry Sauce</td><td>3</td><td>2</td><td>12 - 12 oz jars</td><td>40</td></tr>",
                            "<tr><td>15</td><td>Genen Shouyu</td><td>6</td><td>2</td><td>24 - 250 ml bottles</td><td>16</td></tr>",
                            "<tr><td>29</td><td>Thüringer Rostbratwurst</td><td>12</td><td>6</td><td>50 bags x 30 sausgs.</td><td>124</td></tr>",
                            "<tr><td>38</td><td>Côte de Blaye</td><td>18</td><td>1</td><td>12 - 75 cl bottles</td><td>354</td></tr>",
                            "<tr><td>44</td><td>Gula Malacca</td><td>20</td><td>2</td><td>20 - 2 kg bags</td><td>19</td></tr>",
                            "<tr><td>61</td><td>Sirop d&#39;érable</td><td>29</td><td>2</td><td>24 - 500 ml bottles</td><td>29</td></tr>",
                            "<tr><td>63</td><td>Vegie-spread</td><td>7</td><td>2</td><td>15 - 625 g jars</td><td>44</td></tr>",
                            "<tr><td>65</td><td>Louisiana Fiery Hot Pepper Sauce</td><td>2</td><td>2</td><td>32 - 8 oz bottles</td><td>21</td></tr>",
                            "<tr><td>66</td><td>Louisiana Hot Spiced Okra</td><td>2</td><td>2</td><td>24 - 8 oz jars</td><td>17</td></tr>",
                            "<tr><td>77</td><td>Original Frankfurter grüne Soße</td><td>12</td><td>2</td><td>12 boxes</td><td>13</td></tr>",
                            "</table>"
                        ]
                    }
                }
            ],
            "execution_count": 443
        },
        {
            "cell_type": "markdown",
            "source": [
                "**Part C:** Find products that are **not** supplied by SupplierID = 1."
            ],
            "metadata": {
                "azdata_cell_guid": "47321cf1-b900-414d-beee-0525840c7c11"
            }
        },
        {
            "cell_type": "code",
            "source": [
                "/*\n",
                "WRITE AND EXECUTE YOUR IN THIS CELL UNDER THIS COMMENT\n",
                "*/\n",
                "SELECT * FROM Northwind.dbo.Products WHERE NOT SupplierID = 1;"
            ],
            "metadata": {
                "azdata_cell_guid": "c2465d19-63bc-4fc2-ac01-c202a3c6ade6",
                "language": "sql"
            },
            "outputs": [
                {
                    "output_type": "display_data",
                    "data": {
                        "text/html": "(74 rows affected)"
                    },
                    "metadata": {}
                },
                {
                    "output_type": "display_data",
                    "data": {
                        "text/html": "Total execution time: 00:00:00.001"
                    },
                    "metadata": {}
                },
                {
                    "output_type": "execute_result",
                    "metadata": {},
                    "execution_count": 444,
                    "data": {
                        "application/vnd.dataresource+json": {
                            "schema": {
                                "fields": [
                                    {
                                        "name": "ProductID"
                                    },
                                    {
                                        "name": "ProductName"
                                    },
                                    {
                                        "name": "SupplierID"
                                    },
                                    {
                                        "name": "CategoryID"
                                    },
                                    {
                                        "name": "Unit"
                                    },
                                    {
                                        "name": "Price"
                                    }
                                ]
                            },
                            "data": [
                                {
                                    "ProductID": "4",
                                    "ProductName": "Chef Anton's Cajun Seasoning",
                                    "SupplierID": "2",
                                    "CategoryID": "2",
                                    "Unit": "48 - 6 oz jars",
                                    "Price": "22"
                                },
                                {
                                    "ProductID": "5",
                                    "ProductName": "Chef Anton's Gumbo Mix",
                                    "SupplierID": "2",
                                    "CategoryID": "2",
                                    "Unit": "36 boxes",
                                    "Price": "21"
                                },
                                {
                                    "ProductID": "6",
                                    "ProductName": "Grandma's Boysenberry Spread",
                                    "SupplierID": "3",
                                    "CategoryID": "2",
                                    "Unit": "12 - 8 oz jars",
                                    "Price": "25"
                                },
                                {
                                    "ProductID": "7",
                                    "ProductName": "Uncle Bob's Organic Dried Pears",
                                    "SupplierID": "3",
                                    "CategoryID": "7",
                                    "Unit": "12 - 1 lb pkgs.",
                                    "Price": "30"
                                },
                                {
                                    "ProductID": "8",
                                    "ProductName": "Northwoods Cranberry Sauce",
                                    "SupplierID": "3",
                                    "CategoryID": "2",
                                    "Unit": "12 - 12 oz jars",
                                    "Price": "40"
                                },
                                {
                                    "ProductID": "9",
                                    "ProductName": "Mishi Kobe Niku",
                                    "SupplierID": "4",
                                    "CategoryID": "6",
                                    "Unit": "18 - 500 g pkgs.",
                                    "Price": "97"
                                },
                                {
                                    "ProductID": "10",
                                    "ProductName": "Ikura",
                                    "SupplierID": "4",
                                    "CategoryID": "8",
                                    "Unit": "12 - 200 ml jars",
                                    "Price": "31"
                                },
                                {
                                    "ProductID": "11",
                                    "ProductName": "Queso Cabrales",
                                    "SupplierID": "5",
                                    "CategoryID": "4",
                                    "Unit": "1 kg pkg.",
                                    "Price": "21"
                                },
                                {
                                    "ProductID": "12",
                                    "ProductName": "Queso Manchego La Pastora",
                                    "SupplierID": "5",
                                    "CategoryID": "4",
                                    "Unit": "10 - 500 g pkgs.",
                                    "Price": "38"
                                },
                                {
                                    "ProductID": "13",
                                    "ProductName": "Konbu",
                                    "SupplierID": "6",
                                    "CategoryID": "8",
                                    "Unit": "2 kg box",
                                    "Price": "6"
                                },
                                {
                                    "ProductID": "14",
                                    "ProductName": "Tofu",
                                    "SupplierID": "6",
                                    "CategoryID": "7",
                                    "Unit": "40 - 100 g pkgs.",
                                    "Price": "23"
                                },
                                {
                                    "ProductID": "15",
                                    "ProductName": "Genen Shouyu",
                                    "SupplierID": "6",
                                    "CategoryID": "2",
                                    "Unit": "24 - 250 ml bottles",
                                    "Price": "16"
                                },
                                {
                                    "ProductID": "16",
                                    "ProductName": "Pavlova",
                                    "SupplierID": "7",
                                    "CategoryID": "3",
                                    "Unit": "32 - 500 g boxes",
                                    "Price": "17"
                                },
                                {
                                    "ProductID": "17",
                                    "ProductName": "Alice Mutton",
                                    "SupplierID": "7",
                                    "CategoryID": "6",
                                    "Unit": "20 - 1 kg tins",
                                    "Price": "39"
                                },
                                {
                                    "ProductID": "18",
                                    "ProductName": "Carnarvon Tigers",
                                    "SupplierID": "7",
                                    "CategoryID": "8",
                                    "Unit": "16 kg pkg.",
                                    "Price": "63"
                                },
                                {
                                    "ProductID": "19",
                                    "ProductName": "Teatime Chocolate Biscuits",
                                    "SupplierID": "8",
                                    "CategoryID": "3",
                                    "Unit": "10 boxes x 12 pieces",
                                    "Price": "9"
                                },
                                {
                                    "ProductID": "20",
                                    "ProductName": "Sir Rodney's Marmalade",
                                    "SupplierID": "8",
                                    "CategoryID": "3",
                                    "Unit": "30 gift boxes",
                                    "Price": "81"
                                },
                                {
                                    "ProductID": "21",
                                    "ProductName": "Sir Rodney's Scones",
                                    "SupplierID": "8",
                                    "CategoryID": "3",
                                    "Unit": "24 pkgs. x 4 pieces",
                                    "Price": "10"
                                },
                                {
                                    "ProductID": "22",
                                    "ProductName": "Gustaf's Knäckebröd",
                                    "SupplierID": "9",
                                    "CategoryID": "5",
                                    "Unit": "24 - 500 g pkgs.",
                                    "Price": "21"
                                },
                                {
                                    "ProductID": "23",
                                    "ProductName": "Tunnbröd",
                                    "SupplierID": "9",
                                    "CategoryID": "5",
                                    "Unit": "12 - 250 g pkgs.",
                                    "Price": "9"
                                },
                                {
                                    "ProductID": "24",
                                    "ProductName": "Guaraná Fantástica",
                                    "SupplierID": "10",
                                    "CategoryID": "1",
                                    "Unit": "12 - 355 ml cans",
                                    "Price": "5"
                                },
                                {
                                    "ProductID": "25",
                                    "ProductName": "NuNuCa Nuß-Nougat-Creme",
                                    "SupplierID": "11",
                                    "CategoryID": "3",
                                    "Unit": "20 - 450 g glasses",
                                    "Price": "14"
                                },
                                {
                                    "ProductID": "26",
                                    "ProductName": "Gumbär Gummibärchen",
                                    "SupplierID": "11",
                                    "CategoryID": "3",
                                    "Unit": "100 - 250 g bags",
                                    "Price": "31"
                                },
                                {
                                    "ProductID": "27",
                                    "ProductName": "Schoggi Schokolade",
                                    "SupplierID": "11",
                                    "CategoryID": "3",
                                    "Unit": "100 - 100 g pieces",
                                    "Price": "44"
                                },
                                {
                                    "ProductID": "28",
                                    "ProductName": "Rössle Sauerkraut",
                                    "SupplierID": "12",
                                    "CategoryID": "7",
                                    "Unit": "25 - 825 g cans",
                                    "Price": "46"
                                },
                                {
                                    "ProductID": "29",
                                    "ProductName": "Thüringer Rostbratwurst",
                                    "SupplierID": "12",
                                    "CategoryID": "6",
                                    "Unit": "50 bags x 30 sausgs.",
                                    "Price": "124"
                                },
                                {
                                    "ProductID": "30",
                                    "ProductName": "Nord-Ost Matjeshering",
                                    "SupplierID": "13",
                                    "CategoryID": "8",
                                    "Unit": "10 - 200 g glasses",
                                    "Price": "26"
                                },
                                {
                                    "ProductID": "31",
                                    "ProductName": "Gorgonzola Telino",
                                    "SupplierID": "14",
                                    "CategoryID": "4",
                                    "Unit": "12 - 100 g pkgs",
                                    "Price": "13"
                                },
                                {
                                    "ProductID": "32",
                                    "ProductName": "Mascarpone Fabioli",
                                    "SupplierID": "14",
                                    "CategoryID": "4",
                                    "Unit": "24 - 200 g pkgs.",
                                    "Price": "32"
                                },
                                {
                                    "ProductID": "33",
                                    "ProductName": "Geitost",
                                    "SupplierID": "15",
                                    "CategoryID": "4",
                                    "Unit": "500 g",
                                    "Price": "3"
                                },
                                {
                                    "ProductID": "34",
                                    "ProductName": "Sasquatch Ale",
                                    "SupplierID": "16",
                                    "CategoryID": "1",
                                    "Unit": "24 - 12 oz bottles",
                                    "Price": "20"
                                },
                                {
                                    "ProductID": "35",
                                    "ProductName": "Steeleye Stout",
                                    "SupplierID": "16",
                                    "CategoryID": "1",
                                    "Unit": "24 - 12 oz bottles",
                                    "Price": "24"
                                },
                                {
                                    "ProductID": "36",
                                    "ProductName": "Inlagd Sill",
                                    "SupplierID": "17",
                                    "CategoryID": "8",
                                    "Unit": "24 - 250 g jars",
                                    "Price": "19"
                                },
                                {
                                    "ProductID": "37",
                                    "ProductName": "Gravad lax",
                                    "SupplierID": "17",
                                    "CategoryID": "8",
                                    "Unit": "12 - 500 g pkgs.",
                                    "Price": "26"
                                },
                                {
                                    "ProductID": "38",
                                    "ProductName": "Côte de Blaye",
                                    "SupplierID": "18",
                                    "CategoryID": "1",
                                    "Unit": "12 - 75 cl bottles",
                                    "Price": "354"
                                },
                                {
                                    "ProductID": "39",
                                    "ProductName": "Chartreuse verte",
                                    "SupplierID": "18",
                                    "CategoryID": "1",
                                    "Unit": "750 cc per bottle",
                                    "Price": "24"
                                },
                                {
                                    "ProductID": "40",
                                    "ProductName": "Boston Crab Meat",
                                    "SupplierID": "19",
                                    "CategoryID": "8",
                                    "Unit": "24 - 4 oz tins",
                                    "Price": "18"
                                },
                                {
                                    "ProductID": "41",
                                    "ProductName": "Jack's New England Clam Chowder",
                                    "SupplierID": "19",
                                    "CategoryID": "8",
                                    "Unit": "12 - 12 oz cans",
                                    "Price": "10"
                                },
                                {
                                    "ProductID": "42",
                                    "ProductName": "Singaporean Hokkien Fried Mee",
                                    "SupplierID": "20",
                                    "CategoryID": "5",
                                    "Unit": "32 - 1 kg pkgs.",
                                    "Price": "14"
                                },
                                {
                                    "ProductID": "43",
                                    "ProductName": "Ipoh Coffee",
                                    "SupplierID": "20",
                                    "CategoryID": "1",
                                    "Unit": "16 - 500 g tins",
                                    "Price": "62"
                                },
                                {
                                    "ProductID": "44",
                                    "ProductName": "Gula Malacca",
                                    "SupplierID": "20",
                                    "CategoryID": "2",
                                    "Unit": "20 - 2 kg bags",
                                    "Price": "19"
                                },
                                {
                                    "ProductID": "45",
                                    "ProductName": "Røgede sild",
                                    "SupplierID": "21",
                                    "CategoryID": "8",
                                    "Unit": "1k pkg.",
                                    "Price": "10"
                                },
                                {
                                    "ProductID": "46",
                                    "ProductName": "Spegesild",
                                    "SupplierID": "21",
                                    "CategoryID": "8",
                                    "Unit": "4 - 450 g glasses",
                                    "Price": "12"
                                },
                                {
                                    "ProductID": "47",
                                    "ProductName": "Zaanse koeken",
                                    "SupplierID": "22",
                                    "CategoryID": "3",
                                    "Unit": "10 - 4 oz boxes",
                                    "Price": "10"
                                },
                                {
                                    "ProductID": "48",
                                    "ProductName": "Chocolade",
                                    "SupplierID": "22",
                                    "CategoryID": "3",
                                    "Unit": "10 pkgs.",
                                    "Price": "13"
                                },
                                {
                                    "ProductID": "49",
                                    "ProductName": "Maxilaku",
                                    "SupplierID": "23",
                                    "CategoryID": "3",
                                    "Unit": "24 - 50 g pkgs.",
                                    "Price": "20"
                                },
                                {
                                    "ProductID": "50",
                                    "ProductName": "Valkoinen suklaa",
                                    "SupplierID": "23",
                                    "CategoryID": "3",
                                    "Unit": "12 - 100 g bars",
                                    "Price": "16"
                                },
                                {
                                    "ProductID": "51",
                                    "ProductName": "Manjimup Dried Apples",
                                    "SupplierID": "24",
                                    "CategoryID": "7",
                                    "Unit": "50 - 300 g pkgs.",
                                    "Price": "53"
                                },
                                {
                                    "ProductID": "52",
                                    "ProductName": "Filo Mix",
                                    "SupplierID": "24",
                                    "CategoryID": "5",
                                    "Unit": "16 - 2 kg boxes",
                                    "Price": "7"
                                },
                                {
                                    "ProductID": "53",
                                    "ProductName": "Perth Pasties",
                                    "SupplierID": "24",
                                    "CategoryID": "6",
                                    "Unit": "48 pieces",
                                    "Price": "33"
                                },
                                {
                                    "ProductID": "54",
                                    "ProductName": "Tourtière",
                                    "SupplierID": "25",
                                    "CategoryID": "6",
                                    "Unit": "16 pies",
                                    "Price": "7"
                                },
                                {
                                    "ProductID": "55",
                                    "ProductName": "Pâté chinois",
                                    "SupplierID": "25",
                                    "CategoryID": "6",
                                    "Unit": "24 boxes x 2 pies",
                                    "Price": "24"
                                },
                                {
                                    "ProductID": "56",
                                    "ProductName": "Gnocchi di nonna Alice",
                                    "SupplierID": "26",
                                    "CategoryID": "5",
                                    "Unit": "24 - 250 g pkgs.",
                                    "Price": "38"
                                },
                                {
                                    "ProductID": "57",
                                    "ProductName": "Ravioli Angelo",
                                    "SupplierID": "26",
                                    "CategoryID": "5",
                                    "Unit": "24 - 250 g pkgs.",
                                    "Price": "20"
                                },
                                {
                                    "ProductID": "58",
                                    "ProductName": "Escargots de Bourgogne",
                                    "SupplierID": "27",
                                    "CategoryID": "8",
                                    "Unit": "24 pieces",
                                    "Price": "13"
                                },
                                {
                                    "ProductID": "59",
                                    "ProductName": "Raclette Courdavault",
                                    "SupplierID": "28",
                                    "CategoryID": "4",
                                    "Unit": "5 kg pkg.",
                                    "Price": "55"
                                },
                                {
                                    "ProductID": "60",
                                    "ProductName": "Camembert Pierrot",
                                    "SupplierID": "28",
                                    "CategoryID": "4",
                                    "Unit": "15 - 300 g rounds",
                                    "Price": "34"
                                },
                                {
                                    "ProductID": "61",
                                    "ProductName": "Sirop d'érable",
                                    "SupplierID": "29",
                                    "CategoryID": "2",
                                    "Unit": "24 - 500 ml bottles",
                                    "Price": "29"
                                },
                                {
                                    "ProductID": "62",
                                    "ProductName": "Tarte au sucre",
                                    "SupplierID": "29",
                                    "CategoryID": "3",
                                    "Unit": "48 pies",
                                    "Price": "49"
                                },
                                {
                                    "ProductID": "63",
                                    "ProductName": "Vegie-spread",
                                    "SupplierID": "7",
                                    "CategoryID": "2",
                                    "Unit": "15 - 625 g jars",
                                    "Price": "44"
                                },
                                {
                                    "ProductID": "64",
                                    "ProductName": "Wimmers gute Semmelknödel",
                                    "SupplierID": "12",
                                    "CategoryID": "5",
                                    "Unit": "20 bags x 4 pieces",
                                    "Price": "33"
                                },
                                {
                                    "ProductID": "65",
                                    "ProductName": "Louisiana Fiery Hot Pepper Sauce",
                                    "SupplierID": "2",
                                    "CategoryID": "2",
                                    "Unit": "32 - 8 oz bottles",
                                    "Price": "21"
                                },
                                {
                                    "ProductID": "66",
                                    "ProductName": "Louisiana Hot Spiced Okra",
                                    "SupplierID": "2",
                                    "CategoryID": "2",
                                    "Unit": "24 - 8 oz jars",
                                    "Price": "17"
                                },
                                {
                                    "ProductID": "67",
                                    "ProductName": "Laughing Lumberjack Lager",
                                    "SupplierID": "16",
                                    "CategoryID": "1",
                                    "Unit": "24 - 12 oz bottles",
                                    "Price": "20"
                                },
                                {
                                    "ProductID": "68",
                                    "ProductName": "Scottish Longbreads",
                                    "SupplierID": "8",
                                    "CategoryID": "3",
                                    "Unit": "10 boxes x 8 pieces",
                                    "Price": "13"
                                },
                                {
                                    "ProductID": "69",
                                    "ProductName": "Gudbrandsdalsost",
                                    "SupplierID": "15",
                                    "CategoryID": "4",
                                    "Unit": "10 kg pkg.",
                                    "Price": "36"
                                },
                                {
                                    "ProductID": "70",
                                    "ProductName": "Outback Lager",
                                    "SupplierID": "7",
                                    "CategoryID": "1",
                                    "Unit": "24 - 355 ml bottles",
                                    "Price": "21"
                                },
                                {
                                    "ProductID": "71",
                                    "ProductName": "Fløtemysost",
                                    "SupplierID": "15",
                                    "CategoryID": "4",
                                    "Unit": "10 - 500 g pkgs.",
                                    "Price": "22"
                                },
                                {
                                    "ProductID": "72",
                                    "ProductName": "Mozzarella di Giovanni",
                                    "SupplierID": "14",
                                    "CategoryID": "4",
                                    "Unit": "24 - 200 g pkgs.",
                                    "Price": "35"
                                },
                                {
                                    "ProductID": "73",
                                    "ProductName": "Röd Kaviar",
                                    "SupplierID": "17",
                                    "CategoryID": "8",
                                    "Unit": "24 - 150 g jars",
                                    "Price": "15"
                                },
                                {
                                    "ProductID": "74",
                                    "ProductName": "Longlife Tofu",
                                    "SupplierID": "4",
                                    "CategoryID": "7",
                                    "Unit": "5 kg pkg.",
                                    "Price": "10"
                                },
                                {
                                    "ProductID": "75",
                                    "ProductName": "Rhönbräu Klosterbier",
                                    "SupplierID": "12",
                                    "CategoryID": "1",
                                    "Unit": "24 - 0.5 l bottles",
                                    "Price": "8"
                                },
                                {
                                    "ProductID": "76",
                                    "ProductName": "Lakkalikööri",
                                    "SupplierID": "23",
                                    "CategoryID": "1",
                                    "Unit": "500 ml",
                                    "Price": "24"
                                },
                                {
                                    "ProductID": "77",
                                    "ProductName": "Original Frankfurter grüne Soße",
                                    "SupplierID": "12",
                                    "CategoryID": "2",
                                    "Unit": "12 boxes",
                                    "Price": "13"
                                }
                            ]
                        },
                        "text/html": [
                            "<table>",
                            "<tr><th>ProductID</th><th>ProductName</th><th>SupplierID</th><th>CategoryID</th><th>Unit</th><th>Price</th></tr>",
                            "<tr><td>4</td><td>Chef Anton&#39;s Cajun Seasoning</td><td>2</td><td>2</td><td>48 - 6 oz jars</td><td>22</td></tr>",
                            "<tr><td>5</td><td>Chef Anton&#39;s Gumbo Mix</td><td>2</td><td>2</td><td>36 boxes</td><td>21</td></tr>",
                            "<tr><td>6</td><td>Grandma&#39;s Boysenberry Spread</td><td>3</td><td>2</td><td>12 - 8 oz jars</td><td>25</td></tr>",
                            "<tr><td>7</td><td>Uncle Bob&#39;s Organic Dried Pears</td><td>3</td><td>7</td><td>12 - 1 lb pkgs.</td><td>30</td></tr>",
                            "<tr><td>8</td><td>Northwoods Cranberry Sauce</td><td>3</td><td>2</td><td>12 - 12 oz jars</td><td>40</td></tr>",
                            "<tr><td>9</td><td>Mishi Kobe Niku</td><td>4</td><td>6</td><td>18 - 500 g pkgs.</td><td>97</td></tr>",
                            "<tr><td>10</td><td>Ikura</td><td>4</td><td>8</td><td>12 - 200 ml jars</td><td>31</td></tr>",
                            "<tr><td>11</td><td>Queso Cabrales</td><td>5</td><td>4</td><td>1 kg pkg.</td><td>21</td></tr>",
                            "<tr><td>12</td><td>Queso Manchego La Pastora</td><td>5</td><td>4</td><td>10 - 500 g pkgs.</td><td>38</td></tr>",
                            "<tr><td>13</td><td>Konbu</td><td>6</td><td>8</td><td>2 kg box</td><td>6</td></tr>",
                            "<tr><td>14</td><td>Tofu</td><td>6</td><td>7</td><td>40 - 100 g pkgs.</td><td>23</td></tr>",
                            "<tr><td>15</td><td>Genen Shouyu</td><td>6</td><td>2</td><td>24 - 250 ml bottles</td><td>16</td></tr>",
                            "<tr><td>16</td><td>Pavlova</td><td>7</td><td>3</td><td>32 - 500 g boxes</td><td>17</td></tr>",
                            "<tr><td>17</td><td>Alice Mutton</td><td>7</td><td>6</td><td>20 - 1 kg tins</td><td>39</td></tr>",
                            "<tr><td>18</td><td>Carnarvon Tigers</td><td>7</td><td>8</td><td>16 kg pkg.</td><td>63</td></tr>",
                            "<tr><td>19</td><td>Teatime Chocolate Biscuits</td><td>8</td><td>3</td><td>10 boxes x 12 pieces</td><td>9</td></tr>",
                            "<tr><td>20</td><td>Sir Rodney&#39;s Marmalade</td><td>8</td><td>3</td><td>30 gift boxes</td><td>81</td></tr>",
                            "<tr><td>21</td><td>Sir Rodney&#39;s Scones</td><td>8</td><td>3</td><td>24 pkgs. x 4 pieces</td><td>10</td></tr>",
                            "<tr><td>22</td><td>Gustaf&#39;s Knäckebröd</td><td>9</td><td>5</td><td>24 - 500 g pkgs.</td><td>21</td></tr>",
                            "<tr><td>23</td><td>Tunnbröd</td><td>9</td><td>5</td><td>12 - 250 g pkgs.</td><td>9</td></tr>",
                            "<tr><td>24</td><td>Guaraná Fantástica</td><td>10</td><td>1</td><td>12 - 355 ml cans</td><td>5</td></tr>",
                            "<tr><td>25</td><td>NuNuCa Nuß-Nougat-Creme</td><td>11</td><td>3</td><td>20 - 450 g glasses</td><td>14</td></tr>",
                            "<tr><td>26</td><td>Gumbär Gummibärchen</td><td>11</td><td>3</td><td>100 - 250 g bags</td><td>31</td></tr>",
                            "<tr><td>27</td><td>Schoggi Schokolade</td><td>11</td><td>3</td><td>100 - 100 g pieces</td><td>44</td></tr>",
                            "<tr><td>28</td><td>Rössle Sauerkraut</td><td>12</td><td>7</td><td>25 - 825 g cans</td><td>46</td></tr>",
                            "<tr><td>29</td><td>Thüringer Rostbratwurst</td><td>12</td><td>6</td><td>50 bags x 30 sausgs.</td><td>124</td></tr>",
                            "<tr><td>30</td><td>Nord-Ost Matjeshering</td><td>13</td><td>8</td><td>10 - 200 g glasses</td><td>26</td></tr>",
                            "<tr><td>31</td><td>Gorgonzola Telino</td><td>14</td><td>4</td><td>12 - 100 g pkgs</td><td>13</td></tr>",
                            "<tr><td>32</td><td>Mascarpone Fabioli</td><td>14</td><td>4</td><td>24 - 200 g pkgs.</td><td>32</td></tr>",
                            "<tr><td>33</td><td>Geitost</td><td>15</td><td>4</td><td>500 g</td><td>3</td></tr>",
                            "<tr><td>34</td><td>Sasquatch Ale</td><td>16</td><td>1</td><td>24 - 12 oz bottles</td><td>20</td></tr>",
                            "<tr><td>35</td><td>Steeleye Stout</td><td>16</td><td>1</td><td>24 - 12 oz bottles</td><td>24</td></tr>",
                            "<tr><td>36</td><td>Inlagd Sill</td><td>17</td><td>8</td><td>24 - 250 g jars</td><td>19</td></tr>",
                            "<tr><td>37</td><td>Gravad lax</td><td>17</td><td>8</td><td>12 - 500 g pkgs.</td><td>26</td></tr>",
                            "<tr><td>38</td><td>Côte de Blaye</td><td>18</td><td>1</td><td>12 - 75 cl bottles</td><td>354</td></tr>",
                            "<tr><td>39</td><td>Chartreuse verte</td><td>18</td><td>1</td><td>750 cc per bottle</td><td>24</td></tr>",
                            "<tr><td>40</td><td>Boston Crab Meat</td><td>19</td><td>8</td><td>24 - 4 oz tins</td><td>18</td></tr>",
                            "<tr><td>41</td><td>Jack&#39;s New England Clam Chowder</td><td>19</td><td>8</td><td>12 - 12 oz cans</td><td>10</td></tr>",
                            "<tr><td>42</td><td>Singaporean Hokkien Fried Mee</td><td>20</td><td>5</td><td>32 - 1 kg pkgs.</td><td>14</td></tr>",
                            "<tr><td>43</td><td>Ipoh Coffee</td><td>20</td><td>1</td><td>16 - 500 g tins</td><td>62</td></tr>",
                            "<tr><td>44</td><td>Gula Malacca</td><td>20</td><td>2</td><td>20 - 2 kg bags</td><td>19</td></tr>",
                            "<tr><td>45</td><td>Røgede sild</td><td>21</td><td>8</td><td>1k pkg.</td><td>10</td></tr>",
                            "<tr><td>46</td><td>Spegesild</td><td>21</td><td>8</td><td>4 - 450 g glasses</td><td>12</td></tr>",
                            "<tr><td>47</td><td>Zaanse koeken</td><td>22</td><td>3</td><td>10 - 4 oz boxes</td><td>10</td></tr>",
                            "<tr><td>48</td><td>Chocolade</td><td>22</td><td>3</td><td>10 pkgs.</td><td>13</td></tr>",
                            "<tr><td>49</td><td>Maxilaku</td><td>23</td><td>3</td><td>24 - 50 g pkgs.</td><td>20</td></tr>",
                            "<tr><td>50</td><td>Valkoinen suklaa</td><td>23</td><td>3</td><td>12 - 100 g bars</td><td>16</td></tr>",
                            "<tr><td>51</td><td>Manjimup Dried Apples</td><td>24</td><td>7</td><td>50 - 300 g pkgs.</td><td>53</td></tr>",
                            "<tr><td>52</td><td>Filo Mix</td><td>24</td><td>5</td><td>16 - 2 kg boxes</td><td>7</td></tr>",
                            "<tr><td>53</td><td>Perth Pasties</td><td>24</td><td>6</td><td>48 pieces</td><td>33</td></tr>",
                            "<tr><td>54</td><td>Tourtière</td><td>25</td><td>6</td><td>16 pies</td><td>7</td></tr>",
                            "<tr><td>55</td><td>Pâté chinois</td><td>25</td><td>6</td><td>24 boxes x 2 pies</td><td>24</td></tr>",
                            "<tr><td>56</td><td>Gnocchi di nonna Alice</td><td>26</td><td>5</td><td>24 - 250 g pkgs.</td><td>38</td></tr>",
                            "<tr><td>57</td><td>Ravioli Angelo</td><td>26</td><td>5</td><td>24 - 250 g pkgs.</td><td>20</td></tr>",
                            "<tr><td>58</td><td>Escargots de Bourgogne</td><td>27</td><td>8</td><td>24 pieces</td><td>13</td></tr>",
                            "<tr><td>59</td><td>Raclette Courdavault</td><td>28</td><td>4</td><td>5 kg pkg.</td><td>55</td></tr>",
                            "<tr><td>60</td><td>Camembert Pierrot</td><td>28</td><td>4</td><td>15 - 300 g rounds</td><td>34</td></tr>",
                            "<tr><td>61</td><td>Sirop d&#39;érable</td><td>29</td><td>2</td><td>24 - 500 ml bottles</td><td>29</td></tr>",
                            "<tr><td>62</td><td>Tarte au sucre</td><td>29</td><td>3</td><td>48 pies</td><td>49</td></tr>",
                            "<tr><td>63</td><td>Vegie-spread</td><td>7</td><td>2</td><td>15 - 625 g jars</td><td>44</td></tr>",
                            "<tr><td>64</td><td>Wimmers gute Semmelknödel</td><td>12</td><td>5</td><td>20 bags x 4 pieces</td><td>33</td></tr>",
                            "<tr><td>65</td><td>Louisiana Fiery Hot Pepper Sauce</td><td>2</td><td>2</td><td>32 - 8 oz bottles</td><td>21</td></tr>",
                            "<tr><td>66</td><td>Louisiana Hot Spiced Okra</td><td>2</td><td>2</td><td>24 - 8 oz jars</td><td>17</td></tr>",
                            "<tr><td>67</td><td>Laughing Lumberjack Lager</td><td>16</td><td>1</td><td>24 - 12 oz bottles</td><td>20</td></tr>",
                            "<tr><td>68</td><td>Scottish Longbreads</td><td>8</td><td>3</td><td>10 boxes x 8 pieces</td><td>13</td></tr>",
                            "<tr><td>69</td><td>Gudbrandsdalsost</td><td>15</td><td>4</td><td>10 kg pkg.</td><td>36</td></tr>",
                            "<tr><td>70</td><td>Outback Lager</td><td>7</td><td>1</td><td>24 - 355 ml bottles</td><td>21</td></tr>",
                            "<tr><td>71</td><td>Fløtemysost</td><td>15</td><td>4</td><td>10 - 500 g pkgs.</td><td>22</td></tr>",
                            "<tr><td>72</td><td>Mozzarella di Giovanni</td><td>14</td><td>4</td><td>24 - 200 g pkgs.</td><td>35</td></tr>",
                            "<tr><td>73</td><td>Röd Kaviar</td><td>17</td><td>8</td><td>24 - 150 g jars</td><td>15</td></tr>",
                            "<tr><td>74</td><td>Longlife Tofu</td><td>4</td><td>7</td><td>5 kg pkg.</td><td>10</td></tr>",
                            "<tr><td>75</td><td>Rhönbräu Klosterbier</td><td>12</td><td>1</td><td>24 - 0.5 l bottles</td><td>8</td></tr>",
                            "<tr><td>76</td><td>Lakkalikööri</td><td>23</td><td>1</td><td>500 ml</td><td>24</td></tr>",
                            "<tr><td>77</td><td>Original Frankfurter grüne Soße</td><td>12</td><td>2</td><td>12 boxes</td><td>13</td></tr>",
                            "</table>"
                        ]
                    }
                }
            ],
            "execution_count": 444
        },
        {
            "cell_type": "markdown",
            "source": [
                "### Exercise 6: SQL INSERT INTO"
            ],
            "metadata": {
                "azdata_cell_guid": "e5c41ec0-34ad-4c32-b78d-a8d6e77e2abd"
            }
        },
        {
            "cell_type": "markdown",
            "source": [
                "**Part A:** Add a new customer."
            ],
            "metadata": {
                "azdata_cell_guid": "1194178c-5022-4051-b317-ad7094a74647"
            }
        },
        {
            "cell_type": "code",
            "source": [
                "/*\n",
                "WRITE AND EXECUTE YOUR IN THIS CELL UNDER THIS COMMENT\n",
                "*/\n",
                "INSERT INTO Northwind.dbo.Customers (CustomerName, ContactName, City, Country) VALUES ('pingpro', 'ado mahmutovic', 'novi pazar', 'serbia');"
            ],
            "metadata": {
                "azdata_cell_guid": "bc6bad38-e204-47f7-8a58-2c17da7e158c",
                "language": "sql"
            },
            "outputs": [
                {
                    "output_type": "display_data",
                    "data": {
                        "text/html": "(1 row affected)"
                    },
                    "metadata": {}
                },
                {
                    "output_type": "display_data",
                    "data": {
                        "text/html": "Total execution time: 00:00:00.026"
                    },
                    "metadata": {}
                }
            ],
            "execution_count": 445
        },
        {
            "cell_type": "markdown",
            "source": [
                "**Part B:** Add multiple new customers in one query."
            ],
            "metadata": {
                "azdata_cell_guid": "6700bf22-0719-4a14-a5be-2016515d830f"
            }
        },
        {
            "cell_type": "code",
            "source": [
                "/*\n",
                "WRITE AND EXECUTE YOUR IN THIS CELL UNDER THIS COMMENT\n",
                "*/\n",
                "INSERT INTO Northwind.dbo.Customers (CustomerName, ContactName, City, Country) VALUES \n",
                "('pingpro', 'ado mahmutovic', 'novi pazar', 'serbia'),\n",
                "('gimnazija', 'caka razdaginac', 'novi pazar', 'serbia')\n",
                ";"
            ],
            "metadata": {
                "azdata_cell_guid": "73f01285-beab-451a-983f-fa5df3d03d98",
                "language": "sql"
            },
            "outputs": [
                {
                    "output_type": "display_data",
                    "data": {
                        "text/html": "(2 rows affected)"
                    },
                    "metadata": {}
                },
                {
                    "output_type": "display_data",
                    "data": {
                        "text/html": "Total execution time: 00:00:00.002"
                    },
                    "metadata": {}
                }
            ],
            "execution_count": 446
        },
        {
            "cell_type": "markdown",
            "source": [
                "### Exercise 7: SQL UPDATE"
            ],
            "metadata": {
                "azdata_cell_guid": "1a57ee70-d718-4e6c-83af-7374584943ae"
            }
        },
        {
            "cell_type": "markdown",
            "source": [
                "**Part A:** Update the `Price` of a product named \"Chais\" to 25."
            ],
            "metadata": {
                "azdata_cell_guid": "c1ba9a34-9e2b-4a9f-b46c-dc644e29ef88"
            }
        },
        {
            "cell_type": "code",
            "source": [
                "/*\n",
                "WRITE AND EXECUTE YOUR IN THIS CELL UNDER THIS COMMENT\n",
                "*/\n",
                "UPDATE Northwind.dbo.Products SET Price = 25 WHERE ProductName = 'Chais';"
            ],
            "metadata": {
                "azdata_cell_guid": "982882d4-bce1-4963-ad72-afff80982c6e",
                "language": "sql"
            },
            "outputs": [
                {
                    "output_type": "display_data",
                    "data": {
                        "text/html": "(1 row affected)"
                    },
                    "metadata": {}
                },
                {
                    "output_type": "display_data",
                    "data": {
                        "text/html": "Total execution time: 00:00:00.002"
                    },
                    "metadata": {}
                }
            ],
            "execution_count": 447
        },
        {
            "cell_type": "markdown",
            "source": [
                "**Part B:** Update all products in `CategoryID = 1` to increase their price by 5%."
            ],
            "metadata": {
                "azdata_cell_guid": "44843218-1025-4420-99c9-40cf3ce27cf7"
            }
        },
        {
            "cell_type": "code",
            "source": [
                "/*\n",
                "WRITE AND EXECUTE YOUR IN THIS CELL UNDER THIS COMMENT\n",
                "*/\n",
                "\n",
                "UPDATE Northwind.dbo.Products SET Price = Price * 1.05 WHERE CategoryID = 1;"
            ],
            "metadata": {
                "azdata_cell_guid": "a712e591-9db1-49c3-8a7d-e1245bdf01f7",
                "language": "sql"
            },
            "outputs": [
                {
                    "output_type": "display_data",
                    "data": {
                        "text/html": "(12 rows affected)"
                    },
                    "metadata": {}
                },
                {
                    "output_type": "display_data",
                    "data": {
                        "text/html": "Total execution time: 00:00:00.002"
                    },
                    "metadata": {}
                }
            ],
            "execution_count": 448
        },
        {
            "cell_type": "markdown",
            "source": [
                "### Exercise 8: SQL DELETE"
            ],
            "metadata": {
                "azdata_cell_guid": "eda7dd3c-3552-4ad1-84f0-8a2e3751100d"
            }
        },
        {
            "cell_type": "markdown",
            "source": [
                "**Part A:** Delete a customer named \"Test Customer\"."
            ],
            "metadata": {
                "azdata_cell_guid": "594e9abb-56ff-4018-815c-ae89e4dbd6ed"
            }
        },
        {
            "cell_type": "code",
            "source": [
                "/*\n",
                "WRITE AND EXECUTE YOUR IN THIS CELL UNDER THIS COMMENT\n",
                "*/\n",
                "DELETE FROM Northwind.dbo.Customers WHERE CustomerName = 'Test Customer';"
            ],
            "metadata": {
                "azdata_cell_guid": "40ce65e1-7f77-46d8-af41-9766d4ba367f",
                "language": "sql"
            },
            "outputs": [
                {
                    "output_type": "display_data",
                    "data": {
                        "text/html": "(0 rows affected)"
                    },
                    "metadata": {}
                },
                {
                    "output_type": "display_data",
                    "data": {
                        "text/html": "Total execution time: 00:00:00"
                    },
                    "metadata": {}
                }
            ],
            "execution_count": 449
        },
        {
            "cell_type": "markdown",
            "source": [
                "**Part B:** Delete all customers from `Testland`."
            ],
            "metadata": {
                "azdata_cell_guid": "542442a0-d8f2-417c-9d03-5ebb293e4442"
            }
        },
        {
            "cell_type": "code",
            "source": [
                "/*\n",
                "WRITE AND EXECUTE YOUR IN THIS CELL UNDER THIS COMMENT\n",
                "*/\n",
                "\n",
                "DELETE FROM Northwind.dbo.Customers WHERE City = 'Testland';"
            ],
            "metadata": {
                "azdata_cell_guid": "0201fea7-ce8c-4354-b959-0d3b8b7d8128",
                "language": "sql"
            },
            "outputs": [
                {
                    "output_type": "display_data",
                    "data": {
                        "text/html": "(0 rows affected)"
                    },
                    "metadata": {}
                },
                {
                    "output_type": "display_data",
                    "data": {
                        "text/html": "Total execution time: 00:00:00"
                    },
                    "metadata": {}
                }
            ],
            "execution_count": 450
        },
        {
            "cell_type": "markdown",
            "source": [
                "### Exercise 9: SQL SELECT TOP"
            ],
            "metadata": {
                "azdata_cell_guid": "0eef4e3e-9c11-4f54-a486-72b81cfe9b11"
            }
        },
        {
            "cell_type": "markdown",
            "source": [
                "**Part A:** Retrieve the top 5 most expensive products."
            ],
            "metadata": {
                "azdata_cell_guid": "543d6842-1235-4799-9684-5312509efd5f"
            }
        },
        {
            "cell_type": "code",
            "source": [
                "/*\n",
                "WRITE AND EXECUTE YOUR IN THIS CELL UNDER THIS COMMENT\n",
                "*/\n",
                "SELECT TOP 5 * FROM Northwind.dbo.Products ORDER BY Price DESC;"
            ],
            "metadata": {
                "azdata_cell_guid": "4e476eb4-e8fb-45e0-b4fc-5f8759684501",
                "language": "sql"
            },
            "outputs": [
                {
                    "output_type": "display_data",
                    "data": {
                        "text/html": "(5 rows affected)"
                    },
                    "metadata": {}
                },
                {
                    "output_type": "display_data",
                    "data": {
                        "text/html": "Total execution time: 00:00:00.001"
                    },
                    "metadata": {}
                },
                {
                    "output_type": "execute_result",
                    "metadata": {},
                    "execution_count": 451,
                    "data": {
                        "application/vnd.dataresource+json": {
                            "schema": {
                                "fields": [
                                    {
                                        "name": "ProductID"
                                    },
                                    {
                                        "name": "ProductName"
                                    },
                                    {
                                        "name": "SupplierID"
                                    },
                                    {
                                        "name": "CategoryID"
                                    },
                                    {
                                        "name": "Unit"
                                    },
                                    {
                                        "name": "Price"
                                    }
                                ]
                            },
                            "data": [
                                {
                                    "ProductID": "38",
                                    "ProductName": "Côte de Blaye",
                                    "SupplierID": "18",
                                    "CategoryID": "1",
                                    "Unit": "12 - 75 cl bottles",
                                    "Price": "372"
                                },
                                {
                                    "ProductID": "29",
                                    "ProductName": "Thüringer Rostbratwurst",
                                    "SupplierID": "12",
                                    "CategoryID": "6",
                                    "Unit": "50 bags x 30 sausgs.",
                                    "Price": "124"
                                },
                                {
                                    "ProductID": "9",
                                    "ProductName": "Mishi Kobe Niku",
                                    "SupplierID": "4",
                                    "CategoryID": "6",
                                    "Unit": "18 - 500 g pkgs.",
                                    "Price": "97"
                                },
                                {
                                    "ProductID": "20",
                                    "ProductName": "Sir Rodney's Marmalade",
                                    "SupplierID": "8",
                                    "CategoryID": "3",
                                    "Unit": "30 gift boxes",
                                    "Price": "81"
                                },
                                {
                                    "ProductID": "43",
                                    "ProductName": "Ipoh Coffee",
                                    "SupplierID": "20",
                                    "CategoryID": "1",
                                    "Unit": "16 - 500 g tins",
                                    "Price": "65"
                                }
                            ]
                        },
                        "text/html": [
                            "<table>",
                            "<tr><th>ProductID</th><th>ProductName</th><th>SupplierID</th><th>CategoryID</th><th>Unit</th><th>Price</th></tr>",
                            "<tr><td>38</td><td>Côte de Blaye</td><td>18</td><td>1</td><td>12 - 75 cl bottles</td><td>372</td></tr>",
                            "<tr><td>29</td><td>Thüringer Rostbratwurst</td><td>12</td><td>6</td><td>50 bags x 30 sausgs.</td><td>124</td></tr>",
                            "<tr><td>9</td><td>Mishi Kobe Niku</td><td>4</td><td>6</td><td>18 - 500 g pkgs.</td><td>97</td></tr>",
                            "<tr><td>20</td><td>Sir Rodney&#39;s Marmalade</td><td>8</td><td>3</td><td>30 gift boxes</td><td>81</td></tr>",
                            "<tr><td>43</td><td>Ipoh Coffee</td><td>20</td><td>1</td><td>16 - 500 g tins</td><td>65</td></tr>",
                            "</table>"
                        ]
                    }
                }
            ],
            "execution_count": 451
        },
        {
            "cell_type": "markdown",
            "source": [
                "**Part B:** Retrieve the top 3 cheapest products with a price greater than 5."
            ],
            "metadata": {
                "azdata_cell_guid": "3d47e27a-c66d-4698-b188-3367c4656f47"
            }
        },
        {
            "cell_type": "code",
            "source": [
                "/*\n",
                "WRITE AND EXECUTE YOUR IN THIS CELL UNDER THIS COMMENT\n",
                "*/\n",
                "\n",
                "SELECT TOP 5 * FROM Northwind.dbo.Products WHERE Price > 5 ORDER BY Price ASC;"
            ],
            "metadata": {
                "azdata_cell_guid": "32831385-f98a-4b05-ae15-a8181fe3da0c",
                "language": "sql"
            },
            "outputs": [
                {
                    "output_type": "display_data",
                    "data": {
                        "text/html": "(5 rows affected)"
                    },
                    "metadata": {}
                },
                {
                    "output_type": "display_data",
                    "data": {
                        "text/html": "Total execution time: 00:00:00.001"
                    },
                    "metadata": {}
                },
                {
                    "output_type": "execute_result",
                    "metadata": {},
                    "execution_count": 452,
                    "data": {
                        "application/vnd.dataresource+json": {
                            "schema": {
                                "fields": [
                                    {
                                        "name": "ProductID"
                                    },
                                    {
                                        "name": "ProductName"
                                    },
                                    {
                                        "name": "SupplierID"
                                    },
                                    {
                                        "name": "CategoryID"
                                    },
                                    {
                                        "name": "Unit"
                                    },
                                    {
                                        "name": "Price"
                                    }
                                ]
                            },
                            "data": [
                                {
                                    "ProductID": "13",
                                    "ProductName": "Konbu",
                                    "SupplierID": "6",
                                    "CategoryID": "8",
                                    "Unit": "2 kg box",
                                    "Price": "6"
                                },
                                {
                                    "ProductID": "52",
                                    "ProductName": "Filo Mix",
                                    "SupplierID": "24",
                                    "CategoryID": "5",
                                    "Unit": "16 - 2 kg boxes",
                                    "Price": "7"
                                },
                                {
                                    "ProductID": "54",
                                    "ProductName": "Tourtière",
                                    "SupplierID": "25",
                                    "CategoryID": "6",
                                    "Unit": "16 pies",
                                    "Price": "7"
                                },
                                {
                                    "ProductID": "75",
                                    "ProductName": "Rhönbräu Klosterbier",
                                    "SupplierID": "12",
                                    "CategoryID": "1",
                                    "Unit": "24 - 0.5 l bottles",
                                    "Price": "8"
                                },
                                {
                                    "ProductID": "19",
                                    "ProductName": "Teatime Chocolate Biscuits",
                                    "SupplierID": "8",
                                    "CategoryID": "3",
                                    "Unit": "10 boxes x 12 pieces",
                                    "Price": "9"
                                }
                            ]
                        },
                        "text/html": [
                            "<table>",
                            "<tr><th>ProductID</th><th>ProductName</th><th>SupplierID</th><th>CategoryID</th><th>Unit</th><th>Price</th></tr>",
                            "<tr><td>13</td><td>Konbu</td><td>6</td><td>8</td><td>2 kg box</td><td>6</td></tr>",
                            "<tr><td>52</td><td>Filo Mix</td><td>24</td><td>5</td><td>16 - 2 kg boxes</td><td>7</td></tr>",
                            "<tr><td>54</td><td>Tourtière</td><td>25</td><td>6</td><td>16 pies</td><td>7</td></tr>",
                            "<tr><td>75</td><td>Rhönbräu Klosterbier</td><td>12</td><td>1</td><td>24 - 0.5 l bottles</td><td>8</td></tr>",
                            "<tr><td>19</td><td>Teatime Chocolate Biscuits</td><td>8</td><td>3</td><td>10 boxes x 12 pieces</td><td>9</td></tr>",
                            "</table>"
                        ]
                    }
                }
            ],
            "execution_count": 452
        },
        {
            "cell_type": "markdown",
            "source": [
                "### Exercise 10: SQL AGGREGATE FUNCTIONS"
            ],
            "metadata": {
                "azdata_cell_guid": "b0b8e112-fd09-4295-acef-71f04d92dd98"
            }
        },
        {
            "cell_type": "markdown",
            "source": [
                "**Part A:** Find the total number of products in the `Products` table."
            ],
            "metadata": {
                "azdata_cell_guid": "e51b4af6-924e-4bfa-b7a4-c4cda5b06353"
            }
        },
        {
            "cell_type": "code",
            "source": [
                "/*\n",
                "WRITE AND EXECUTE YOUR IN THIS CELL UNDER THIS COMMENT\n",
                "*/\n",
                "SELECT COUNT(*) FROM Northwind.dbo.Products;\n",
                ""
            ],
            "metadata": {
                "azdata_cell_guid": "c76eb8d3-6dd8-4ac8-a338-ca4005fc06d9",
                "language": "sql"
            },
            "outputs": [
                {
                    "output_type": "display_data",
                    "data": {
                        "text/html": "(1 row affected)"
                    },
                    "metadata": {}
                },
                {
                    "output_type": "display_data",
                    "data": {
                        "text/html": "Total execution time: 00:00:00.001"
                    },
                    "metadata": {}
                },
                {
                    "output_type": "execute_result",
                    "metadata": {},
                    "execution_count": 453,
                    "data": {
                        "application/vnd.dataresource+json": {
                            "schema": {
                                "fields": [
                                    {
                                        "name": "(No column name)"
                                    }
                                ]
                            },
                            "data": [
                                {
                                    "(No column name)": "77"
                                }
                            ]
                        },
                        "text/html": [
                            "<table>",
                            "<tr><th>(No column name)</th></tr>",
                            "<tr><td>77</td></tr>",
                            "</table>"
                        ]
                    }
                }
            ],
            "execution_count": 453
        },
        {
            "cell_type": "markdown",
            "source": [
                "**Part B:** Find the average, minimum, and maximum prices of products in `CategoryID = 1`."
            ],
            "metadata": {
                "azdata_cell_guid": "89a6c04a-4b50-4ca5-83fd-ebf9a2959526"
            }
        },
        {
            "cell_type": "code",
            "source": [
                "/*\n",
                "WRITE AND EXECUTE YOUR IN THIS CELL UNDER THIS COMMENT\n",
                "*/\n",
                "SELECT AVG(Price) FROM Northwind.dbo.Products;\n",
                "SELECT MIN(Price) FROM Northwind.dbo.Products;\n",
                "SELECT MAX(Price) FROM Northwind.dbo.Products;"
            ],
            "metadata": {
                "azdata_cell_guid": "a8f8285b-0bd2-4b95-b056-22e966fa25e5",
                "language": "sql"
            },
            "outputs": [
                {
                    "output_type": "display_data",
                    "data": {
                        "text/html": "(1 row affected)"
                    },
                    "metadata": {}
                },
                {
                    "output_type": "display_data",
                    "data": {
                        "text/html": "(1 row affected)"
                    },
                    "metadata": {}
                },
                {
                    "output_type": "display_data",
                    "data": {
                        "text/html": "(1 row affected)"
                    },
                    "metadata": {}
                },
                {
                    "output_type": "display_data",
                    "data": {
                        "text/html": "Total execution time: 00:00:00.002"
                    },
                    "metadata": {}
                },
                {
                    "output_type": "execute_result",
                    "metadata": {},
                    "execution_count": 454,
                    "data": {
                        "application/vnd.dataresource+json": {
                            "schema": {
                                "fields": [
                                    {
                                        "name": "(No column name)"
                                    }
                                ]
                            },
                            "data": [
                                {
                                    "(No column name)": "31.311688"
                                }
                            ]
                        },
                        "text/html": [
                            "<table>",
                            "<tr><th>(No column name)</th></tr>",
                            "<tr><td>31.311688</td></tr>",
                            "</table>"
                        ]
                    }
                },
                {
                    "output_type": "execute_result",
                    "metadata": {},
                    "execution_count": 454,
                    "data": {
                        "application/vnd.dataresource+json": {
                            "schema": {
                                "fields": [
                                    {
                                        "name": "(No column name)"
                                    }
                                ]
                            },
                            "data": [
                                {
                                    "(No column name)": "3"
                                }
                            ]
                        },
                        "text/html": [
                            "<table>",
                            "<tr><th>(No column name)</th></tr>",
                            "<tr><td>3</td></tr>",
                            "</table>"
                        ]
                    }
                },
                {
                    "output_type": "execute_result",
                    "metadata": {},
                    "execution_count": 454,
                    "data": {
                        "application/vnd.dataresource+json": {
                            "schema": {
                                "fields": [
                                    {
                                        "name": "(No column name)"
                                    }
                                ]
                            },
                            "data": [
                                {
                                    "(No column name)": "372"
                                }
                            ]
                        },
                        "text/html": [
                            "<table>",
                            "<tr><th>(No column name)</th></tr>",
                            "<tr><td>372</td></tr>",
                            "</table>"
                        ]
                    }
                }
            ],
            "execution_count": 454
        },
        {
            "cell_type": "markdown",
            "source": [
                "### Exercise 11: SQL LIKE and WILDCARDS"
            ],
            "metadata": {
                "azdata_cell_guid": "2b8c12a8-fbe8-4510-bf6c-1f6d0d8f54f3"
            }
        },
        {
            "cell_type": "markdown",
            "source": [
                "**Part A:** Find all customers whose `ContactName` starts with \"A\"."
            ],
            "metadata": {
                "azdata_cell_guid": "bcf66d83-4cd4-44e6-87db-831748c114e6"
            }
        },
        {
            "cell_type": "code",
            "source": [
                "/*\n",
                "WRITE AND EXECUTE YOUR IN THIS CELL UNDER THIS COMMENT\n",
                "*/\n",
                "SELECT * FROM Northwind.dbo.Customers WHERE ContactName LIKE 'A%';"
            ],
            "metadata": {
                "azdata_cell_guid": "81dd9341-892a-4590-bc52-6d25d00ebab9",
                "language": "sql"
            },
            "outputs": [
                {
                    "output_type": "display_data",
                    "data": {
                        "text/html": "(26 rows affected)"
                    },
                    "metadata": {}
                },
                {
                    "output_type": "display_data",
                    "data": {
                        "text/html": "Total execution time: 00:00:00.001"
                    },
                    "metadata": {}
                },
                {
                    "output_type": "execute_result",
                    "metadata": {},
                    "execution_count": 455,
                    "data": {
                        "application/vnd.dataresource+json": {
                            "schema": {
                                "fields": [
                                    {
                                        "name": "CustomerID"
                                    },
                                    {
                                        "name": "CustomerName"
                                    },
                                    {
                                        "name": "ContactName"
                                    },
                                    {
                                        "name": "Address"
                                    },
                                    {
                                        "name": "City"
                                    },
                                    {
                                        "name": "PostalCode"
                                    },
                                    {
                                        "name": "Country"
                                    }
                                ]
                            },
                            "data": [
                                {
                                    "CustomerID": "2",
                                    "CustomerName": "Ana Trujillo Emparedados y helados",
                                    "ContactName": "Ana Trujillo",
                                    "Address": "Avda. de la Constitución 2222",
                                    "City": "México D.F.",
                                    "PostalCode": "5021",
                                    "Country": "Mexico"
                                },
                                {
                                    "CustomerID": "3",
                                    "CustomerName": "Antonio Moreno Taquería",
                                    "ContactName": "Antonio Moreno",
                                    "Address": "Mataderos 2312",
                                    "City": "México D.F.",
                                    "PostalCode": "5023",
                                    "Country": "Mexico"
                                },
                                {
                                    "CustomerID": "19",
                                    "CustomerName": "Eastern Connection",
                                    "ContactName": "Ann Devon",
                                    "Address": "35 King George",
                                    "City": "London",
                                    "PostalCode": "WX3 6FW",
                                    "Country": "UK"
                                },
                                {
                                    "CustomerID": "21",
                                    "CustomerName": "Familia Arquibaldo",
                                    "ContactName": "Aria Cruz",
                                    "Address": "Rua Orós, 92",
                                    "City": "São Paulo",
                                    "PostalCode": "05442-030",
                                    "Country": "Brazil"
                                },
                                {
                                    "CustomerID": "31",
                                    "CustomerName": "Gourmet Lanchonetes",
                                    "ContactName": "André Fonseca",
                                    "Address": "Av. Brasil, 442",
                                    "City": "Campinas",
                                    "PostalCode": "04876-786",
                                    "Country": "Brazil"
                                },
                                {
                                    "CustomerID": "41",
                                    "CustomerName": "La maison d''Asie",
                                    "ContactName": "Annette Roulet",
                                    "Address": "1 rue Alsace-Lorraine",
                                    "City": "Toulouse",
                                    "PostalCode": "31000",
                                    "Country": "France"
                                },
                                {
                                    "CustomerID": "52",
                                    "CustomerName": "Morgenstern Gesundkost",
                                    "ContactName": "Alexander Feuer",
                                    "Address": "Heerstr. 22",
                                    "City": "Leipzig",
                                    "PostalCode": "4179",
                                    "Country": "Germany"
                                },
                                {
                                    "CustomerID": "69",
                                    "CustomerName": "Romero y tomillo",
                                    "ContactName": "Alejandra Camino",
                                    "Address": "Gran Vía, 1",
                                    "City": "Madrid",
                                    "PostalCode": "28001",
                                    "Country": "Spain"
                                },
                                {
                                    "CustomerID": "75",
                                    "CustomerName": "Split Rail Beer & Ale",
                                    "ContactName": "Art Braunschweiger",
                                    "Address": "P.O. Box 555",
                                    "City": "Lander",
                                    "PostalCode": "82520",
                                    "Country": "USA"
                                },
                                {
                                    "CustomerID": "81",
                                    "CustomerName": "Tradição Hipermercados",
                                    "ContactName": "Anabela Domingues",
                                    "Address": "Av. Inês de Castro, 414",
                                    "City": "São Paulo",
                                    "PostalCode": "05634-030",
                                    "Country": "Brazil"
                                },
                                {
                                    "CustomerID": "92",
                                    "CustomerName": "pingpro",
                                    "ContactName": "ado mahmutovic",
                                    "Address": "NULL",
                                    "City": "novi pazar",
                                    "PostalCode": "NULL",
                                    "Country": "serbia"
                                },
                                {
                                    "CustomerID": "93",
                                    "CustomerName": "pingpro",
                                    "ContactName": "ado mahmutovic",
                                    "Address": "NULL",
                                    "City": "novi pazar",
                                    "PostalCode": "NULL",
                                    "Country": "serbia"
                                },
                                {
                                    "CustomerID": "95",
                                    "CustomerName": "pingpro",
                                    "ContactName": "ado mahmutovic",
                                    "Address": "NULL",
                                    "City": "novi pazar",
                                    "PostalCode": "NULL",
                                    "Country": "serbia"
                                },
                                {
                                    "CustomerID": "96",
                                    "CustomerName": "pingpro",
                                    "ContactName": "ado mahmutovic",
                                    "Address": "NULL",
                                    "City": "novi pazar",
                                    "PostalCode": "NULL",
                                    "Country": "serbia"
                                },
                                {
                                    "CustomerID": "98",
                                    "CustomerName": "pingpro",
                                    "ContactName": "ado mahmutovic",
                                    "Address": "NULL",
                                    "City": "novi pazar",
                                    "PostalCode": "NULL",
                                    "Country": "serbia"
                                },
                                {
                                    "CustomerID": "99",
                                    "CustomerName": "pingpro",
                                    "ContactName": "ado mahmutovic",
                                    "Address": "NULL",
                                    "City": "novi pazar",
                                    "PostalCode": "NULL",
                                    "Country": "serbia"
                                },
                                {
                                    "CustomerID": "101",
                                    "CustomerName": "pingpro",
                                    "ContactName": "ado mahmutovic",
                                    "Address": "NULL",
                                    "City": "novi pazar",
                                    "PostalCode": "NULL",
                                    "Country": "serbia"
                                },
                                {
                                    "CustomerID": "102",
                                    "CustomerName": "pingpro",
                                    "ContactName": "ado mahmutovic",
                                    "Address": "NULL",
                                    "City": "novi pazar",
                                    "PostalCode": "NULL",
                                    "Country": "serbia"
                                },
                                {
                                    "CustomerID": "104",
                                    "CustomerName": "pingpro",
                                    "ContactName": "ado mahmutovic",
                                    "Address": "NULL",
                                    "City": "novi pazar",
                                    "PostalCode": "NULL",
                                    "Country": "serbia"
                                },
                                {
                                    "CustomerID": "105",
                                    "CustomerName": "pingpro",
                                    "ContactName": "ado mahmutovic",
                                    "Address": "NULL",
                                    "City": "novi pazar",
                                    "PostalCode": "NULL",
                                    "Country": "serbia"
                                },
                                {
                                    "CustomerID": "107",
                                    "CustomerName": "pingpro",
                                    "ContactName": "ado mahmutovic",
                                    "Address": "NULL",
                                    "City": "novi pazar",
                                    "PostalCode": "NULL",
                                    "Country": "serbia"
                                },
                                {
                                    "CustomerID": "108",
                                    "CustomerName": "pingpro",
                                    "ContactName": "ado mahmutovic",
                                    "Address": "NULL",
                                    "City": "novi pazar",
                                    "PostalCode": "NULL",
                                    "Country": "serbia"
                                },
                                {
                                    "CustomerID": "110",
                                    "CustomerName": "pingpro",
                                    "ContactName": "ado mahmutovic",
                                    "Address": "NULL",
                                    "City": "novi pazar",
                                    "PostalCode": "NULL",
                                    "Country": "serbia"
                                },
                                {
                                    "CustomerID": "111",
                                    "CustomerName": "pingpro",
                                    "ContactName": "ado mahmutovic",
                                    "Address": "NULL",
                                    "City": "novi pazar",
                                    "PostalCode": "NULL",
                                    "Country": "serbia"
                                },
                                {
                                    "CustomerID": "113",
                                    "CustomerName": "pingpro",
                                    "ContactName": "ado mahmutovic",
                                    "Address": "NULL",
                                    "City": "novi pazar",
                                    "PostalCode": "NULL",
                                    "Country": "serbia"
                                },
                                {
                                    "CustomerID": "114",
                                    "CustomerName": "pingpro",
                                    "ContactName": "ado mahmutovic",
                                    "Address": "NULL",
                                    "City": "novi pazar",
                                    "PostalCode": "NULL",
                                    "Country": "serbia"
                                }
                            ]
                        },
                        "text/html": [
                            "<table>",
                            "<tr><th>CustomerID</th><th>CustomerName</th><th>ContactName</th><th>Address</th><th>City</th><th>PostalCode</th><th>Country</th></tr>",
                            "<tr><td>2</td><td>Ana Trujillo Emparedados y helados</td><td>Ana Trujillo</td><td>Avda. de la Constitución 2222</td><td>México D.F.</td><td>5021</td><td>Mexico</td></tr>",
                            "<tr><td>3</td><td>Antonio Moreno Taquería</td><td>Antonio Moreno</td><td>Mataderos 2312</td><td>México D.F.</td><td>5023</td><td>Mexico</td></tr>",
                            "<tr><td>19</td><td>Eastern Connection</td><td>Ann Devon</td><td>35 King George</td><td>London</td><td>WX3 6FW</td><td>UK</td></tr>",
                            "<tr><td>21</td><td>Familia Arquibaldo</td><td>Aria Cruz</td><td>Rua Orós, 92</td><td>São Paulo</td><td>05442-030</td><td>Brazil</td></tr>",
                            "<tr><td>31</td><td>Gourmet Lanchonetes</td><td>André Fonseca</td><td>Av. Brasil, 442</td><td>Campinas</td><td>04876-786</td><td>Brazil</td></tr>",
                            "<tr><td>41</td><td>La maison d&#39;&#39;Asie</td><td>Annette Roulet</td><td>1 rue Alsace-Lorraine</td><td>Toulouse</td><td>31000</td><td>France</td></tr>",
                            "<tr><td>52</td><td>Morgenstern Gesundkost</td><td>Alexander Feuer</td><td>Heerstr. 22</td><td>Leipzig</td><td>4179</td><td>Germany</td></tr>",
                            "<tr><td>69</td><td>Romero y tomillo</td><td>Alejandra Camino</td><td>Gran Vía, 1</td><td>Madrid</td><td>28001</td><td>Spain</td></tr>",
                            "<tr><td>75</td><td>Split Rail Beer &amp; Ale</td><td>Art Braunschweiger</td><td>P.O. Box 555</td><td>Lander</td><td>82520</td><td>USA</td></tr>",
                            "<tr><td>81</td><td>Tradição Hipermercados</td><td>Anabela Domingues</td><td>Av. Inês de Castro, 414</td><td>São Paulo</td><td>05634-030</td><td>Brazil</td></tr>",
                            "<tr><td>92</td><td>pingpro</td><td>ado mahmutovic</td><td>NULL</td><td>novi pazar</td><td>NULL</td><td>serbia</td></tr>",
                            "<tr><td>93</td><td>pingpro</td><td>ado mahmutovic</td><td>NULL</td><td>novi pazar</td><td>NULL</td><td>serbia</td></tr>",
                            "<tr><td>95</td><td>pingpro</td><td>ado mahmutovic</td><td>NULL</td><td>novi pazar</td><td>NULL</td><td>serbia</td></tr>",
                            "<tr><td>96</td><td>pingpro</td><td>ado mahmutovic</td><td>NULL</td><td>novi pazar</td><td>NULL</td><td>serbia</td></tr>",
                            "<tr><td>98</td><td>pingpro</td><td>ado mahmutovic</td><td>NULL</td><td>novi pazar</td><td>NULL</td><td>serbia</td></tr>",
                            "<tr><td>99</td><td>pingpro</td><td>ado mahmutovic</td><td>NULL</td><td>novi pazar</td><td>NULL</td><td>serbia</td></tr>",
                            "<tr><td>101</td><td>pingpro</td><td>ado mahmutovic</td><td>NULL</td><td>novi pazar</td><td>NULL</td><td>serbia</td></tr>",
                            "<tr><td>102</td><td>pingpro</td><td>ado mahmutovic</td><td>NULL</td><td>novi pazar</td><td>NULL</td><td>serbia</td></tr>",
                            "<tr><td>104</td><td>pingpro</td><td>ado mahmutovic</td><td>NULL</td><td>novi pazar</td><td>NULL</td><td>serbia</td></tr>",
                            "<tr><td>105</td><td>pingpro</td><td>ado mahmutovic</td><td>NULL</td><td>novi pazar</td><td>NULL</td><td>serbia</td></tr>",
                            "<tr><td>107</td><td>pingpro</td><td>ado mahmutovic</td><td>NULL</td><td>novi pazar</td><td>NULL</td><td>serbia</td></tr>",
                            "<tr><td>108</td><td>pingpro</td><td>ado mahmutovic</td><td>NULL</td><td>novi pazar</td><td>NULL</td><td>serbia</td></tr>",
                            "<tr><td>110</td><td>pingpro</td><td>ado mahmutovic</td><td>NULL</td><td>novi pazar</td><td>NULL</td><td>serbia</td></tr>",
                            "<tr><td>111</td><td>pingpro</td><td>ado mahmutovic</td><td>NULL</td><td>novi pazar</td><td>NULL</td><td>serbia</td></tr>",
                            "<tr><td>113</td><td>pingpro</td><td>ado mahmutovic</td><td>NULL</td><td>novi pazar</td><td>NULL</td><td>serbia</td></tr>",
                            "<tr><td>114</td><td>pingpro</td><td>ado mahmutovic</td><td>NULL</td><td>novi pazar</td><td>NULL</td><td>serbia</td></tr>",
                            "</table>"
                        ]
                    }
                }
            ],
            "execution_count": 455
        },
        {
            "cell_type": "markdown",
            "source": [
                "**Part B:** Find customers whose `Address` contains the word \"Street\"."
            ],
            "metadata": {
                "azdata_cell_guid": "e89e069d-429b-4c13-933f-799def68d3c2"
            }
        },
        {
            "cell_type": "code",
            "source": [
                "/*\n",
                "WRITE AND EXECUTE YOUR IN THIS CELL UNDER THIS COMMENT\n",
                "*/\n",
                "\n",
                "SELECT * FROM Northwind.dbo.Customers WHERE Address LIKE 'Street%';"
            ],
            "metadata": {
                "azdata_cell_guid": "04e6626a-b133-4dea-98e1-c207cf79affe",
                "language": "sql"
            },
            "outputs": [
                {
                    "output_type": "display_data",
                    "data": {
                        "text/html": "(0 rows affected)"
                    },
                    "metadata": {}
                },
                {
                    "output_type": "display_data",
                    "data": {
                        "text/html": "Total execution time: 00:00:00.001"
                    },
                    "metadata": {}
                },
                {
                    "output_type": "execute_result",
                    "metadata": {},
                    "execution_count": 456,
                    "data": {
                        "application/vnd.dataresource+json": {
                            "schema": {
                                "fields": [
                                    {
                                        "name": "CustomerID"
                                    },
                                    {
                                        "name": "CustomerName"
                                    },
                                    {
                                        "name": "ContactName"
                                    },
                                    {
                                        "name": "Address"
                                    },
                                    {
                                        "name": "City"
                                    },
                                    {
                                        "name": "PostalCode"
                                    },
                                    {
                                        "name": "Country"
                                    }
                                ]
                            },
                            "data": []
                        },
                        "text/html": [
                            "<table>",
                            "<tr><th>CustomerID</th><th>CustomerName</th><th>ContactName</th><th>Address</th><th>City</th><th>PostalCode</th><th>Country</th></tr>",
                            "</table>"
                        ]
                    }
                }
            ],
            "execution_count": 456
        },
        {
            "cell_type": "markdown",
            "source": [
                "**Part C:** Find customers whose `PostalCode` ends with \"45\"."
            ],
            "metadata": {
                "azdata_cell_guid": "a40402ca-829b-4032-8712-f1159d6ff207"
            }
        },
        {
            "cell_type": "code",
            "source": [
                "/*\n",
                "WRITE AND EXECUTE YOUR IN THIS CELL UNDER THIS COMMENT\n",
                "*/\n",
                "\n",
                "SELECT * FROM Northwind.dbo.Customers WHERE PostalCode LIKE '%45';\n",
                ""
            ],
            "metadata": {
                "azdata_cell_guid": "7abca27e-5624-4448-a8d0-70651b36cc3c",
                "language": "sql"
            },
            "outputs": [
                {
                    "output_type": "display_data",
                    "data": {
                        "text/html": "(0 rows affected)"
                    },
                    "metadata": {}
                },
                {
                    "output_type": "display_data",
                    "data": {
                        "text/html": "Total execution time: 00:00:00.001"
                    },
                    "metadata": {}
                },
                {
                    "output_type": "execute_result",
                    "metadata": {},
                    "execution_count": 457,
                    "data": {
                        "application/vnd.dataresource+json": {
                            "schema": {
                                "fields": [
                                    {
                                        "name": "CustomerID"
                                    },
                                    {
                                        "name": "CustomerName"
                                    },
                                    {
                                        "name": "ContactName"
                                    },
                                    {
                                        "name": "Address"
                                    },
                                    {
                                        "name": "City"
                                    },
                                    {
                                        "name": "PostalCode"
                                    },
                                    {
                                        "name": "Country"
                                    }
                                ]
                            },
                            "data": []
                        },
                        "text/html": [
                            "<table>",
                            "<tr><th>CustomerID</th><th>CustomerName</th><th>ContactName</th><th>Address</th><th>City</th><th>PostalCode</th><th>Country</th></tr>",
                            "</table>"
                        ]
                    }
                }
            ],
            "execution_count": 457
        },
        {
            "cell_type": "markdown",
            "source": [
                "### Exercise 12: SQL IN"
            ],
            "metadata": {
                "azdata_cell_guid": "04c42b83-c42e-4f5b-8b5c-a123f089163c"
            }
        },
        {
            "cell_type": "markdown",
            "source": [
                "**Part A:** Find all products with `CategoryID` of 1, 3, or 5."
            ],
            "metadata": {
                "azdata_cell_guid": "bc18cb52-c500-45c9-868c-b6bebd8bf1e4"
            }
        },
        {
            "cell_type": "code",
            "source": [
                "/*\n",
                "WRITE AND EXECUTE YOUR IN THIS CELL UNDER THIS COMMENT\n",
                "*/\n",
                "SELECT * FROM Northwind.dbo.Products WHERE CategoryID IN (1,3,5); "
            ],
            "metadata": {
                "azdata_cell_guid": "22121567-210b-45b0-9bc3-ac1b614234b6",
                "language": "sql"
            },
            "outputs": [
                {
                    "output_type": "display_data",
                    "data": {
                        "text/html": "(32 rows affected)"
                    },
                    "metadata": {}
                },
                {
                    "output_type": "display_data",
                    "data": {
                        "text/html": "Total execution time: 00:00:00.001"
                    },
                    "metadata": {}
                },
                {
                    "output_type": "execute_result",
                    "metadata": {},
                    "execution_count": 458,
                    "data": {
                        "application/vnd.dataresource+json": {
                            "schema": {
                                "fields": [
                                    {
                                        "name": "ProductID"
                                    },
                                    {
                                        "name": "ProductName"
                                    },
                                    {
                                        "name": "SupplierID"
                                    },
                                    {
                                        "name": "CategoryID"
                                    },
                                    {
                                        "name": "Unit"
                                    },
                                    {
                                        "name": "Price"
                                    }
                                ]
                            },
                            "data": [
                                {
                                    "ProductID": "1",
                                    "ProductName": "Chais",
                                    "SupplierID": "1",
                                    "CategoryID": "1",
                                    "Unit": "10 boxes x 20 bags",
                                    "Price": "26"
                                },
                                {
                                    "ProductID": "2",
                                    "ProductName": "Chang",
                                    "SupplierID": "1",
                                    "CategoryID": "1",
                                    "Unit": "24 - 12 oz bottles",
                                    "Price": "26"
                                },
                                {
                                    "ProductID": "16",
                                    "ProductName": "Pavlova",
                                    "SupplierID": "7",
                                    "CategoryID": "3",
                                    "Unit": "32 - 500 g boxes",
                                    "Price": "17"
                                },
                                {
                                    "ProductID": "19",
                                    "ProductName": "Teatime Chocolate Biscuits",
                                    "SupplierID": "8",
                                    "CategoryID": "3",
                                    "Unit": "10 boxes x 12 pieces",
                                    "Price": "9"
                                },
                                {
                                    "ProductID": "20",
                                    "ProductName": "Sir Rodney's Marmalade",
                                    "SupplierID": "8",
                                    "CategoryID": "3",
                                    "Unit": "30 gift boxes",
                                    "Price": "81"
                                },
                                {
                                    "ProductID": "21",
                                    "ProductName": "Sir Rodney's Scones",
                                    "SupplierID": "8",
                                    "CategoryID": "3",
                                    "Unit": "24 pkgs. x 4 pieces",
                                    "Price": "10"
                                },
                                {
                                    "ProductID": "22",
                                    "ProductName": "Gustaf's Knäckebröd",
                                    "SupplierID": "9",
                                    "CategoryID": "5",
                                    "Unit": "24 - 500 g pkgs.",
                                    "Price": "21"
                                },
                                {
                                    "ProductID": "23",
                                    "ProductName": "Tunnbröd",
                                    "SupplierID": "9",
                                    "CategoryID": "5",
                                    "Unit": "12 - 250 g pkgs.",
                                    "Price": "9"
                                },
                                {
                                    "ProductID": "24",
                                    "ProductName": "Guaraná Fantástica",
                                    "SupplierID": "10",
                                    "CategoryID": "1",
                                    "Unit": "12 - 355 ml cans",
                                    "Price": "5"
                                },
                                {
                                    "ProductID": "25",
                                    "ProductName": "NuNuCa Nuß-Nougat-Creme",
                                    "SupplierID": "11",
                                    "CategoryID": "3",
                                    "Unit": "20 - 450 g glasses",
                                    "Price": "14"
                                },
                                {
                                    "ProductID": "26",
                                    "ProductName": "Gumbär Gummibärchen",
                                    "SupplierID": "11",
                                    "CategoryID": "3",
                                    "Unit": "100 - 250 g bags",
                                    "Price": "31"
                                },
                                {
                                    "ProductID": "27",
                                    "ProductName": "Schoggi Schokolade",
                                    "SupplierID": "11",
                                    "CategoryID": "3",
                                    "Unit": "100 - 100 g pieces",
                                    "Price": "44"
                                },
                                {
                                    "ProductID": "34",
                                    "ProductName": "Sasquatch Ale",
                                    "SupplierID": "16",
                                    "CategoryID": "1",
                                    "Unit": "24 - 12 oz bottles",
                                    "Price": "21"
                                },
                                {
                                    "ProductID": "35",
                                    "ProductName": "Steeleye Stout",
                                    "SupplierID": "16",
                                    "CategoryID": "1",
                                    "Unit": "24 - 12 oz bottles",
                                    "Price": "25"
                                },
                                {
                                    "ProductID": "38",
                                    "ProductName": "Côte de Blaye",
                                    "SupplierID": "18",
                                    "CategoryID": "1",
                                    "Unit": "12 - 75 cl bottles",
                                    "Price": "372"
                                },
                                {
                                    "ProductID": "39",
                                    "ProductName": "Chartreuse verte",
                                    "SupplierID": "18",
                                    "CategoryID": "1",
                                    "Unit": "750 cc per bottle",
                                    "Price": "25"
                                },
                                {
                                    "ProductID": "42",
                                    "ProductName": "Singaporean Hokkien Fried Mee",
                                    "SupplierID": "20",
                                    "CategoryID": "5",
                                    "Unit": "32 - 1 kg pkgs.",
                                    "Price": "14"
                                },
                                {
                                    "ProductID": "43",
                                    "ProductName": "Ipoh Coffee",
                                    "SupplierID": "20",
                                    "CategoryID": "1",
                                    "Unit": "16 - 500 g tins",
                                    "Price": "65"
                                },
                                {
                                    "ProductID": "47",
                                    "ProductName": "Zaanse koeken",
                                    "SupplierID": "22",
                                    "CategoryID": "3",
                                    "Unit": "10 - 4 oz boxes",
                                    "Price": "10"
                                },
                                {
                                    "ProductID": "48",
                                    "ProductName": "Chocolade",
                                    "SupplierID": "22",
                                    "CategoryID": "3",
                                    "Unit": "10 pkgs.",
                                    "Price": "13"
                                },
                                {
                                    "ProductID": "49",
                                    "ProductName": "Maxilaku",
                                    "SupplierID": "23",
                                    "CategoryID": "3",
                                    "Unit": "24 - 50 g pkgs.",
                                    "Price": "20"
                                },
                                {
                                    "ProductID": "50",
                                    "ProductName": "Valkoinen suklaa",
                                    "SupplierID": "23",
                                    "CategoryID": "3",
                                    "Unit": "12 - 100 g bars",
                                    "Price": "16"
                                },
                                {
                                    "ProductID": "52",
                                    "ProductName": "Filo Mix",
                                    "SupplierID": "24",
                                    "CategoryID": "5",
                                    "Unit": "16 - 2 kg boxes",
                                    "Price": "7"
                                },
                                {
                                    "ProductID": "56",
                                    "ProductName": "Gnocchi di nonna Alice",
                                    "SupplierID": "26",
                                    "CategoryID": "5",
                                    "Unit": "24 - 250 g pkgs.",
                                    "Price": "38"
                                },
                                {
                                    "ProductID": "57",
                                    "ProductName": "Ravioli Angelo",
                                    "SupplierID": "26",
                                    "CategoryID": "5",
                                    "Unit": "24 - 250 g pkgs.",
                                    "Price": "20"
                                },
                                {
                                    "ProductID": "62",
                                    "ProductName": "Tarte au sucre",
                                    "SupplierID": "29",
                                    "CategoryID": "3",
                                    "Unit": "48 pies",
                                    "Price": "49"
                                },
                                {
                                    "ProductID": "64",
                                    "ProductName": "Wimmers gute Semmelknödel",
                                    "SupplierID": "12",
                                    "CategoryID": "5",
                                    "Unit": "20 bags x 4 pieces",
                                    "Price": "33"
                                },
                                {
                                    "ProductID": "67",
                                    "ProductName": "Laughing Lumberjack Lager",
                                    "SupplierID": "16",
                                    "CategoryID": "1",
                                    "Unit": "24 - 12 oz bottles",
                                    "Price": "21"
                                },
                                {
                                    "ProductID": "68",
                                    "ProductName": "Scottish Longbreads",
                                    "SupplierID": "8",
                                    "CategoryID": "3",
                                    "Unit": "10 boxes x 8 pieces",
                                    "Price": "13"
                                },
                                {
                                    "ProductID": "70",
                                    "ProductName": "Outback Lager",
                                    "SupplierID": "7",
                                    "CategoryID": "1",
                                    "Unit": "24 - 355 ml bottles",
                                    "Price": "22"
                                },
                                {
                                    "ProductID": "75",
                                    "ProductName": "Rhönbräu Klosterbier",
                                    "SupplierID": "12",
                                    "CategoryID": "1",
                                    "Unit": "24 - 0.5 l bottles",
                                    "Price": "8"
                                },
                                {
                                    "ProductID": "76",
                                    "ProductName": "Lakkalikööri",
                                    "SupplierID": "23",
                                    "CategoryID": "1",
                                    "Unit": "500 ml",
                                    "Price": "25"
                                }
                            ]
                        },
                        "text/html": [
                            "<table>",
                            "<tr><th>ProductID</th><th>ProductName</th><th>SupplierID</th><th>CategoryID</th><th>Unit</th><th>Price</th></tr>",
                            "<tr><td>1</td><td>Chais</td><td>1</td><td>1</td><td>10 boxes x 20 bags</td><td>26</td></tr>",
                            "<tr><td>2</td><td>Chang</td><td>1</td><td>1</td><td>24 - 12 oz bottles</td><td>26</td></tr>",
                            "<tr><td>16</td><td>Pavlova</td><td>7</td><td>3</td><td>32 - 500 g boxes</td><td>17</td></tr>",
                            "<tr><td>19</td><td>Teatime Chocolate Biscuits</td><td>8</td><td>3</td><td>10 boxes x 12 pieces</td><td>9</td></tr>",
                            "<tr><td>20</td><td>Sir Rodney&#39;s Marmalade</td><td>8</td><td>3</td><td>30 gift boxes</td><td>81</td></tr>",
                            "<tr><td>21</td><td>Sir Rodney&#39;s Scones</td><td>8</td><td>3</td><td>24 pkgs. x 4 pieces</td><td>10</td></tr>",
                            "<tr><td>22</td><td>Gustaf&#39;s Knäckebröd</td><td>9</td><td>5</td><td>24 - 500 g pkgs.</td><td>21</td></tr>",
                            "<tr><td>23</td><td>Tunnbröd</td><td>9</td><td>5</td><td>12 - 250 g pkgs.</td><td>9</td></tr>",
                            "<tr><td>24</td><td>Guaraná Fantástica</td><td>10</td><td>1</td><td>12 - 355 ml cans</td><td>5</td></tr>",
                            "<tr><td>25</td><td>NuNuCa Nuß-Nougat-Creme</td><td>11</td><td>3</td><td>20 - 450 g glasses</td><td>14</td></tr>",
                            "<tr><td>26</td><td>Gumbär Gummibärchen</td><td>11</td><td>3</td><td>100 - 250 g bags</td><td>31</td></tr>",
                            "<tr><td>27</td><td>Schoggi Schokolade</td><td>11</td><td>3</td><td>100 - 100 g pieces</td><td>44</td></tr>",
                            "<tr><td>34</td><td>Sasquatch Ale</td><td>16</td><td>1</td><td>24 - 12 oz bottles</td><td>21</td></tr>",
                            "<tr><td>35</td><td>Steeleye Stout</td><td>16</td><td>1</td><td>24 - 12 oz bottles</td><td>25</td></tr>",
                            "<tr><td>38</td><td>Côte de Blaye</td><td>18</td><td>1</td><td>12 - 75 cl bottles</td><td>372</td></tr>",
                            "<tr><td>39</td><td>Chartreuse verte</td><td>18</td><td>1</td><td>750 cc per bottle</td><td>25</td></tr>",
                            "<tr><td>42</td><td>Singaporean Hokkien Fried Mee</td><td>20</td><td>5</td><td>32 - 1 kg pkgs.</td><td>14</td></tr>",
                            "<tr><td>43</td><td>Ipoh Coffee</td><td>20</td><td>1</td><td>16 - 500 g tins</td><td>65</td></tr>",
                            "<tr><td>47</td><td>Zaanse koeken</td><td>22</td><td>3</td><td>10 - 4 oz boxes</td><td>10</td></tr>",
                            "<tr><td>48</td><td>Chocolade</td><td>22</td><td>3</td><td>10 pkgs.</td><td>13</td></tr>",
                            "<tr><td>49</td><td>Maxilaku</td><td>23</td><td>3</td><td>24 - 50 g pkgs.</td><td>20</td></tr>",
                            "<tr><td>50</td><td>Valkoinen suklaa</td><td>23</td><td>3</td><td>12 - 100 g bars</td><td>16</td></tr>",
                            "<tr><td>52</td><td>Filo Mix</td><td>24</td><td>5</td><td>16 - 2 kg boxes</td><td>7</td></tr>",
                            "<tr><td>56</td><td>Gnocchi di nonna Alice</td><td>26</td><td>5</td><td>24 - 250 g pkgs.</td><td>38</td></tr>",
                            "<tr><td>57</td><td>Ravioli Angelo</td><td>26</td><td>5</td><td>24 - 250 g pkgs.</td><td>20</td></tr>",
                            "<tr><td>62</td><td>Tarte au sucre</td><td>29</td><td>3</td><td>48 pies</td><td>49</td></tr>",
                            "<tr><td>64</td><td>Wimmers gute Semmelknödel</td><td>12</td><td>5</td><td>20 bags x 4 pieces</td><td>33</td></tr>",
                            "<tr><td>67</td><td>Laughing Lumberjack Lager</td><td>16</td><td>1</td><td>24 - 12 oz bottles</td><td>21</td></tr>",
                            "<tr><td>68</td><td>Scottish Longbreads</td><td>8</td><td>3</td><td>10 boxes x 8 pieces</td><td>13</td></tr>",
                            "<tr><td>70</td><td>Outback Lager</td><td>7</td><td>1</td><td>24 - 355 ml bottles</td><td>22</td></tr>",
                            "<tr><td>75</td><td>Rhönbräu Klosterbier</td><td>12</td><td>1</td><td>24 - 0.5 l bottles</td><td>8</td></tr>",
                            "<tr><td>76</td><td>Lakkalikööri</td><td>23</td><td>1</td><td>500 ml</td><td>25</td></tr>",
                            "</table>"
                        ]
                    }
                }
            ],
            "execution_count": 458
        },
        {
            "cell_type": "markdown",
            "source": [
                "**Part B:** Find all suppliers from `USA`, `UK`, or `Germany`."
            ],
            "metadata": {
                "azdata_cell_guid": "6b9559be-0dea-4a21-8620-5c31984ff719"
            }
        },
        {
            "cell_type": "code",
            "source": [
                "/*\n",
                "WRITE AND EXECUTE YOUR IN THIS CELL UNDER THIS COMMENT\n",
                "*/\n",
                "\n",
                "SELECT * FROM Northwind.dbo.Customers WHERE Country IN ('USA', 'UK', 'Germany'); \n",
                ""
            ],
            "metadata": {
                "azdata_cell_guid": "e5b18070-ccc0-43f2-a3cd-335111cfc122",
                "language": "sql"
            },
            "outputs": [
                {
                    "output_type": "display_data",
                    "data": {
                        "text/html": "(31 rows affected)"
                    },
                    "metadata": {}
                },
                {
                    "output_type": "display_data",
                    "data": {
                        "text/html": "Total execution time: 00:00:00.001"
                    },
                    "metadata": {}
                },
                {
                    "output_type": "execute_result",
                    "metadata": {},
                    "execution_count": 459,
                    "data": {
                        "application/vnd.dataresource+json": {
                            "schema": {
                                "fields": [
                                    {
                                        "name": "CustomerID"
                                    },
                                    {
                                        "name": "CustomerName"
                                    },
                                    {
                                        "name": "ContactName"
                                    },
                                    {
                                        "name": "Address"
                                    },
                                    {
                                        "name": "City"
                                    },
                                    {
                                        "name": "PostalCode"
                                    },
                                    {
                                        "name": "Country"
                                    }
                                ]
                            },
                            "data": [
                                {
                                    "CustomerID": "1",
                                    "CustomerName": "Alfreds Futterkiste",
                                    "ContactName": "Maria Anders",
                                    "Address": "Obere Str. 57",
                                    "City": "Berlin",
                                    "PostalCode": "12209",
                                    "Country": "Germany"
                                },
                                {
                                    "CustomerID": "4",
                                    "CustomerName": "Around the Horn",
                                    "ContactName": "Thomas Hardy",
                                    "Address": "120 Hanover Sq.",
                                    "City": "London",
                                    "PostalCode": "WA1 1DP",
                                    "Country": "UK"
                                },
                                {
                                    "CustomerID": "6",
                                    "CustomerName": "Blauer See Delikatessen",
                                    "ContactName": "Hanna Moos",
                                    "Address": "Forsterstr. 57",
                                    "City": "Mannheim",
                                    "PostalCode": "68306",
                                    "Country": "Germany"
                                },
                                {
                                    "CustomerID": "11",
                                    "CustomerName": "B''s Beverages",
                                    "ContactName": "Victoria Ashworth",
                                    "Address": "Fauntleroy Circus",
                                    "City": "London",
                                    "PostalCode": "EC2 5NT",
                                    "Country": "UK"
                                },
                                {
                                    "CustomerID": "16",
                                    "CustomerName": "Consolidated Holdings",
                                    "ContactName": "Elizabeth Brown",
                                    "Address": "Berkeley Gardens 12 Brewery",
                                    "City": "London",
                                    "PostalCode": "WX1 6LT",
                                    "Country": "UK"
                                },
                                {
                                    "CustomerID": "17",
                                    "CustomerName": "Drachenblut Delikatessend",
                                    "ContactName": "Sven Ottlieb",
                                    "Address": "Walserweg 21",
                                    "City": "Aachen",
                                    "PostalCode": "52066",
                                    "Country": "Germany"
                                },
                                {
                                    "CustomerID": "19",
                                    "CustomerName": "Eastern Connection",
                                    "ContactName": "Ann Devon",
                                    "Address": "35 King George",
                                    "City": "London",
                                    "PostalCode": "WX3 6FW",
                                    "Country": "UK"
                                },
                                {
                                    "CustomerID": "25",
                                    "CustomerName": "Frankenversand",
                                    "ContactName": "Peter Franken",
                                    "Address": "Berliner Platz 43",
                                    "City": "München",
                                    "PostalCode": "80805",
                                    "Country": "Germany"
                                },
                                {
                                    "CustomerID": "32",
                                    "CustomerName": "Great Lakes Food Market",
                                    "ContactName": "Howard Snyder",
                                    "Address": "2732 Baker Blvd.",
                                    "City": "Eugene",
                                    "PostalCode": "97403",
                                    "Country": "USA"
                                },
                                {
                                    "CustomerID": "36",
                                    "CustomerName": "Hungry Coyote Import Store",
                                    "ContactName": "Yoshi Latimer",
                                    "Address": "City Center Plaza 516 Main St.",
                                    "City": "Elgin",
                                    "PostalCode": "97827",
                                    "Country": "USA"
                                },
                                {
                                    "CustomerID": "38",
                                    "CustomerName": "Island Trading",
                                    "ContactName": "Helen Bennett",
                                    "Address": "Garden House Crowther Way",
                                    "City": "Cowes",
                                    "PostalCode": "PO31 7PJ",
                                    "Country": "UK"
                                },
                                {
                                    "CustomerID": "39",
                                    "CustomerName": "Königlich Essen",
                                    "ContactName": "Philip Cramer",
                                    "Address": "Maubelstr. 90",
                                    "City": "Brandenburg",
                                    "PostalCode": "14776",
                                    "Country": "Germany"
                                },
                                {
                                    "CustomerID": "43",
                                    "CustomerName": "Lazy K Kountry Store",
                                    "ContactName": "John Steel",
                                    "Address": "12 Orchestra Terrace",
                                    "City": "Walla Walla",
                                    "PostalCode": "99362",
                                    "Country": "USA"
                                },
                                {
                                    "CustomerID": "44",
                                    "CustomerName": "Lehmanns Marktstand",
                                    "ContactName": "Renate Messner",
                                    "Address": "Magazinweg 7",
                                    "City": "Frankfurt a.M.",
                                    "PostalCode": "60528",
                                    "Country": "Germany"
                                },
                                {
                                    "CustomerID": "45",
                                    "CustomerName": "Let''s Stop N Shop",
                                    "ContactName": "Jaime Yorres",
                                    "Address": "87 Polk St. Suite 5",
                                    "City": "San Francisco",
                                    "PostalCode": "94117",
                                    "Country": "USA"
                                },
                                {
                                    "CustomerID": "48",
                                    "CustomerName": "Lonesome Pine Restaurant",
                                    "ContactName": "Fran Wilson",
                                    "Address": "89 Chiaroscuro Rd.",
                                    "City": "Portland",
                                    "PostalCode": "97219",
                                    "Country": "USA"
                                },
                                {
                                    "CustomerID": "52",
                                    "CustomerName": "Morgenstern Gesundkost",
                                    "ContactName": "Alexander Feuer",
                                    "Address": "Heerstr. 22",
                                    "City": "Leipzig",
                                    "PostalCode": "4179",
                                    "Country": "Germany"
                                },
                                {
                                    "CustomerID": "53",
                                    "CustomerName": "North/South",
                                    "ContactName": "Simon Crowther",
                                    "Address": "South House 300 Queensbridge",
                                    "City": "London",
                                    "PostalCode": "SW7 1RZ",
                                    "Country": "UK"
                                },
                                {
                                    "CustomerID": "55",
                                    "CustomerName": "Old World Delicatessen",
                                    "ContactName": "Rene Phillips",
                                    "Address": "2743 Bering St.",
                                    "City": "Anchorage",
                                    "PostalCode": "99508",
                                    "Country": "USA"
                                },
                                {
                                    "CustomerID": "56",
                                    "CustomerName": "Ottilies Käseladen",
                                    "ContactName": "Henriette Pfalzheim",
                                    "Address": "Mehrheimerstr. 369",
                                    "City": "Köln",
                                    "PostalCode": "50739",
                                    "Country": "Germany"
                                },
                                {
                                    "CustomerID": "63",
                                    "CustomerName": "QUICK-Stop",
                                    "ContactName": "Horst Kloss",
                                    "Address": "Taucherstraße 10",
                                    "City": "Cunewalde",
                                    "PostalCode": "1307",
                                    "Country": "Germany"
                                },
                                {
                                    "CustomerID": "65",
                                    "CustomerName": "Rattlesnake Canyon Grocery",
                                    "ContactName": "Paula Wilson",
                                    "Address": "2817 Milton Dr.",
                                    "City": "Albuquerque",
                                    "PostalCode": "87110",
                                    "Country": "USA"
                                },
                                {
                                    "CustomerID": "71",
                                    "CustomerName": "Save-a-lot Markets",
                                    "ContactName": "Jose Pavarotti",
                                    "Address": "187 Suffolk Ln.",
                                    "City": "Boise",
                                    "PostalCode": "83720",
                                    "Country": "USA"
                                },
                                {
                                    "CustomerID": "72",
                                    "CustomerName": "Seven Seas Imports",
                                    "ContactName": "Hari Kumar",
                                    "Address": "90 Wadhurst Rd.",
                                    "City": "London",
                                    "PostalCode": "OX15 4NB",
                                    "Country": "UK"
                                },
                                {
                                    "CustomerID": "75",
                                    "CustomerName": "Split Rail Beer & Ale",
                                    "ContactName": "Art Braunschweiger",
                                    "Address": "P.O. Box 555",
                                    "City": "Lander",
                                    "PostalCode": "82520",
                                    "Country": "USA"
                                },
                                {
                                    "CustomerID": "77",
                                    "CustomerName": "The Big Cheese",
                                    "ContactName": "Liz Nixon",
                                    "Address": "89 Jefferson Way Suite 2",
                                    "City": "Portland",
                                    "PostalCode": "97201",
                                    "Country": "USA"
                                },
                                {
                                    "CustomerID": "78",
                                    "CustomerName": "The Cracker Box",
                                    "ContactName": "Liu Wong",
                                    "Address": "55 Grizzly Peak Rd.",
                                    "City": "Butte",
                                    "PostalCode": "59801",
                                    "Country": "USA"
                                },
                                {
                                    "CustomerID": "79",
                                    "CustomerName": "Toms Spezialitäten",
                                    "ContactName": "Karin Josephs",
                                    "Address": "Luisenstr. 48",
                                    "City": "Münster",
                                    "PostalCode": "44087",
                                    "Country": "Germany"
                                },
                                {
                                    "CustomerID": "82",
                                    "CustomerName": "Trail''s Head Gourmet Provisioners",
                                    "ContactName": "Helvetius Nagy",
                                    "Address": "722 DaVinci Blvd.",
                                    "City": "Kirkland",
                                    "PostalCode": "98034",
                                    "Country": "USA"
                                },
                                {
                                    "CustomerID": "86",
                                    "CustomerName": "Die Wandernde Kuh",
                                    "ContactName": "Rita Müller",
                                    "Address": "Adenauerallee 900",
                                    "City": "Stuttgart",
                                    "PostalCode": "70563",
                                    "Country": "Germany"
                                },
                                {
                                    "CustomerID": "89",
                                    "CustomerName": "White Clover Markets",
                                    "ContactName": "Karl Jablonski",
                                    "Address": "305 - 14th Ave. S. Suite 3B",
                                    "City": "Seattle",
                                    "PostalCode": "98128",
                                    "Country": "USA"
                                }
                            ]
                        },
                        "text/html": [
                            "<table>",
                            "<tr><th>CustomerID</th><th>CustomerName</th><th>ContactName</th><th>Address</th><th>City</th><th>PostalCode</th><th>Country</th></tr>",
                            "<tr><td>1</td><td>Alfreds Futterkiste</td><td>Maria Anders</td><td>Obere Str. 57</td><td>Berlin</td><td>12209</td><td>Germany</td></tr>",
                            "<tr><td>4</td><td>Around the Horn</td><td>Thomas Hardy</td><td>120 Hanover Sq.</td><td>London</td><td>WA1 1DP</td><td>UK</td></tr>",
                            "<tr><td>6</td><td>Blauer See Delikatessen</td><td>Hanna Moos</td><td>Forsterstr. 57</td><td>Mannheim</td><td>68306</td><td>Germany</td></tr>",
                            "<tr><td>11</td><td>B&#39;&#39;s Beverages</td><td>Victoria Ashworth</td><td>Fauntleroy Circus</td><td>London</td><td>EC2 5NT</td><td>UK</td></tr>",
                            "<tr><td>16</td><td>Consolidated Holdings</td><td>Elizabeth Brown</td><td>Berkeley Gardens 12 Brewery</td><td>London</td><td>WX1 6LT</td><td>UK</td></tr>",
                            "<tr><td>17</td><td>Drachenblut Delikatessend</td><td>Sven Ottlieb</td><td>Walserweg 21</td><td>Aachen</td><td>52066</td><td>Germany</td></tr>",
                            "<tr><td>19</td><td>Eastern Connection</td><td>Ann Devon</td><td>35 King George</td><td>London</td><td>WX3 6FW</td><td>UK</td></tr>",
                            "<tr><td>25</td><td>Frankenversand</td><td>Peter Franken</td><td>Berliner Platz 43</td><td>München</td><td>80805</td><td>Germany</td></tr>",
                            "<tr><td>32</td><td>Great Lakes Food Market</td><td>Howard Snyder</td><td>2732 Baker Blvd.</td><td>Eugene</td><td>97403</td><td>USA</td></tr>",
                            "<tr><td>36</td><td>Hungry Coyote Import Store</td><td>Yoshi Latimer</td><td>City Center Plaza 516 Main St.</td><td>Elgin</td><td>97827</td><td>USA</td></tr>",
                            "<tr><td>38</td><td>Island Trading</td><td>Helen Bennett</td><td>Garden House Crowther Way</td><td>Cowes</td><td>PO31 7PJ</td><td>UK</td></tr>",
                            "<tr><td>39</td><td>Königlich Essen</td><td>Philip Cramer</td><td>Maubelstr. 90</td><td>Brandenburg</td><td>14776</td><td>Germany</td></tr>",
                            "<tr><td>43</td><td>Lazy K Kountry Store</td><td>John Steel</td><td>12 Orchestra Terrace</td><td>Walla Walla</td><td>99362</td><td>USA</td></tr>",
                            "<tr><td>44</td><td>Lehmanns Marktstand</td><td>Renate Messner</td><td>Magazinweg 7</td><td>Frankfurt a.M.</td><td>60528</td><td>Germany</td></tr>",
                            "<tr><td>45</td><td>Let&#39;&#39;s Stop N Shop</td><td>Jaime Yorres</td><td>87 Polk St. Suite 5</td><td>San Francisco</td><td>94117</td><td>USA</td></tr>",
                            "<tr><td>48</td><td>Lonesome Pine Restaurant</td><td>Fran Wilson</td><td>89 Chiaroscuro Rd.</td><td>Portland</td><td>97219</td><td>USA</td></tr>",
                            "<tr><td>52</td><td>Morgenstern Gesundkost</td><td>Alexander Feuer</td><td>Heerstr. 22</td><td>Leipzig</td><td>4179</td><td>Germany</td></tr>",
                            "<tr><td>53</td><td>North/South</td><td>Simon Crowther</td><td>South House 300 Queensbridge</td><td>London</td><td>SW7 1RZ</td><td>UK</td></tr>",
                            "<tr><td>55</td><td>Old World Delicatessen</td><td>Rene Phillips</td><td>2743 Bering St.</td><td>Anchorage</td><td>99508</td><td>USA</td></tr>",
                            "<tr><td>56</td><td>Ottilies Käseladen</td><td>Henriette Pfalzheim</td><td>Mehrheimerstr. 369</td><td>Köln</td><td>50739</td><td>Germany</td></tr>",
                            "<tr><td>63</td><td>QUICK-Stop</td><td>Horst Kloss</td><td>Taucherstraße 10</td><td>Cunewalde</td><td>1307</td><td>Germany</td></tr>",
                            "<tr><td>65</td><td>Rattlesnake Canyon Grocery</td><td>Paula Wilson</td><td>2817 Milton Dr.</td><td>Albuquerque</td><td>87110</td><td>USA</td></tr>",
                            "<tr><td>71</td><td>Save-a-lot Markets</td><td>Jose Pavarotti</td><td>187 Suffolk Ln.</td><td>Boise</td><td>83720</td><td>USA</td></tr>",
                            "<tr><td>72</td><td>Seven Seas Imports</td><td>Hari Kumar</td><td>90 Wadhurst Rd.</td><td>London</td><td>OX15 4NB</td><td>UK</td></tr>",
                            "<tr><td>75</td><td>Split Rail Beer &amp; Ale</td><td>Art Braunschweiger</td><td>P.O. Box 555</td><td>Lander</td><td>82520</td><td>USA</td></tr>",
                            "<tr><td>77</td><td>The Big Cheese</td><td>Liz Nixon</td><td>89 Jefferson Way Suite 2</td><td>Portland</td><td>97201</td><td>USA</td></tr>",
                            "<tr><td>78</td><td>The Cracker Box</td><td>Liu Wong</td><td>55 Grizzly Peak Rd.</td><td>Butte</td><td>59801</td><td>USA</td></tr>",
                            "<tr><td>79</td><td>Toms Spezialitäten</td><td>Karin Josephs</td><td>Luisenstr. 48</td><td>Münster</td><td>44087</td><td>Germany</td></tr>",
                            "<tr><td>82</td><td>Trail&#39;&#39;s Head Gourmet Provisioners</td><td>Helvetius Nagy</td><td>722 DaVinci Blvd.</td><td>Kirkland</td><td>98034</td><td>USA</td></tr>",
                            "<tr><td>86</td><td>Die Wandernde Kuh</td><td>Rita Müller</td><td>Adenauerallee 900</td><td>Stuttgart</td><td>70563</td><td>Germany</td></tr>",
                            "<tr><td>89</td><td>White Clover Markets</td><td>Karl Jablonski</td><td>305 - 14th Ave. S. Suite 3B</td><td>Seattle</td><td>98128</td><td>USA</td></tr>",
                            "</table>"
                        ]
                    }
                }
            ],
            "execution_count": 459
        },
        {
            "cell_type": "markdown",
            "source": [
                "### Exercise 13: SQL BETWEEN"
            ],
            "metadata": {
                "azdata_cell_guid": "ccbef257-903d-4d90-9770-c9371c979cf9"
            }
        },
        {
            "cell_type": "markdown",
            "source": [
                "**Part A:** Retrieve all products priced between 10 and 20."
            ],
            "metadata": {
                "azdata_cell_guid": "7b6ae47f-d70a-43a1-b438-98363b9587be"
            }
        },
        {
            "cell_type": "code",
            "source": [
                "/*\n",
                "WRITE AND EXECUTE YOUR IN THIS CELL UNDER THIS COMMENT\n",
                "*/\n",
                "\n",
                "SELECT * FROM Northwind.dbo.Products WHERE Price BETWEEN 10 AND 20;"
            ],
            "metadata": {
                "azdata_cell_guid": "1423a920-713c-456e-bcaf-8759472293ba",
                "language": "sql"
            },
            "outputs": [
                {
                    "output_type": "display_data",
                    "data": {
                        "text/html": "(24 rows affected)"
                    },
                    "metadata": {}
                },
                {
                    "output_type": "display_data",
                    "data": {
                        "text/html": "Total execution time: 00:00:00.001"
                    },
                    "metadata": {}
                },
                {
                    "output_type": "execute_result",
                    "metadata": {},
                    "execution_count": 460,
                    "data": {
                        "application/vnd.dataresource+json": {
                            "schema": {
                                "fields": [
                                    {
                                        "name": "ProductID"
                                    },
                                    {
                                        "name": "ProductName"
                                    },
                                    {
                                        "name": "SupplierID"
                                    },
                                    {
                                        "name": "CategoryID"
                                    },
                                    {
                                        "name": "Unit"
                                    },
                                    {
                                        "name": "Price"
                                    }
                                ]
                            },
                            "data": [
                                {
                                    "ProductID": "3",
                                    "ProductName": "Aniseed Syrup",
                                    "SupplierID": "1",
                                    "CategoryID": "2",
                                    "Unit": "12 - 550 ml bottles",
                                    "Price": "10"
                                },
                                {
                                    "ProductID": "15",
                                    "ProductName": "Genen Shouyu",
                                    "SupplierID": "6",
                                    "CategoryID": "2",
                                    "Unit": "24 - 250 ml bottles",
                                    "Price": "16"
                                },
                                {
                                    "ProductID": "16",
                                    "ProductName": "Pavlova",
                                    "SupplierID": "7",
                                    "CategoryID": "3",
                                    "Unit": "32 - 500 g boxes",
                                    "Price": "17"
                                },
                                {
                                    "ProductID": "21",
                                    "ProductName": "Sir Rodney's Scones",
                                    "SupplierID": "8",
                                    "CategoryID": "3",
                                    "Unit": "24 pkgs. x 4 pieces",
                                    "Price": "10"
                                },
                                {
                                    "ProductID": "25",
                                    "ProductName": "NuNuCa Nuß-Nougat-Creme",
                                    "SupplierID": "11",
                                    "CategoryID": "3",
                                    "Unit": "20 - 450 g glasses",
                                    "Price": "14"
                                },
                                {
                                    "ProductID": "31",
                                    "ProductName": "Gorgonzola Telino",
                                    "SupplierID": "14",
                                    "CategoryID": "4",
                                    "Unit": "12 - 100 g pkgs",
                                    "Price": "13"
                                },
                                {
                                    "ProductID": "36",
                                    "ProductName": "Inlagd Sill",
                                    "SupplierID": "17",
                                    "CategoryID": "8",
                                    "Unit": "24 - 250 g jars",
                                    "Price": "19"
                                },
                                {
                                    "ProductID": "40",
                                    "ProductName": "Boston Crab Meat",
                                    "SupplierID": "19",
                                    "CategoryID": "8",
                                    "Unit": "24 - 4 oz tins",
                                    "Price": "18"
                                },
                                {
                                    "ProductID": "41",
                                    "ProductName": "Jack's New England Clam Chowder",
                                    "SupplierID": "19",
                                    "CategoryID": "8",
                                    "Unit": "12 - 12 oz cans",
                                    "Price": "10"
                                },
                                {
                                    "ProductID": "42",
                                    "ProductName": "Singaporean Hokkien Fried Mee",
                                    "SupplierID": "20",
                                    "CategoryID": "5",
                                    "Unit": "32 - 1 kg pkgs.",
                                    "Price": "14"
                                },
                                {
                                    "ProductID": "44",
                                    "ProductName": "Gula Malacca",
                                    "SupplierID": "20",
                                    "CategoryID": "2",
                                    "Unit": "20 - 2 kg bags",
                                    "Price": "19"
                                },
                                {
                                    "ProductID": "45",
                                    "ProductName": "Røgede sild",
                                    "SupplierID": "21",
                                    "CategoryID": "8",
                                    "Unit": "1k pkg.",
                                    "Price": "10"
                                },
                                {
                                    "ProductID": "46",
                                    "ProductName": "Spegesild",
                                    "SupplierID": "21",
                                    "CategoryID": "8",
                                    "Unit": "4 - 450 g glasses",
                                    "Price": "12"
                                },
                                {
                                    "ProductID": "47",
                                    "ProductName": "Zaanse koeken",
                                    "SupplierID": "22",
                                    "CategoryID": "3",
                                    "Unit": "10 - 4 oz boxes",
                                    "Price": "10"
                                },
                                {
                                    "ProductID": "48",
                                    "ProductName": "Chocolade",
                                    "SupplierID": "22",
                                    "CategoryID": "3",
                                    "Unit": "10 pkgs.",
                                    "Price": "13"
                                },
                                {
                                    "ProductID": "49",
                                    "ProductName": "Maxilaku",
                                    "SupplierID": "23",
                                    "CategoryID": "3",
                                    "Unit": "24 - 50 g pkgs.",
                                    "Price": "20"
                                },
                                {
                                    "ProductID": "50",
                                    "ProductName": "Valkoinen suklaa",
                                    "SupplierID": "23",
                                    "CategoryID": "3",
                                    "Unit": "12 - 100 g bars",
                                    "Price": "16"
                                },
                                {
                                    "ProductID": "57",
                                    "ProductName": "Ravioli Angelo",
                                    "SupplierID": "26",
                                    "CategoryID": "5",
                                    "Unit": "24 - 250 g pkgs.",
                                    "Price": "20"
                                },
                                {
                                    "ProductID": "58",
                                    "ProductName": "Escargots de Bourgogne",
                                    "SupplierID": "27",
                                    "CategoryID": "8",
                                    "Unit": "24 pieces",
                                    "Price": "13"
                                },
                                {
                                    "ProductID": "66",
                                    "ProductName": "Louisiana Hot Spiced Okra",
                                    "SupplierID": "2",
                                    "CategoryID": "2",
                                    "Unit": "24 - 8 oz jars",
                                    "Price": "17"
                                },
                                {
                                    "ProductID": "68",
                                    "ProductName": "Scottish Longbreads",
                                    "SupplierID": "8",
                                    "CategoryID": "3",
                                    "Unit": "10 boxes x 8 pieces",
                                    "Price": "13"
                                },
                                {
                                    "ProductID": "73",
                                    "ProductName": "Röd Kaviar",
                                    "SupplierID": "17",
                                    "CategoryID": "8",
                                    "Unit": "24 - 150 g jars",
                                    "Price": "15"
                                },
                                {
                                    "ProductID": "74",
                                    "ProductName": "Longlife Tofu",
                                    "SupplierID": "4",
                                    "CategoryID": "7",
                                    "Unit": "5 kg pkg.",
                                    "Price": "10"
                                },
                                {
                                    "ProductID": "77",
                                    "ProductName": "Original Frankfurter grüne Soße",
                                    "SupplierID": "12",
                                    "CategoryID": "2",
                                    "Unit": "12 boxes",
                                    "Price": "13"
                                }
                            ]
                        },
                        "text/html": [
                            "<table>",
                            "<tr><th>ProductID</th><th>ProductName</th><th>SupplierID</th><th>CategoryID</th><th>Unit</th><th>Price</th></tr>",
                            "<tr><td>3</td><td>Aniseed Syrup</td><td>1</td><td>2</td><td>12 - 550 ml bottles</td><td>10</td></tr>",
                            "<tr><td>15</td><td>Genen Shouyu</td><td>6</td><td>2</td><td>24 - 250 ml bottles</td><td>16</td></tr>",
                            "<tr><td>16</td><td>Pavlova</td><td>7</td><td>3</td><td>32 - 500 g boxes</td><td>17</td></tr>",
                            "<tr><td>21</td><td>Sir Rodney&#39;s Scones</td><td>8</td><td>3</td><td>24 pkgs. x 4 pieces</td><td>10</td></tr>",
                            "<tr><td>25</td><td>NuNuCa Nuß-Nougat-Creme</td><td>11</td><td>3</td><td>20 - 450 g glasses</td><td>14</td></tr>",
                            "<tr><td>31</td><td>Gorgonzola Telino</td><td>14</td><td>4</td><td>12 - 100 g pkgs</td><td>13</td></tr>",
                            "<tr><td>36</td><td>Inlagd Sill</td><td>17</td><td>8</td><td>24 - 250 g jars</td><td>19</td></tr>",
                            "<tr><td>40</td><td>Boston Crab Meat</td><td>19</td><td>8</td><td>24 - 4 oz tins</td><td>18</td></tr>",
                            "<tr><td>41</td><td>Jack&#39;s New England Clam Chowder</td><td>19</td><td>8</td><td>12 - 12 oz cans</td><td>10</td></tr>",
                            "<tr><td>42</td><td>Singaporean Hokkien Fried Mee</td><td>20</td><td>5</td><td>32 - 1 kg pkgs.</td><td>14</td></tr>",
                            "<tr><td>44</td><td>Gula Malacca</td><td>20</td><td>2</td><td>20 - 2 kg bags</td><td>19</td></tr>",
                            "<tr><td>45</td><td>Røgede sild</td><td>21</td><td>8</td><td>1k pkg.</td><td>10</td></tr>",
                            "<tr><td>46</td><td>Spegesild</td><td>21</td><td>8</td><td>4 - 450 g glasses</td><td>12</td></tr>",
                            "<tr><td>47</td><td>Zaanse koeken</td><td>22</td><td>3</td><td>10 - 4 oz boxes</td><td>10</td></tr>",
                            "<tr><td>48</td><td>Chocolade</td><td>22</td><td>3</td><td>10 pkgs.</td><td>13</td></tr>",
                            "<tr><td>49</td><td>Maxilaku</td><td>23</td><td>3</td><td>24 - 50 g pkgs.</td><td>20</td></tr>",
                            "<tr><td>50</td><td>Valkoinen suklaa</td><td>23</td><td>3</td><td>12 - 100 g bars</td><td>16</td></tr>",
                            "<tr><td>57</td><td>Ravioli Angelo</td><td>26</td><td>5</td><td>24 - 250 g pkgs.</td><td>20</td></tr>",
                            "<tr><td>58</td><td>Escargots de Bourgogne</td><td>27</td><td>8</td><td>24 pieces</td><td>13</td></tr>",
                            "<tr><td>66</td><td>Louisiana Hot Spiced Okra</td><td>2</td><td>2</td><td>24 - 8 oz jars</td><td>17</td></tr>",
                            "<tr><td>68</td><td>Scottish Longbreads</td><td>8</td><td>3</td><td>10 boxes x 8 pieces</td><td>13</td></tr>",
                            "<tr><td>73</td><td>Röd Kaviar</td><td>17</td><td>8</td><td>24 - 150 g jars</td><td>15</td></tr>",
                            "<tr><td>74</td><td>Longlife Tofu</td><td>4</td><td>7</td><td>5 kg pkg.</td><td>10</td></tr>",
                            "<tr><td>77</td><td>Original Frankfurter grüne Soße</td><td>12</td><td>2</td><td>12 boxes</td><td>13</td></tr>",
                            "</table>"
                        ]
                    }
                }
            ],
            "execution_count": 460
        },
        {
            "cell_type": "markdown",
            "source": [
                "**Part B:** Retrieve orders placed between `1996-07-01` and `1996-08-01`."
            ],
            "metadata": {
                "azdata_cell_guid": "0e5a5c1b-a003-41d4-bb58-fd50a6fc7195"
            }
        },
        {
            "cell_type": "code",
            "source": [
                "/*\n",
                "WRITE AND EXECUTE YOUR IN THIS CELL UNDER THIS COMMENT\n",
                "*/\n",
                "SELECT * FROM Northwind.dbo.Orders WHERE OrderDate BETWEEN '1996-07-01' AND '1996-08-01';"
            ],
            "metadata": {
                "azdata_cell_guid": "3ac84a33-be0a-4111-a6cb-fa28848acede",
                "language": "sql"
            },
            "outputs": [
                {
                    "output_type": "display_data",
                    "data": {
                        "text/html": "(24 rows affected)"
                    },
                    "metadata": {}
                },
                {
                    "output_type": "display_data",
                    "data": {
                        "text/html": "Total execution time: 00:00:00.001"
                    },
                    "metadata": {}
                },
                {
                    "output_type": "execute_result",
                    "metadata": {},
                    "execution_count": 461,
                    "data": {
                        "application/vnd.dataresource+json": {
                            "schema": {
                                "fields": [
                                    {
                                        "name": "OrderID"
                                    },
                                    {
                                        "name": "CustomerID"
                                    },
                                    {
                                        "name": "EmployeeID"
                                    },
                                    {
                                        "name": "OrderDate"
                                    },
                                    {
                                        "name": "ShipperID"
                                    }
                                ]
                            },
                            "data": [
                                {
                                    "OrderID": "10248",
                                    "CustomerID": "90",
                                    "EmployeeID": "5",
                                    "OrderDate": "1996-07-04 00:00:00.000",
                                    "ShipperID": "3"
                                },
                                {
                                    "OrderID": "10249",
                                    "CustomerID": "81",
                                    "EmployeeID": "6",
                                    "OrderDate": "1996-07-05 00:00:00.000",
                                    "ShipperID": "1"
                                },
                                {
                                    "OrderID": "10250",
                                    "CustomerID": "34",
                                    "EmployeeID": "4",
                                    "OrderDate": "1996-07-08 00:00:00.000",
                                    "ShipperID": "2"
                                },
                                {
                                    "OrderID": "10251",
                                    "CustomerID": "84",
                                    "EmployeeID": "3",
                                    "OrderDate": "1996-07-08 00:00:00.000",
                                    "ShipperID": "1"
                                },
                                {
                                    "OrderID": "10252",
                                    "CustomerID": "76",
                                    "EmployeeID": "4",
                                    "OrderDate": "1996-07-09 00:00:00.000",
                                    "ShipperID": "2"
                                },
                                {
                                    "OrderID": "10253",
                                    "CustomerID": "34",
                                    "EmployeeID": "3",
                                    "OrderDate": "1996-07-10 00:00:00.000",
                                    "ShipperID": "2"
                                },
                                {
                                    "OrderID": "10254",
                                    "CustomerID": "14",
                                    "EmployeeID": "5",
                                    "OrderDate": "1996-07-11 00:00:00.000",
                                    "ShipperID": "2"
                                },
                                {
                                    "OrderID": "10255",
                                    "CustomerID": "68",
                                    "EmployeeID": "9",
                                    "OrderDate": "1996-07-12 00:00:00.000",
                                    "ShipperID": "3"
                                },
                                {
                                    "OrderID": "10256",
                                    "CustomerID": "88",
                                    "EmployeeID": "3",
                                    "OrderDate": "1996-07-15 00:00:00.000",
                                    "ShipperID": "2"
                                },
                                {
                                    "OrderID": "10257",
                                    "CustomerID": "35",
                                    "EmployeeID": "4",
                                    "OrderDate": "1996-07-16 00:00:00.000",
                                    "ShipperID": "3"
                                },
                                {
                                    "OrderID": "10258",
                                    "CustomerID": "20",
                                    "EmployeeID": "1",
                                    "OrderDate": "1996-07-17 00:00:00.000",
                                    "ShipperID": "1"
                                },
                                {
                                    "OrderID": "10259",
                                    "CustomerID": "13",
                                    "EmployeeID": "4",
                                    "OrderDate": "1996-07-18 00:00:00.000",
                                    "ShipperID": "3"
                                },
                                {
                                    "OrderID": "10260",
                                    "CustomerID": "55",
                                    "EmployeeID": "4",
                                    "OrderDate": "1996-07-19 00:00:00.000",
                                    "ShipperID": "1"
                                },
                                {
                                    "OrderID": "10261",
                                    "CustomerID": "61",
                                    "EmployeeID": "4",
                                    "OrderDate": "1996-07-19 00:00:00.000",
                                    "ShipperID": "2"
                                },
                                {
                                    "OrderID": "10262",
                                    "CustomerID": "65",
                                    "EmployeeID": "8",
                                    "OrderDate": "1996-07-22 00:00:00.000",
                                    "ShipperID": "3"
                                },
                                {
                                    "OrderID": "10263",
                                    "CustomerID": "20",
                                    "EmployeeID": "9",
                                    "OrderDate": "1996-07-23 00:00:00.000",
                                    "ShipperID": "3"
                                },
                                {
                                    "OrderID": "10264",
                                    "CustomerID": "24",
                                    "EmployeeID": "6",
                                    "OrderDate": "1996-07-24 00:00:00.000",
                                    "ShipperID": "3"
                                },
                                {
                                    "OrderID": "10265",
                                    "CustomerID": "7",
                                    "EmployeeID": "2",
                                    "OrderDate": "1996-07-25 00:00:00.000",
                                    "ShipperID": "1"
                                },
                                {
                                    "OrderID": "10266",
                                    "CustomerID": "87",
                                    "EmployeeID": "3",
                                    "OrderDate": "1996-07-26 00:00:00.000",
                                    "ShipperID": "3"
                                },
                                {
                                    "OrderID": "10267",
                                    "CustomerID": "25",
                                    "EmployeeID": "4",
                                    "OrderDate": "1996-07-29 00:00:00.000",
                                    "ShipperID": "1"
                                },
                                {
                                    "OrderID": "10268",
                                    "CustomerID": "33",
                                    "EmployeeID": "8",
                                    "OrderDate": "1996-07-30 00:00:00.000",
                                    "ShipperID": "3"
                                },
                                {
                                    "OrderID": "10269",
                                    "CustomerID": "89",
                                    "EmployeeID": "5",
                                    "OrderDate": "1996-07-31 00:00:00.000",
                                    "ShipperID": "1"
                                },
                                {
                                    "OrderID": "10270",
                                    "CustomerID": "87",
                                    "EmployeeID": "1",
                                    "OrderDate": "1996-08-01 00:00:00.000",
                                    "ShipperID": "1"
                                },
                                {
                                    "OrderID": "10271",
                                    "CustomerID": "75",
                                    "EmployeeID": "6",
                                    "OrderDate": "1996-08-01 00:00:00.000",
                                    "ShipperID": "2"
                                }
                            ]
                        },
                        "text/html": [
                            "<table>",
                            "<tr><th>OrderID</th><th>CustomerID</th><th>EmployeeID</th><th>OrderDate</th><th>ShipperID</th></tr>",
                            "<tr><td>10248</td><td>90</td><td>5</td><td>1996-07-04 00:00:00.000</td><td>3</td></tr>",
                            "<tr><td>10249</td><td>81</td><td>6</td><td>1996-07-05 00:00:00.000</td><td>1</td></tr>",
                            "<tr><td>10250</td><td>34</td><td>4</td><td>1996-07-08 00:00:00.000</td><td>2</td></tr>",
                            "<tr><td>10251</td><td>84</td><td>3</td><td>1996-07-08 00:00:00.000</td><td>1</td></tr>",
                            "<tr><td>10252</td><td>76</td><td>4</td><td>1996-07-09 00:00:00.000</td><td>2</td></tr>",
                            "<tr><td>10253</td><td>34</td><td>3</td><td>1996-07-10 00:00:00.000</td><td>2</td></tr>",
                            "<tr><td>10254</td><td>14</td><td>5</td><td>1996-07-11 00:00:00.000</td><td>2</td></tr>",
                            "<tr><td>10255</td><td>68</td><td>9</td><td>1996-07-12 00:00:00.000</td><td>3</td></tr>",
                            "<tr><td>10256</td><td>88</td><td>3</td><td>1996-07-15 00:00:00.000</td><td>2</td></tr>",
                            "<tr><td>10257</td><td>35</td><td>4</td><td>1996-07-16 00:00:00.000</td><td>3</td></tr>",
                            "<tr><td>10258</td><td>20</td><td>1</td><td>1996-07-17 00:00:00.000</td><td>1</td></tr>",
                            "<tr><td>10259</td><td>13</td><td>4</td><td>1996-07-18 00:00:00.000</td><td>3</td></tr>",
                            "<tr><td>10260</td><td>55</td><td>4</td><td>1996-07-19 00:00:00.000</td><td>1</td></tr>",
                            "<tr><td>10261</td><td>61</td><td>4</td><td>1996-07-19 00:00:00.000</td><td>2</td></tr>",
                            "<tr><td>10262</td><td>65</td><td>8</td><td>1996-07-22 00:00:00.000</td><td>3</td></tr>",
                            "<tr><td>10263</td><td>20</td><td>9</td><td>1996-07-23 00:00:00.000</td><td>3</td></tr>",
                            "<tr><td>10264</td><td>24</td><td>6</td><td>1996-07-24 00:00:00.000</td><td>3</td></tr>",
                            "<tr><td>10265</td><td>7</td><td>2</td><td>1996-07-25 00:00:00.000</td><td>1</td></tr>",
                            "<tr><td>10266</td><td>87</td><td>3</td><td>1996-07-26 00:00:00.000</td><td>3</td></tr>",
                            "<tr><td>10267</td><td>25</td><td>4</td><td>1996-07-29 00:00:00.000</td><td>1</td></tr>",
                            "<tr><td>10268</td><td>33</td><td>8</td><td>1996-07-30 00:00:00.000</td><td>3</td></tr>",
                            "<tr><td>10269</td><td>89</td><td>5</td><td>1996-07-31 00:00:00.000</td><td>1</td></tr>",
                            "<tr><td>10270</td><td>87</td><td>1</td><td>1996-08-01 00:00:00.000</td><td>1</td></tr>",
                            "<tr><td>10271</td><td>75</td><td>6</td><td>1996-08-01 00:00:00.000</td><td>2</td></tr>",
                            "</table>"
                        ]
                    }
                }
            ],
            "execution_count": 461
        },
        {
            "cell_type": "markdown",
            "source": [
                "### Exercise 14: SQL ALIASES"
            ],
            "metadata": {
                "azdata_cell_guid": "c8fe86ad-d56c-4027-a1ea-8006702fa76c"
            }
        },
        {
            "cell_type": "markdown",
            "source": [
                "**Part A:** Create a report that shows `ProductName` as `Item` and `Price` as `Cost`."
            ],
            "metadata": {
                "azdata_cell_guid": "c1456af9-c828-4f85-ad3a-49fc37664654"
            }
        },
        {
            "cell_type": "code",
            "source": [
                "/*\n",
                "WRITE AND EXECUTE YOUR IN THIS CELL UNDER THIS COMMENT\n",
                "*/\n",
                "SELECT ProductName AS Item, Price AS Cost FROM Northwind.dbo.Products;"
            ],
            "metadata": {
                "azdata_cell_guid": "c4e4a353-00f9-4528-8944-797cc7620de2",
                "language": "sql"
            },
            "outputs": [
                {
                    "output_type": "display_data",
                    "data": {
                        "text/html": "(77 rows affected)"
                    },
                    "metadata": {}
                },
                {
                    "output_type": "display_data",
                    "data": {
                        "text/html": "Total execution time: 00:00:00.001"
                    },
                    "metadata": {}
                },
                {
                    "output_type": "execute_result",
                    "metadata": {},
                    "execution_count": 462,
                    "data": {
                        "application/vnd.dataresource+json": {
                            "schema": {
                                "fields": [
                                    {
                                        "name": "Item"
                                    },
                                    {
                                        "name": "Cost"
                                    }
                                ]
                            },
                            "data": [
                                {
                                    "Item": "Chais",
                                    "Cost": "26"
                                },
                                {
                                    "Item": "Chang",
                                    "Cost": "26"
                                },
                                {
                                    "Item": "Aniseed Syrup",
                                    "Cost": "10"
                                },
                                {
                                    "Item": "Chef Anton's Cajun Seasoning",
                                    "Cost": "22"
                                },
                                {
                                    "Item": "Chef Anton's Gumbo Mix",
                                    "Cost": "21"
                                },
                                {
                                    "Item": "Grandma's Boysenberry Spread",
                                    "Cost": "25"
                                },
                                {
                                    "Item": "Uncle Bob's Organic Dried Pears",
                                    "Cost": "30"
                                },
                                {
                                    "Item": "Northwoods Cranberry Sauce",
                                    "Cost": "40"
                                },
                                {
                                    "Item": "Mishi Kobe Niku",
                                    "Cost": "97"
                                },
                                {
                                    "Item": "Ikura",
                                    "Cost": "31"
                                },
                                {
                                    "Item": "Queso Cabrales",
                                    "Cost": "21"
                                },
                                {
                                    "Item": "Queso Manchego La Pastora",
                                    "Cost": "38"
                                },
                                {
                                    "Item": "Konbu",
                                    "Cost": "6"
                                },
                                {
                                    "Item": "Tofu",
                                    "Cost": "23"
                                },
                                {
                                    "Item": "Genen Shouyu",
                                    "Cost": "16"
                                },
                                {
                                    "Item": "Pavlova",
                                    "Cost": "17"
                                },
                                {
                                    "Item": "Alice Mutton",
                                    "Cost": "39"
                                },
                                {
                                    "Item": "Carnarvon Tigers",
                                    "Cost": "63"
                                },
                                {
                                    "Item": "Teatime Chocolate Biscuits",
                                    "Cost": "9"
                                },
                                {
                                    "Item": "Sir Rodney's Marmalade",
                                    "Cost": "81"
                                },
                                {
                                    "Item": "Sir Rodney's Scones",
                                    "Cost": "10"
                                },
                                {
                                    "Item": "Gustaf's Knäckebröd",
                                    "Cost": "21"
                                },
                                {
                                    "Item": "Tunnbröd",
                                    "Cost": "9"
                                },
                                {
                                    "Item": "Guaraná Fantástica",
                                    "Cost": "5"
                                },
                                {
                                    "Item": "NuNuCa Nuß-Nougat-Creme",
                                    "Cost": "14"
                                },
                                {
                                    "Item": "Gumbär Gummibärchen",
                                    "Cost": "31"
                                },
                                {
                                    "Item": "Schoggi Schokolade",
                                    "Cost": "44"
                                },
                                {
                                    "Item": "Rössle Sauerkraut",
                                    "Cost": "46"
                                },
                                {
                                    "Item": "Thüringer Rostbratwurst",
                                    "Cost": "124"
                                },
                                {
                                    "Item": "Nord-Ost Matjeshering",
                                    "Cost": "26"
                                },
                                {
                                    "Item": "Gorgonzola Telino",
                                    "Cost": "13"
                                },
                                {
                                    "Item": "Mascarpone Fabioli",
                                    "Cost": "32"
                                },
                                {
                                    "Item": "Geitost",
                                    "Cost": "3"
                                },
                                {
                                    "Item": "Sasquatch Ale",
                                    "Cost": "21"
                                },
                                {
                                    "Item": "Steeleye Stout",
                                    "Cost": "25"
                                },
                                {
                                    "Item": "Inlagd Sill",
                                    "Cost": "19"
                                },
                                {
                                    "Item": "Gravad lax",
                                    "Cost": "26"
                                },
                                {
                                    "Item": "Côte de Blaye",
                                    "Cost": "372"
                                },
                                {
                                    "Item": "Chartreuse verte",
                                    "Cost": "25"
                                },
                                {
                                    "Item": "Boston Crab Meat",
                                    "Cost": "18"
                                },
                                {
                                    "Item": "Jack's New England Clam Chowder",
                                    "Cost": "10"
                                },
                                {
                                    "Item": "Singaporean Hokkien Fried Mee",
                                    "Cost": "14"
                                },
                                {
                                    "Item": "Ipoh Coffee",
                                    "Cost": "65"
                                },
                                {
                                    "Item": "Gula Malacca",
                                    "Cost": "19"
                                },
                                {
                                    "Item": "Røgede sild",
                                    "Cost": "10"
                                },
                                {
                                    "Item": "Spegesild",
                                    "Cost": "12"
                                },
                                {
                                    "Item": "Zaanse koeken",
                                    "Cost": "10"
                                },
                                {
                                    "Item": "Chocolade",
                                    "Cost": "13"
                                },
                                {
                                    "Item": "Maxilaku",
                                    "Cost": "20"
                                },
                                {
                                    "Item": "Valkoinen suklaa",
                                    "Cost": "16"
                                },
                                {
                                    "Item": "Manjimup Dried Apples",
                                    "Cost": "53"
                                },
                                {
                                    "Item": "Filo Mix",
                                    "Cost": "7"
                                },
                                {
                                    "Item": "Perth Pasties",
                                    "Cost": "33"
                                },
                                {
                                    "Item": "Tourtière",
                                    "Cost": "7"
                                },
                                {
                                    "Item": "Pâté chinois",
                                    "Cost": "24"
                                },
                                {
                                    "Item": "Gnocchi di nonna Alice",
                                    "Cost": "38"
                                },
                                {
                                    "Item": "Ravioli Angelo",
                                    "Cost": "20"
                                },
                                {
                                    "Item": "Escargots de Bourgogne",
                                    "Cost": "13"
                                },
                                {
                                    "Item": "Raclette Courdavault",
                                    "Cost": "55"
                                },
                                {
                                    "Item": "Camembert Pierrot",
                                    "Cost": "34"
                                },
                                {
                                    "Item": "Sirop d'érable",
                                    "Cost": "29"
                                },
                                {
                                    "Item": "Tarte au sucre",
                                    "Cost": "49"
                                },
                                {
                                    "Item": "Vegie-spread",
                                    "Cost": "44"
                                },
                                {
                                    "Item": "Wimmers gute Semmelknödel",
                                    "Cost": "33"
                                },
                                {
                                    "Item": "Louisiana Fiery Hot Pepper Sauce",
                                    "Cost": "21"
                                },
                                {
                                    "Item": "Louisiana Hot Spiced Okra",
                                    "Cost": "17"
                                },
                                {
                                    "Item": "Laughing Lumberjack Lager",
                                    "Cost": "21"
                                },
                                {
                                    "Item": "Scottish Longbreads",
                                    "Cost": "13"
                                },
                                {
                                    "Item": "Gudbrandsdalsost",
                                    "Cost": "36"
                                },
                                {
                                    "Item": "Outback Lager",
                                    "Cost": "22"
                                },
                                {
                                    "Item": "Fløtemysost",
                                    "Cost": "22"
                                },
                                {
                                    "Item": "Mozzarella di Giovanni",
                                    "Cost": "35"
                                },
                                {
                                    "Item": "Röd Kaviar",
                                    "Cost": "15"
                                },
                                {
                                    "Item": "Longlife Tofu",
                                    "Cost": "10"
                                },
                                {
                                    "Item": "Rhönbräu Klosterbier",
                                    "Cost": "8"
                                },
                                {
                                    "Item": "Lakkalikööri",
                                    "Cost": "25"
                                },
                                {
                                    "Item": "Original Frankfurter grüne Soße",
                                    "Cost": "13"
                                }
                            ]
                        },
                        "text/html": [
                            "<table>",
                            "<tr><th>Item</th><th>Cost</th></tr>",
                            "<tr><td>Chais</td><td>26</td></tr>",
                            "<tr><td>Chang</td><td>26</td></tr>",
                            "<tr><td>Aniseed Syrup</td><td>10</td></tr>",
                            "<tr><td>Chef Anton&#39;s Cajun Seasoning</td><td>22</td></tr>",
                            "<tr><td>Chef Anton&#39;s Gumbo Mix</td><td>21</td></tr>",
                            "<tr><td>Grandma&#39;s Boysenberry Spread</td><td>25</td></tr>",
                            "<tr><td>Uncle Bob&#39;s Organic Dried Pears</td><td>30</td></tr>",
                            "<tr><td>Northwoods Cranberry Sauce</td><td>40</td></tr>",
                            "<tr><td>Mishi Kobe Niku</td><td>97</td></tr>",
                            "<tr><td>Ikura</td><td>31</td></tr>",
                            "<tr><td>Queso Cabrales</td><td>21</td></tr>",
                            "<tr><td>Queso Manchego La Pastora</td><td>38</td></tr>",
                            "<tr><td>Konbu</td><td>6</td></tr>",
                            "<tr><td>Tofu</td><td>23</td></tr>",
                            "<tr><td>Genen Shouyu</td><td>16</td></tr>",
                            "<tr><td>Pavlova</td><td>17</td></tr>",
                            "<tr><td>Alice Mutton</td><td>39</td></tr>",
                            "<tr><td>Carnarvon Tigers</td><td>63</td></tr>",
                            "<tr><td>Teatime Chocolate Biscuits</td><td>9</td></tr>",
                            "<tr><td>Sir Rodney&#39;s Marmalade</td><td>81</td></tr>",
                            "<tr><td>Sir Rodney&#39;s Scones</td><td>10</td></tr>",
                            "<tr><td>Gustaf&#39;s Knäckebröd</td><td>21</td></tr>",
                            "<tr><td>Tunnbröd</td><td>9</td></tr>",
                            "<tr><td>Guaraná Fantástica</td><td>5</td></tr>",
                            "<tr><td>NuNuCa Nuß-Nougat-Creme</td><td>14</td></tr>",
                            "<tr><td>Gumbär Gummibärchen</td><td>31</td></tr>",
                            "<tr><td>Schoggi Schokolade</td><td>44</td></tr>",
                            "<tr><td>Rössle Sauerkraut</td><td>46</td></tr>",
                            "<tr><td>Thüringer Rostbratwurst</td><td>124</td></tr>",
                            "<tr><td>Nord-Ost Matjeshering</td><td>26</td></tr>",
                            "<tr><td>Gorgonzola Telino</td><td>13</td></tr>",
                            "<tr><td>Mascarpone Fabioli</td><td>32</td></tr>",
                            "<tr><td>Geitost</td><td>3</td></tr>",
                            "<tr><td>Sasquatch Ale</td><td>21</td></tr>",
                            "<tr><td>Steeleye Stout</td><td>25</td></tr>",
                            "<tr><td>Inlagd Sill</td><td>19</td></tr>",
                            "<tr><td>Gravad lax</td><td>26</td></tr>",
                            "<tr><td>Côte de Blaye</td><td>372</td></tr>",
                            "<tr><td>Chartreuse verte</td><td>25</td></tr>",
                            "<tr><td>Boston Crab Meat</td><td>18</td></tr>",
                            "<tr><td>Jack&#39;s New England Clam Chowder</td><td>10</td></tr>",
                            "<tr><td>Singaporean Hokkien Fried Mee</td><td>14</td></tr>",
                            "<tr><td>Ipoh Coffee</td><td>65</td></tr>",
                            "<tr><td>Gula Malacca</td><td>19</td></tr>",
                            "<tr><td>Røgede sild</td><td>10</td></tr>",
                            "<tr><td>Spegesild</td><td>12</td></tr>",
                            "<tr><td>Zaanse koeken</td><td>10</td></tr>",
                            "<tr><td>Chocolade</td><td>13</td></tr>",
                            "<tr><td>Maxilaku</td><td>20</td></tr>",
                            "<tr><td>Valkoinen suklaa</td><td>16</td></tr>",
                            "<tr><td>Manjimup Dried Apples</td><td>53</td></tr>",
                            "<tr><td>Filo Mix</td><td>7</td></tr>",
                            "<tr><td>Perth Pasties</td><td>33</td></tr>",
                            "<tr><td>Tourtière</td><td>7</td></tr>",
                            "<tr><td>Pâté chinois</td><td>24</td></tr>",
                            "<tr><td>Gnocchi di nonna Alice</td><td>38</td></tr>",
                            "<tr><td>Ravioli Angelo</td><td>20</td></tr>",
                            "<tr><td>Escargots de Bourgogne</td><td>13</td></tr>",
                            "<tr><td>Raclette Courdavault</td><td>55</td></tr>",
                            "<tr><td>Camembert Pierrot</td><td>34</td></tr>",
                            "<tr><td>Sirop d&#39;érable</td><td>29</td></tr>",
                            "<tr><td>Tarte au sucre</td><td>49</td></tr>",
                            "<tr><td>Vegie-spread</td><td>44</td></tr>",
                            "<tr><td>Wimmers gute Semmelknödel</td><td>33</td></tr>",
                            "<tr><td>Louisiana Fiery Hot Pepper Sauce</td><td>21</td></tr>",
                            "<tr><td>Louisiana Hot Spiced Okra</td><td>17</td></tr>",
                            "<tr><td>Laughing Lumberjack Lager</td><td>21</td></tr>",
                            "<tr><td>Scottish Longbreads</td><td>13</td></tr>",
                            "<tr><td>Gudbrandsdalsost</td><td>36</td></tr>",
                            "<tr><td>Outback Lager</td><td>22</td></tr>",
                            "<tr><td>Fløtemysost</td><td>22</td></tr>",
                            "<tr><td>Mozzarella di Giovanni</td><td>35</td></tr>",
                            "<tr><td>Röd Kaviar</td><td>15</td></tr>",
                            "<tr><td>Longlife Tofu</td><td>10</td></tr>",
                            "<tr><td>Rhönbräu Klosterbier</td><td>8</td></tr>",
                            "<tr><td>Lakkalikööri</td><td>25</td></tr>",
                            "<tr><td>Original Frankfurter grüne Soße</td><td>13</td></tr>",
                            "</table>"
                        ]
                    }
                }
            ],
            "execution_count": 462
        },
        {
            "cell_type": "markdown",
            "source": [
                "**Part B:** Create a customer report showing `CustomerName` as `Client` and `Country` as `Region`."
            ],
            "metadata": {
                "azdata_cell_guid": "a90f5420-f1d4-4e2b-89d7-2cd8c82c5782"
            }
        },
        {
            "cell_type": "code",
            "source": [
                "/*\n",
                "WRITE AND EXECUTE YOUR IN THIS CELL UNDER THIS COMMENT\n",
                "*/\n",
                "SELECT CustomerName AS Client, Country AS Region FROM Northwind.dbo.Customers;\n",
                ""
            ],
            "metadata": {
                "azdata_cell_guid": "13ea57d9-e8f1-44cb-be08-a0cfc34e29f0",
                "language": "sql"
            },
            "outputs": [
                {
                    "output_type": "display_data",
                    "data": {
                        "text/html": "(115 rows affected)"
                    },
                    "metadata": {}
                },
                {
                    "output_type": "display_data",
                    "data": {
                        "text/html": "Total execution time: 00:00:00.001"
                    },
                    "metadata": {}
                },
                {
                    "output_type": "execute_result",
                    "metadata": {},
                    "execution_count": 463,
                    "data": {
                        "application/vnd.dataresource+json": {
                            "schema": {
                                "fields": [
                                    {
                                        "name": "Client"
                                    },
                                    {
                                        "name": "Region"
                                    }
                                ]
                            },
                            "data": [
                                {
                                    "Client": "Alfreds Futterkiste",
                                    "Region": "Germany"
                                },
                                {
                                    "Client": "Ana Trujillo Emparedados y helados",
                                    "Region": "Mexico"
                                },
                                {
                                    "Client": "Antonio Moreno Taquería",
                                    "Region": "Mexico"
                                },
                                {
                                    "Client": "Around the Horn",
                                    "Region": "UK"
                                },
                                {
                                    "Client": "Berglunds snabbköp",
                                    "Region": "Sweden"
                                },
                                {
                                    "Client": "Blauer See Delikatessen",
                                    "Region": "Germany"
                                },
                                {
                                    "Client": "Blondel père et fils",
                                    "Region": "France"
                                },
                                {
                                    "Client": "Bólido Comidas preparadas",
                                    "Region": "Spain"
                                },
                                {
                                    "Client": "Bon app''",
                                    "Region": "France"
                                },
                                {
                                    "Client": "Bottom-Dollar Marketse",
                                    "Region": "Canada"
                                },
                                {
                                    "Client": "B''s Beverages",
                                    "Region": "UK"
                                },
                                {
                                    "Client": "Cactus Comidas para llevar",
                                    "Region": "Argentina"
                                },
                                {
                                    "Client": "Centro comercial Moctezuma",
                                    "Region": "Mexico"
                                },
                                {
                                    "Client": "Chop-suey Chinese",
                                    "Region": "Switzerland"
                                },
                                {
                                    "Client": "Comércio Mineiro",
                                    "Region": "Brazil"
                                },
                                {
                                    "Client": "Consolidated Holdings",
                                    "Region": "UK"
                                },
                                {
                                    "Client": "Drachenblut Delikatessend",
                                    "Region": "Germany"
                                },
                                {
                                    "Client": "Du monde entier",
                                    "Region": "France"
                                },
                                {
                                    "Client": "Eastern Connection",
                                    "Region": "UK"
                                },
                                {
                                    "Client": "Ernst Handel",
                                    "Region": "Austria"
                                },
                                {
                                    "Client": "Familia Arquibaldo",
                                    "Region": "Brazil"
                                },
                                {
                                    "Client": "FISSA Fabrica Inter. Salchichas S.A.",
                                    "Region": "Spain"
                                },
                                {
                                    "Client": "Folies gourmandes",
                                    "Region": "France"
                                },
                                {
                                    "Client": "Folk och fä HB",
                                    "Region": "Sweden"
                                },
                                {
                                    "Client": "Frankenversand",
                                    "Region": "Germany"
                                },
                                {
                                    "Client": "France restauration",
                                    "Region": "France"
                                },
                                {
                                    "Client": "Franchi S.p.A.",
                                    "Region": "Italy"
                                },
                                {
                                    "Client": "Furia Bacalhau e Frutos do Mar",
                                    "Region": "Portugal"
                                },
                                {
                                    "Client": "Galería del gastrónomo",
                                    "Region": "Spain"
                                },
                                {
                                    "Client": "Godos Cocina Típica",
                                    "Region": "Spain"
                                },
                                {
                                    "Client": "Gourmet Lanchonetes",
                                    "Region": "Brazil"
                                },
                                {
                                    "Client": "Great Lakes Food Market",
                                    "Region": "USA"
                                },
                                {
                                    "Client": "GROSELLA-Restaurante",
                                    "Region": "Venezuela"
                                },
                                {
                                    "Client": "Hanari Carnes",
                                    "Region": "Brazil"
                                },
                                {
                                    "Client": "HILARIÓN-Abastos",
                                    "Region": "Venezuela"
                                },
                                {
                                    "Client": "Hungry Coyote Import Store",
                                    "Region": "USA"
                                },
                                {
                                    "Client": "Hungry Owl All-Night Grocers",
                                    "Region": "Ireland"
                                },
                                {
                                    "Client": "Island Trading",
                                    "Region": "UK"
                                },
                                {
                                    "Client": "Königlich Essen",
                                    "Region": "Germany"
                                },
                                {
                                    "Client": "La corne d''abondance",
                                    "Region": "France"
                                },
                                {
                                    "Client": "La maison d''Asie",
                                    "Region": "France"
                                },
                                {
                                    "Client": "Laughing Bacchus Wine Cellars",
                                    "Region": "Canada"
                                },
                                {
                                    "Client": "Lazy K Kountry Store",
                                    "Region": "USA"
                                },
                                {
                                    "Client": "Lehmanns Marktstand",
                                    "Region": "Germany"
                                },
                                {
                                    "Client": "Let''s Stop N Shop",
                                    "Region": "USA"
                                },
                                {
                                    "Client": "LILA-Supermercado",
                                    "Region": "Venezuela"
                                },
                                {
                                    "Client": "LINO-Delicateses",
                                    "Region": "Venezuela"
                                },
                                {
                                    "Client": "Lonesome Pine Restaurant",
                                    "Region": "USA"
                                },
                                {
                                    "Client": "Magazzini Alimentari Riuniti",
                                    "Region": "Italy"
                                },
                                {
                                    "Client": "Maison Dewey",
                                    "Region": "Belgium"
                                },
                                {
                                    "Client": "Mère Paillarde",
                                    "Region": "Canada"
                                },
                                {
                                    "Client": "Morgenstern Gesundkost",
                                    "Region": "Germany"
                                },
                                {
                                    "Client": "North/South",
                                    "Region": "UK"
                                },
                                {
                                    "Client": "Océano Atlántico Ltda.",
                                    "Region": "Argentina"
                                },
                                {
                                    "Client": "Old World Delicatessen",
                                    "Region": "USA"
                                },
                                {
                                    "Client": "Ottilies Käseladen",
                                    "Region": "Germany"
                                },
                                {
                                    "Client": "Paris spécialités",
                                    "Region": "France"
                                },
                                {
                                    "Client": "Pericles Comidas clásicas",
                                    "Region": "Mexico"
                                },
                                {
                                    "Client": "Piccolo und mehr",
                                    "Region": "Austria"
                                },
                                {
                                    "Client": "Princesa Isabel Vinhoss",
                                    "Region": "Portugal"
                                },
                                {
                                    "Client": "Que Delícia",
                                    "Region": "Brazil"
                                },
                                {
                                    "Client": "Queen Cozinha",
                                    "Region": "Brazil"
                                },
                                {
                                    "Client": "QUICK-Stop",
                                    "Region": "Germany"
                                },
                                {
                                    "Client": "Rancho grande",
                                    "Region": "Argentina"
                                },
                                {
                                    "Client": "Rattlesnake Canyon Grocery",
                                    "Region": "USA"
                                },
                                {
                                    "Client": "Reggiani Caseifici",
                                    "Region": "Italy"
                                },
                                {
                                    "Client": "Ricardo Adocicados",
                                    "Region": "Brazil"
                                },
                                {
                                    "Client": "Richter Supermarkt",
                                    "Region": "Switzerland"
                                },
                                {
                                    "Client": "Romero y tomillo",
                                    "Region": "Spain"
                                },
                                {
                                    "Client": "Santé Gourmet",
                                    "Region": "Norway"
                                },
                                {
                                    "Client": "Save-a-lot Markets",
                                    "Region": "USA"
                                },
                                {
                                    "Client": "Seven Seas Imports",
                                    "Region": "UK"
                                },
                                {
                                    "Client": "Simons bistro",
                                    "Region": "Denmark"
                                },
                                {
                                    "Client": "Spécialités du monde",
                                    "Region": "France"
                                },
                                {
                                    "Client": "Split Rail Beer & Ale",
                                    "Region": "USA"
                                },
                                {
                                    "Client": "Suprêmes délices",
                                    "Region": "Belgium"
                                },
                                {
                                    "Client": "The Big Cheese",
                                    "Region": "USA"
                                },
                                {
                                    "Client": "The Cracker Box",
                                    "Region": "USA"
                                },
                                {
                                    "Client": "Toms Spezialitäten",
                                    "Region": "Germany"
                                },
                                {
                                    "Client": "Tortuga Restaurante",
                                    "Region": "Mexico"
                                },
                                {
                                    "Client": "Tradição Hipermercados",
                                    "Region": "Brazil"
                                },
                                {
                                    "Client": "Trail''s Head Gourmet Provisioners",
                                    "Region": "USA"
                                },
                                {
                                    "Client": "Vaffeljernet",
                                    "Region": "Denmark"
                                },
                                {
                                    "Client": "Victuailles en stock",
                                    "Region": "France"
                                },
                                {
                                    "Client": "Vins et alcools Chevalier",
                                    "Region": "France"
                                },
                                {
                                    "Client": "Die Wandernde Kuh",
                                    "Region": "Germany"
                                },
                                {
                                    "Client": "Wartian Herkku",
                                    "Region": "Finland"
                                },
                                {
                                    "Client": "Wellington Importadora",
                                    "Region": "Brazil"
                                },
                                {
                                    "Client": "White Clover Markets",
                                    "Region": "USA"
                                },
                                {
                                    "Client": "Wilman Kala",
                                    "Region": "Finland"
                                },
                                {
                                    "Client": "Wolski",
                                    "Region": "Poland"
                                },
                                {
                                    "Client": "pingpro",
                                    "Region": "serbia"
                                },
                                {
                                    "Client": "pingpro",
                                    "Region": "serbia"
                                },
                                {
                                    "Client": "gimnazija",
                                    "Region": "serbia"
                                },
                                {
                                    "Client": "pingpro",
                                    "Region": "serbia"
                                },
                                {
                                    "Client": "pingpro",
                                    "Region": "serbia"
                                },
                                {
                                    "Client": "gimnazija",
                                    "Region": "serbia"
                                },
                                {
                                    "Client": "pingpro",
                                    "Region": "serbia"
                                },
                                {
                                    "Client": "pingpro",
                                    "Region": "serbia"
                                },
                                {
                                    "Client": "gimnazija",
                                    "Region": "serbia"
                                },
                                {
                                    "Client": "pingpro",
                                    "Region": "serbia"
                                },
                                {
                                    "Client": "pingpro",
                                    "Region": "serbia"
                                },
                                {
                                    "Client": "gimnazija",
                                    "Region": "serbia"
                                },
                                {
                                    "Client": "pingpro",
                                    "Region": "serbia"
                                },
                                {
                                    "Client": "pingpro",
                                    "Region": "serbia"
                                },
                                {
                                    "Client": "gimnazija",
                                    "Region": "serbia"
                                },
                                {
                                    "Client": "pingpro",
                                    "Region": "serbia"
                                },
                                {
                                    "Client": "pingpro",
                                    "Region": "serbia"
                                },
                                {
                                    "Client": "gimnazija",
                                    "Region": "serbia"
                                },
                                {
                                    "Client": "pingpro",
                                    "Region": "serbia"
                                },
                                {
                                    "Client": "pingpro",
                                    "Region": "serbia"
                                },
                                {
                                    "Client": "gimnazija",
                                    "Region": "serbia"
                                },
                                {
                                    "Client": "pingpro",
                                    "Region": "serbia"
                                },
                                {
                                    "Client": "pingpro",
                                    "Region": "serbia"
                                },
                                {
                                    "Client": "gimnazija",
                                    "Region": "serbia"
                                }
                            ]
                        },
                        "text/html": [
                            "<table>",
                            "<tr><th>Client</th><th>Region</th></tr>",
                            "<tr><td>Alfreds Futterkiste</td><td>Germany</td></tr>",
                            "<tr><td>Ana Trujillo Emparedados y helados</td><td>Mexico</td></tr>",
                            "<tr><td>Antonio Moreno Taquería</td><td>Mexico</td></tr>",
                            "<tr><td>Around the Horn</td><td>UK</td></tr>",
                            "<tr><td>Berglunds snabbköp</td><td>Sweden</td></tr>",
                            "<tr><td>Blauer See Delikatessen</td><td>Germany</td></tr>",
                            "<tr><td>Blondel père et fils</td><td>France</td></tr>",
                            "<tr><td>Bólido Comidas preparadas</td><td>Spain</td></tr>",
                            "<tr><td>Bon app&#39;&#39;</td><td>France</td></tr>",
                            "<tr><td>Bottom-Dollar Marketse</td><td>Canada</td></tr>",
                            "<tr><td>B&#39;&#39;s Beverages</td><td>UK</td></tr>",
                            "<tr><td>Cactus Comidas para llevar</td><td>Argentina</td></tr>",
                            "<tr><td>Centro comercial Moctezuma</td><td>Mexico</td></tr>",
                            "<tr><td>Chop-suey Chinese</td><td>Switzerland</td></tr>",
                            "<tr><td>Comércio Mineiro</td><td>Brazil</td></tr>",
                            "<tr><td>Consolidated Holdings</td><td>UK</td></tr>",
                            "<tr><td>Drachenblut Delikatessend</td><td>Germany</td></tr>",
                            "<tr><td>Du monde entier</td><td>France</td></tr>",
                            "<tr><td>Eastern Connection</td><td>UK</td></tr>",
                            "<tr><td>Ernst Handel</td><td>Austria</td></tr>",
                            "<tr><td>Familia Arquibaldo</td><td>Brazil</td></tr>",
                            "<tr><td>FISSA Fabrica Inter. Salchichas S.A.</td><td>Spain</td></tr>",
                            "<tr><td>Folies gourmandes</td><td>France</td></tr>",
                            "<tr><td>Folk och fä HB</td><td>Sweden</td></tr>",
                            "<tr><td>Frankenversand</td><td>Germany</td></tr>",
                            "<tr><td>France restauration</td><td>France</td></tr>",
                            "<tr><td>Franchi S.p.A.</td><td>Italy</td></tr>",
                            "<tr><td>Furia Bacalhau e Frutos do Mar</td><td>Portugal</td></tr>",
                            "<tr><td>Galería del gastrónomo</td><td>Spain</td></tr>",
                            "<tr><td>Godos Cocina Típica</td><td>Spain</td></tr>",
                            "<tr><td>Gourmet Lanchonetes</td><td>Brazil</td></tr>",
                            "<tr><td>Great Lakes Food Market</td><td>USA</td></tr>",
                            "<tr><td>GROSELLA-Restaurante</td><td>Venezuela</td></tr>",
                            "<tr><td>Hanari Carnes</td><td>Brazil</td></tr>",
                            "<tr><td>HILARIÓN-Abastos</td><td>Venezuela</td></tr>",
                            "<tr><td>Hungry Coyote Import Store</td><td>USA</td></tr>",
                            "<tr><td>Hungry Owl All-Night Grocers</td><td>Ireland</td></tr>",
                            "<tr><td>Island Trading</td><td>UK</td></tr>",
                            "<tr><td>Königlich Essen</td><td>Germany</td></tr>",
                            "<tr><td>La corne d&#39;&#39;abondance</td><td>France</td></tr>",
                            "<tr><td>La maison d&#39;&#39;Asie</td><td>France</td></tr>",
                            "<tr><td>Laughing Bacchus Wine Cellars</td><td>Canada</td></tr>",
                            "<tr><td>Lazy K Kountry Store</td><td>USA</td></tr>",
                            "<tr><td>Lehmanns Marktstand</td><td>Germany</td></tr>",
                            "<tr><td>Let&#39;&#39;s Stop N Shop</td><td>USA</td></tr>",
                            "<tr><td>LILA-Supermercado</td><td>Venezuela</td></tr>",
                            "<tr><td>LINO-Delicateses</td><td>Venezuela</td></tr>",
                            "<tr><td>Lonesome Pine Restaurant</td><td>USA</td></tr>",
                            "<tr><td>Magazzini Alimentari Riuniti</td><td>Italy</td></tr>",
                            "<tr><td>Maison Dewey</td><td>Belgium</td></tr>",
                            "<tr><td>Mère Paillarde</td><td>Canada</td></tr>",
                            "<tr><td>Morgenstern Gesundkost</td><td>Germany</td></tr>",
                            "<tr><td>North/South</td><td>UK</td></tr>",
                            "<tr><td>Océano Atlántico Ltda.</td><td>Argentina</td></tr>",
                            "<tr><td>Old World Delicatessen</td><td>USA</td></tr>",
                            "<tr><td>Ottilies Käseladen</td><td>Germany</td></tr>",
                            "<tr><td>Paris spécialités</td><td>France</td></tr>",
                            "<tr><td>Pericles Comidas clásicas</td><td>Mexico</td></tr>",
                            "<tr><td>Piccolo und mehr</td><td>Austria</td></tr>",
                            "<tr><td>Princesa Isabel Vinhoss</td><td>Portugal</td></tr>",
                            "<tr><td>Que Delícia</td><td>Brazil</td></tr>",
                            "<tr><td>Queen Cozinha</td><td>Brazil</td></tr>",
                            "<tr><td>QUICK-Stop</td><td>Germany</td></tr>",
                            "<tr><td>Rancho grande</td><td>Argentina</td></tr>",
                            "<tr><td>Rattlesnake Canyon Grocery</td><td>USA</td></tr>",
                            "<tr><td>Reggiani Caseifici</td><td>Italy</td></tr>",
                            "<tr><td>Ricardo Adocicados</td><td>Brazil</td></tr>",
                            "<tr><td>Richter Supermarkt</td><td>Switzerland</td></tr>",
                            "<tr><td>Romero y tomillo</td><td>Spain</td></tr>",
                            "<tr><td>Santé Gourmet</td><td>Norway</td></tr>",
                            "<tr><td>Save-a-lot Markets</td><td>USA</td></tr>",
                            "<tr><td>Seven Seas Imports</td><td>UK</td></tr>",
                            "<tr><td>Simons bistro</td><td>Denmark</td></tr>",
                            "<tr><td>Spécialités du monde</td><td>France</td></tr>",
                            "<tr><td>Split Rail Beer &amp; Ale</td><td>USA</td></tr>",
                            "<tr><td>Suprêmes délices</td><td>Belgium</td></tr>",
                            "<tr><td>The Big Cheese</td><td>USA</td></tr>",
                            "<tr><td>The Cracker Box</td><td>USA</td></tr>",
                            "<tr><td>Toms Spezialitäten</td><td>Germany</td></tr>",
                            "<tr><td>Tortuga Restaurante</td><td>Mexico</td></tr>",
                            "<tr><td>Tradição Hipermercados</td><td>Brazil</td></tr>",
                            "<tr><td>Trail&#39;&#39;s Head Gourmet Provisioners</td><td>USA</td></tr>",
                            "<tr><td>Vaffeljernet</td><td>Denmark</td></tr>",
                            "<tr><td>Victuailles en stock</td><td>France</td></tr>",
                            "<tr><td>Vins et alcools Chevalier</td><td>France</td></tr>",
                            "<tr><td>Die Wandernde Kuh</td><td>Germany</td></tr>",
                            "<tr><td>Wartian Herkku</td><td>Finland</td></tr>",
                            "<tr><td>Wellington Importadora</td><td>Brazil</td></tr>",
                            "<tr><td>White Clover Markets</td><td>USA</td></tr>",
                            "<tr><td>Wilman Kala</td><td>Finland</td></tr>",
                            "<tr><td>Wolski</td><td>Poland</td></tr>",
                            "<tr><td>pingpro</td><td>serbia</td></tr>",
                            "<tr><td>pingpro</td><td>serbia</td></tr>",
                            "<tr><td>gimnazija</td><td>serbia</td></tr>",
                            "<tr><td>pingpro</td><td>serbia</td></tr>",
                            "<tr><td>pingpro</td><td>serbia</td></tr>",
                            "<tr><td>gimnazija</td><td>serbia</td></tr>",
                            "<tr><td>pingpro</td><td>serbia</td></tr>",
                            "<tr><td>pingpro</td><td>serbia</td></tr>",
                            "<tr><td>gimnazija</td><td>serbia</td></tr>",
                            "<tr><td>pingpro</td><td>serbia</td></tr>",
                            "<tr><td>pingpro</td><td>serbia</td></tr>",
                            "<tr><td>gimnazija</td><td>serbia</td></tr>",
                            "<tr><td>pingpro</td><td>serbia</td></tr>",
                            "<tr><td>pingpro</td><td>serbia</td></tr>",
                            "<tr><td>gimnazija</td><td>serbia</td></tr>",
                            "<tr><td>pingpro</td><td>serbia</td></tr>",
                            "<tr><td>pingpro</td><td>serbia</td></tr>",
                            "<tr><td>gimnazija</td><td>serbia</td></tr>",
                            "<tr><td>pingpro</td><td>serbia</td></tr>",
                            "<tr><td>pingpro</td><td>serbia</td></tr>",
                            "<tr><td>gimnazija</td><td>serbia</td></tr>",
                            "<tr><td>pingpro</td><td>serbia</td></tr>",
                            "<tr><td>pingpro</td><td>serbia</td></tr>",
                            "<tr><td>gimnazija</td><td>serbia</td></tr>",
                            "</table>"
                        ]
                    }
                }
            ],
            "execution_count": 463
        }
    ]
}